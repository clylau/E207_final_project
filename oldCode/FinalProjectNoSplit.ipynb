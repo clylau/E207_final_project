{
 "cells": [
  {
   "cell_type": "markdown",
   "metadata": {},
   "source": [
    "# Voice Recognition for Digits - Jimmy Fernandez and Christina Lau"
   ]
  },
  {
   "cell_type": "code",
   "execution_count": 4,
   "metadata": {
    "collapsed": true
   },
   "outputs": [],
   "source": [
    "%matplotlib inline"
   ]
  },
  {
   "cell_type": "code",
   "execution_count": 5,
   "metadata": {
    "collapsed": true
   },
   "outputs": [],
   "source": [
    "import numpy as np\n",
    "import librosa as lb \n",
    "import matplotlib.pyplot as plt\n",
    "from scipy.signal import stft\n",
    "import glob\n",
    "import os.path\n",
    "import subprocess\n",
    "import pickle\n",
    "import IPython.display as ipd\n",
    "import warnings\n",
    "import scipy.signal\n",
    "import scipy.fftpack\n",
    "import time\n",
    "#import seaborn as sns\n",
    "#from cf_matrix import make_confusion_matrix\n",
    "#sns.set_context('talk')"
   ]
  },
  {
   "cell_type": "code",
   "execution_count": 6,
   "metadata": {
    "collapsed": true
   },
   "outputs": [],
   "source": [
    "warnings.filterwarnings(action='ignore') # to suppress warning messages"
   ]
  },
  {
   "cell_type": "code",
   "execution_count": 7,
   "metadata": {
    "collapsed": true
   },
   "outputs": [],
   "source": [
    "#set true if you are using a mac\n",
    "Mac = True"
   ]
  },
  {
   "cell_type": "markdown",
   "metadata": {},
   "source": [
    "## MFCC Feature Calculation"
   ]
  },
  {
   "cell_type": "markdown",
   "metadata": {},
   "source": [
    "Before diving into the MFCC algorithm, we first write a number of simple helper functions for use at various points of the algorithm. These functions convert the FFT frequency indcies to frequency in hz, hz to mels (on the non-linear Mel frequency scale), and vice versa."
   ]
  },
  {
   "cell_type": "code",
   "execution_count": 8,
   "metadata": {
    "collapsed": true
   },
   "outputs": [],
   "source": [
    "def binToHz(k, nfft = 2048, fs = 22050):\n",
    "    \"\"\"\n",
    "    Helper function that takes in an fft/stft frequency bin k and returns the corresponding frequency of the bin in hertz\n",
    "    \n",
    "    Inputs:\n",
    "    k - the index of the stft row of interest\n",
    "    \n",
    "    Outputs:\n",
    "    freq - the frequency of the provided STFT bin\n",
    "    \"\"\"\n",
    "    \n",
    "    freq = k*fs/nfft\n",
    "    \n",
    "    return freq"
   ]
  },
  {
   "cell_type": "code",
   "execution_count": 9,
   "metadata": {
    "collapsed": true
   },
   "outputs": [],
   "source": [
    "def hzToBin(freq, nfft = 2048, fs = 22050):\n",
    "    \"\"\"\n",
    "    helper function that converts the provided frequency in hz to the nearest fft frequency index. Only valid for frequencies \n",
    "    contained within the first half of the fft \n",
    "    \n",
    "    Inputs:\n",
    "    freq - the frequency we are interested in converting to frequency index\n",
    "    nfft - the size of the fft performed\n",
    "    fs - the sample rate of the signal\n",
    "    \n",
    "    \n",
    "    Outputs:\n",
    "    k - converted frequency bin\n",
    "    \n",
    "    \"\"\"\n",
    "    \n",
    "    k = np.round(freq*nfft/fs)\n",
    "    \n",
    "    return k"
   ]
  },
  {
   "cell_type": "code",
   "execution_count": 10,
   "metadata": {
    "collapsed": true
   },
   "outputs": [],
   "source": [
    "def hzToMel(hz):\n",
    "    \"\"\"\n",
    "    Helper function that converts the provided hz frequency to mel frequency scale\n",
    "    \n",
    "    Inputs:\n",
    "    hz - the frequency of interst in hz\n",
    "    \n",
    "    Outputs:\n",
    "    mel - the frequency of interest in mel\n",
    "    \"\"\"\n",
    "    \n",
    "    mel = 1125*np.log(1 + hz/700)\n",
    "    \n",
    "    return mel"
   ]
  },
  {
   "cell_type": "code",
   "execution_count": 11,
   "metadata": {
    "collapsed": true
   },
   "outputs": [],
   "source": [
    "def melToHz(mel):\n",
    "    \"\"\"\n",
    "    Helper function that converts the provided mel frequency to hz frequency scale\n",
    "    \n",
    "    Inputs:\n",
    "    mel - the frequency of interest in mel\n",
    "    \n",
    "    Outputs:\n",
    "    hz - the frequency of interst in hz\n",
    "    \"\"\"\n",
    "    hz = 700*(np.exp(mel/1125) - 1)\n",
    "    \n",
    "    return hz"
   ]
  },
  {
   "cell_type": "markdown",
   "metadata": {},
   "source": [
    "Now we implement the Mel Frequency Cepstrum Coefficent calculation for the features. The algorithm has 5 main steps.\n",
    "\n",
    "1. Take the STFT of the audio signal. This is an implied step of our function, as it is passed the STFT as an input\n",
    "2. Calculate the periodogram of the STFT. The Periodogram is the elementwise square magnitude of the STFT elements divided by the length of the FFT used to construct the STFT\n",
    "3. Use the \"Mel Frequency Filter Bank\" to calculate the energies in a specified number of frequency bands. The Mel Frequency scale is a logarithmic scale that more closely matches the way humans hear/speak. As such, the filter bank sums energies in closely related frequency bins together to express the energy content in ranges more similar to human speech, with higher frequencies having a wider range summed together than lower frequencies\n",
    "4. Take the natural logarithm of the mel energy bands\n",
    "5. Take the discrete cosine transform of the logarithmic mel energy bands. These are the MFCC coefficients (there should be a specified number per frame of the STFT)"
   ]
  },
  {
   "cell_type": "code",
   "execution_count": 12,
   "metadata": {
    "collapsed": true
   },
   "outputs": [],
   "source": [
    "def mfcc(S, n_fft = 2048, sr = 22050, num_coeffs = 26, filterMatrix = None, bottomFreq = 300, topFreq = 8000, epsilon = 1e-9):\n",
    "    \"\"\"\n",
    "    Performs the calculation of the MFCC feature matrix\n",
    "    \n",
    "    Inputs:\n",
    "    S - the STFT of the audio signal of interest\n",
    "    n_fft - the length of the DFT used to calculate the STFT\n",
    "    sr = the sample rate of the audio of interest\n",
    "    num_coeffs - the number of coefficients to return (and also the number of Mel Filters to create)\n",
    "    bottomFreq - the bottom frequency of our filter bank. Defaults to 300 hz because this is a common bottom used in speech recognition\n",
    "    topFreq - the top frequency of our filter bank. Defaults to 8000 hz because this is a common top used in speech recognition\n",
    "    epsilon - a small number added to the logarithm to prevent NaN's\n",
    "    \n",
    "    Outputs:\n",
    "    mfcc - a num_coeffs x number of STFT frames matrix that represents the MFCC feature per frame of the STFT\n",
    "    \n",
    "    \"\"\"\n",
    "    #we begin by calculating the periodogram of the provided STFT matrix\n",
    "    pxx= np.abs(S)**2/n_fft\n",
    "\n",
    "    \n",
    "    #use a precalculated filter matrix to make the calculation slightly more efficient, if desired\n",
    "    if filterMatrix is not None:\n",
    "        assert(num_coeffs == filterMatrix.shape[0])\n",
    "        filt = filterMatrix\n",
    "    else:\n",
    "        filt = calculateFilterMatrix(numFilters = num_coeffs, bottomFreq = bottomFreq, topFreq = topFreq)\n",
    "        \n",
    "    #sum the relevant filter energies and take the logarithm of them (part of the \"cepstrum calculation\")\n",
    "    mel_log_energies = np.log(filt@pxx + epsilon)\n",
    "    \n",
    "    mfcc = scipy.fftpack.dct(mel_log_energies, axis = 0, norm = 'ortho') #norm is set to ortho for the preimplemented version\n",
    "    \n",
    "    \n",
    "    return mfcc"
   ]
  },
  {
   "cell_type": "markdown",
   "metadata": {},
   "source": [
    "In order to perform the above calculation. We write a helper function that calculates the filter bank as a matrix that can be used to premultiply the periodogram to perform the summation an filtering. To calculate the filter bank, we do the following\n",
    "\n",
    "1. Take our upper and lower frequency bounds and convert them to mels\n",
    "2. Generate a number of linearly spaced points between the endpoints equal to the number of desired filters\n",
    "3. Convert the points to hz, then to FFT frequency bins\n",
    "4. iterate through the filter matrix, and starting with the leftmost points, use groups of three points as the start, stop, and peak of the triangular filter. The amplitude ranges from 0 to 1 at the peak linearly and down to zero again."
   ]
  },
  {
   "cell_type": "code",
   "execution_count": 13,
   "metadata": {
    "collapsed": true
   },
   "outputs": [],
   "source": [
    "def calculateFilterMatrix(numFilters = 26, bottomFreq = 300, topFreq = 8000,  nfft = 2048):\n",
    "    \"\"\"\n",
    "    Helper function for the MFCC calculation that returns a matrix of size numfilters x nfft//2 + 1\n",
    "    \n",
    "    Inputs:\n",
    "    numFilters - the desired number of filters\n",
    "    bottomFreq - the bottom frequency of the filter bank\n",
    "    topFreq - the top frequency of the filter bank\n",
    "    nfft - the length of the fft\n",
    "    \n",
    "    \n",
    "    Outputs:\n",
    "    filterMatrix - a numfilters x nfft//2 + 1 matrix where each row is one of mel triangular filters\n",
    "    \n",
    "    \"\"\"\n",
    "    #calculating the upper and lower bounds of our functions\n",
    "    lowerbound = hzToMel(bottomFreq)\n",
    "    upperbound = hzToMel(topFreq)\n",
    "    \n",
    "    #calculate the end/peak points for the various filters\n",
    "    freq_endpoints = melToHz(np.linspace(lowerbound, upperbound, num = numFilters + 2))\n",
    "    endpoints = hzToBin(freq_endpoints)\n",
    "    \n",
    "    #iterate through every value of the matrix\n",
    "    filterMatrix = np.zeros((numFilters, nfft//2 + 1))\n",
    "    for filt in range(numFilters):\n",
    "        \n",
    "        #retrieve end points for use in the filter calculating function\n",
    "        start = endpoints[filt]\n",
    "        peak = endpoints[filt + 1]\n",
    "        stop = endpoints[filt + 2]\n",
    "        \n",
    "        #calculate the proper amplitude of the triangle filter\n",
    "        for k in range(nfft//2 + 1):\n",
    "            \n",
    "            if k >= start and k <= peak:\n",
    "                filterMatrix[filt, k] = (k - start)/(peak - start)\n",
    "            elif k >= peak and k <= stop:\n",
    "                filterMatrix[filt, k] = (stop - k)/(stop - peak)\n",
    "            else:\n",
    "                filterMatrix[filt, k] = 0\n",
    "        \n",
    "    \n",
    "    return filterMatrix"
   ]
  },
  {
   "cell_type": "markdown",
   "metadata": {},
   "source": [
    "The following function is the third iteration of our MFCC calculation, including delta features and a total energy feature"
   ]
  },
  {
   "cell_type": "code",
   "execution_count": 14,
   "metadata": {
    "collapsed": true
   },
   "outputs": [],
   "source": [
    "def mfcc3(S, keep = 12, deltaOrders = 2, n_fft = 2048, sr = 22050, num_coeffs = 26, filterMatrix = None, bottomFreq = 300, topFreq = 8000, epsilon = 1e-9):\n",
    "    \"\"\"\n",
    "    Performs the calculation of the MFCC feature matrix, keeps the specified number of bottom coefficients, and appends the specified number of deltas\n",
    "    \n",
    "    Inputs:\n",
    "    S - the STFT of the audio signal of interest\n",
    "    keep - the number of bottom coefficients to keep from the mfcc calculation with num_coeff amount of filters\n",
    "    deltaOrders - starting with order = 1, the number of delta features to append to the final output feature matrix\n",
    "    n_fft - the length of the DFT used to calculate the STFT\n",
    "    sr = the sample rate of the audio of interest\n",
    "    num_coeffs - the number of coefficients to return (and also the number of Mel Filters to create)\n",
    "    bottomFreq - the bottom frequency of our filter bank. Defaults to 300 hz because this is a common bottom used in speech recognition\n",
    "    topFreq - the top frequency of our filter bank. Defaults to 8000 hz because this is a common top used in speech recognition\n",
    "    epsilon - a small number added to the logarithm to prevent NaN's\n",
    "    \n",
    "    Outputs:\n",
    "    features - a feature matrix with the bottom keep coeffs being the mfcc features and the rest being delta coefficients of some order\n",
    "    \"\"\"\n",
    "    #we begin by calculating the periodogram of the provided STFT matrix\n",
    "    magSquare = np.abs(S)**2\n",
    "    pxx= magSquare/n_fft\n",
    "\n",
    "    #before calculating the mfcc features, we calculate the total energy in each frame\n",
    "    frameEnergies = np.sum(magSquare, axis = 0)\n",
    "    \n",
    "    #use a precalculated filter matrix to make the calculation slightly more efficient, if desired\n",
    "    if filterMatrix is not None:\n",
    "        assert(num_coeffs == filterMatrix.shape[0])\n",
    "        filt = filterMatrix\n",
    "    else:\n",
    "        filt = calculateFilterMatrix(numFilters = num_coeffs, bottomFreq = bottomFreq, topFreq = topFreq)\n",
    "        \n",
    "    #sum the relevant filter energies and take the logarithm of them (part of the \"cepstrum calculation\")\n",
    "    mel_log_energies = np.log(filt@pxx + epsilon)\n",
    "    \n",
    "    mfccFeats = scipy.fftpack.dct(mel_log_energies, axis = 0, norm = 'ortho') #norm is set to ortho for the preimplemented version\n",
    "    \n",
    "    \n",
    "    # Now that we've calculated the base MFCC features, we append on the energy + delta features to the matrix bottom keep features\n",
    "    mfccOfInterest = np.copy(mfccFeats[0:keep, :])\n",
    "    mfccKeep = np.zeros((keep + 1, mfccFeats.shape[1]))\n",
    "    mfccKeep[0:keep, :] = mfccOfInterest\n",
    "    mfccKeep[keep, :] = frameEnergies\n",
    "    \n",
    "    #To simplify this rewrite, we increment keep by 1, as we've added a row to the base features. Now the following code taken from mfcc2 should function normally\n",
    "    keep = keep + 1\n",
    "    \n",
    "    #now we preallocate a matrix of the proper size to fill the final features\n",
    "    numFrames = S.shape[1]\n",
    "    numRows = keep*(deltaOrders + 1) #add a number of derivatives starting at order 1 (1st derivative), with the first keep mfcc features at the bottom\n",
    "    features = np.zeros((numRows, numFrames))\n",
    "    \n",
    "    \n",
    "    #place the first \"keep\" features into the\n",
    "    features[0:keep, :] = mfccKeep\n",
    "    \n",
    "    \n",
    "    #now we calculate all desired deltas and append them to the top of the feature matrix\n",
    "    \n",
    "    for ord in range(1,deltaOrders+1):\n",
    "        \n",
    "        #calculate the delta features of this order\n",
    "        delta_x = lb.feature.delta(mfccKeep, order = ord)\n",
    "        \n",
    "        #store the delta features in the proper location of the final feature matrix\n",
    "        features[(keep*ord): (keep)*(ord + 1), :] = delta_x\n",
    "        \n",
    "    return features"
   ]
  },
  {
   "cell_type": "markdown",
   "metadata": {},
   "source": [
    "We now test all our miscellaneous functions"
   ]
  },
  {
   "cell_type": "code",
   "execution_count": 15,
   "metadata": {
    "scrolled": false
   },
   "outputs": [
    {
     "data": {
      "text/plain": [
       "(-0.5, 1024.5, -0.5, 25.5)"
      ]
     },
     "execution_count": 15,
     "metadata": {},
     "output_type": "execute_result"
    },
    {
     "data": {
      "image/png": "[encoded data removed]",
      "text/plain": [
       "<Figure size 432x288 with 1 Axes>"
      ]
     },
     "metadata": {},
     "output_type": "display_data"
    }
   ],
   "source": [
    "test = calculateFilterMatrix(numFilters = 26)\n",
    "plt.imshow(test, cmap = 'jet', origin = 'lower')\n",
    "plt.title(\"Filter Matrix for 26 Triangular Filters\")\n",
    "plt.ylabel(\"Filter\")\n",
    "plt.xlabel(\"Frequency Bin\")\n",
    "plt.axis('tight')"
   ]
  },
  {
   "cell_type": "markdown",
   "metadata": {},
   "source": [
    "## Word Splitting"
   ]
  },
  {
   "cell_type": "code",
   "execution_count": 16,
   "metadata": {
    "collapsed": true
   },
   "outputs": [],
   "source": [
    "def getDigitTimes(queryName, hop_length = 128, top_db = 25):\n",
    "    \"\"\"\n",
    "    \"\"\"\n",
    "    audio, sr = lb.core.load(queryName)\n",
    "    digits = lb.effects.split(audio, hop_length = hop_length, top_db = top_db)\n",
    "    \n",
    "    return digits"
   ]
  },
  {
   "cell_type": "code",
   "execution_count": 17,
   "metadata": {
    "collapsed": true
   },
   "outputs": [],
   "source": [
    "def playDigits(queryName, digitTimes, hop_length=128, sr = 22050):\n",
    "    \"\"\"\n",
    "    \"\"\"\n",
    "    \n",
    "    audio, sr = lb.core.load(queryName)\n",
    "\n",
    "    for time in digitTimes:\n",
    "        ipd.display(ipd.Audio(audio[time[0]:time[1]], rate = sr))\n",
    "    "
   ]
  },
  {
   "cell_type": "markdown",
   "metadata": {},
   "source": [
    "# Constructing the Database"
   ]
  },
  {
   "cell_type": "markdown",
   "metadata": {},
   "source": [
    "To construct the database, we retrieve a list of all the mp3s in a specified directory, then iterate through them, calculating the mfcc feature matrix for each and storing it in a dictionary with a key specified in the file name"
   ]
  },
  {
   "cell_type": "code",
   "execution_count": 18,
   "metadata": {
    "collapsed": true
   },
   "outputs": [],
   "source": [
    "def retrieveMP3s(indir, Mac = False):\n",
    "    \"\"\"\n",
    "    Helper function to retrieve a list of all the .mp3 files listed in the provided directory\n",
    "    Note: For macs, it's /*.mp3, for windows, it's \\*.mp3\n",
    "    \n",
    "    Inputs:\n",
    "    indir - the directory containing all the MP3s of interst\n",
    "    Mac - a boolean indicating if the machine running the code is a Mac. If false, windows notation is assumed\n",
    "    \n",
    "    Outputs: \n",
    "    A list of all the mp3 file paths\n",
    "    \n",
    "    \"\"\"\n",
    "    #get the correct pathname based on the machine type\n",
    "    if Mac: \n",
    "        pathname = indir + '/*.mp3'\n",
    "    else:\n",
    "        pathname = indir + '\\*.mp3'\n",
    "    \n",
    "    return glob.glob(pathname)"
   ]
  },
  {
   "cell_type": "code",
   "execution_count": 19,
   "metadata": {
    "collapsed": true
   },
   "outputs": [],
   "source": [
    "def constructDB(indir, numFilters = 26, Mac = False, sr = 22050, nfft = 2048, hop = 128, strPosn = 4):\n",
    "    \"\"\"\n",
    "    Function that constructs a database (dictionary) with the digit as a key and the MFCC feature matrix as the stored data\n",
    "    \n",
    "    Inputs: \n",
    "    indir - the label of the directory of interest\n",
    "    Mac - a boolean indicating if the machine running this code is a mac. If false, \n",
    "          it is assumed that the code is running on a pc\n",
    "    sr - the sample rate of the audio files in the directory\n",
    "    nfft - the size of the fft we want to perform to to construct the stft\n",
    "    hop - the hop size for the stft\n",
    "    strPosn - the index of the reference name in the reference file. Used to label db\n",
    "    \n",
    "    Outputs:\n",
    "    db - a dictionary object storing the MFCC coefficients for each of the digit references\n",
    "    \"\"\"\n",
    "    \n",
    "    db = {}\n",
    "    mp3s = retrieveMP3s(indir, Mac = Mac)\n",
    "    \n",
    "    \n",
    "    for i in range(len(mp3s)):\n",
    "        \n",
    "        #we begin by retreiving each individual mp3 and calculating the STFT\n",
    "        currPath = mp3s[i]\n",
    "        mp3, _ = lb.core.load(currPath, sr = sr)\n",
    "        S = lb.core.stft(mp3, n_fft = nfft, hop_length = hop)\n",
    "        \n",
    "        #we then use calculate the MFCC feature matrix\n",
    "        #mfccMatrix = mfcc(S, num_coeffs = numFilters, n_fft = nfft, sr = sr)\n",
    "        \n",
    "        mfccMatrix = mfcc3(S, num_coeffs = numFilters, n_fft = nfft, sr = sr)\n",
    "        \n",
    "        #finally we get the proper key name\n",
    "        baseName = os.path.basename(currPath)\n",
    "        keyName = baseName[strPosn] #assumes the file is in Reference_x.mp3 format\n",
    "        \n",
    "        #add data to the database\n",
    "        db[keyName] = mfccMatrix\n",
    "        \n",
    "    \n",
    "    return db"
   ]
  },
  {
   "cell_type": "code",
   "execution_count": 20,
   "metadata": {
    "collapsed": true
   },
   "outputs": [],
   "source": [
    "#testing the db construction\n",
    "db = constructDB('denoisedReferences', Mac = Mac)"
   ]
  },
  {
   "cell_type": "code",
   "execution_count": 21,
   "metadata": {
    "collapsed": true
   },
   "outputs": [],
   "source": [
    "dbNoised = constructDB('newRef', Mac = Mac)"
   ]
  },
  {
   "cell_type": "code",
   "execution_count": 22,
   "metadata": {
    "collapsed": true
   },
   "outputs": [],
   "source": [
    "dbNoSilence = constructDB('denoisedRefereencesNoSilence', Mac = Mac)"
   ]
  },
  {
   "cell_type": "code",
   "execution_count": 23,
   "metadata": {},
   "outputs": [
    {
     "data": {
      "image/png": "[encoded data removed]",
      "text/plain": [
       "<Figure size 432x288 with 1 Axes>"
      ]
     },
     "metadata": {},
     "output_type": "display_data"
    },
    {
     "data": {
      "image/png": "[encoded data removed]",
      "text/plain": [
       "<Figure size 432x288 with 1 Axes>"
      ]
     },
     "metadata": {},
     "output_type": "display_data"
    },
    {
     "data": {
      "image/png": "[encoded data removed]",
      "text/plain": [
       "<Figure size 432x288 with 1 Axes>"
      ]
     },
     "metadata": {},
     "output_type": "display_data"
    },
    {
     "data": {
      "image/png": "[encoded data removed]",
      "text/plain": [
       "<Figure size 432x288 with 1 Axes>"
      ]
     },
     "metadata": {},
     "output_type": "display_data"
    },
    {
     "data": {
      "image/png": "[encoded data removed]",
      "text/plain": [
       "<Figure size 432x288 with 1 Axes>"
      ]
     },
     "metadata": {},
     "output_type": "display_data"
    },
    {
     "data": {
      "image/png": "[encoded data removed]",
      "text/plain": [
       "<Figure size 432x288 with 1 Axes>"
      ]
     },
     "metadata": {},
     "output_type": "display_data"
    },
    {
     "data": {
      "image/png": "[encoded data removed]",
      "text/plain": [
       "<Figure size 432x288 with 1 Axes>"
      ]
     },
     "metadata": {},
     "output_type": "display_data"
    },
    {
     "data": {
      "image/png": "[encoded data removed]",
      "text/plain": [
       "<Figure size 432x288 with 1 Axes>"
      ]
     },
     "metadata": {},
     "output_type": "display_data"
    },
    {
     "data": {
      "image/png": "[encoded data removed]",
      "text/plain": [
       "<Figure size 432x288 with 1 Axes>"
      ]
     },
     "metadata": {},
     "output_type": "display_data"
    },
    {
     "data": {
      "image/png": "[encoded data removed]",
      "text/plain": [
       "<Figure size 432x288 with 1 Axes>"
      ]
     },
     "metadata": {},
     "output_type": "display_data"
    }
   ],
   "source": [
    "for key in db:\n",
    "    feats = db[key]\n",
    "    plt.imshow(feats, origin = 'lower', cmap = 'jet')\n",
    "    plt.title(key)\n",
    "    plt.axis('tight')\n",
    "    plt.show()"
   ]
  },
  {
   "cell_type": "markdown",
   "metadata": {},
   "source": [
    "## Benchmark "
   ]
  },
  {
   "cell_type": "markdown",
   "metadata": {},
   "source": [
    "In order to run the benchmark, we first write a function that can retrieve the ground truth answer to the query of interest"
   ]
  },
  {
   "cell_type": "code",
   "execution_count": 24,
   "metadata": {
    "collapsed": true
   },
   "outputs": [],
   "source": [
    "def retrieveAnswer(pathname):\n",
    "    \"\"\"\n",
    "    Helper function that takes in a .mp3 file whose name is a list of the digits spoken in the file and returns a \n",
    "    list of the characters\n",
    "    \n",
    "    Inputs:\n",
    "    pathname - the pathname of the file of interest\n",
    "    \n",
    "    Outputs:\n",
    "    answer - a list of the digits in the mp3's file name\n",
    "    \"\"\"\n",
    "    \n",
    "    basename = os.path.basename(pathname)[:-4]\n",
    "    answer = [int(digit) for digit in list(basename)]\n",
    "    \n",
    "    \n",
    "    return answer"
   ]
  },
  {
   "cell_type": "markdown",
   "metadata": {},
   "source": [
    "Working out splitting algo, etc"
   ]
  },
  {
   "cell_type": "markdown",
   "metadata": {},
   "source": [
    "Going to use 32834 query as a test"
   ]
  },
  {
   "cell_type": "code",
   "execution_count": 25,
   "metadata": {
    "collapsed": true
   },
   "outputs": [],
   "source": [
    "audio, sr = lb.core.load('denoisedQueries/32834.mp3', sr = 22050)"
   ]
  },
  {
   "cell_type": "code",
   "execution_count": 26,
   "metadata": {
    "collapsed": true
   },
   "outputs": [],
   "source": [
    "S = lb.core.stft(audio, n_fft = 2048, hop_length = 128)"
   ]
  },
  {
   "cell_type": "code",
   "execution_count": 27,
   "metadata": {
    "collapsed": true
   },
   "outputs": [],
   "source": [
    "digitTimes = getDigitTimes('denoisedQueries/32834.mp3')\n",
    "# digitTimes[:, 0] = digitTimes[:,0]*-1\n",
    "# test = np.sum(digitTimes, axis = 1)\n",
    "# print(digitTimes)\n",
    "# print(test)\n",
    "# digitTimes = np.delete(digitTimes, 1, 0 )\n",
    "# print()\n",
    "# print(digitTimes)"
   ]
  },
  {
   "cell_type": "code",
   "execution_count": 28,
   "metadata": {},
   "outputs": [
    {
     "data": {
      "text/plain": [
       "'7'"
      ]
     },
     "execution_count": 28,
     "metadata": {},
     "output_type": "execute_result"
    }
   ],
   "source": [
    "list(db.keys())[0]"
   ]
  },
  {
   "cell_type": "code",
   "execution_count": 29,
   "metadata": {
    "collapsed": true
   },
   "outputs": [],
   "source": [
    "def getMatchScores(audioQueryFeatures, db, sr = 22050, nfft = 2048, hop = 128, metric = 'euclidean'):\n",
    "    \"\"\"\n",
    "    \"\"\"\n",
    "    \n",
    "    #we begin by calculating the mfcc of the query\n",
    "    #S = lb.core.stft(audioQuery, n_fft = nfft, hop_length = hop)\n",
    "    #mfcc_query = mfcc(S, n_fft = nfft, sr = sr)\n",
    "    \n",
    "    #now we iterate through the database and compare all the numbers with subsequency dynamic time warping\n",
    "    scores = []\n",
    "    paths = []\n",
    "    for key in db:\n",
    "        \n",
    "        mfcc_ref = db[key]\n",
    "        \n",
    "        D_num, wp_num = lb.sequence.dtw(mfcc_ref, audioQueryFeatures, metric = metric, subseq = True)\n",
    "        scores.append(np.min(D_num[-1:]))\n",
    "        paths.append(wp_num)\n",
    "        \n",
    "    return scores, paths"
   ]
  },
  {
   "cell_type": "code",
   "execution_count": 30,
   "metadata": {
    "collapsed": true
   },
   "outputs": [],
   "source": [
    "def getPrediction(audioQueryFeatures, db, sr = 22050, nfft = 2048, hop = 128, metric = 'euclidean'):\n",
    "    \"\"\"\n",
    "    \"\"\"\n",
    "    \n",
    "    matchScores, paths = getMatchScores(audioQueryFeatures, db, sr = sr, nfft = nfft, hop = hop, metric = metric)\n",
    "    refList = list(db.keys())\n",
    "    \n",
    "    tooSmall = True;\n",
    "        \n",
    "    #predInd = np.argmin(matchScores)\n",
    "    #prediction = int(refList[predInd])\n",
    "    #path = paths[predInd]\n",
    "    \n",
    "    #if path[:,1][-1] - path[:,1][0] > 100:\n",
    "    #    return [None, None]\n",
    "    \n",
    "    while tooSmall and len(matchScores) != 0:\n",
    "        predInd = np.argmin(matchScores)\n",
    "        path = paths[predInd]\n",
    "        queryIndices = path[:,1]\n",
    "        uniqueQueryIndices = np.unique(queryIndices)\n",
    "        \n",
    "        #print(uniqueQueryIndices[-1] - uniqueQueryIndices[0])\n",
    "        \n",
    "        if (uniqueQueryIndices[-1] - uniqueQueryIndices[0] > 100):\n",
    "            tooSmall = False;\n",
    "        else:\n",
    "            matchScores = np.delete(matchScores, predInd)\n",
    "    \n",
    "    if tooSmall:\n",
    "        print(\"hi\")\n",
    "        return [None, None]\n",
    "    \n",
    "    prediction = int(refList[predInd])\n",
    "    \n",
    "    return prediction, path"
   ]
  },
  {
   "cell_type": "code",
   "execution_count": 31,
   "metadata": {
    "collapsed": true
   },
   "outputs": [],
   "source": [
    "def getPredictions(queryPath, db, sr = 22050, nfft = 2048, hop = 128, top_db = 25, metric = 'euclidean'):\n",
    "    \"\"\"\n",
    "    \"\"\"\n",
    "    predictions = []\n",
    "    \n",
    "    audio, _ = lb.core.load(queryPath, sr)\n",
    "    \n",
    "    S = lb.core.stft(audio, n_fft = nfft, hop_length = hop)\n",
    "    #mfcc_query = mfcc(S, n_fft = nfft, sr = sr)\n",
    "    mfcc_query = mfcc3(S, n_fft = nfft, sr = sr)\n",
    "    \n",
    "    actualFrames = np.arange(mfcc_query.shape[1]) # Need to keep track of frames as we delete from the query\n",
    "    numTimeFrames = mfcc_query.shape[1]\n",
    "    \n",
    "    while numTimeFrames > 260:\n",
    "        \n",
    "        prediction, path = getPrediction(mfcc_query, db)\n",
    "        if prediction is not None:\n",
    "            \n",
    "            queryIndices = path[:,1]\n",
    "            uniqueQueryIndices = np.unique(queryIndices)\n",
    "\n",
    "            average = np.average(actualFrames[uniqueQueryIndices])\n",
    "\n",
    "            #predictions.append([actualFrames[uniqueQueryIndices[0]], prediction])\n",
    "\n",
    "            mfcc_query = np.delete(mfcc_query, uniqueQueryIndices,1)\n",
    "            actualFrames = np.delete(actualFrames, uniqueQueryIndices)\n",
    "\n",
    "            sizeDeleted = uniqueQueryIndices[-1] - uniqueQueryIndices[0] + 1\n",
    "            numTimeFrames = numTimeFrames - sizeDeleted\n",
    "            predictions.append([average, prediction])\n",
    "            #print(sizeDeleted)\n",
    "            #if(sizeDeleted > 100):\n",
    "            #    print(sizeDeleted)\n",
    "            #    predictions.append([average, prediction])\n",
    "        else:\n",
    "            break\n",
    "    \n",
    "    '''#times = getCleanedDigitsTimes(queryPath, hop_length = hop, top_db = top_db)\n",
    "    times = getCleanedDigitsTimesMerged(queryPath, hop_length = hop, top_db = top_db)\n",
    "    \n",
    "    if times.size == 0:\n",
    "        return []\n",
    "    \n",
    "    audio, _ = lb.core.load(queryPath, sr)\n",
    "    \n",
    "    for i in range(times.shape[0]):\n",
    "        startTime = times[i, 0]\n",
    "        endTime = times[i, 1]\n",
    "        audioClip = audio[startTime:endTime]\n",
    "        currPred = getPrediction(audioClip, db, sr = sr, nfft = nfft, hop = hop, metric = metric)\n",
    "        \n",
    "        predictions.append(currPred)'''\n",
    "        \n",
    "    \n",
    "    predictions.sort()\n",
    "    #print(predictions)\n",
    "    predictions = np.array(predictions)\n",
    "    return predictions[:,1].astype(int)"
   ]
  },
  {
   "cell_type": "code",
   "execution_count": 32,
   "metadata": {
    "collapsed": true
   },
   "outputs": [],
   "source": [
    "testAudio, _ = lb.core.load('denoisedQueries/32834.mp3', sr)\n",
    "#prediction, path = getPrediction(testAudio, db)"
   ]
  },
  {
   "cell_type": "code",
   "execution_count": 33,
   "metadata": {},
   "outputs": [],
   "source": [
    "predictions = getPredictions('denoisedQueries/32834.mp3', db) "
   ]
  },
  {
   "cell_type": "code",
   "execution_count": 34,
   "metadata": {},
   "outputs": [
    {
     "data": {
      "text/plain": [
       "array([0, 3, 0, 0, 1, 0])"
      ]
     },
     "execution_count": 34,
     "metadata": {},
     "output_type": "execute_result"
    }
   ],
   "source": [
    "predictions"
   ]
  },
  {
   "cell_type": "code",
   "execution_count": 35,
   "metadata": {},
   "outputs": [
    {
     "name": "stdout",
     "output_type": "stream",
     "text": [
      "hi\n"
     ]
    },
    {
     "data": {
      "text/plain": [
       "array([1, 1, 6, 6, 8])"
      ]
     },
     "execution_count": 35,
     "metadata": {},
     "output_type": "execute_result"
    }
   ],
   "source": [
    "prediction2 = getPredictions('denoisedQueries/11111.mp3', db) \n",
    "prediction2"
   ]
  },
  {
   "cell_type": "code",
   "execution_count": null,
   "metadata": {
    "collapsed": true
   },
   "outputs": [],
   "source": []
  },
  {
   "cell_type": "code",
   "execution_count": 36,
   "metadata": {},
   "outputs": [
    {
     "ename": "ParameterError",
     "evalue": "scipy.spatial.distance.cdist returned an error.\nPlease provide your input in the form X.shape=(K, N) and Y.shape=(K, M).\n1-dimensional sequences should be reshaped to X.shape=(1, N) and Y.shape=(1, M).",
     "output_type": "error",
     "traceback": [
      "\u001b[0;31m---------------------------------------------------------------------------\u001b[0m",
      "\u001b[0;31mValueError\u001b[0m                                Traceback (most recent call last)",
      "\u001b[0;32m/Users/christinalau/anaconda/lib/python3.6/site-packages/librosa/sequence.py\u001b[0m in \u001b[0;36mdtw\u001b[0;34m(X, Y, C, metric, step_sizes_sigma, weights_add, weights_mul, subseq, backtrack, global_constraints, band_rad)\u001b[0m\n\u001b[1;32m    166\u001b[0m         \u001b[0;32mtry\u001b[0m\u001b[0;34m:\u001b[0m\u001b[0;34m\u001b[0m\u001b[0m\n\u001b[0;32m--> 167\u001b[0;31m             \u001b[0mC\u001b[0m \u001b[0;34m=\u001b[0m \u001b[0mcdist\u001b[0m\u001b[0;34m(\u001b[0m\u001b[0mX\u001b[0m\u001b[0;34m.\u001b[0m\u001b[0mT\u001b[0m\u001b[0;34m,\u001b[0m \u001b[0mY\u001b[0m\u001b[0;34m.\u001b[0m\u001b[0mT\u001b[0m\u001b[0;34m,\u001b[0m \u001b[0mmetric\u001b[0m\u001b[0;34m=\u001b[0m\u001b[0mmetric\u001b[0m\u001b[0;34m)\u001b[0m\u001b[0;34m\u001b[0m\u001b[0m\n\u001b[0m\u001b[1;32m    168\u001b[0m         \u001b[0;32mexcept\u001b[0m \u001b[0mValueError\u001b[0m\u001b[0;34m:\u001b[0m\u001b[0;34m\u001b[0m\u001b[0m\n",
      "\u001b[0;32m/Users/christinalau/anaconda/lib/python3.6/site-packages/scipy/spatial/distance.py\u001b[0m in \u001b[0;36mcdist\u001b[0;34m(XA, XB, metric, *args, **kwargs)\u001b[0m\n\u001b[1;32m   2701\u001b[0m     \u001b[0;32mif\u001b[0m \u001b[0ms\u001b[0m\u001b[0;34m[\u001b[0m\u001b[0;36m1\u001b[0m\u001b[0;34m]\u001b[0m \u001b[0;34m!=\u001b[0m \u001b[0msB\u001b[0m\u001b[0;34m[\u001b[0m\u001b[0;36m1\u001b[0m\u001b[0;34m]\u001b[0m\u001b[0;34m:\u001b[0m\u001b[0;34m\u001b[0m\u001b[0m\n\u001b[0;32m-> 2702\u001b[0;31m         raise ValueError('XA and XB must have the same number of columns '\n\u001b[0m\u001b[1;32m   2703\u001b[0m                          '(i.e. feature dimension.)')\n",
      "\u001b[0;31mValueError\u001b[0m: XA and XB must have the same number of columns (i.e. feature dimension.)",
      "\nDuring handling of the above exception, another exception occurred:\n",
      "\u001b[0;31mParameterError\u001b[0m                            Traceback (most recent call last)",
      "\u001b[0;32m<ipython-input-36-644fc882da21>\u001b[0m in \u001b[0;36m<module>\u001b[0;34m()\u001b[0m\n\u001b[1;32m      9\u001b[0m \u001b[0;34m\u001b[0m\u001b[0m\n\u001b[1;32m     10\u001b[0m \u001b[0;34m\u001b[0m\u001b[0m\n\u001b[0;32m---> 11\u001b[0;31m \u001b[0mD_num\u001b[0m\u001b[0;34m,\u001b[0m \u001b[0mwp_num\u001b[0m \u001b[0;34m=\u001b[0m \u001b[0mlb\u001b[0m\u001b[0;34m.\u001b[0m\u001b[0msequence\u001b[0m\u001b[0;34m.\u001b[0m\u001b[0mdtw\u001b[0m\u001b[0;34m(\u001b[0m\u001b[0mmfcc_query\u001b[0m\u001b[0;34m,\u001b[0m \u001b[0mmfcc_ref\u001b[0m\u001b[0;34m,\u001b[0m \u001b[0mmetric\u001b[0m \u001b[0;34m=\u001b[0m \u001b[0;34m'euclidean'\u001b[0m\u001b[0;34m,\u001b[0m \u001b[0msubseq\u001b[0m \u001b[0;34m=\u001b[0m \u001b[0;32mTrue\u001b[0m\u001b[0;34m)\u001b[0m\u001b[0;34m\u001b[0m\u001b[0m\n\u001b[0m",
      "\u001b[0;32m/Users/christinalau/anaconda/lib/python3.6/site-packages/librosa/sequence.py\u001b[0m in \u001b[0;36mdtw\u001b[0;34m(X, Y, C, metric, step_sizes_sigma, weights_add, weights_mul, subseq, backtrack, global_constraints, band_rad)\u001b[0m\n\u001b[1;32m    170\u001b[0m                    \u001b[0;34m'Please provide your input in the form X.shape=(K, N) and Y.shape=(K, M).\\n'\u001b[0m\u001b[0;34m\u001b[0m\u001b[0m\n\u001b[1;32m    171\u001b[0m                    '1-dimensional sequences should be reshaped to X.shape=(1, N) and Y.shape=(1, M).')\n\u001b[0;32m--> 172\u001b[0;31m             \u001b[0msix\u001b[0m\u001b[0;34m.\u001b[0m\u001b[0mreraise\u001b[0m\u001b[0;34m(\u001b[0m\u001b[0mParameterError\u001b[0m\u001b[0;34m,\u001b[0m \u001b[0mParameterError\u001b[0m\u001b[0;34m(\u001b[0m\u001b[0mmsg\u001b[0m\u001b[0;34m)\u001b[0m\u001b[0;34m)\u001b[0m\u001b[0;34m\u001b[0m\u001b[0m\n\u001b[0m\u001b[1;32m    173\u001b[0m \u001b[0;34m\u001b[0m\u001b[0m\n\u001b[1;32m    174\u001b[0m         \u001b[0;31m# for subsequence matching:\u001b[0m\u001b[0;34m\u001b[0m\u001b[0;34m\u001b[0m\u001b[0m\n",
      "\u001b[0;32m/Users/christinalau/anaconda/lib/python3.6/site-packages/six.py\u001b[0m in \u001b[0;36mreraise\u001b[0;34m(tp, value, tb)\u001b[0m\n\u001b[1;32m    684\u001b[0m         \u001b[0;32mif\u001b[0m \u001b[0mvalue\u001b[0m\u001b[0;34m.\u001b[0m\u001b[0m__traceback__\u001b[0m \u001b[0;32mis\u001b[0m \u001b[0;32mnot\u001b[0m \u001b[0mtb\u001b[0m\u001b[0;34m:\u001b[0m\u001b[0;34m\u001b[0m\u001b[0m\n\u001b[1;32m    685\u001b[0m             \u001b[0;32mraise\u001b[0m \u001b[0mvalue\u001b[0m\u001b[0;34m.\u001b[0m\u001b[0mwith_traceback\u001b[0m\u001b[0;34m(\u001b[0m\u001b[0mtb\u001b[0m\u001b[0;34m)\u001b[0m\u001b[0;34m\u001b[0m\u001b[0m\n\u001b[0;32m--> 686\u001b[0;31m         \u001b[0;32mraise\u001b[0m \u001b[0mvalue\u001b[0m\u001b[0;34m\u001b[0m\u001b[0m\n\u001b[0m\u001b[1;32m    687\u001b[0m \u001b[0;34m\u001b[0m\u001b[0m\n\u001b[1;32m    688\u001b[0m \u001b[0;32melse\u001b[0m\u001b[0;34m:\u001b[0m\u001b[0;34m\u001b[0m\u001b[0m\n",
      "\u001b[0;31mParameterError\u001b[0m: scipy.spatial.distance.cdist returned an error.\nPlease provide your input in the form X.shape=(K, N) and Y.shape=(K, M).\n1-dimensional sequences should be reshaped to X.shape=(1, N) and Y.shape=(1, M)."
     ]
    }
   ],
   "source": [
    "S = lb.core.stft(testAudio, n_fft = 2048, hop_length = 128)\n",
    "mfcc_query = mfcc(S, n_fft = 2048, sr = 22050)\n",
    "    \n",
    "#now we iterate through the database and compare all the numbers with subsequency dynamic time warping\n",
    "scores = []\n",
    "paths = []\n",
    "\n",
    "mfcc_ref = db[\"3\"]\n",
    "\n",
    "\n",
    "D_num, wp_num = lb.sequence.dtw(mfcc_query, mfcc_ref, metric = 'euclidean', subseq = True)"
   ]
  },
  {
   "cell_type": "code",
   "execution_count": 67,
   "metadata": {},
   "outputs": [
    {
     "data": {
      "text/plain": [
       "(1025, 1351)"
      ]
     },
     "execution_count": 67,
     "metadata": {},
     "output_type": "execute_result"
    }
   ],
   "source": [
    "S.shape"
   ]
  },
  {
   "cell_type": "code",
   "execution_count": 68,
   "metadata": {},
   "outputs": [
    {
     "data": {
      "text/plain": [
       "(172800,)"
      ]
     },
     "execution_count": 68,
     "metadata": {},
     "output_type": "execute_result"
    }
   ],
   "source": [
    "testAudio.shape"
   ]
  },
  {
   "cell_type": "code",
   "execution_count": null,
   "metadata": {
    "collapsed": true
   },
   "outputs": [],
   "source": [
    "print(getPredictions('denoisedQueries/32834.mp3', db))"
   ]
  },
  {
   "cell_type": "code",
   "execution_count": null,
   "metadata": {
    "collapsed": true
   },
   "outputs": [],
   "source": [
    "\n",
    "#96735\n",
    "#[8, 1, 7]\n",
    "pred, times = getPredictions('denoisedQueries/817.mp3', db)\n",
    "testing6 = getDigitTimes('denoisedQueries/817.mp3', hop_length = 128, top_db = 25)\n",
    "pred, times"
   ]
  },
  {
   "cell_type": "code",
   "execution_count": 37,
   "metadata": {
    "collapsed": true
   },
   "outputs": [],
   "source": [
    "def runBenchmark(indir, db, Mac = False, sr = 22050, nfft = 2048, hop = 128, top_db = 25, metric = 'euclidean'):\n",
    "    \"\"\"\n",
    "    Runs a benchmark for our system \n",
    "    \n",
    "    Inputs:\n",
    "    indir - the directory where the mp3 queries are located\n",
    "    \n",
    "    Output:\n",
    "    confusionMatrix - a 10x10 confusion matrix, where the row indicates the digit guess, and the \n",
    "                      column indicates the ground truth\n",
    "    calcsDone - an integer indicating how many queries were processed\n",
    "    timeElapsed - a float indicating how long it took the benchmark to run\n",
    "    \"\"\"\n",
    "    \n",
    "    startTime = time.time()\n",
    "    \n",
    "    confusionMatrix = np.zeros((10,10))\n",
    "    \n",
    "    #we begin by retrieving all the paths to our queries\n",
    "    mp3s = retrieveMP3s(indir, Mac = Mac)\n",
    "    \n",
    "    calcsDone = len(mp3s)\n",
    "    for i in range(len(mp3s)):\n",
    "        \n",
    "        currPath = mp3s[i]\n",
    "        predictions = getPredictions(currPath, db, sr = sr, nfft = nfft, hop = hop, top_db = top_db, metric = metric)\n",
    "        \n",
    "        if len(predictions) == 0:\n",
    "            calcsDone -= 1\n",
    "            pass\n",
    "        \n",
    "        answers = retrieveAnswer(currPath)\n",
    "        \n",
    "        #assert(len(answers) == len(predictions))\n",
    "        if (len(answers) != len(predictions)):\n",
    "            calcsDone -= 1\n",
    "            print(answers)\n",
    "            print(predictions)\n",
    "            \n",
    "        else:\n",
    "            for j in range(len(answers)):\n",
    "                confusionMatrix[predictions[j], answers[j]] += 1\n",
    "            \n",
    "    endTime = time.time()\n",
    "    timeElapsed = endTime - startTime\n",
    "                    \n",
    "    return confusionMatrix, calcsDone, timeElapsed"
   ]
  },
  {
   "cell_type": "code",
   "execution_count": 38,
   "metadata": {},
   "outputs": [
    {
     "name": "stdout",
     "output_type": "stream",
     "text": [
      "hi\n",
      "hi\n",
      "[7, 7, 7, 7, 7]\n",
      "[7 7 7 7]\n",
      "hi\n",
      "hi\n",
      "[4, 0, 8, 4, 7, 8, 2, 5, 8, 9]\n",
      "[1 2 3 8 8 3 0 0 0 5 4 0]\n",
      "[3, 2, 8, 3, 4]\n",
      "[0 3 0 0 1 0]\n",
      "[2, 6, 9, 1, 9, 4]\n",
      "[3 8 0 0 8 3 0 7]\n",
      "[8, 2, 2, 2, 2, 3]\n",
      "[0 2 8 0 0 4 2 3 0]\n",
      "hi\n",
      "[2, 2, 5, 7]\n",
      "[4 3 0 0 8 8]\n",
      "[8, 1, 7]\n",
      "[8 8 1 8]\n",
      "hi\n",
      "hi\n",
      "[9, 4, 6, 1, 1, 7, 2, 2, 1, 3]\n",
      "[8 3 8 0 0 3 6 2 2 8 0]\n",
      "hi\n",
      "[8, 5, 6, 8, 5]\n",
      "[2 4 9 2 8 8]\n",
      "[2, 0, 2, 9, 2, 9]\n",
      "[3 0 4 0 0 1 0 0]\n",
      "hi\n",
      "[5, 5, 6, 7, 3, 7, 0, 5]\n",
      "[8 1 8 0 8 0 8 0 3]\n",
      "[8, 0, 4]\n",
      "[0 0 8 0]\n",
      "hi\n",
      "hi\n",
      "[3, 3, 2, 0, 5, 6, 8, 3, 5, 6]\n",
      "[1 1 6 4]\n",
      "hi\n",
      "hi\n",
      "[6, 5, 4, 1, 2, 3]\n",
      "[8 0 5 8 1 2 0]\n",
      "hi\n",
      "[1, 2, 3, 4, 5, 4, 3, 2, 1]\n",
      "[0 1 8 0 8 5 3 0 0 3]\n",
      "hi\n",
      "[8, 5, 8, 4, 5, 9]\n",
      "[0 2 1 0 3 3 5 0]\n",
      "hi\n",
      "hi\n",
      "[8, 3, 7, 7, 4, 8, 6]\n",
      "[8 2 0 2 1 0 8 8 3 6]\n",
      "[7, 8, 9, 5, 9, 0]\n",
      "[7 0 4 3 8 2 0]\n",
      "hi\n",
      "[9, 6, 3, 1, 4, 7, 8]\n",
      "[8 8 0 3 0 8]\n",
      "[7, 3, 9, 5, 5]\n",
      "[7 8 3 0 8 3]\n",
      "hi\n",
      "hi\n",
      "hi\n",
      "[9, 7, 8, 2, 4, 1, 4, 6, 8]\n",
      "[3 6 0 3 3 3 1 8 3 0 4]\n",
      "hi\n",
      "hi\n",
      "[9, 7, 4, 2, 8, 6, 5, 5]\n",
      "[0 8 2 0 0 0 6 8 0]\n",
      "[0, 0, 0, 0, 0]\n",
      "[3 0 0 2 0 0 7 0]\n",
      "[9, 1, 1]\n",
      "[8 8 1 8]\n",
      "[3, 5, 2, 3, 6, 7]\n",
      "[0 5 3 0 4 6 1]\n",
      "hi\n",
      "[5, 2, 7, 8, 2, 2, 5, 2]\n",
      "[3 3 1 0 3 0]\n",
      "[0, 5, 2, 7, 1, 4]\n",
      "[2 1 0 6 1 8 0]\n",
      "[5, 0, 7, 4, 6, 2, 3, 1, 7, 4]\n",
      "[4 3 1 8 3 3 0 1 3 1 0]\n",
      "[0, 5, 1, 2, 3, 8, 4, 3, 1, 0]\n",
      "[3 1 1 4 2 0 0 3 3 0 8 0]\n",
      "hi\n",
      "[5, 2, 0, 1, 4, 8]\n",
      "[4 3 3 2 5 3 2]\n",
      "hi\n",
      "hi\n",
      "hi\n",
      "[7, 9, 0, 6, 4, 2, 6, 5]\n",
      "[3 0 3 0 3 3 0 6 3]\n",
      "[7, 8, 1, 3]\n",
      "[9 8 6 4 0]\n",
      "hi\n",
      "hi\n",
      "[8, 8, 8, 8, 8]\n",
      "[3 3 3 3]\n",
      "[8, 1, 1, 4, 2, 3, 5, 1, 3]\n",
      "[3 2 8 0 8 8 2 0 0 8 1 0 0]\n",
      "[0, 1, 4, 6, 7]\n",
      "[8 0 8 8 8 6]\n",
      "hi\n",
      "hi\n",
      "[6, 8, 5, 5]\n",
      "[9 6 1 1 8]\n",
      "[1, 8, 4, 6, 3, 2]\n",
      "[5 4 2 0 3 0 6 0 4 4 0]\n",
      "hi\n",
      "[3, 6, 9, 1, 1]\n",
      "[0 8 0 0 0 0]\n",
      "hi\n",
      "[2, 4, 0, 7, 1, 8]\n",
      "[3 8 0 5 5]\n",
      "hi\n",
      "hi\n",
      "[0, 1, 9, 2, 8, 3, 7, 4, 6, 5]\n",
      "[3 4 1 0 4 4 0 1 2 3 0 2]\n",
      "hi\n",
      "[9, 8, 7, 6, 5, 4, 3, 2, 1, 0]\n",
      "[8 8 7 4 6 7 1 0 3 6 2]\n",
      "[2, 3, 9, 3, 1]\n",
      "[0 0 8 0 7 2]\n",
      "[6, 1, 2]\n",
      "[6 3]\n",
      "hi\n",
      "[6, 6, 6, 6, 6]\n",
      "[1 6 2 1 1 1]\n",
      "hi\n",
      "[3, 7, 5, 6, 8, 4, 2, 9, 1, 0]\n",
      "[0 6 8 6 2 3]\n",
      "hi\n",
      "[6, 4, 8, 5, 2]\n",
      "[1 8 8 0]\n",
      "[1, 8, 1, 2, 4, 2, 9, 8]\n",
      "[8 2 0 0 3 3 4 1 0 0 0]\n",
      "hi\n",
      "[9, 0, 9, 6, 2, 1, 8, 0, 1, 1]\n",
      "[8 3 0 8 2 0 0 4 8 8 0 4 0 0]\n",
      "[9, 9, 6, 3, 4, 3, 7, 1, 6, 5]\n",
      "[3 2 6 0 3 4 0 2 3 3 2 0]\n",
      "hi\n",
      "hi\n",
      "[8, 2, 5, 5, 7, 7, 7, 5, 5]\n",
      "[3 6 8 0 0 8 1 8 3 0]\n",
      "hi\n",
      "[2, 4, 6, 8, 1, 0]\n",
      "[8 5 6 3 2 8 4 0]\n",
      "hi\n",
      "[1, 1, 7, 3, 3, 2, 4, 3, 7]\n",
      "[6 0 8 6 0 0 1 0 2 3 0 3]\n",
      "hi\n",
      "[5, 8, 7, 3, 2, 8, 8]\n",
      "[1 0 8 8 0 0 0 0]\n",
      "[1, 2, 1, 6, 7, 2, 4, 3, 5, 1]\n",
      "[5 2 1 2 6 2 1 3 0 3 3]\n",
      "[6, 7, 0, 1, 9]\n",
      "[8 9 3 1 8 3]\n"
     ]
    }
   ],
   "source": [
    "#done w/ euclidean similarity metric\n",
    "confusionMatrix, calcsDone, timeElapsed = runBenchmark('denoisedQueries', db, Mac=True) "
   ]
  },
  {
   "cell_type": "code",
   "execution_count": 39,
   "metadata": {},
   "outputs": [
    {
     "name": "stdout",
     "output_type": "stream",
     "text": [
      "[[  9.   0.  16.  24.   3.   0.   0.   0.   1.   9.]\n",
      " [  0.   3.   0.   0.   2.   8.   0.   1.   0.   1.]\n",
      " [  6.   0.   3.   1.   0.   0.   1.   0.   1.   1.]\n",
      " [  4.   1.   3.   2.   9.   5.   0.   2.   4.   6.]\n",
      " [  0.   0.   0.   0.   0.   1.   0.   0.   0.   0.]\n",
      " [  0.   2.   0.   0.   4.   2.   0.   2.   0.   0.]\n",
      " [  0.   3.   0.   1.   0.   0.   9.   8.   0.   0.]\n",
      " [  0.   2.   0.   0.   0.   1.   0.   2.   0.   0.]\n",
      " [  1.  13.   4.   0.  10.   6.   0.   5.   4.   4.]\n",
      " [  0.   1.   0.   0.   0.   1.   0.   1.   0.   0.]]\n",
      "\n",
      "45\n",
      "\n",
      "227.19653916358948\n"
     ]
    }
   ],
   "source": [
    "print(confusionMatrix)\n",
    "print()\n",
    "print(calcsDone)\n",
    "print()\n",
    "print(timeElapsed)"
   ]
  },
  {
   "cell_type": "code",
   "execution_count": 40,
   "metadata": {},
   "outputs": [
    {
     "data": {
      "text/plain": [
       "0.93751428073749188"
      ]
     },
     "execution_count": 40,
     "metadata": {},
     "output_type": "execute_result"
    }
   ],
   "source": [
    "np.sum(confusionMatrix)/timeElapsed"
   ]
  },
  {
   "cell_type": "code",
   "execution_count": 53,
   "metadata": {},
   "outputs": [
    {
     "name": "stdout",
     "output_type": "stream",
     "text": [
      "hi\n",
      "hi\n",
      "[7, 7, 7, 7, 7]\n",
      "[7 7 7 7]\n",
      "hi\n",
      "hi\n",
      "[4, 0, 8, 4, 7, 8, 2, 5, 8, 9]\n",
      "[1 2 3 8 8 3 0 0 0 5 4 0]\n",
      "[3, 2, 8, 3, 4]\n",
      "[0 3 0 0 1 0]\n",
      "[2, 6, 9, 1, 9, 4]\n",
      "[3 8 0 0 8 3 0 7]\n",
      "[8, 2, 2, 2, 2, 3]\n",
      "[0 2 8 0 0 4 2 3 0]\n",
      "hi\n",
      "[2, 2, 5, 7]\n",
      "[4 3 0 0 8 8]\n",
      "[8, 1, 7]\n",
      "[8 8 1 8]\n",
      "hi\n",
      "hi\n",
      "[9, 4, 6, 1, 1, 7, 2, 2, 1, 3]\n",
      "[8 3 8 0 0 3 6 2 2 8 0]\n",
      "hi\n",
      "[8, 5, 6, 8, 5]\n",
      "[2 4 9 2 8 8]\n",
      "[2, 0, 2, 9, 2, 9]\n",
      "[3 0 4 0 0 1 0 0]\n",
      "hi\n",
      "[5, 5, 6, 7, 3, 7, 0, 5]\n",
      "[8 1 8 0 8 0 8 0 3]\n",
      "[8, 0, 4]\n",
      "[0 0 8 0]\n",
      "hi\n",
      "hi\n",
      "[3, 3, 2, 0, 5, 6, 8, 3, 5, 6]\n",
      "[1 1 6 4]\n",
      "hi\n",
      "hi\n",
      "[6, 5, 4, 1, 2, 3]\n",
      "[8 0 5 8 1 2 0]\n",
      "hi\n",
      "[1, 2, 3, 4, 5, 4, 3, 2, 1]\n",
      "[0 1 8 0 8 5 3 0 0 3]\n",
      "hi\n",
      "[8, 5, 8, 4, 5, 9]\n",
      "[0 2 1 0 3 3 5 0]\n",
      "hi\n",
      "hi\n",
      "[8, 3, 7, 7, 4, 8, 6]\n",
      "[8 2 0 2 1 0 8 8 3 6]\n",
      "[7, 8, 9, 5, 9, 0]\n",
      "[7 0 4 3 8 2 0]\n",
      "hi\n",
      "[9, 6, 3, 1, 4, 7, 8]\n",
      "[8 8 0 3 0 8]\n",
      "[7, 3, 9, 5, 5]\n",
      "[7 8 3 0 8 3]\n",
      "hi\n",
      "hi\n",
      "hi\n",
      "[9, 7, 8, 2, 4, 1, 4, 6, 8]\n",
      "[3 6 0 3 3 3 1 8 3 0 4]\n",
      "hi\n",
      "hi\n",
      "[9, 7, 4, 2, 8, 6, 5, 5]\n",
      "[0 8 2 0 0 0 6 8 0]\n",
      "[0, 0, 0, 0, 0]\n",
      "[3 0 0 2 0 0 7 0]\n",
      "[9, 1, 1]\n",
      "[8 8 1 8]\n",
      "[3, 5, 2, 3, 6, 7]\n",
      "[0 5 3 0 4 6 1]\n",
      "hi\n",
      "[5, 2, 7, 8, 2, 2, 5, 2]\n",
      "[3 3 1 0 3 0]\n",
      "[0, 5, 2, 7, 1, 4]\n",
      "[2 1 0 6 1 8 0]\n",
      "[5, 0, 7, 4, 6, 2, 3, 1, 7, 4]\n",
      "[4 3 1 8 3 3 0 1 3 1 0]\n",
      "[0, 5, 1, 2, 3, 8, 4, 3, 1, 0]\n",
      "[3 1 1 4 2 0 0 3 3 0 8 0]\n",
      "hi\n",
      "[5, 2, 0, 1, 4, 8]\n",
      "[4 3 3 2 5 3 2]\n",
      "hi\n",
      "hi\n",
      "hi\n",
      "[7, 9, 0, 6, 4, 2, 6, 5]\n",
      "[3 0 3 0 3 3 0 6 3]\n",
      "[7, 8, 1, 3]\n",
      "[9 8 6 4 0]\n",
      "hi\n",
      "hi\n",
      "[8, 8, 8, 8, 8]\n",
      "[3 3 3 3]\n",
      "[8, 1, 1, 4, 2, 3, 5, 1, 3]\n",
      "[3 2 8 0 8 8 2 0 0 8 1 0 0]\n",
      "[0, 1, 4, 6, 7]\n",
      "[8 0 8 8 8 6]\n",
      "hi\n",
      "hi\n",
      "[6, 8, 5, 5]\n",
      "[9 6 1 1 8]\n",
      "[1, 8, 4, 6, 3, 2]\n",
      "[5 4 2 0 3 0 6 0 4 4 0]\n",
      "hi\n",
      "[3, 6, 9, 1, 1]\n",
      "[0 8 0 0 0 0]\n",
      "hi\n",
      "[2, 4, 0, 7, 1, 8]\n",
      "[3 8 0 5 5]\n",
      "hi\n",
      "hi\n",
      "[0, 1, 9, 2, 8, 3, 7, 4, 6, 5]\n",
      "[3 4 1 0 4 4 0 1 2 3 0 2]\n",
      "hi\n",
      "[9, 8, 7, 6, 5, 4, 3, 2, 1, 0]\n",
      "[8 8 7 4 6 7 1 0 3 6 2]\n",
      "[2, 3, 9, 3, 1]\n",
      "[0 0 8 0 7 2]\n",
      "[6, 1, 2]\n",
      "[6 3]\n",
      "hi\n",
      "[6, 6, 6, 6, 6]\n",
      "[1 6 2 1 1 1]\n",
      "hi\n",
      "[3, 7, 5, 6, 8, 4, 2, 9, 1, 0]\n",
      "[0 6 8 6 2 3]\n",
      "hi\n",
      "[6, 4, 8, 5, 2]\n",
      "[1 8 8 0]\n",
      "[1, 8, 1, 2, 4, 2, 9, 8]\n",
      "[8 2 0 0 3 3 4 1 0 0 0]\n",
      "hi\n",
      "[9, 0, 9, 6, 2, 1, 8, 0, 1, 1]\n",
      "[8 3 0 8 2 0 0 4 8 8 0 4 0 0]\n",
      "[9, 9, 6, 3, 4, 3, 7, 1, 6, 5]\n",
      "[3 2 6 0 3 4 0 2 3 3 2 0]\n",
      "hi\n",
      "hi\n",
      "[8, 2, 5, 5, 7, 7, 7, 5, 5]\n",
      "[3 6 8 0 0 8 1 8 3 0]\n",
      "hi\n",
      "[2, 4, 6, 8, 1, 0]\n",
      "[8 5 6 3 2 8 4 0]\n",
      "hi\n",
      "[1, 1, 7, 3, 3, 2, 4, 3, 7]\n",
      "[6 0 8 6 0 0 1 0 2 3 0 3]\n",
      "hi\n",
      "[5, 8, 7, 3, 2, 8, 8]\n",
      "[1 0 8 8 0 0 0 0]\n",
      "[1, 2, 1, 6, 7, 2, 4, 3, 5, 1]\n",
      "[5 2 1 2 6 2 1 3 0 3 3]\n",
      "[6, 7, 0, 1, 9]\n",
      "[8 9 3 1 8 3]\n"
     ]
    }
   ],
   "source": [
    "#done w/ cosine similarity metric\n",
    "confusionMatrix_c, calcsDone_c, timeElapsed_c = runBenchmark('denoisedQueries', db, metric = 'cosine', Mac=True) "
   ]
  },
  {
   "cell_type": "code",
   "execution_count": 54,
   "metadata": {},
   "outputs": [
    {
     "name": "stdout",
     "output_type": "stream",
     "text": [
      "[[  9.   0.  16.  24.   3.   0.   0.   0.   1.   9.]\n",
      " [  0.   3.   0.   0.   2.   8.   0.   1.   0.   1.]\n",
      " [  6.   0.   3.   1.   0.   0.   1.   0.   1.   1.]\n",
      " [  4.   1.   3.   2.   9.   5.   0.   2.   4.   6.]\n",
      " [  0.   0.   0.   0.   0.   1.   0.   0.   0.   0.]\n",
      " [  0.   2.   0.   0.   4.   2.   0.   2.   0.   0.]\n",
      " [  0.   3.   0.   1.   0.   0.   9.   8.   0.   0.]\n",
      " [  0.   2.   0.   0.   0.   1.   0.   2.   0.   0.]\n",
      " [  1.  13.   4.   0.  10.   6.   0.   5.   4.   4.]\n",
      " [  0.   1.   0.   0.   0.   1.   0.   1.   0.   0.]]\n",
      "\n",
      "45\n",
      "\n",
      "226.17313814163208\n"
     ]
    }
   ],
   "source": [
    "print(confusionMatrix_c)\n",
    "print()\n",
    "print(calcsDone_c)\n",
    "print()\n",
    "print(timeElapsed_c)"
   ]
  },
  {
   "cell_type": "markdown",
   "metadata": {},
   "source": [
    "## Metric Calculations"
   ]
  },
  {
   "cell_type": "markdown",
   "metadata": {},
   "source": [
    "We write a few simple functions to calculate confusion matrix metrics, starting with basic precision and recall\n",
    "\n",
    "- Precision: For one classification, the proportion of predictions that were correctly classified\n",
    "- Recall: For one classification, the proportion of the total ground truth population that were correctly predicted\n",
    "\n",
    "Sources: \n",
    "\n",
    "https://towardsdatascience.com/multi-class-metrics-made-simple-part-i-precision-and-recall-9250280bddc2\n",
    "\n",
    "https://towardsdatascience.com/multi-class-metrics-made-simple-part-ii-the-f1-score-ebe8b2c2ca1"
   ]
  },
  {
   "cell_type": "code",
   "execution_count": 44,
   "metadata": {
    "collapsed": true
   },
   "outputs": [],
   "source": [
    "def precision(confusionMatrix, predRow):\n",
    "    \"\"\"\n",
    "    \"\"\"\n",
    "    \n",
    "    \n",
    "    truePositives = confusionMatrix[predRow, predRow]\n",
    "    totalPredictions = np.sum(confusionMatrix[predRow])\n",
    "    precision = truePositives/totalPredictions\n",
    "    \n",
    "    if np.isnan(precision):\n",
    "        return 0\n",
    "    \n",
    "    return precision"
   ]
  },
  {
   "cell_type": "code",
   "execution_count": 45,
   "metadata": {},
   "outputs": [
    {
     "ename": "NameError",
     "evalue": "name 'confusionMatrix_c' is not defined",
     "output_type": "error",
     "traceback": [
      "\u001b[0;31m---------------------------------------------------------------------------\u001b[0m",
      "\u001b[0;31mNameError\u001b[0m                                 Traceback (most recent call last)",
      "\u001b[0;32m<ipython-input-45-393f64d07e06>\u001b[0m in \u001b[0;36m<module>\u001b[0;34m()\u001b[0m\n\u001b[1;32m      1\u001b[0m \u001b[0;31m#hand calc says we had 34.65% precision for digit zero from the cosine metric, 76.92% precision for digit 9\u001b[0m\u001b[0;34m\u001b[0m\u001b[0;34m\u001b[0m\u001b[0m\n\u001b[0;32m----> 2\u001b[0;31m \u001b[0mzero_prec\u001b[0m \u001b[0;34m=\u001b[0m \u001b[0mprecision\u001b[0m\u001b[0;34m(\u001b[0m\u001b[0mconfusionMatrix_c\u001b[0m\u001b[0;34m,\u001b[0m \u001b[0;36m0\u001b[0m\u001b[0;34m)\u001b[0m\u001b[0;34m\u001b[0m\u001b[0m\n\u001b[0m\u001b[1;32m      3\u001b[0m \u001b[0mnine_prec\u001b[0m \u001b[0;34m=\u001b[0m \u001b[0mprecision\u001b[0m\u001b[0;34m(\u001b[0m\u001b[0mconfusionMatrix_c\u001b[0m\u001b[0;34m,\u001b[0m \u001b[0;36m9\u001b[0m\u001b[0;34m)\u001b[0m\u001b[0;34m\u001b[0m\u001b[0m\n\u001b[1;32m      4\u001b[0m \u001b[0mprint\u001b[0m\u001b[0;34m(\u001b[0m\u001b[0mzero_prec\u001b[0m\u001b[0;34m)\u001b[0m\u001b[0;34m\u001b[0m\u001b[0m\n\u001b[1;32m      5\u001b[0m \u001b[0mprint\u001b[0m\u001b[0;34m(\u001b[0m\u001b[0mnine_prec\u001b[0m\u001b[0;34m)\u001b[0m\u001b[0;34m\u001b[0m\u001b[0m\n",
      "\u001b[0;31mNameError\u001b[0m: name 'confusionMatrix_c' is not defined"
     ]
    }
   ],
   "source": [
    "#hand calc says we had 34.65% precision for digit zero from the cosine metric, 76.92% precision for digit 9\n",
    "zero_prec = precision(confusionMatrix_c, 0)\n",
    "nine_prec = precision(confusionMatrix_c, 9)\n",
    "print(zero_prec)\n",
    "print(nine_prec)"
   ]
  },
  {
   "cell_type": "code",
   "execution_count": 46,
   "metadata": {
    "collapsed": true
   },
   "outputs": [],
   "source": [
    "def recall(confusionMatrix, predRow):\n",
    "    \"\"\"\n",
    "    \"\"\"\n",
    "    \n",
    "    truePositives = confusionMatrix[predRow, predRow]\n",
    "    totalPositives = np.sum(confusionMatrix[:, predRow])\n",
    "    recall = truePositives/totalPositives\n",
    "    \n",
    "    if np.isnan(recall):\n",
    "        return 0\n",
    "    \n",
    "    return recall"
   ]
  },
  {
   "cell_type": "code",
   "execution_count": 47,
   "metadata": {},
   "outputs": [
    {
     "name": "stdout",
     "output_type": "stream",
     "text": [
      "0.0\n",
      "0.12\n"
     ]
    }
   ],
   "source": [
    "#hand calc says we had 91.94% recall on digit 4 for the euclidean metric, 33.33% recall on digit 1 for euclidean metric\n",
    "four_recall = recall(confusionMatrix, 4)\n",
    "one_recall = recall(confusionMatrix, 1)\n",
    "print(four_recall)\n",
    "print(one_recall)"
   ]
  },
  {
   "cell_type": "code",
   "execution_count": 48,
   "metadata": {
    "collapsed": true
   },
   "outputs": [],
   "source": [
    "def totalAccuracy(confusionMatrix):\n",
    "    \"\"\"\n",
    "    \"\"\"\n",
    "    totalCorrect = np.trace(confusionMatrix)\n",
    "    totalDigits = np.sum(confusionMatrix) # I think we need to change this to account for stuff we didn't do\n",
    "    \n",
    "    totalAccuracy = totalCorrect/totalDigits\n",
    "    \n",
    "    return totalAccuracy"
   ]
  },
  {
   "cell_type": "code",
   "execution_count": 295,
   "metadata": {},
   "outputs": [
    {
     "ename": "NameError",
     "evalue": "name 'confusionMatrix_c' is not defined",
     "output_type": "error",
     "traceback": [
      "\u001b[0;31m---------------------------------------------------------------------------\u001b[0m",
      "\u001b[0;31mNameError\u001b[0m                                 Traceback (most recent call last)",
      "\u001b[0;32m<ipython-input-295-512f27498993>\u001b[0m in \u001b[0;36m<module>\u001b[0;34m()\u001b[0m\n\u001b[1;32m      1\u001b[0m \u001b[0meuclideanAccuracy\u001b[0m \u001b[0;34m=\u001b[0m \u001b[0mtotalAccuracy\u001b[0m\u001b[0;34m(\u001b[0m\u001b[0mconfusionMatrix\u001b[0m\u001b[0;34m)\u001b[0m\u001b[0;34m\u001b[0m\u001b[0m\n\u001b[0;32m----> 2\u001b[0;31m \u001b[0mcosineAccuracy\u001b[0m \u001b[0;34m=\u001b[0m \u001b[0mtotalAccuracy\u001b[0m\u001b[0;34m(\u001b[0m\u001b[0mconfusionMatrix_c\u001b[0m\u001b[0;34m)\u001b[0m\u001b[0;34m\u001b[0m\u001b[0m\n\u001b[0m\u001b[1;32m      3\u001b[0m \u001b[0mprint\u001b[0m\u001b[0;34m(\u001b[0m\u001b[0meuclideanAccuracy\u001b[0m\u001b[0;34m)\u001b[0m\u001b[0;34m\u001b[0m\u001b[0m\n\u001b[1;32m      4\u001b[0m \u001b[0mprint\u001b[0m\u001b[0;34m(\u001b[0m\u001b[0mcosineAccuracy\u001b[0m\u001b[0;34m)\u001b[0m\u001b[0;34m\u001b[0m\u001b[0m\n",
      "\u001b[0;31mNameError\u001b[0m: name 'confusionMatrix_c' is not defined"
     ]
    }
   ],
   "source": [
    "euclideanAccuracy = totalAccuracy(confusionMatrix)\n",
    "cosineAccuracy = totalAccuracy(confusionMatrix_c)\n",
    "print(euclideanAccuracy)\n",
    "print(cosineAccuracy)"
   ]
  },
  {
   "cell_type": "markdown",
   "metadata": {},
   "source": [
    "Now we calculate the F1-Score, a combined metric that uses the \"harmonic mean\" to aggregate the precision and recall scores of one of the classifiers"
   ]
  },
  {
   "cell_type": "code",
   "execution_count": 49,
   "metadata": {
    "collapsed": true
   },
   "outputs": [],
   "source": [
    "def F1Score(confusionMatrix, predRow):\n",
    "    \"\"\"\n",
    "    \"\"\"\n",
    "    \n",
    "    prec = precision(confusionMatrix, predRow)\n",
    "    rec = recall(confusionMatrix, predRow)\n",
    "    \n",
    "    f1 = (2*prec*rec) / (prec + rec)\n",
    "    \n",
    "    if np.isnan(f1):\n",
    "        return 0\n",
    "    \n",
    "    return f1"
   ]
  },
  {
   "cell_type": "code",
   "execution_count": 297,
   "metadata": {},
   "outputs": [
    {
     "name": "stdout",
     "output_type": "stream",
     "text": [
      "0.470588235294\n"
     ]
    }
   ],
   "source": [
    "#via handcalc, we see that the f1-score for 5 with the euclidean metric is 78.05%\n",
    "#f1_five = F1Score(confusionMatrix, 5)\n",
    "f1_one = F1Score(confusionMatrix, 1)\n",
    "print(f1_one)"
   ]
  },
  {
   "cell_type": "markdown",
   "metadata": {},
   "source": [
    "Now we write a function that calculate the Macro F1 score, which is an equally weighted average of all classifier F1-scores"
   ]
  },
  {
   "cell_type": "code",
   "execution_count": 50,
   "metadata": {
    "collapsed": true
   },
   "outputs": [],
   "source": [
    "def macroF1(confusionMatrix):\n",
    "    \"\"\"\n",
    "    \"\"\"\n",
    "    numClassifiers = confusionMatrix.shape[0]\n",
    "    f1scores = []\n",
    "    \n",
    "    for i in range(numClassifiers):\n",
    "        f1 = F1Score(confusionMatrix, i)\n",
    "        f1scores.append(f1)\n",
    "        \n",
    "        \n",
    "    macroF1 = np.mean(f1scores)\n",
    "    \n",
    "    return macroF1"
   ]
  },
  {
   "cell_type": "code",
   "execution_count": 299,
   "metadata": {},
   "outputs": [
    {
     "data": {
      "text/plain": [
       "0.86240671423219484"
      ]
     },
     "execution_count": 299,
     "metadata": {},
     "output_type": "execute_result"
    }
   ],
   "source": [
    "#estimated 46.48%\n",
    "macroF1(confusionMatrix)"
   ]
  },
  {
   "cell_type": "code",
   "execution_count": 300,
   "metadata": {},
   "outputs": [
    {
     "ename": "NameError",
     "evalue": "name 'confusionMatrix_c' is not defined",
     "output_type": "error",
     "traceback": [
      "\u001b[0;31m---------------------------------------------------------------------------\u001b[0m",
      "\u001b[0;31mNameError\u001b[0m                                 Traceback (most recent call last)",
      "\u001b[0;32m<ipython-input-300-d39e527b757a>\u001b[0m in \u001b[0;36m<module>\u001b[0;34m()\u001b[0m\n\u001b[0;32m----> 1\u001b[0;31m \u001b[0mmacroF1\u001b[0m\u001b[0;34m(\u001b[0m\u001b[0mconfusionMatrix_c\u001b[0m\u001b[0;34m)\u001b[0m\u001b[0;34m\u001b[0m\u001b[0m\n\u001b[0m",
      "\u001b[0;31mNameError\u001b[0m: name 'confusionMatrix_c' is not defined"
     ]
    }
   ],
   "source": [
    "macroF1(confusionMatrix_c)"
   ]
  },
  {
   "cell_type": "markdown",
   "metadata": {},
   "source": [
    "Now I use all these functions to bring all the metrics together"
   ]
  },
  {
   "cell_type": "code",
   "execution_count": 51,
   "metadata": {
    "collapsed": true
   },
   "outputs": [],
   "source": [
    "def fullReport(confusionMatrix, label):\n",
    "    \"\"\"\n",
    "    \"\"\"\n",
    "    print(\"Full Metric output for benchmark: \", label)\n",
    "    \n",
    "    print()\n",
    "    \n",
    "    print(\"Digit  \\t\\tPrecision  \\tRecall  \\tF1-Score\" )\n",
    "    \n",
    "    for digit in range(confusionMatrix.shape[0]):\n",
    "        \n",
    "        prec = precision(confusionMatrix, digit )\n",
    "        rec = recall(confusionMatrix, digit )\n",
    "        f1 = F1Score(confusionMatrix, digit )\n",
    "     \n",
    "        print(digit, \"\\t\\t\", f'{prec:.4f}', \"\\t\", f'{rec:.4f}',\"\\t\", f'{f1:.4f}' )\n",
    "        \n",
    "    print()\n",
    "    \n",
    "    macro = macroF1(confusionMatrix)\n",
    "    acc = totalAccuracy(confusionMatrix)\n",
    "    print(\"Macro F1 Score: \", f'{macro:.4f}')\n",
    "    print(\"Full Digit Accuracy: \", f'{acc:.4f}')"
   ]
  },
  {
   "cell_type": "code",
   "execution_count": 52,
   "metadata": {},
   "outputs": [
    {
     "name": "stdout",
     "output_type": "stream",
     "text": [
      "Full Metric output for benchmark:  Full Test, Euclidean Metric\n",
      "\n",
      "Digit  \t\tPrecision  \tRecall  \tF1-Score\n",
      "0 \t\t 0.1452 \t 0.4500 \t 0.2195\n",
      "1 \t\t 0.2000 \t 0.1200 \t 0.1500\n",
      "2 \t\t 0.2308 \t 0.1154 \t 0.1538\n",
      "3 \t\t 0.0556 \t 0.0714 \t 0.0625\n",
      "4 \t\t 0.0000 \t 0.0000 \t 0.0000\n",
      "5 \t\t 0.2000 \t 0.0833 \t 0.1176\n",
      "6 \t\t 0.4286 \t 0.9000 \t 0.5806\n",
      "7 \t\t 0.4000 \t 0.0952 \t 0.1538\n",
      "8 \t\t 0.0851 \t 0.4000 \t 0.1404\n",
      "9 \t\t 0.0000 \t 0.0000 \t 0.0000\n",
      "\n",
      "Macro F1 Score:  0.1578\n",
      "Full Digit Accuracy:  0.1596\n"
     ]
    }
   ],
   "source": [
    "fullReport(confusionMatrix, \"Full Test, Euclidean Metric\")"
   ]
  },
  {
   "cell_type": "code",
   "execution_count": 55,
   "metadata": {},
   "outputs": [
    {
     "name": "stdout",
     "output_type": "stream",
     "text": [
      "Full Metric output for benchmark:  Full Test, Cosine Metric\n",
      "\n",
      "Digit  \t\tPrecision  \tRecall  \tF1-Score\n",
      "0 \t\t 0.1452 \t 0.4500 \t 0.2195\n",
      "1 \t\t 0.2000 \t 0.1200 \t 0.1500\n",
      "2 \t\t 0.2308 \t 0.1154 \t 0.1538\n",
      "3 \t\t 0.0556 \t 0.0714 \t 0.0625\n",
      "4 \t\t 0.0000 \t 0.0000 \t 0.0000\n",
      "5 \t\t 0.2000 \t 0.0833 \t 0.1176\n",
      "6 \t\t 0.4286 \t 0.9000 \t 0.5806\n",
      "7 \t\t 0.4000 \t 0.0952 \t 0.1538\n",
      "8 \t\t 0.0851 \t 0.4000 \t 0.1404\n",
      "9 \t\t 0.0000 \t 0.0000 \t 0.0000\n",
      "\n",
      "Macro F1 Score:  0.1578\n",
      "Full Digit Accuracy:  0.1596\n"
     ]
    }
   ],
   "source": [
    "fullReport(confusionMatrix_c, \"Full Test, Cosine Metric\")"
   ]
  },
  {
   "cell_type": "code",
   "execution_count": null,
   "metadata": {
    "collapsed": true
   },
   "outputs": [],
   "source": []
  },
  {
   "cell_type": "markdown",
   "metadata": {},
   "source": [
    "## Comparisons"
   ]
  },
  {
   "cell_type": "markdown",
   "metadata": {},
   "source": [
    "### Noisy References"
   ]
  },
  {
   "cell_type": "code",
   "execution_count": null,
   "metadata": {
    "collapsed": true
   },
   "outputs": [],
   "source": [
    "confusionMatrix_n, calcsDone_n, timeElapsed_n = runBenchmark('denoisedQueries', dbNoised, Mac=True)"
   ]
  },
  {
   "cell_type": "code",
   "execution_count": null,
   "metadata": {
    "collapsed": true
   },
   "outputs": [],
   "source": [
    "confusionMatrix_c_n, calcsDone_c_n, timeElapsed_c_n = runBenchmark('denoisedQueries', dbNoised, metric = 'cosine', Mac=True) "
   ]
  },
  {
   "cell_type": "code",
   "execution_count": null,
   "metadata": {
    "collapsed": true
   },
   "outputs": [],
   "source": [
    "fullReport(confusionMatrix_n, \"Full Test, Euclidean Metric With Noise\")"
   ]
  },
  {
   "cell_type": "code",
   "execution_count": null,
   "metadata": {
    "collapsed": true
   },
   "outputs": [],
   "source": [
    "fullReport(confusionMatrix_c_n, \"Full Test, Cosine Metric With Noise\")"
   ]
  },
  {
   "cell_type": "code",
   "execution_count": null,
   "metadata": {
    "collapsed": true
   },
   "outputs": [],
   "source": [
    "confusionMatrix_c_n"
   ]
  },
  {
   "cell_type": "markdown",
   "metadata": {},
   "source": [
    "### Desilenced"
   ]
  },
  {
   "cell_type": "code",
   "execution_count": null,
   "metadata": {
    "collapsed": true
   },
   "outputs": [],
   "source": [
    "confusionMatrix_s, calcsDone_s, timeElapsed_s = runBenchmark('denoisedQueries', dbNoSilence, Mac=True)"
   ]
  },
  {
   "cell_type": "code",
   "execution_count": null,
   "metadata": {
    "collapsed": true
   },
   "outputs": [],
   "source": [
    "confusionMatrix_c_s, calcsDone_c_s, timeElapsed_c_s = runBenchmark('denoisedQueries', dbNoSilence, metric = 'cosine', Mac=True) "
   ]
  },
  {
   "cell_type": "code",
   "execution_count": null,
   "metadata": {
    "collapsed": true
   },
   "outputs": [],
   "source": [
    "fullReport(confusionMatrix_s, \"Full Test, Euclidean Metric With Desilenced References\")"
   ]
  },
  {
   "cell_type": "code",
   "execution_count": null,
   "metadata": {
    "collapsed": true
   },
   "outputs": [],
   "source": [
    "fullReport(confusionMatrix_c_s, \"Full Test, Cosine Metric With Desilenced References\")"
   ]
  },
  {
   "cell_type": "markdown",
   "metadata": {},
   "source": [
    "## Testing Stuff"
   ]
  },
  {
   "cell_type": "code",
   "execution_count": null,
   "metadata": {
    "collapsed": true
   },
   "outputs": [],
   "source": [
    "queries = retrieveMP3s(\"Queries\")\n",
    "references = retrieveMP3s(\"References\")"
   ]
  },
  {
   "cell_type": "code",
   "execution_count": null,
   "metadata": {
    "collapsed": true
   },
   "outputs": [],
   "source": [
    "mfcc_test = mfcc(S, num_coeffs = 20)"
   ]
  },
  {
   "cell_type": "code",
   "execution_count": null,
   "metadata": {
    "collapsed": true
   },
   "outputs": [],
   "source": [
    "plt.imshow(mfcc_test, cmap = \"jet\", origin = \"lower\")\n",
    "plt.axis(\"tight\")"
   ]
  },
  {
   "cell_type": "code",
   "execution_count": null,
   "metadata": {
    "collapsed": true
   },
   "outputs": [],
   "source": [
    "S_first = lb.core.stft(audio[17408:27776], n_fft = 2048, hop_length = 128)"
   ]
  },
  {
   "cell_type": "code",
   "execution_count": null,
   "metadata": {
    "collapsed": true
   },
   "outputs": [],
   "source": [
    "mfcc_first = mfcc(S_first, num_coeffs = 20)"
   ]
  },
  {
   "cell_type": "code",
   "execution_count": null,
   "metadata": {
    "collapsed": true
   },
   "outputs": [],
   "source": [
    "plt.imshow(mfcc_first, cmap = \"jet\", origin = \"lower\")\n",
    "plt.axis(\"tight\")"
   ]
  },
  {
   "cell_type": "code",
   "execution_count": null,
   "metadata": {
    "collapsed": true
   },
   "outputs": [],
   "source": [
    "reference_three, sr = lb.core.load('References/Reference_3.mp3', sr = 22050)"
   ]
  },
  {
   "cell_type": "code",
   "execution_count": null,
   "metadata": {
    "collapsed": true
   },
   "outputs": [],
   "source": [
    "ipd.Audio(reference_three, rate = 22050)"
   ]
  },
  {
   "cell_type": "code",
   "execution_count": null,
   "metadata": {
    "collapsed": true
   },
   "outputs": [],
   "source": [
    "S_reference = lb.core.stft(reference_three, n_fft = 2048, hop_length = 128)"
   ]
  },
  {
   "cell_type": "code",
   "execution_count": null,
   "metadata": {
    "collapsed": true
   },
   "outputs": [],
   "source": [
    "mfcc_ref = mfcc(S_reference, num_coeffs = 20)"
   ]
  },
  {
   "cell_type": "code",
   "execution_count": null,
   "metadata": {
    "collapsed": true
   },
   "outputs": [],
   "source": [
    "plt.imshow(mfcc_ref, cmap = \"jet\", origin = \"lower\")\n",
    "plt.axis(\"tight\")"
   ]
  },
  {
   "cell_type": "code",
   "execution_count": null,
   "metadata": {
    "collapsed": true
   },
   "outputs": [],
   "source": [
    "D, wp = lb.sequence.dtw(mfcc_ref, mfcc_first)"
   ]
  },
  {
   "cell_type": "code",
   "execution_count": null,
   "metadata": {
    "collapsed": true
   },
   "outputs": [],
   "source": [
    "import librosa.display\n",
    "lb.display.specshow(D, x_axis='frames', y_axis='frames')\n",
    "plt.plot(wp[:, 1], wp[:, 0], label='Optimal path', color='y')"
   ]
  },
  {
   "cell_type": "code",
   "execution_count": null,
   "metadata": {
    "collapsed": true
   },
   "outputs": [],
   "source": [
    "plt.plot(D[-1, :] / wp.shape[0])"
   ]
  },
  {
   "cell_type": "code",
   "execution_count": null,
   "metadata": {
    "collapsed": true
   },
   "outputs": [],
   "source": [
    "np.min(D[-1,:])"
   ]
  },
  {
   "cell_type": "code",
   "execution_count": null,
   "metadata": {
    "collapsed": true
   },
   "outputs": [],
   "source": [
    "reference_four, sr = lb.core.load('References/Reference_4.mp3', sr = 22050)"
   ]
  },
  {
   "cell_type": "code",
   "execution_count": null,
   "metadata": {
    "collapsed": true
   },
   "outputs": [],
   "source": [
    "S_ref4 = lb.core.stft(reference_four, n_fft = 2048, hop_length = 128)"
   ]
  },
  {
   "cell_type": "code",
   "execution_count": null,
   "metadata": {
    "collapsed": true
   },
   "outputs": [],
   "source": [
    "mfcc_ref4 = mfcc(S_ref4, num_coeffs = 20)"
   ]
  },
  {
   "cell_type": "code",
   "execution_count": null,
   "metadata": {
    "collapsed": true
   },
   "outputs": [],
   "source": [
    "D4, wp4 = lb.sequence.dtw(mfcc_ref4, mfcc_first)"
   ]
  },
  {
   "cell_type": "code",
   "execution_count": null,
   "metadata": {
    "collapsed": true
   },
   "outputs": [],
   "source": [
    "np.min(D4[-1,:])"
   ]
  },
  {
   "cell_type": "code",
   "execution_count": null,
   "metadata": {
    "collapsed": true
   },
   "outputs": [],
   "source": [
    "print(references)"
   ]
  },
  {
   "cell_type": "code",
   "execution_count": null,
   "metadata": {
    "collapsed": true
   },
   "outputs": [],
   "source": [
    "for i in range(len(references)):\n",
    "    print(references[i])\n",
    "    reference_num, sr = lb.core.load(references[i], sr = 22050)\n",
    "    S_refNum = lb.core.stft(reference_num, n_fft = 2048, hop_length = 128)\n",
    "    mfcc_refNum = mfcc(S_refNum, num_coeffs = 20)\n",
    "    D_num, wp_num = lb.sequence.dtw(mfcc_refNum, mfcc_first)\n",
    "    print(np.min(D_num[-1:]))"
   ]
  },
  {
   "cell_type": "code",
   "execution_count": null,
   "metadata": {
    "collapsed": true
   },
   "outputs": [],
   "source": [
    "def getMatchScores(mfccQuery, references):\n",
    "    storage = []\n",
    "    for i in range(len(references)):\n",
    "        #print(references[i])\n",
    "        reference_num, sr = lb.core.load(references[i], sr = 22050)\n",
    "        S_refNum = lb.core.stft(reference_num, n_fft = 2048, hop_length = 128)\n",
    "        mfcc_refNum = mfcc(S_refNum, num_coeffs = 20)\n",
    "        D_num, wp_num = lb.sequence.dtw(mfcc_refNum, mfccQuery)\n",
    "        storage.append(np.min(D_num[-1:]))\n",
    "        #print(np.min(D_num[-1:]))\n",
    "    minPos = np.argmin(storage)\n",
    "    print(references[minPos])\n",
    "    #return storage"
   ]
  },
  {
   "cell_type": "code",
   "execution_count": null,
   "metadata": {
    "collapsed": true
   },
   "outputs": [],
   "source": [
    "#S_first = lb.core.stft(audio[17408:27776], n_fft = 2048, hop_length = 128, n_fft = 2048, hop_length = 128)\n",
    "#answer = retrieveAnswer('Queries/32824.mp3')\n",
    "def analyzeQuery(audio, times, references, originalAudio):\n",
    "    answer = retrieveAnswer(originalAudio)\n",
    "    \n",
    "    for i in range(len(times)):\n",
    "        t = times[i]\n",
    "        print(answer[i])\n",
    "        #print(t[0])\n",
    "        #print(t[])\n",
    "        S_query = lb.core.stft(audio[t[0]:t[1]], n_fft = 2048, hop_length = 128)\n",
    "        mfcc_query = mfcc(S_query, num_coeffs = 20)\n",
    "        getMatchScores(mfcc_query, references)\n"
   ]
  },
  {
   "cell_type": "code",
   "execution_count": null,
   "metadata": {
    "collapsed": true
   },
   "outputs": [],
   "source": []
  }
 ],
 "metadata": {
  "kernelspec": {
   "display_name": "Python 3",
   "language": "python",
   "name": "python3"
  },
  "language_info": {
   "codemirror_mode": {
    "name": "ipython",
    "version": 3
   },
   "file_extension": ".py",
   "mimetype": "text/x-python",
   "name": "python",
   "nbconvert_exporter": "python",
   "pygments_lexer": "ipython3",
   "version": "3.6.6"
  }
 },
 "nbformat": 4,
 "nbformat_minor": 2
}
