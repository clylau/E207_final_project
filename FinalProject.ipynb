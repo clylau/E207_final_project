{
 "cells": [
  {
   "cell_type": "markdown",
   "metadata": {},
   "source": [
    "# Voice Recognition for Digits - Jimmy Fernandez and Christina Lau"
   ]
  },
  {
   "cell_type": "code",
   "execution_count": 1,
   "metadata": {
    "collapsed": true
   },
   "outputs": [],
   "source": [
    "%matplotlib inline"
   ]
  },
  {
   "cell_type": "code",
   "execution_count": 2,
   "metadata": {
    "collapsed": true
   },
   "outputs": [],
   "source": [
    "import numpy as np\n",
    "import librosa as lb \n",
    "import matplotlib.pyplot as plt\n",
    "from scipy.signal import stft\n",
    "import glob\n",
    "import os.path\n",
    "import subprocess\n",
    "import pickle\n",
    "import IPython.display as ipd\n",
    "import warnings\n",
    "import scipy.signal\n",
    "import scipy.fftpack\n",
    "import time\n",
    "#import seaborn as sns\n",
    "#from cf_matrix import make_confusion_matrix\n",
    "#sns.set_context('talk')"
   ]
  },
  {
   "cell_type": "code",
   "execution_count": 3,
   "metadata": {
    "collapsed": true
   },
   "outputs": [],
   "source": [
    "warnings.filterwarnings(action='ignore') # to suppress warning messages"
   ]
  },
  {
   "cell_type": "code",
   "execution_count": 4,
   "metadata": {
    "collapsed": true
   },
   "outputs": [],
   "source": [
    "#set true if you are using a mac\n",
    "Mac = True"
   ]
  },
  {
   "cell_type": "markdown",
   "metadata": {},
   "source": [
    "## MFCC Feature Calculation"
   ]
  },
  {
   "cell_type": "markdown",
   "metadata": {},
   "source": [
    "Before diving into the MFCC algorithm, we first write a number of simple helper functions for use at various points of the algorithm. These functions convert the FFT frequency indcies to frequency in hz, hz to mels (on the non-linear Mel frequency scale), and vice versa."
   ]
  },
  {
   "cell_type": "code",
   "execution_count": 5,
   "metadata": {
    "collapsed": true
   },
   "outputs": [],
   "source": [
    "def binToHz(k, nfft = 2048, fs = 22050):\n",
    "    \"\"\"\n",
    "    Helper function that takes in an fft/stft frequency bin k and returns the corresponding frequency of the bin in hertz\n",
    "    \n",
    "    Inputs:\n",
    "    k - the index of the stft row of interest\n",
    "    \n",
    "    Outputs:\n",
    "    freq - the frequency of the provided STFT bin\n",
    "    \"\"\"\n",
    "    \n",
    "    freq = k*fs/nfft\n",
    "    \n",
    "    return freq"
   ]
  },
  {
   "cell_type": "code",
   "execution_count": 6,
   "metadata": {
    "collapsed": true
   },
   "outputs": [],
   "source": [
    "def hzToBin(freq, nfft = 2048, fs = 22050):\n",
    "    \"\"\"\n",
    "    helper function that converts the provided frequency in hz to the nearest fft frequency index. Only valid for frequencies \n",
    "    contained within the first half of the fft \n",
    "    \n",
    "    Inputs:\n",
    "    freq - the frequency we are interested in converting to frequency index\n",
    "    nfft - the size of the fft performed\n",
    "    fs - the sample rate of the signal\n",
    "    \n",
    "    \n",
    "    Outputs:\n",
    "    k - converted frequency bin\n",
    "    \n",
    "    \"\"\"\n",
    "    \n",
    "    k = np.round(freq*nfft/fs)\n",
    "    \n",
    "    return k"
   ]
  },
  {
   "cell_type": "code",
   "execution_count": 7,
   "metadata": {
    "collapsed": true
   },
   "outputs": [],
   "source": [
    "def hzToMel(hz):\n",
    "    \"\"\"\n",
    "    Helper function that converts the provided hz frequency to mel frequency scale\n",
    "    \n",
    "    Inputs:\n",
    "    hz - the frequency of interst in hz\n",
    "    \n",
    "    Outputs:\n",
    "    mel - the frequency of interest in mel\n",
    "    \"\"\"\n",
    "    \n",
    "    mel = 1125*np.log(1 + hz/700)\n",
    "    \n",
    "    return mel"
   ]
  },
  {
   "cell_type": "code",
   "execution_count": 8,
   "metadata": {
    "collapsed": true
   },
   "outputs": [],
   "source": [
    "def melToHz(mel):\n",
    "    \"\"\"\n",
    "    Helper function that converts the provided mel frequency to hz frequency scale\n",
    "    \n",
    "    Inputs:\n",
    "    mel - the frequency of interest in mel\n",
    "    \n",
    "    Outputs:\n",
    "    hz - the frequency of interst in hz\n",
    "    \"\"\"\n",
    "    hz = 700*(np.exp(mel/1125) - 1)\n",
    "    \n",
    "    return hz"
   ]
  },
  {
   "cell_type": "markdown",
   "metadata": {},
   "source": [
    "Now we implement the Mel Frequency Cepstrum Coefficent calculation for the features. The algorithm has 5 main steps.\n",
    "\n",
    "1. Take the STFT of the audio signal. This is an implied step of our function, as it is passed the STFT as an input\n",
    "2. Calculate the periodogram of the STFT. The Periodogram is the elementwise square magnitude of the STFT elements divided by the length of the FFT used to construct the STFT\n",
    "3. Use the \"Mel Frequency Filter Bank\" to calculate the energies in a specified number of frequency bands. The Mel Frequency scale is a logarithmic scale that more closely matches the way humans hear/speak. As such, the filter bank sums energies in closely related frequency bins together to express the energy content in ranges more similar to human speech, with higher frequencies having a wider range summed together than lower frequencies\n",
    "4. Take the natural logarithm of the mel energy bands\n",
    "5. Take the discrete cosine transform of the logarithmic mel energy bands. These are the MFCC coefficients (there should be a specified number per frame of the STFT)"
   ]
  },
  {
   "cell_type": "code",
   "execution_count": 9,
   "metadata": {
    "collapsed": true
   },
   "outputs": [],
   "source": [
    "def mfcc(S, n_fft = 2048, sr = 22050, num_coeffs = 26, filterMatrix = None, bottomFreq = 300, topFreq = 8000, epsilon = 1e-9):\n",
    "    \"\"\"\n",
    "    Performs the calculation of the MFCC feature matrix\n",
    "    \n",
    "    Inputs:\n",
    "    S - the STFT of the audio signal of interest\n",
    "    n_fft - the length of the DFT used to calculate the STFT\n",
    "    sr = the sample rate of the audio of interest\n",
    "    num_coeffs - the number of coefficients to return (and also the number of Mel Filters to create)\n",
    "    bottomFreq - the bottom frequency of our filter bank. Defaults to 300 hz because this is a common bottom used in speech recognition\n",
    "    topFreq - the top frequency of our filter bank. Defaults to 8000 hz because this is a common top used in speech recognition\n",
    "    epsilon - a small number added to the logarithm to prevent NaN's\n",
    "    \n",
    "    Outputs:\n",
    "    mfcc - a num_coeffs x number of STFT frames matrix that represents the MFCC feature per frame of the STFT\n",
    "    \n",
    "    \"\"\"\n",
    "    #we begin by calculating the periodogram of the provided STFT matrix\n",
    "    pxx= np.abs(S)**2/n_fft\n",
    "\n",
    "    \n",
    "    #use a precalculated filter matrix to make the calculation slightly more efficient, if desired\n",
    "    if filterMatrix is not None:\n",
    "        assert(num_coeffs == filterMatrix.shape[0])\n",
    "        filt = filterMatrix\n",
    "    else:\n",
    "        filt = calculateFilterMatrix(numFilters = num_coeffs, bottomFreq = bottomFreq, topFreq = topFreq)\n",
    "        \n",
    "    #sum the relevant filter energies and take the logarithm of them (part of the \"cepstrum calculation\")\n",
    "    mel_log_energies = np.log(filt@pxx + epsilon)\n",
    "    \n",
    "    mfcc = scipy.fftpack.dct(mel_log_energies, axis = 0, norm = 'ortho') #norm is set to ortho for the preimplemented version\n",
    "    \n",
    "    \n",
    "    return mfcc"
   ]
  },
  {
   "cell_type": "markdown",
   "metadata": {},
   "source": [
    "In order to perform the above calculation. We write a helper function that calculates the filter bank as a matrix that can be used to premultiply the periodogram to perform the summation an filtering. To calculate the filter bank, we do the following\n",
    "\n",
    "1. Take our upper and lower frequency bounds and convert them to mels\n",
    "2. Generate a number of linearly spaced points between the endpoints equal to the number of desired filters\n",
    "3. Convert the points to hz, then to FFT frequency bins\n",
    "4. iterate through the filter matrix, and starting with the leftmost points, use groups of three points as the start, stop, and peak of the triangular filter. The amplitude ranges from 0 to 1 at the peak linearly and down to zero again."
   ]
  },
  {
   "cell_type": "code",
   "execution_count": 10,
   "metadata": {
    "collapsed": true
   },
   "outputs": [],
   "source": [
    "def calculateFilterMatrix(numFilters = 26, bottomFreq = 300, topFreq = 8000,  nfft = 2048):\n",
    "    \"\"\"\n",
    "    Helper function for the MFCC calculation that returns a matrix of size numfilters x nfft//2 + 1\n",
    "    \n",
    "    Inputs:\n",
    "    numFilters - the desired number of filters\n",
    "    bottomFreq - the bottom frequency of the filter bank\n",
    "    topFreq - the top frequency of the filter bank\n",
    "    nfft - the length of the fft\n",
    "    \n",
    "    \n",
    "    Outputs:\n",
    "    filterMatrix - a numfilters x nfft//2 + 1 matrix where each row is one of mel triangular filters\n",
    "    \n",
    "    \"\"\"\n",
    "    #calculating the upper and lower bounds of our functions\n",
    "    lowerbound = hzToMel(bottomFreq)\n",
    "    upperbound = hzToMel(topFreq)\n",
    "    \n",
    "    #calculate the end/peak points for the various filters\n",
    "    freq_endpoints = melToHz(np.linspace(lowerbound, upperbound, num = numFilters + 2))\n",
    "    endpoints = hzToBin(freq_endpoints)\n",
    "    \n",
    "    #iterate through every value of the matrix\n",
    "    filterMatrix = np.zeros((numFilters, nfft//2 + 1))\n",
    "    for filt in range(numFilters):\n",
    "        \n",
    "        #retrieve end points for use in the filter calculating function\n",
    "        start = endpoints[filt]\n",
    "        peak = endpoints[filt + 1]\n",
    "        stop = endpoints[filt + 2]\n",
    "        \n",
    "        #calculate the proper amplitude of the triangle filter\n",
    "        for k in range(nfft//2 + 1):\n",
    "            \n",
    "            if k >= start and k <= peak:\n",
    "                filterMatrix[filt, k] = (k - start)/(peak - start)\n",
    "            elif k >= peak and k <= stop:\n",
    "                filterMatrix[filt, k] = (stop - k)/(stop - peak)\n",
    "            else:\n",
    "                filterMatrix[filt, k] = 0\n",
    "        \n",
    "    \n",
    "    return filterMatrix"
   ]
  },
  {
   "cell_type": "markdown",
   "metadata": {},
   "source": [
    "We now test all our miscellaneous functions"
   ]
  },
  {
   "cell_type": "code",
   "execution_count": 11,
   "metadata": {
    "scrolled": false
   },
   "outputs": [
    {
     "data": {
      "text/plain": [
       "(-0.5, 1024.5, -0.5, 25.5)"
      ]
     },
     "execution_count": 11,
     "metadata": {},
     "output_type": "execute_result"
    },
    {
     "data": {
      "image/png": "[encoded data removed]",
      "text/plain": [
       "<Figure size 432x288 with 1 Axes>"
      ]
     },
     "metadata": {},
     "output_type": "display_data"
    }
   ],
   "source": [
    "test = calculateFilterMatrix(numFilters = 26)\n",
    "plt.imshow(test, cmap = 'jet', origin = 'lower')\n",
    "plt.title(\"Filter Matrix for 26 Triangular Filters\")\n",
    "plt.ylabel(\"Filter\")\n",
    "plt.xlabel(\"Frequency Bin\")\n",
    "plt.axis('tight')"
   ]
  },
  {
   "cell_type": "markdown",
   "metadata": {},
   "source": [
    "## Word Splitting"
   ]
  },
  {
   "cell_type": "code",
   "execution_count": 12,
   "metadata": {
    "collapsed": true
   },
   "outputs": [],
   "source": [
    "def getDigitTimes(queryName, hop_length = 128, top_db = 25):\n",
    "    \"\"\"\n",
    "    \"\"\"\n",
    "    audio, sr = lb.core.load(queryName)\n",
    "    digits = lb.effects.split(audio, hop_length = hop_length, top_db = top_db)\n",
    "    \n",
    "    return digits"
   ]
  },
  {
   "cell_type": "code",
   "execution_count": 13,
   "metadata": {
    "collapsed": true
   },
   "outputs": [],
   "source": [
    "def playDigits(queryName, digitTimes, hop_length=128, sr = 22050):\n",
    "    \"\"\"\n",
    "    \"\"\"\n",
    "    \n",
    "    audio, sr = lb.core.load(queryName)\n",
    "\n",
    "    for time in digitTimes:\n",
    "        ipd.display(ipd.Audio(audio[time[0]:time[1]], rate = sr))\n",
    "    "
   ]
  },
  {
   "cell_type": "markdown",
   "metadata": {},
   "source": [
    "# Constructing the Database"
   ]
  },
  {
   "cell_type": "markdown",
   "metadata": {},
   "source": [
    "To construct the database, we retrieve a list of all the mp3s in a specified directory, then iterate through them, calculating the mfcc feature matrix for each and storing it in a dictionary with a key specified in the file name"
   ]
  },
  {
   "cell_type": "code",
   "execution_count": 14,
   "metadata": {
    "collapsed": true
   },
   "outputs": [],
   "source": [
    "def retrieveMP3s(indir, Mac = False):\n",
    "    \"\"\"\n",
    "    Helper function to retrieve a list of all the .mp3 files listed in the provided directory\n",
    "    Note: For macs, it's /*.mp3, for windows, it's \\*.mp3\n",
    "    \n",
    "    Inputs:\n",
    "    indir - the directory containing all the MP3s of interst\n",
    "    Mac - a boolean indicating if the machine running the code is a Mac. If false, windows notation is assumed\n",
    "    \n",
    "    Outputs: \n",
    "    A list of all the mp3 file paths\n",
    "    \n",
    "    \"\"\"\n",
    "    #get the correct pathname based on the machine type\n",
    "    if Mac: \n",
    "        pathname = indir + '/*.mp3'\n",
    "    else:\n",
    "        pathname = indir + '\\*.mp3'\n",
    "    \n",
    "    return glob.glob(pathname)"
   ]
  },
  {
   "cell_type": "code",
   "execution_count": 15,
   "metadata": {
    "collapsed": true
   },
   "outputs": [],
   "source": [
    "def constructDB(indir, numFilters = 26, Mac = False, sr = 22050, nfft = 2048, hop = 128, strPosn = 4):\n",
    "    \"\"\"\n",
    "    Function that constructs a database (dictionary) with the digit as a key and the MFCC feature matrix as the stored data\n",
    "    \n",
    "    Inputs: \n",
    "    indir - the label of the directory of interest\n",
    "    Mac - a boolean indicating if the machine running this code is a mac. If false, \n",
    "          it is assumed that the code is running on a pc\n",
    "    sr - the sample rate of the audio files in the directory\n",
    "    nfft - the size of the fft we want to perform to to construct the stft\n",
    "    hop - the hop size for the stft\n",
    "    strPosn - the index of the reference name in the reference file. Used to label db\n",
    "    \n",
    "    Outputs:\n",
    "    db - a dictionary object storing the MFCC coefficients for each of the digit references\n",
    "    \"\"\"\n",
    "    \n",
    "    db = {}\n",
    "    mp3s = retrieveMP3s(indir, Mac = Mac)\n",
    "    \n",
    "    \n",
    "    for i in range(len(mp3s)):\n",
    "        \n",
    "        #we begin by retreiving each individual mp3 and calculating the STFT\n",
    "        currPath = mp3s[i]\n",
    "        mp3, _ = lb.core.load(currPath, sr = sr)\n",
    "        S = lb.core.stft(mp3, n_fft = nfft, hop_length = hop)\n",
    "        \n",
    "        #we then use calculate the MFCC feature matrix\n",
    "        mfccMatrix = mfcc(S, num_coeffs = numFilters, n_fft = nfft, sr = sr)\n",
    "        \n",
    "        #finally we get the proper key name\n",
    "        baseName = os.path.basename(currPath)\n",
    "        keyName = baseName[strPosn] #assumes the file is in Reference_x.mp3 format\n",
    "        \n",
    "        #add data to the database\n",
    "        db[keyName] = mfccMatrix\n",
    "        \n",
    "    \n",
    "    return db"
   ]
  },
  {
   "cell_type": "code",
   "execution_count": 45,
   "metadata": {
    "collapsed": true
   },
   "outputs": [],
   "source": [
    "#testing the db construction\n",
    "db = constructDB('denoisedReferences', Mac = Mac)"
   ]
  },
  {
   "cell_type": "code",
   "execution_count": 280,
   "metadata": {},
   "outputs": [],
   "source": [
    "dbNoised = constructDB('newRef', Mac = Mac)"
   ]
  },
  {
   "cell_type": "code",
   "execution_count": 47,
   "metadata": {},
   "outputs": [
    {
     "data": {
      "image/png": "[encoded data removed]",
      "text/plain": [
       "<Figure size 432x288 with 1 Axes>"
      ]
     },
     "metadata": {},
     "output_type": "display_data"
    },
    {
     "data": {
      "image/png": "[encoded data removed]",
      "text/plain": [
       "<Figure size 432x288 with 1 Axes>"
      ]
     },
     "metadata": {},
     "output_type": "display_data"
    },
    {
     "data": {
      "image/png": "[encoded data removed]",
      "text/plain": [
       "<Figure size 432x288 with 1 Axes>"
      ]
     },
     "metadata": {},
     "output_type": "display_data"
    },
    {
     "data": {
      "image/png": "[encoded data removed]",
      "text/plain": [
       "<Figure size 432x288 with 1 Axes>"
      ]
     },
     "metadata": {},
     "output_type": "display_data"
    },
    {
     "data": {
      "image/png": "[encoded data removed]",
      "text/plain": [
       "<Figure size 432x288 with 1 Axes>"
      ]
     },
     "metadata": {},
     "output_type": "display_data"
    },
    {
     "data": {
      "image/png": "[encoded data removed]",
      "text/plain": [
       "<Figure size 432x288 with 1 Axes>"
      ]
     },
     "metadata": {},
     "output_type": "display_data"
    },
    {
     "data": {
      "image/png": "[encoded data removed]",
      "text/plain": [
       "<Figure size 432x288 with 1 Axes>"
      ]
     },
     "metadata": {},
     "output_type": "display_data"
    },
    {
     "data": {
      "image/png": "[encoded data removed]",
      "text/plain": [
       "<Figure size 432x288 with 1 Axes>"
      ]
     },
     "metadata": {},
     "output_type": "display_data"
    },
    {
     "data": {
      "image/png": "[encoded data removed]",
      "text/plain": [
       "<Figure size 432x288 with 1 Axes>"
      ]
     },
     "metadata": {},
     "output_type": "display_data"
    },
    {
     "data": {
      "image/png": "[encoded data removed]",
      "text/plain": [
       "<Figure size 432x288 with 1 Axes>"
      ]
     },
     "metadata": {},
     "output_type": "display_data"
    }
   ],
   "source": [
    "for key in db:\n",
    "    feats = db[key]\n",
    "    plt.imshow(feats, origin = 'lower', cmap = 'jet')\n",
    "    plt.title(key)\n",
    "    plt.axis('tight')\n",
    "    plt.show()"
   ]
  },
  {
   "cell_type": "markdown",
   "metadata": {},
   "source": [
    "## Benchmark "
   ]
  },
  {
   "cell_type": "markdown",
   "metadata": {},
   "source": [
    "In order to run the benchmark, we first write a function that can retrieve the ground truth answer to the query of interest"
   ]
  },
  {
   "cell_type": "code",
   "execution_count": 48,
   "metadata": {
    "collapsed": true
   },
   "outputs": [],
   "source": [
    "def retrieveAnswer(pathname):\n",
    "    \"\"\"\n",
    "    Helper function that takes in a .mp3 file whose name is a list of the digits spoken in the file and returns a \n",
    "    list of the characters\n",
    "    \n",
    "    Inputs:\n",
    "    pathname - the pathname of the file of interest\n",
    "    \n",
    "    Outputs:\n",
    "    answer - a list of the digits in the mp3's file name\n",
    "    \"\"\"\n",
    "    \n",
    "    basename = os.path.basename(pathname)[:-4]\n",
    "    answer = [int(digit) for digit in list(basename)]\n",
    "    \n",
    "    \n",
    "    return answer"
   ]
  },
  {
   "cell_type": "markdown",
   "metadata": {},
   "source": [
    "Working out splitting algo, etc"
   ]
  },
  {
   "cell_type": "markdown",
   "metadata": {},
   "source": [
    "Going to use 32834 query as a test"
   ]
  },
  {
   "cell_type": "code",
   "execution_count": 58,
   "metadata": {},
   "outputs": [],
   "source": [
    "audio, sr = lb.core.load('denoisedQueries/32834.mp3', sr = 22050)"
   ]
  },
  {
   "cell_type": "code",
   "execution_count": 59,
   "metadata": {
    "collapsed": true
   },
   "outputs": [],
   "source": [
    "S = lb.core.stft(audio, n_fft = 2048, hop_length = 128)"
   ]
  },
  {
   "cell_type": "code",
   "execution_count": 60,
   "metadata": {
    "collapsed": true
   },
   "outputs": [],
   "source": [
    "digitTimes = getDigitTimes('denoisedQueries/32834.mp3')\n",
    "# digitTimes[:, 0] = digitTimes[:,0]*-1\n",
    "# test = np.sum(digitTimes, axis = 1)\n",
    "# print(digitTimes)\n",
    "# print(test)\n",
    "# digitTimes = np.delete(digitTimes, 1, 0 )\n",
    "# print()\n",
    "# print(digitTimes)"
   ]
  },
  {
   "cell_type": "code",
   "execution_count": 61,
   "metadata": {},
   "outputs": [
    {
     "data": {
      "text/plain": [
       "'7'"
      ]
     },
     "execution_count": 61,
     "metadata": {},
     "output_type": "execute_result"
    }
   ],
   "source": [
    "list(db.keys())[0]"
   ]
  },
  {
   "cell_type": "code",
   "execution_count": 62,
   "metadata": {
    "collapsed": true
   },
   "outputs": [],
   "source": [
    "def getMatchScores(audioQuery, db, sr = 22050, nfft = 2048, hop = 128, metric = 'euclidean'):\n",
    "    \"\"\"\n",
    "    \"\"\"\n",
    "    \n",
    "    #we begin by calculating the mfcc of the query\n",
    "    S = lb.core.stft(audioQuery, n_fft = nfft, hop_length = hop)\n",
    "    mfcc_query = mfcc(S, n_fft = nfft, sr = sr)\n",
    "    \n",
    "    #now we iterate through the database and compare all the numbers with subsequency dynamic time warping\n",
    "    scores = []\n",
    "    for key in db:\n",
    "        \n",
    "        mfcc_ref = db[key]\n",
    "        \n",
    "        D_num, wp_num = lb.sequence.dtw(mfcc_ref, mfcc_query, metric = metric, subseq = True)\n",
    "        scores.append(np.min(D_num[-1:]))\n",
    "        \n",
    "#     predInd = np.argmin(scores)\n",
    "#     predScore = scores[predInd]\n",
    "    return scores"
   ]
  },
  {
   "cell_type": "code",
   "execution_count": 63,
   "metadata": {
    "collapsed": true
   },
   "outputs": [],
   "source": [
    "def getCleanedDigitsTimes(queryName, hop_length = 128, top_db = 25):\n",
    "    \"\"\"\n",
    "    \"\"\"\n",
    "    \n",
    "    #begin by getting the splits as well as how many splits there should be\n",
    "    desiredSplits = len(retrieveAnswer(queryName))\n",
    "    times = getDigitTimes(queryName, hop_length = hop_length, top_db = top_db)\n",
    "    \n",
    "    while times.shape[0] > desiredSplits:\n",
    "        times_copy = np.copy(times)\n",
    "        times_copy[:,0] = times_copy[:,0]*-1\n",
    "        lengths = np.sum(times_copy, axis = 1)\n",
    "        toRemove = np.argmin(lengths)\n",
    "        \n",
    "        times = np.delete(times, toRemove, 0)\n",
    "        \n",
    "    #if the times array started off less than the current array, just return an empty array (the benchmark will ignore it)\n",
    "    if times.shape[0] < desiredSplits:\n",
    "        times = np.array([])\n",
    "\n",
    "    return times"
   ]
  },
  {
   "cell_type": "code",
   "execution_count": 156,
   "metadata": {},
   "outputs": [
    {
     "data": {
      "text/plain": [
       "5292.0"
      ]
     },
     "execution_count": 156,
     "metadata": {},
     "output_type": "execute_result"
    }
   ],
   "source": [
    "np.round(0.24 / (1 / 22050))"
   ]
  },
  {
   "cell_type": "code",
   "execution_count": 249,
   "metadata": {
    "collapsed": true
   },
   "outputs": [],
   "source": [
    "def getCleanedDigitsTimesMerged(queryName, minSplitTime = 0.24, hop_length = 128, top_db = 25, sr = 22050):\n",
    "    \"\"\"\n",
    "    \"\"\"\n",
    "    \n",
    "    minSplitLength = np.round(minSplitTime / (1 / sr))\n",
    "    \n",
    "    #begin by getting the splits as well as how many splits there should be\n",
    "    times = getDigitTimes(queryName, hop_length = hop_length, top_db = top_db)\n",
    "    \n",
    "    mergedTimes = [];\n",
    "    timesList = list(times)\n",
    "    \n",
    "    while len(timesList) != 0:\n",
    "        \n",
    "        if(len(timesList) >= 2):\n",
    "            firstSplit = timesList[0]\n",
    "            secondSplit = timesList[1]\n",
    "            if (secondSplit[0] - firstSplit[1] < minSplitLength):\n",
    "                mergedTimes.append([firstSplit[0], secondSplit[1]])\n",
    "                timesList.pop(1)\n",
    "                timesList.pop(0)\n",
    "            else:\n",
    "                mergedTimes.append(timesList[0]);\n",
    "                timesList.pop(0)\n",
    "        else:\n",
    "            mergedTimes.append(timesList[0]);\n",
    "            timesList.pop(0)\n",
    "            \n",
    "    mergedTimes = [time for time in mergedTimes if (time[1] - time[0]) > 1000]\n",
    "    \n",
    "    return np.array(mergedTimes)"
   ]
  },
  {
   "cell_type": "code",
   "execution_count": 242,
   "metadata": {},
   "outputs": [],
   "source": [
    "a = list([np.array([1, 2]), np.array([3, 6]), np.array([7, 10]), np.array([11, 20]), np.array([21, 22])])"
   ]
  },
  {
   "cell_type": "code",
   "execution_count": 248,
   "metadata": {},
   "outputs": [
    {
     "data": {
      "text/plain": [
       "[array([3, 6]), array([ 7, 10]), array([11, 20])]"
      ]
     },
     "execution_count": 248,
     "metadata": {},
     "output_type": "execute_result"
    }
   ],
   "source": [
    "a = [i for i in a if (i[1] - i[0]) > 1]\n",
    "a"
   ]
  },
  {
   "cell_type": "code",
   "execution_count": 127,
   "metadata": {
    "collapsed": true
   },
   "outputs": [],
   "source": [
    "def getPrediction(audioQuery, db, sr = 22050, nfft = 2048, hop = 128, metric = 'euclidean'):\n",
    "    \"\"\"\n",
    "    \"\"\"\n",
    "    \n",
    "    matchScores = getMatchScores(audioQuery, db, sr = sr, nfft = nfft, hop = hop, metric = metric)\n",
    "    refList = list(db.keys())\n",
    "    \n",
    "    predInd = np.argmin(matchScores)\n",
    "    prediction = int(refList[predInd])\n",
    "    \n",
    "    return prediction"
   ]
  },
  {
   "cell_type": "code",
   "execution_count": 255,
   "metadata": {
    "collapsed": true
   },
   "outputs": [],
   "source": [
    "def getPredictions(queryPath, db, sr = 22050, nfft = 2048, hop = 128, top_db = 25, metric = 'euclidean'):\n",
    "    \"\"\"\n",
    "    \"\"\"\n",
    "    predictions = []\n",
    "    #times = getCleanedDigitsTimes(queryPath, hop_length = hop, top_db = top_db)\n",
    "    times = getCleanedDigitsTimesMerged(queryPath, hop_length = hop, top_db = top_db)\n",
    "    \n",
    "    if times.size == 0:\n",
    "        return []\n",
    "    \n",
    "    audio, _ = lb.core.load(queryPath, sr)\n",
    "    \n",
    "    for i in range(times.shape[0]):\n",
    "        startTime = times[i, 0]\n",
    "        endTime = times[i, 1]\n",
    "        audioClip = audio[startTime:endTime]\n",
    "        currPred = getPrediction(audioClip, db, sr = sr, nfft = nfft, hop = hop, metric = metric)\n",
    "        \n",
    "        predictions.append(currPred)\n",
    "        \n",
    "    #return predictions\n",
    "    return predictions, times"
   ]
  },
  {
   "cell_type": "code",
   "execution_count": 256,
   "metadata": {},
   "outputs": [
    {
     "name": "stdout",
     "output_type": "stream",
     "text": [
      "[3, 3, 8, 6, 1]\n"
     ]
    }
   ],
   "source": [
    "print(getPredictions('denoisedQueries/32834.mp3', db))"
   ]
  },
  {
   "cell_type": "code",
   "execution_count": 251,
   "metadata": {},
   "outputs": [
    {
     "data": {
      "text/plain": [
       "([8, 1, 6], array([[12160, 17408],\n",
       "        [43392, 52352],\n",
       "        [74496, 84608]]))"
      ]
     },
     "execution_count": 251,
     "metadata": {},
     "output_type": "execute_result"
    }
   ],
   "source": [
    "\n",
    "#9, 6, 7, 3, 5\n",
    "#[8, 1, 7]\n",
    "pred, times = getPredictions('denoisedQueries/817.mp3', db)\n",
    "testing6 = getDigitTimes('denoisedQueries/817.mp3', hop_length = 128, top_db = 25)\n",
    "pred, times"
   ]
  },
  {
   "cell_type": "code",
   "execution_count": 252,
   "metadata": {},
   "outputs": [
    {
     "data": {
      "text/plain": [
       "array([[12160, 17408],\n",
       "       [43392, 52096],\n",
       "       [52224, 52352],\n",
       "       [52480, 53120],\n",
       "       [74496, 84608]])"
      ]
     },
     "execution_count": 252,
     "metadata": {},
     "output_type": "execute_result"
    }
   ],
   "source": [
    "getDigitTimes('denoisedQueries/817.mp3', hop_length = 128, top_db = 25)"
   ]
  },
  {
   "cell_type": "code",
   "execution_count": 253,
   "metadata": {},
   "outputs": [
    {
     "data": {
      "text/html": [
       "\n",
       "                <audio controls=\"controls\" >\n",
       "                    <source src=\"data:audio/wav;base64,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\" type=\"audio/wav\" />\n",
       "                    Your browser does not support the audio element.\n",
       "                </audio>\n",
       "              "
      ],
      "text/plain": [
       "<IPython.lib.display.Audio object>"
      ]
     },
     "metadata": {},
     "output_type": "display_data"
    },
    {
     "data": {
      "text/html": [
       "\n",
       "                <audio controls=\"controls\" >\n",
       "                    <source src=\"data:audio/wav;base64,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\" type=\"audio/wav\" />\n",
       "                    Your browser does not support the audio element.\n",
       "                </audio>\n",
       "              "
      ],
      "text/plain": [
       "<IPython.lib.display.Audio object>"
      ]
     },
     "metadata": {},
     "output_type": "display_data"
    },
    {
     "data": {
      "text/html": [
       "\n",
       "                <audio controls=\"controls\" >\n",
       "                    <source src=\"data:audio/wav;base64,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\" type=\"audio/wav\" />\n",
       "                    Your browser does not support the audio element.\n",
       "                </audio>\n",
       "              "
      ],
      "text/plain": [
       "<IPython.lib.display.Audio object>"
      ]
     },
     "metadata": {},
     "output_type": "display_data"
    }
   ],
   "source": [
    "playDigits('denoisedQueries/817.mp3', times)"
   ]
  },
  {
   "cell_type": "code",
   "execution_count": 207,
   "metadata": {
    "collapsed": true
   },
   "outputs": [],
   "source": [
    "def runBenchmark(indir, db, Mac = False, sr = 22050, nfft = 2048, hop = 128, top_db = 25, metric = 'euclidean'):\n",
    "    \"\"\"\n",
    "    Runs a benchmark for our system \n",
    "    \n",
    "    Inputs:\n",
    "    indir - the directory where the mp3 queries are located\n",
    "    \n",
    "    Output:\n",
    "    confusionMatrix - a 10x10 confusion matrix, where the row indicates the digit guess, and the \n",
    "                      column indicates the ground truth\n",
    "    calcsDone - an integer indicating how many queries were processed\n",
    "    timeElapsed - a float indicating how long it took the benchmark to run\n",
    "    \"\"\"\n",
    "    \n",
    "    startTime = time.time()\n",
    "    \n",
    "    confusionMatrix = np.zeros((10,10))\n",
    "    \n",
    "    #we begin by retrieving all the paths to our queries\n",
    "    mp3s = retrieveMP3s(indir, Mac = Mac)\n",
    "    \n",
    "    calcsDone = len(mp3s)\n",
    "    for i in range(len(mp3s)):\n",
    "        \n",
    "        currPath = mp3s[i]\n",
    "        predictions, times = getPredictions(currPath, db, sr = sr, nfft = nfft, hop = hop, top_db = top_db, metric = metric)\n",
    "        \n",
    "        if len(predictions) == 0:\n",
    "            calcsDone -= 1\n",
    "            pass\n",
    "        \n",
    "        answers = retrieveAnswer(currPath)\n",
    "        \n",
    "        #assert(len(answers) == len(predictions))\n",
    "        if (len(answers) != len(predictions)):\n",
    "            print(answers)\n",
    "            print(predictions)\n",
    "        else:\n",
    "            for j in range(len(answers)):\n",
    "                confusionMatrix[predictions[j], answers[j]] += 1\n",
    "            \n",
    "    endTime = time.time()\n",
    "    timeElapsed = endTime - startTime\n",
    "                    \n",
    "    return confusionMatrix, calcsDone, timeElapsed"
   ]
  },
  {
   "cell_type": "code",
   "execution_count": 257,
   "metadata": {},
   "outputs": [],
   "source": [
    "#done w/ euclidean similarity metric\n",
    "confusionMatrix, calcsDone, timeElapsed = runBenchmark('denoisedQueries', db, Mac=True) "
   ]
  },
  {
   "cell_type": "code",
   "execution_count": 258,
   "metadata": {},
   "outputs": [
    {
     "name": "stdout",
     "output_type": "stream",
     "text": [
      "[[ 45.   0.   0.   3.   1.   0.   1.   3.   0.   0.]\n",
      " [  0.  61.   0.   0.  14.   5.   0.   0.   0.   2.]\n",
      " [  1.   0.  45.   0.   0.   0.   0.   0.   0.   0.]\n",
      " [  0.   0.  28.  47.   0.   0.   0.   0.   3.   0.]\n",
      " [  0.   3.   0.   0.  47.   0.   0.   0.   0.   0.]\n",
      " [  0.   0.   1.   4.   0.  58.   0.   0.   0.   0.]\n",
      " [  0.   0.   0.   6.   0.   0.  44.  24.  10.   0.]\n",
      " [  0.   5.   0.   3.   0.   0.   0.  32.   0.  13.]\n",
      " [  0.   0.   0.   1.   0.   0.   0.   0.  41.   0.]\n",
      " [  0.   0.   0.   0.   0.   1.   0.   1.   0.  32.]]\n",
      "\n",
      "100\n",
      "\n",
      "93.64180612564087\n"
     ]
    }
   ],
   "source": [
    "print(confusionMatrix)\n",
    "print()\n",
    "print(calcsDone)\n",
    "print()\n",
    "print(timeElapsed)"
   ]
  },
  {
   "cell_type": "code",
   "execution_count": 260,
   "metadata": {},
   "outputs": [
    {
     "data": {
      "text/plain": [
       "6.2472097047668553"
      ]
     },
     "execution_count": 260,
     "metadata": {},
     "output_type": "execute_result"
    }
   ],
   "source": [
    "np.sum(confusionMatrix)/timeElapsed"
   ]
  },
  {
   "cell_type": "code",
   "execution_count": 271,
   "metadata": {},
   "outputs": [],
   "source": [
    "#done w/ cosine similarity metric\n",
    "confusionMatrix_c, calcsDone_c, timeElapsed_c = runBenchmark('denoisedQueries', db, metric = 'cosine', Mac=True) "
   ]
  },
  {
   "cell_type": "code",
   "execution_count": 274,
   "metadata": {},
   "outputs": [
    {
     "name": "stdout",
     "output_type": "stream",
     "text": [
      "[[ 45.   0.   0.   2.   0.   0.   2.   0.   1.   0.]\n",
      " [  0.  41.   2.   0.  22.   2.   0.   0.   0.   2.]\n",
      " [  1.   2.  69.   0.   0.   0.   0.   0.   0.   0.]\n",
      " [  0.   0.   3.  49.   0.   0.   0.   0.  11.   0.]\n",
      " [  0.  13.   0.   1.  40.   0.   0.   0.   0.   0.]\n",
      " [  0.   0.   0.   3.   0.  60.   0.   0.   0.   0.]\n",
      " [  0.   0.   0.   1.   0.   0.  43.   9.   8.   0.]\n",
      " [  0.  13.   0.   1.   0.   1.   0.  51.   0.  20.]\n",
      " [  0.   0.   0.   2.   0.   0.   0.   0.  34.   0.]\n",
      " [  0.   0.   0.   5.   0.   1.   0.   0.   0.  25.]]\n",
      "\n",
      "100\n",
      "\n",
      "99.83826994895935\n"
     ]
    }
   ],
   "source": [
    "print(confusionMatrix_c)\n",
    "print()\n",
    "print(calcsDone_c)\n",
    "print()\n",
    "print(timeElapsed_c)"
   ]
  },
  {
   "cell_type": "markdown",
   "metadata": {},
   "source": [
    "## Metric Calculations"
   ]
  },
  {
   "cell_type": "markdown",
   "metadata": {},
   "source": [
    "We write a few simple functions to calculate confusion matrix metrics, starting with basic precision and recall\n",
    "\n",
    "- Precision: For one classification, the proportion of predictions that were correctly classified\n",
    "- Recall: For one classification, the proportion of the total ground truth population that were correctly predicted\n",
    "\n",
    "Sources: \n",
    "\n",
    "https://towardsdatascience.com/multi-class-metrics-made-simple-part-i-precision-and-recall-9250280bddc2\n",
    "\n",
    "https://towardsdatascience.com/multi-class-metrics-made-simple-part-ii-the-f1-score-ebe8b2c2ca1"
   ]
  },
  {
   "cell_type": "code",
   "execution_count": 263,
   "metadata": {
    "collapsed": true
   },
   "outputs": [],
   "source": [
    "def precision(confusionMatrix, predRow):\n",
    "    \"\"\"\n",
    "    \"\"\"\n",
    "    \n",
    "    \n",
    "    truePositives = confusionMatrix[predRow, predRow]\n",
    "    totalPredictions = np.sum(confusionMatrix[predRow])\n",
    "    precision = truePositives/totalPredictions\n",
    "    \n",
    "    if np.isnan(precision):\n",
    "        return 0\n",
    "    \n",
    "    return precision"
   ]
  },
  {
   "cell_type": "code",
   "execution_count": 264,
   "metadata": {},
   "outputs": [
    {
     "name": "stdout",
     "output_type": "stream",
     "text": [
      "0.9\n",
      "0.806451612903\n"
     ]
    }
   ],
   "source": [
    "#hand calc says we had 34.65% precision for digit zero from the cosine metric, 76.92% precision for digit 9\n",
    "zero_prec = precision(confusionMatrix_c, 0)\n",
    "nine_prec = precision(confusionMatrix_c, 9)\n",
    "print(zero_prec)\n",
    "print(nine_prec)"
   ]
  },
  {
   "cell_type": "code",
   "execution_count": 265,
   "metadata": {
    "collapsed": true
   },
   "outputs": [],
   "source": [
    "def recall(confusionMatrix, predRow):\n",
    "    \"\"\"\n",
    "    \"\"\"\n",
    "    \n",
    "    truePositives = confusionMatrix[predRow, predRow]\n",
    "    totalPositives = np.sum(confusionMatrix[:, predRow])\n",
    "    recall = truePositives/totalPositives\n",
    "    \n",
    "    if np.isnan(recall):\n",
    "        return 0\n",
    "    \n",
    "    return recall"
   ]
  },
  {
   "cell_type": "code",
   "execution_count": 266,
   "metadata": {},
   "outputs": [
    {
     "name": "stdout",
     "output_type": "stream",
     "text": [
      "0.758064516129\n",
      "0.884057971014\n"
     ]
    }
   ],
   "source": [
    "#hand calc says we had 91.94% recall on digit 4 for the euclidean metric, 33.33% recall on digit 1 for euclidean metric\n",
    "four_recall = recall(confusionMatrix, 4)\n",
    "one_recall = recall(confusionMatrix, 1)\n",
    "print(four_recall)\n",
    "print(one_recall)"
   ]
  },
  {
   "cell_type": "code",
   "execution_count": 217,
   "metadata": {
    "collapsed": true
   },
   "outputs": [],
   "source": [
    "def totalAccuracy(confusionMatrix):\n",
    "    \"\"\"\n",
    "    \"\"\"\n",
    "    totalCorrect = np.trace(confusionMatrix)\n",
    "    totalDigits = np.sum(confusionMatrix)\n",
    "    \n",
    "    totalAccuracy = totalCorrect/totalDigits\n",
    "    \n",
    "    return totalAccuracy"
   ]
  },
  {
   "cell_type": "code",
   "execution_count": 267,
   "metadata": {},
   "outputs": [
    {
     "name": "stdout",
     "output_type": "stream",
     "text": [
      "0.77264957265\n",
      "0.781196581197\n"
     ]
    }
   ],
   "source": [
    "euclideanAccuracy = totalAccuracy(confusionMatrix)\n",
    "cosineAccuracy = totalAccuracy(confusionMatrix_c)\n",
    "print(euclideanAccuracy)\n",
    "print(cosineAccuracy)"
   ]
  },
  {
   "cell_type": "markdown",
   "metadata": {},
   "source": [
    "Now we calculate the F1-Score, a combined metric that uses the \"harmonic mean\" to aggregate the precision and recall scores of one of the classifiers"
   ]
  },
  {
   "cell_type": "code",
   "execution_count": 81,
   "metadata": {
    "collapsed": true
   },
   "outputs": [],
   "source": [
    "def F1Score(confusionMatrix, predRow):\n",
    "    \"\"\"\n",
    "    \"\"\"\n",
    "    \n",
    "    prec = precision(confusionMatrix, predRow)\n",
    "    rec = recall(confusionMatrix, predRow)\n",
    "    \n",
    "    f1 = (2*prec*rec) / (prec + rec)\n",
    "    \n",
    "    if np.isnan(f1):\n",
    "        return 0\n",
    "    \n",
    "    return f1"
   ]
  },
  {
   "cell_type": "code",
   "execution_count": 82,
   "metadata": {},
   "outputs": [
    {
     "name": "stdout",
     "output_type": "stream",
     "text": [
      "0.807947019868\n"
     ]
    }
   ],
   "source": [
    "#via handcalc, we see that the f1-score for 5 with the euclidean metric is 78.05%\n",
    "#f1_five = F1Score(confusionMatrix, 5)\n",
    "f1_one = F1Score(confusionMatrix, 1)\n",
    "print(f1_one)"
   ]
  },
  {
   "cell_type": "markdown",
   "metadata": {},
   "source": [
    "Now we write a function that calculate the Macro F1 score, which is an equally weighted average of all classifier F1-scores"
   ]
  },
  {
   "cell_type": "code",
   "execution_count": 83,
   "metadata": {
    "collapsed": true
   },
   "outputs": [],
   "source": [
    "def macroF1(confusionMatrix):\n",
    "    \"\"\"\n",
    "    \"\"\"\n",
    "    numClassifiers = confusionMatrix.shape[0]\n",
    "    f1scores = []\n",
    "    \n",
    "    for i in range(numClassifiers):\n",
    "        f1 = F1Score(confusionMatrix, i)\n",
    "        f1scores.append(f1)\n",
    "        \n",
    "        \n",
    "    macroF1 = np.mean(f1scores)\n",
    "    \n",
    "    return macroF1"
   ]
  },
  {
   "cell_type": "code",
   "execution_count": 84,
   "metadata": {},
   "outputs": [
    {
     "data": {
      "text/plain": [
       "0.75210610486910845"
      ]
     },
     "execution_count": 84,
     "metadata": {},
     "output_type": "execute_result"
    }
   ],
   "source": [
    "#estimated 46.48%\n",
    "macroF1(confusionMatrix)"
   ]
  },
  {
   "cell_type": "code",
   "execution_count": 85,
   "metadata": {},
   "outputs": [
    {
     "data": {
      "text/plain": [
       "0.71228239375634472"
      ]
     },
     "execution_count": 85,
     "metadata": {},
     "output_type": "execute_result"
    }
   ],
   "source": [
    "macroF1(confusionMatrix_c)"
   ]
  },
  {
   "cell_type": "markdown",
   "metadata": {},
   "source": [
    "Now I use all these functions to bring all the metrics together"
   ]
  },
  {
   "cell_type": "code",
   "execution_count": 86,
   "metadata": {
    "collapsed": true
   },
   "outputs": [],
   "source": [
    "def fullReport(confusionMatrix, label):\n",
    "    \"\"\"\n",
    "    \"\"\"\n",
    "    print(\"Full Metric output for benchmark: \", label)\n",
    "    \n",
    "    print()\n",
    "    \n",
    "    print(\"Digit  \\t\\tPrecision  \\tRecall  \\tF1-Score\" )\n",
    "    \n",
    "    for digit in range(confusionMatrix.shape[0]):\n",
    "        \n",
    "        prec = precision(confusionMatrix, digit )\n",
    "        rec = recall(confusionMatrix, digit )\n",
    "        f1 = F1Score(confusionMatrix, digit )\n",
    "     \n",
    "        print(digit, \"\\t\\t\", f'{prec:.4f}', \"\\t\", f'{rec:.4f}',\"\\t\", f'{f1:.4f}' )\n",
    "        \n",
    "    print()\n",
    "    \n",
    "    macro = macroF1(confusionMatrix)\n",
    "    acc = totalAccuracy(confusionMatrix)\n",
    "    print(\"Macro F1 Score: \", f'{macro:.4f}')\n",
    "    print(\"Full Digit Accuracy: \", f'{acc:.4f}')"
   ]
  },
  {
   "cell_type": "code",
   "execution_count": 275,
   "metadata": {},
   "outputs": [
    {
     "name": "stdout",
     "output_type": "stream",
     "text": [
      "Full Metric output for benchmark:  Full Test, Euclidean Metric\n",
      "\n",
      "Digit  \t\tPrecision  \tRecall  \tF1-Score\n",
      "0 \t\t 0.8491 \t 0.9783 \t 0.9091\n",
      "1 \t\t 0.7439 \t 0.8841 \t 0.8079\n",
      "2 \t\t 0.9783 \t 0.6081 \t 0.7500\n",
      "3 \t\t 0.6026 \t 0.7344 \t 0.6620\n",
      "4 \t\t 0.9400 \t 0.7581 \t 0.8393\n",
      "5 \t\t 0.9206 \t 0.9062 \t 0.9134\n",
      "6 \t\t 0.5238 \t 0.9778 \t 0.6822\n",
      "7 \t\t 0.6038 \t 0.5333 \t 0.5664\n",
      "8 \t\t 0.9762 \t 0.7593 \t 0.8542\n",
      "9 \t\t 0.9412 \t 0.6809 \t 0.7901\n",
      "\n",
      "Macro F1 Score:  0.7775\n",
      "Full Digit Accuracy:  0.7726\n"
     ]
    }
   ],
   "source": [
    "fullReport(confusionMatrix, \"Full Test, Euclidean Metric\")"
   ]
  },
  {
   "cell_type": "code",
   "execution_count": 276,
   "metadata": {},
   "outputs": [
    {
     "name": "stdout",
     "output_type": "stream",
     "text": [
      "Full Metric output for benchmark:  Full Test, Cosine Metric\n",
      "\n",
      "Digit  \t\tPrecision  \tRecall  \tF1-Score\n",
      "0 \t\t 0.9000 \t 0.9783 \t 0.9375\n",
      "1 \t\t 0.5942 \t 0.5942 \t 0.5942\n",
      "2 \t\t 0.9583 \t 0.9324 \t 0.9452\n",
      "3 \t\t 0.7778 \t 0.7656 \t 0.7717\n",
      "4 \t\t 0.7407 \t 0.6452 \t 0.6897\n",
      "5 \t\t 0.9524 \t 0.9375 \t 0.9449\n",
      "6 \t\t 0.7049 \t 0.9556 \t 0.8113\n",
      "7 \t\t 0.5930 \t 0.8500 \t 0.6986\n",
      "8 \t\t 0.9444 \t 0.6296 \t 0.7556\n",
      "9 \t\t 0.8065 \t 0.5319 \t 0.6410\n",
      "\n",
      "Macro F1 Score:  0.7790\n",
      "Full Digit Accuracy:  0.7812\n"
     ]
    }
   ],
   "source": [
    "fullReport(confusionMatrix_c, \"Full Test, Cosine Metric\")"
   ]
  },
  {
   "cell_type": "code",
   "execution_count": null,
   "metadata": {
    "collapsed": true,
    "scrolled": false
   },
   "outputs": [],
   "source": [
    "playDigits('denoisedQueries/32834.mp3', digitTimes)"
   ]
  },
  {
   "cell_type": "code",
   "execution_count": null,
   "metadata": {
    "collapsed": true
   },
   "outputs": [],
   "source": []
  },
  {
   "cell_type": "code",
   "execution_count": null,
   "metadata": {
    "collapsed": true
   },
   "outputs": [],
   "source": []
  },
  {
   "cell_type": "code",
   "execution_count": null,
   "metadata": {
    "collapsed": true
   },
   "outputs": [],
   "source": [
    "queries = retrieveMP3s(\"Queries\")\n",
    "references = retrieveMP3s(\"References\")"
   ]
  },
  {
   "cell_type": "code",
   "execution_count": null,
   "metadata": {
    "collapsed": true
   },
   "outputs": [],
   "source": [
    "mfcc_test = mfcc(S, num_coeffs = 20)"
   ]
  },
  {
   "cell_type": "code",
   "execution_count": null,
   "metadata": {
    "collapsed": true
   },
   "outputs": [],
   "source": [
    "plt.imshow(mfcc_test, cmap = \"jet\", origin = \"lower\")\n",
    "plt.axis(\"tight\")"
   ]
  },
  {
   "cell_type": "code",
   "execution_count": null,
   "metadata": {
    "collapsed": true
   },
   "outputs": [],
   "source": [
    "S_first = lb.core.stft(audio[17408:27776], n_fft = 2048, hop_length = 128)"
   ]
  },
  {
   "cell_type": "code",
   "execution_count": null,
   "metadata": {
    "collapsed": true
   },
   "outputs": [],
   "source": [
    "mfcc_first = mfcc(S_first, num_coeffs = 20)"
   ]
  },
  {
   "cell_type": "code",
   "execution_count": null,
   "metadata": {
    "collapsed": true
   },
   "outputs": [],
   "source": [
    "plt.imshow(mfcc_first, cmap = \"jet\", origin = \"lower\")\n",
    "plt.axis(\"tight\")"
   ]
  },
  {
   "cell_type": "code",
   "execution_count": null,
   "metadata": {
    "collapsed": true
   },
   "outputs": [],
   "source": [
    "reference_three, sr = lb.core.load('References/Reference_3.mp3', sr = 22050)"
   ]
  },
  {
   "cell_type": "code",
   "execution_count": null,
   "metadata": {
    "collapsed": true
   },
   "outputs": [],
   "source": [
    "ipd.Audio(reference_three, rate = 22050)"
   ]
  },
  {
   "cell_type": "code",
   "execution_count": null,
   "metadata": {
    "collapsed": true
   },
   "outputs": [],
   "source": [
    "S_reference = lb.core.stft(reference_three, n_fft = 2048, hop_length = 128)"
   ]
  },
  {
   "cell_type": "code",
   "execution_count": null,
   "metadata": {
    "collapsed": true
   },
   "outputs": [],
   "source": [
    "mfcc_ref = mfcc(S_reference, num_coeffs = 20)"
   ]
  },
  {
   "cell_type": "code",
   "execution_count": null,
   "metadata": {
    "collapsed": true
   },
   "outputs": [],
   "source": [
    "plt.imshow(mfcc_ref, cmap = \"jet\", origin = \"lower\")\n",
    "plt.axis(\"tight\")"
   ]
  },
  {
   "cell_type": "code",
   "execution_count": null,
   "metadata": {
    "collapsed": true
   },
   "outputs": [],
   "source": [
    "D, wp = lb.sequence.dtw(mfcc_ref, mfcc_first)"
   ]
  },
  {
   "cell_type": "code",
   "execution_count": null,
   "metadata": {
    "collapsed": true
   },
   "outputs": [],
   "source": [
    "import librosa.display\n",
    "lb.display.specshow(D, x_axis='frames', y_axis='frames')\n",
    "plt.plot(wp[:, 1], wp[:, 0], label='Optimal path', color='y')"
   ]
  },
  {
   "cell_type": "code",
   "execution_count": null,
   "metadata": {
    "collapsed": true
   },
   "outputs": [],
   "source": [
    "plt.plot(D[-1, :] / wp.shape[0])"
   ]
  },
  {
   "cell_type": "code",
   "execution_count": null,
   "metadata": {
    "collapsed": true
   },
   "outputs": [],
   "source": [
    "np.min(D[-1,:])"
   ]
  },
  {
   "cell_type": "code",
   "execution_count": null,
   "metadata": {
    "collapsed": true
   },
   "outputs": [],
   "source": [
    "reference_four, sr = lb.core.load('References/Reference_4.mp3', sr = 22050)"
   ]
  },
  {
   "cell_type": "code",
   "execution_count": null,
   "metadata": {
    "collapsed": true
   },
   "outputs": [],
   "source": [
    "S_ref4 = lb.core.stft(reference_four, n_fft = 2048, hop_length = 128)"
   ]
  },
  {
   "cell_type": "code",
   "execution_count": null,
   "metadata": {
    "collapsed": true
   },
   "outputs": [],
   "source": [
    "mfcc_ref4 = mfcc(S_ref4, num_coeffs = 20)"
   ]
  },
  {
   "cell_type": "code",
   "execution_count": null,
   "metadata": {
    "collapsed": true
   },
   "outputs": [],
   "source": [
    "D4, wp4 = lb.sequence.dtw(mfcc_ref4, mfcc_first)"
   ]
  },
  {
   "cell_type": "code",
   "execution_count": null,
   "metadata": {
    "collapsed": true
   },
   "outputs": [],
   "source": [
    "np.min(D4[-1,:])"
   ]
  },
  {
   "cell_type": "code",
   "execution_count": null,
   "metadata": {
    "collapsed": true
   },
   "outputs": [],
   "source": [
    "print(references)"
   ]
  },
  {
   "cell_type": "code",
   "execution_count": null,
   "metadata": {
    "collapsed": true
   },
   "outputs": [],
   "source": [
    "for i in range(len(references)):\n",
    "    print(references[i])\n",
    "    reference_num, sr = lb.core.load(references[i], sr = 22050)\n",
    "    S_refNum = lb.core.stft(reference_num, n_fft = 2048, hop_length = 128)\n",
    "    mfcc_refNum = mfcc(S_refNum, num_coeffs = 20)\n",
    "    D_num, wp_num = lb.sequence.dtw(mfcc_refNum, mfcc_first)\n",
    "    print(np.min(D_num[-1:]))"
   ]
  },
  {
   "cell_type": "code",
   "execution_count": null,
   "metadata": {
    "collapsed": true
   },
   "outputs": [],
   "source": [
    "def getMatchScores(mfccQuery, references):\n",
    "    storage = []\n",
    "    for i in range(len(references)):\n",
    "        #print(references[i])\n",
    "        reference_num, sr = lb.core.load(references[i], sr = 22050)\n",
    "        S_refNum = lb.core.stft(reference_num, n_fft = 2048, hop_length = 128)\n",
    "        mfcc_refNum = mfcc(S_refNum, num_coeffs = 20)\n",
    "        D_num, wp_num = lb.sequence.dtw(mfcc_refNum, mfccQuery)\n",
    "        storage.append(np.min(D_num[-1:]))\n",
    "        #print(np.min(D_num[-1:]))\n",
    "    minPos = np.argmin(storage)\n",
    "    print(references[minPos])\n",
    "    #return storage"
   ]
  },
  {
   "cell_type": "code",
   "execution_count": null,
   "metadata": {
    "collapsed": true
   },
   "outputs": [],
   "source": [
    "#S_first = lb.core.stft(audio[17408:27776], n_fft = 2048, hop_length = 128, n_fft = 2048, hop_length = 128)\n",
    "#answer = retrieveAnswer('Queries/32824.mp3')\n",
    "def analyzeQuery(audio, times, references, originalAudio):\n",
    "    answer = retrieveAnswer(originalAudio)\n",
    "    \n",
    "    for i in range(len(times)):\n",
    "        t = times[i]\n",
    "        print(answer[i])\n",
    "        #print(t[0])\n",
    "        #print(t[])\n",
    "        S_query = lb.core.stft(audio[t[0]:t[1]], n_fft = 2048, hop_length = 128)\n",
    "        mfcc_query = mfcc(S_query, num_coeffs = 20)\n",
    "        getMatchScores(mfcc_query, references)\n"
   ]
  },
  {
   "cell_type": "code",
   "execution_count": null,
   "metadata": {
    "collapsed": true
   },
   "outputs": [],
   "source": [
    "answer"
   ]
  },
  {
   "cell_type": "code",
   "execution_count": null,
   "metadata": {
    "collapsed": true
   },
   "outputs": [],
   "source": [
    "analyzeQuery(audio, digitTimes, references, 'denoisedQueries/32834.mp3')"
   ]
  },
  {
   "cell_type": "code",
   "execution_count": 97,
   "metadata": {},
   "outputs": [],
   "source": [
    "audio2, sr = lb.core.load('denoisedQueries/73914130.mp3', sr = 22050)"
   ]
  },
  {
   "cell_type": "code",
   "execution_count": 101,
   "metadata": {},
   "outputs": [
    {
     "data": {
      "text/plain": [
       "array([[  7936,  18048],\n",
       "       [ 49024,  58112],\n",
       "       [ 84480,  94720],\n",
       "       [119040, 127488],\n",
       "       [153472, 164480],\n",
       "       [186240, 195200],\n",
       "       [220160, 228608],\n",
       "       [251776, 264320]])"
      ]
     },
     "execution_count": 101,
     "metadata": {},
     "output_type": "execute_result"
    }
   ],
   "source": [
    "digitTimes2 = getDigitTimes('denoisedQueries/73914130.mp3')\n",
    "digitTimes2"
   ]
  },
  {
   "cell_type": "code",
   "execution_count": null,
   "metadata": {
    "collapsed": true
   },
   "outputs": [],
   "source": [
    "playDigits('denoisedQueries/73914130_denoised.mp3', digitTimes2)"
   ]
  },
  {
   "cell_type": "code",
   "execution_count": null,
   "metadata": {
    "collapsed": true
   },
   "outputs": [],
   "source": [
    "analyzeQuery(audio2, digitTimes2, references, 'Queries/73914130.mp3')"
   ]
  },
  {
   "cell_type": "code",
   "execution_count": null,
   "metadata": {
    "collapsed": true
   },
   "outputs": [],
   "source": [
    "audio3, sr = lb.core.load('denoisedQueries/77777_denoised.mp3', sr = 22050)"
   ]
  },
  {
   "cell_type": "code",
   "execution_count": null,
   "metadata": {
    "collapsed": true
   },
   "outputs": [],
   "source": [
    "digitTimes3 = getDigitTimes('denoisedQueries/77777_denoised.mp3')\n"
   ]
  },
  {
   "cell_type": "code",
   "execution_count": null,
   "metadata": {
    "collapsed": true
   },
   "outputs": [],
   "source": [
    "playDigits('denoisedQueries/77777_denoised.mp3', digitTimes3)"
   ]
  },
  {
   "cell_type": "code",
   "execution_count": null,
   "metadata": {
    "collapsed": true
   },
   "outputs": [],
   "source": [
    "analyzeQuery(audio3, digitTimes3, references, 'Queries/77777.mp3')"
   ]
  },
  {
   "cell_type": "code",
   "execution_count": null,
   "metadata": {
    "collapsed": true
   },
   "outputs": [],
   "source": [
    "audio4, sr = lb.core.load('denoisedQueries/9963437165_denoised.mp3', sr = 22050)\n",
    "digitTimes4 = getDigitTimes('denoisedQueries/9963437165_denoised.mp3')\n",
    "playDigits('denoisedQueries/9963437165_denoised.mp3', digitTimes4)\n",
    "# This has a problem since six was split in half rip"
   ]
  },
  {
   "cell_type": "code",
   "execution_count": null,
   "metadata": {
    "collapsed": true
   },
   "outputs": [],
   "source": [
    "audio5, sr = lb.core.load('denoisedQueries/4084782589_denoised.mp3', sr = 22050)\n",
    "digitTimes5 = getDigitTimes('denoisedQueries/4084782589_denoised.mp3')\n",
    "playDigits('denoisedQueries/4084782589_denoised.mp3', digitTimes5)\n"
   ]
  },
  {
   "cell_type": "code",
   "execution_count": null,
   "metadata": {
    "collapsed": true
   },
   "outputs": [],
   "source": [
    "analyzeQuery(audio5, digitTimes5, references, 'Queries/4084782589.mp3')"
   ]
  },
  {
   "cell_type": "code",
   "execution_count": null,
   "metadata": {
    "collapsed": true
   },
   "outputs": [],
   "source": [
    "audio6, sr = lb.core.load('denoisedQueries/123454321_denoised.mp3', sr = 22050)\n",
    "digitTimes6 = getDigitTimes('denoisedQueries/123454321_denoised.mp3')\n",
    "playDigits('denoisedQueries/123454321_denoised.mp3', digitTimes6)"
   ]
  },
  {
   "cell_type": "code",
   "execution_count": null,
   "metadata": {
    "collapsed": true
   },
   "outputs": [],
   "source": [
    "analyzeQuery(audio6, digitTimes6, references, 'Queries/123454321.mp3')"
   ]
  },
  {
   "cell_type": "code",
   "execution_count": null,
   "metadata": {
    "collapsed": true
   },
   "outputs": [],
   "source": [
    "audio7, sr = lb.core.load('denoisedQueries/0123456789_denoised.mp3', sr = 22050)\n",
    "digitTimes7 = getDigitTimes('denoisedQueries/0123456789_denoised.mp3')\n",
    "digitTimes7 = np.delete(digitTimes7, 7, axis=0) # manually removed six that was split in half\n",
    "playDigits('denoisedQueries/0123456789_denoised.mp3', digitTimes7)"
   ]
  },
  {
   "cell_type": "code",
   "execution_count": null,
   "metadata": {
    "collapsed": true
   },
   "outputs": [],
   "source": [
    "analyzeQuery(audio7, digitTimes7, references, 'Queries/0123456789.mp3')"
   ]
  },
  {
   "cell_type": "code",
   "execution_count": null,
   "metadata": {
    "collapsed": true
   },
   "outputs": [],
   "source": []
  }
 ],
 "metadata": {
  "kernelspec": {
   "display_name": "Python 3",
   "language": "python",
   "name": "python3"
  },
  "language_info": {
   "codemirror_mode": {
    "name": "ipython",
    "version": 3
   },
   "file_extension": ".py",
   "mimetype": "text/x-python",
   "name": "python",
   "nbconvert_exporter": "python",
   "pygments_lexer": "ipython3",
   "version": "3.6.6"
  }
 },
 "nbformat": 4,
 "nbformat_minor": 2
}
