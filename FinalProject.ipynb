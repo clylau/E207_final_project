{
 "cells": [
  {
   "cell_type": "markdown",
   "metadata": {},
   "source": [
    "# Voice Recognition for Digits - Jimmy Fernandez and Christina Lau"
   ]
  },
  {
   "cell_type": "code",
   "execution_count": 1,
   "metadata": {},
   "outputs": [],
   "source": [
    "%matplotlib inline"
   ]
  },
  {
   "cell_type": "code",
   "execution_count": 2,
   "metadata": {},
   "outputs": [],
   "source": [
    "import numpy as np\n",
    "import librosa as lb \n",
    "import matplotlib.pyplot as plt\n",
    "from scipy.signal import stft\n",
    "import glob\n",
    "import os.path\n",
    "import subprocess\n",
    "import pickle\n",
    "import IPython.display as ipd\n",
    "import warnings\n",
    "import scipy.signal\n",
    "import scipy.fftpack"
   ]
  },
  {
   "cell_type": "code",
   "execution_count": 3,
   "metadata": {},
   "outputs": [],
   "source": [
    "warnings.filterwarnings(action='ignore') # to suppress warning messages"
   ]
  },
  {
   "cell_type": "code",
   "execution_count": 4,
   "metadata": {},
   "outputs": [],
   "source": [
    "#set true if you are using a mac\n",
    "Mac = False"
   ]
  },
  {
   "cell_type": "markdown",
   "metadata": {},
   "source": [
    "## MFCC Feature Calculation"
   ]
  },
  {
   "cell_type": "markdown",
   "metadata": {},
   "source": [
    "Before diving into the MFCC algorithm, we first write a number of simple helper functions for use at various points of the algorithm. These functions convert the FFT frequency indcies to frequency in hz, hz to mels (on the non-linear Mel frequency scale), and vice versa."
   ]
  },
  {
   "cell_type": "code",
   "execution_count": 5,
   "metadata": {},
   "outputs": [],
   "source": [
    "def binToHz(k, nfft = 2048, fs = 22050):\n",
    "    \"\"\"\n",
    "    Helper function that takes in an fft/stft frequency bin k and returns the corresponding frequency of the bin in hertz\n",
    "    \n",
    "    Inputs:\n",
    "    k - the index of the stft row of interest\n",
    "    \n",
    "    Outputs:\n",
    "    freq - the frequency of the provided STFT bin\n",
    "    \"\"\"\n",
    "    \n",
    "    freq = k*fs/nfft\n",
    "    \n",
    "    return freq"
   ]
  },
  {
   "cell_type": "code",
   "execution_count": 6,
   "metadata": {},
   "outputs": [],
   "source": [
    "def hzToBin(freq, nfft = 2048, fs = 22050):\n",
    "    \"\"\"\n",
    "    helper function that converts the provided frequency in hz to the nearest fft frequency index. Only valid for frequencies \n",
    "    contained within the first half of the fft \n",
    "    \n",
    "    Inputs:\n",
    "    freq - the frequency we are interested in converting to frequency index\n",
    "    nfft - the size of the fft performed\n",
    "    fs - the sample rate of the signal\n",
    "    \n",
    "    \n",
    "    Outputs:\n",
    "    k - converted frequency bin\n",
    "    \n",
    "    \"\"\"\n",
    "    \n",
    "    k = np.round(freq*nfft/fs)\n",
    "    \n",
    "    return k"
   ]
  },
  {
   "cell_type": "code",
   "execution_count": 7,
   "metadata": {},
   "outputs": [],
   "source": [
    "def hzToMel(hz):\n",
    "    \"\"\"\n",
    "    Helper function that converts the provided hz frequency to mel frequency scale\n",
    "    \n",
    "    Inputs:\n",
    "    hz - the frequency of interst in hz\n",
    "    \n",
    "    Outputs:\n",
    "    mel - the frequency of interest in mel\n",
    "    \"\"\"\n",
    "    \n",
    "    mel = 1125*np.log(1 + hz/700)\n",
    "    \n",
    "    return mel"
   ]
  },
  {
   "cell_type": "code",
   "execution_count": 8,
   "metadata": {},
   "outputs": [],
   "source": [
    "def melToHz(mel):\n",
    "    \"\"\"\n",
    "    Helper function that converts the provided mel frequency to hz frequency scale\n",
    "    \n",
    "    Inputs:\n",
    "    mel - the frequency of interest in mel\n",
    "    \n",
    "    Outputs:\n",
    "    hz - the frequency of interst in hz\n",
    "    \"\"\"\n",
    "    hz = 700*(np.exp(mel/1125) - 1)\n",
    "    \n",
    "    return hz"
   ]
  },
  {
   "cell_type": "markdown",
   "metadata": {},
   "source": [
    "Now we implement the Mel Frequency Cepstrum Coefficent calculation for the features. The algorithm has 5 main steps.\n",
    "\n",
    "1. Take the STFT of the audio signal. This is an implied step of our function, as it is passed the STFT as an input\n",
    "2. Calculate the periodogram of the STFT. The Periodogram is the elementwise square magnitude of the STFT elements divided by the length of the FFT used to construct the STFT\n",
    "3. Use the \"Mel Frequency Filter Bank\" to calculate the energies in a specified number of frequency bands. The Mel Frequency scale is a logarithmic scale that more closely matches the way humans hear/speak. As such, the filter bank sums energies in closely related frequency bins together to express the energy content in ranges more similar to human speech, with higher frequencies having a wider range summed together than lower frequencies\n",
    "4. Take the natural logarithm of the mel energy bands\n",
    "5. Take the discrete cosine transform of the logarithmic mel energy bands. These are the MFCC coefficients (there should be a specified number per frame of the STFT)"
   ]
  },
  {
   "cell_type": "code",
   "execution_count": 9,
   "metadata": {},
   "outputs": [],
   "source": [
    "def mfcc(S, n_fft = 2048, sr = 22050, num_coeffs = 26, filterMatrix = None, bottomFreq = 300, topFreq = 8000, epsilon = 1e-9):\n",
    "    \"\"\"\n",
    "    Performs the calculation of the MFCC feature matrix\n",
    "    \n",
    "    Inputs:\n",
    "    S - the STFT of the audio signal of interest\n",
    "    n_fft - the length of the DFT used to calculate the STFT\n",
    "    sr = the sample rate of the audio of interest\n",
    "    num_coeffs - the number of coefficients to return (and also the number of Mel Filters to create)\n",
    "    bottomFreq - the bottom frequency of our filter bank. Defaults to 300 hz because this is a common bottom used in speech recognition\n",
    "    topFreq - the top frequency of our filter bank. Defaults to 8000 hz because this is a common top used in speech recognition\n",
    "    epsilon - a small number added to the logarithm to prevent NaN's\n",
    "    \n",
    "    Outputs:\n",
    "    mfcc - a num_coeffs x number of STFT frames matrix that represents the MFCC feature per frame of the STFT\n",
    "    \n",
    "    \"\"\"\n",
    "    #we begin by calculating the periodogram of the provided STFT matrix\n",
    "    pxx= np.abs(S)**2/n_fft\n",
    "\n",
    "    \n",
    "    #use a precalculated filter matrix to make the calculation slightly more efficient, if desired\n",
    "    if filterMatrix is not None:\n",
    "        assert(num_coeffs == filterMatrix.shape[0])\n",
    "        filt = filterMatrix\n",
    "    else:\n",
    "        filt = calculateFilterMatrix(numFilters = num_coeffs, bottomFreq = bottomFreq, topFreq = topFreq)\n",
    "        \n",
    "    #sum the relevant filter energies and take the logarithm of them (part of the \"cepstrum calculation\")\n",
    "    mel_log_energies = np.log(filt@pxx + epsilon)\n",
    "    \n",
    "    mfcc = scipy.fftpack.dct(mel_log_energies, axis = 0, norm = 'ortho') #norm is set to ortho for the preimplemented version\n",
    "    \n",
    "    \n",
    "    return mfcc"
   ]
  },
  {
   "cell_type": "markdown",
   "metadata": {},
   "source": [
    "In order to perform the above calculation. We write a helper function that calculates the filter bank as a matrix that can be used to premultiply the periodogram to perform the summation an filtering. To calculate the filter bank, we do the following\n",
    "\n",
    "1. Take our upper and lower frequency bounds and convert them to mels\n",
    "2. Generate a number of linearly spaced points between the endpoints equal to the number of desired filters\n",
    "3. Convert the points to hz, then to FFT frequency bins\n",
    "4. iterate through the filter matrix, and starting with the leftmost points, use groups of three points as the start, stop, and peak of the triangular filter. The amplitude ranges from 0 to 1 at the peak linearly and down to zero again."
   ]
  },
  {
   "cell_type": "code",
   "execution_count": 10,
   "metadata": {},
   "outputs": [],
   "source": [
    "def calculateFilterMatrix(numFilters = 26, bottomFreq = 300, topFreq = 8000,  nfft = 2048):\n",
    "    \"\"\"\n",
    "    Helper function for the MFCC calculation that returns a matrix of size numfilters x nfft//2 + 1\n",
    "    \n",
    "    Inputs:\n",
    "    numFilters - the desired number of filters\n",
    "    bottomFreq - the bottom frequency of the filter bank\n",
    "    topFreq - the top frequency of the filter bank\n",
    "    nfft - the length of the fft\n",
    "    \n",
    "    \n",
    "    Outputs:\n",
    "    filterMatrix - a numfilters x nfft//2 + 1 matrix where each row is one of mel triangular filters\n",
    "    \n",
    "    \"\"\"\n",
    "    #calculating the upper and lower bounds of our functions\n",
    "    lowerbound = hzToMel(bottomFreq)\n",
    "    upperbound = hzToMel(topFreq)\n",
    "    \n",
    "    #calculate the end/peak points for the various filters\n",
    "    freq_endpoints = melToHz(np.linspace(lowerbound, upperbound, num = numFilters + 2))\n",
    "    endpoints = hzToBin(freq_endpoints)\n",
    "    \n",
    "    #iterate through every value of the matrix\n",
    "    filterMatrix = np.zeros((numFilters, nfft//2 + 1))\n",
    "    for filt in range(numFilters):\n",
    "        \n",
    "        #retrieve end points for use in the filter calculating function\n",
    "        start = endpoints[filt]\n",
    "        peak = endpoints[filt + 1]\n",
    "        stop = endpoints[filt + 2]\n",
    "        \n",
    "        #calculate the proper amplitude of the triangle filter\n",
    "        for k in range(nfft//2 + 1):\n",
    "            \n",
    "            if k >= start and k <= peak:\n",
    "                filterMatrix[filt, k] = (k - start)/(peak - start)\n",
    "            elif k >= peak and k <= stop:\n",
    "                filterMatrix[filt, k] = (stop - k)/(stop - peak)\n",
    "            else:\n",
    "                filterMatrix[filt, k] = 0\n",
    "        \n",
    "    \n",
    "    return filterMatrix"
   ]
  },
  {
   "cell_type": "markdown",
   "metadata": {},
   "source": [
    "We now test all our miscellaneous functions"
   ]
  },
  {
   "cell_type": "code",
   "execution_count": 11,
   "metadata": {
    "scrolled": false
   },
   "outputs": [
    {
     "data": {
      "text/plain": [
       "(-0.5, 1024.5, -0.5, 25.5)"
      ]
     },
     "execution_count": 11,
     "metadata": {},
     "output_type": "execute_result"
    },
    {
     "data": {
      "image/png": "[encoded data removed]",
      "text/plain": [
       "<Figure size 432x288 with 1 Axes>"
      ]
     },
     "metadata": {
      "needs_background": "light"
     },
     "output_type": "display_data"
    }
   ],
   "source": [
    "test = calculateFilterMatrix(numFilters = 26)\n",
    "plt.imshow(test, cmap = 'jet', origin = 'lower')\n",
    "plt.axis('tight')"
   ]
  },
  {
   "cell_type": "markdown",
   "metadata": {},
   "source": [
    "## Word Splitting"
   ]
  },
  {
   "cell_type": "code",
   "execution_count": 12,
   "metadata": {},
   "outputs": [],
   "source": [
    "def getDigitTimes(queryName, hop_length = 128, top_db = 25):\n",
    "    \"\"\"\n",
    "    \"\"\"\n",
    "    audio, sr = lb.core.load(queryName)\n",
    "    digits = lb.effects.split(audio, hop_length = hop_length, top_db = top_db)\n",
    "    \n",
    "    return digits"
   ]
  },
  {
   "cell_type": "code",
   "execution_count": 13,
   "metadata": {},
   "outputs": [],
   "source": [
    "def playDigits(queryName, digitTimes, hop_length=128, sr = 22050):\n",
    "    \"\"\"\n",
    "    \"\"\"\n",
    "    \n",
    "    audio, sr = lb.core.load(queryName)\n",
    "\n",
    "    for time in digitTimes:\n",
    "        ipd.display(ipd.Audio(audio[time[0]:time[1]], rate = sr))\n",
    "    "
   ]
  },
  {
   "cell_type": "markdown",
   "metadata": {},
   "source": [
    "# Constructing the Database"
   ]
  },
  {
   "cell_type": "markdown",
   "metadata": {},
   "source": [
    "To construct the database, we retrieve a list of all the mp3s in a specified directory, then iterate through them, calculating the mfcc feature matrix for each and storing it in a dictionary with a key specified in the file name"
   ]
  },
  {
   "cell_type": "code",
   "execution_count": 14,
   "metadata": {},
   "outputs": [],
   "source": [
    "def retrieveMP3s(indir, Mac = False):\n",
    "    \"\"\"\n",
    "    Helper function to retrieve a list of all the .mp3 files listed in the provided directory\n",
    "    Note: For macs, it's /*.mp3, for windows, it's \\*.mp3\n",
    "    \n",
    "    Inputs:\n",
    "    indir - the directory containing all the MP3s of interst\n",
    "    Mac - a boolean indicating if the machine running the code is a Mac. If false, windows notation is assumed\n",
    "    \n",
    "    Outputs: \n",
    "    A list of all the mp3 file paths\n",
    "    \n",
    "    \"\"\"\n",
    "    #get the correct pathname based on the machine type\n",
    "    if Mac: \n",
    "        pathname = indir + '/*.mp3'\n",
    "    else:\n",
    "        pathname = indir + '\\*.mp3'\n",
    "    \n",
    "    return glob.glob(pathname)"
   ]
  },
  {
   "cell_type": "code",
   "execution_count": 41,
   "metadata": {},
   "outputs": [],
   "source": [
    "def constructDB(indir, Mac = False, sr = 22050, nfft = 2048, hop = 128):\n",
    "    \"\"\"\n",
    "    Function that constructs a database (dictionary) with the digit as a key and the MFCC feature matrix as the stored data\n",
    "    \n",
    "    Inputs: \n",
    "    indir - the label of the directory of interest\n",
    "    Mac - a boolean indicating if the machine running this code is a mac. If false, \n",
    "          it is assumed that the code is running on a pc\n",
    "    sr - the sample rate of the audio files in the directory\n",
    "    nfft - the size of the fft we want to perform to to construct the stft\n",
    "    hop - the hop size for the stft\n",
    "    \n",
    "    Outputs:\n",
    "    db - a dictionary object storing the MFCC coefficients for each of the digit references\n",
    "    \"\"\"\n",
    "    \n",
    "    db = {}\n",
    "    mp3s = retrieveMP3s(indir, Mac = Mac)\n",
    "    \n",
    "    \n",
    "    for i in range(len(mp3s)):\n",
    "        \n",
    "        #we begin by retreiving each individual mp3 and calculating the STFT\n",
    "        currPath = mp3s[i]\n",
    "        mp3, _ = lb.core.load(currPath, sr = sr)\n",
    "        S = lb.core.stft(mp3, n_fft = nfft, hop_length = hop)\n",
    "        \n",
    "        #we then use calculate the MFCC feature matrix\n",
    "        mfccMatrix = mfcc(S, n_fft = nfft, sr = sr)\n",
    "        \n",
    "        #finally we get the proper key name\n",
    "        baseName = os.path.basename(currPath)\n",
    "        keyName = baseName[10] #assumes the file is in Reference_x.mp3 format\n",
    "        \n",
    "        #add data to the database\n",
    "        db[keyName] = mfccMatrix\n",
    "        \n",
    "    \n",
    "    return db"
   ]
  },
  {
   "cell_type": "code",
   "execution_count": 42,
   "metadata": {},
   "outputs": [],
   "source": [
    "#testing the db construction\n",
    "db = constructDB('References', Mac = Mac)"
   ]
  },
  {
   "cell_type": "code",
   "execution_count": 48,
   "metadata": {},
   "outputs": [
    {
     "data": {
      "image/png": "[encoded data removed]",
      "text/plain": [
       "<Figure size 432x288 with 1 Axes>"
      ]
     },
     "metadata": {
      "needs_background": "light"
     },
     "output_type": "display_data"
    },
    {
     "data": {
      "image/png": "[encoded data removed]",
      "text/plain": [
       "<Figure size 432x288 with 1 Axes>"
      ]
     },
     "metadata": {
      "needs_background": "light"
     },
     "output_type": "display_data"
    },
    {
     "data": {
      "image/png": "[encoded data removed]",
      "text/plain": [
       "<Figure size 432x288 with 1 Axes>"
      ]
     },
     "metadata": {
      "needs_background": "light"
     },
     "output_type": "display_data"
    },
    {
     "data": {
      "image/png": "[encoded data removed]",
      "text/plain": [
       "<Figure size 432x288 with 1 Axes>"
      ]
     },
     "metadata": {
      "needs_background": "light"
     },
     "output_type": "display_data"
    },
    {
     "data": {
      "image/png": "[encoded data removed]",
      "text/plain": [
       "<Figure size 432x288 with 1 Axes>"
      ]
     },
     "metadata": {
      "needs_background": "light"
     },
     "output_type": "display_data"
    },
    {
     "data": {
      "image/png": "[encoded data removed]",
      "text/plain": [
       "<Figure size 432x288 with 1 Axes>"
      ]
     },
     "metadata": {
      "needs_background": "light"
     },
     "output_type": "display_data"
    },
    {
     "data": {
      "image/png": "[encoded data removed]",
      "text/plain": [
       "<Figure size 432x288 with 1 Axes>"
      ]
     },
     "metadata": {
      "needs_background": "light"
     },
     "output_type": "display_data"
    },
    {
     "data": {
      "image/png": "[encoded data removed]",
      "text/plain": [
       "<Figure size 432x288 with 1 Axes>"
      ]
     },
     "metadata": {
      "needs_background": "light"
     },
     "output_type": "display_data"
    },
    {
     "data": {
      "image/png": "[encoded data removed]",
      "text/plain": [
       "<Figure size 432x288 with 1 Axes>"
      ]
     },
     "metadata": {
      "needs_background": "light"
     },
     "output_type": "display_data"
    },
    {
     "data": {
      "image/png": "[encoded data removed]",
      "text/plain": [
       "<Figure size 432x288 with 1 Axes>"
      ]
     },
     "metadata": {
      "needs_background": "light"
     },
     "output_type": "display_data"
    }
   ],
   "source": [
    "for key in db:\n",
    "    feats = db[key]\n",
    "    plt.imshow(feats, origin = 'lower', cmap = 'jet')\n",
    "    plt.title(key)\n",
    "    plt.axis('tight')\n",
    "    plt.show()"
   ]
  },
  {
   "cell_type": "markdown",
   "metadata": {},
   "source": [
    "## Benchmark "
   ]
  },
  {
   "cell_type": "markdown",
   "metadata": {},
   "source": [
    "In order to run the benchmark, we first write a function that can retrieve the ground truth answer to the query of interest"
   ]
  },
  {
   "cell_type": "code",
   "execution_count": 60,
   "metadata": {},
   "outputs": [],
   "source": [
    "def retrieveAnswer(pathname):\n",
    "    \"\"\"\n",
    "    Helper function that takes in a .mp3 file whose name is a list of the digits spoken in the file and returns a \n",
    "    list of the characters\n",
    "    \n",
    "    Inputs:\n",
    "    pathname - the pathname of the file of interest\n",
    "    \n",
    "    Outputs:\n",
    "    answer - a list of the digits in the mp3's file name\n",
    "    \"\"\"\n",
    "    \n",
    "    basename = os.path.basename(pathname)[:-4]\n",
    "    answer = [int(digit) for digit in list(basename)]\n",
    "    \n",
    "    \n",
    "    return answer"
   ]
  },
  {
   "cell_type": "markdown",
   "metadata": {},
   "source": [
    "Working out splitting algo, etc"
   ]
  },
  {
   "cell_type": "markdown",
   "metadata": {},
   "source": [
    "Going to use 32834 query as a test"
   ]
  },
  {
   "cell_type": "code",
   "execution_count": 52,
   "metadata": {},
   "outputs": [],
   "source": [
    "audio, sr = lb.core.load('denoisedQueries/32834.mp3', sr = 22050)"
   ]
  },
  {
   "cell_type": "code",
   "execution_count": 53,
   "metadata": {},
   "outputs": [],
   "source": [
    "S = lb.core.stft(audio, n_fft = 2048, hop_length = 128)"
   ]
  },
  {
   "cell_type": "code",
   "execution_count": 126,
   "metadata": {},
   "outputs": [],
   "source": [
    "digitTimes = getDigitTimes('denoisedQueries/32834.mp3')\n",
    "# digitTimes[:, 0] = digitTimes[:,0]*-1\n",
    "# test = np.sum(digitTimes, axis = 1)\n",
    "# print(digitTimes)\n",
    "# print(test)\n",
    "# digitTimes = np.delete(digitTimes, 1, 0 )\n",
    "# print()\n",
    "# print(digitTimes)"
   ]
  },
  {
   "cell_type": "code",
   "execution_count": 114,
   "metadata": {},
   "outputs": [
    {
     "data": {
      "text/plain": [
       "'0'"
      ]
     },
     "execution_count": 114,
     "metadata": {},
     "output_type": "execute_result"
    }
   ],
   "source": [
    "list(db.keys())[0]"
   ]
  },
  {
   "cell_type": "code",
   "execution_count": 161,
   "metadata": {},
   "outputs": [],
   "source": [
    "def getMatchScores(audioQuery, db, sr = 22050, nfft = 2048, hop = 128, metric = 'euclidean'):\n",
    "    \"\"\"\n",
    "    \"\"\"\n",
    "    \n",
    "    #we begin by calculating the mfcc of the query\n",
    "    S = lb.core.stft(audioQuery, n_fft = nfft, hop_length = hop)\n",
    "    mfcc_query = mfcc(S, n_fft = nfft, sr = sr)\n",
    "    \n",
    "    #now we iterate through the database and compare all the numbers with subsequency dynamic time warping\n",
    "    scores = []\n",
    "    for key in db:\n",
    "        \n",
    "        mfcc_ref = db[key]\n",
    "        \n",
    "        D_num, wp_num = lb.sequence.dtw(mfcc_ref, mfcc_query, metric = metric)\n",
    "        scores.append(np.min(D_num[-1:]))\n",
    "        \n",
    "#     predInd = np.argmin(scores)\n",
    "#     predScore = scores[predInd]\n",
    "    return scores"
   ]
  },
  {
   "cell_type": "code",
   "execution_count": 162,
   "metadata": {},
   "outputs": [],
   "source": [
    "def getCleanedDigitsTimes(queryName, hop_length = 128, top_db = 25):\n",
    "    \"\"\"\n",
    "    \"\"\"\n",
    "    \n",
    "    #begin by getting the splits as well as how many splits there should be\n",
    "    desiredSplits = len(retrieveAnswer(queryName))\n",
    "    times = getDigitTimes(queryName, hop_length = hop_length, top_db = top_db)\n",
    "    \n",
    "    while times.shape[0] > desiredSplits:\n",
    "        times_copy = np.copy(times)\n",
    "        times_copy[:,0] = times_copy[:,0]*-1\n",
    "        lengths = np.sum(times_copy, axis = 1)\n",
    "        toRemove = np.argmin(lengths)\n",
    "        \n",
    "        times = np.delete(times, toRemove, 0)\n",
    "        \n",
    "    #if the times array started off less than the current array, just return an empty array (the benchmark will ignore it)\n",
    "    if times.shape[0] < desiredSplits:\n",
    "        times = np.array([])\n",
    "\n",
    "    return times"
   ]
  },
  {
   "cell_type": "code",
   "execution_count": 163,
   "metadata": {},
   "outputs": [],
   "source": [
    "def getPrediction(audioQuery, db, sr = 22050, nfft = 2048, hop = 128, metric = 'euclidean'):\n",
    "    \"\"\"\n",
    "    \"\"\"\n",
    "    \n",
    "    matchScores = getMatchScores(audioQuery, db, sr = sr, nfft = nfft, hop = hop, metric = metric)\n",
    "    refList = list(db.keys())\n",
    "    \n",
    "    predInd = np.argmin(matchScores)\n",
    "    prediction = int(refList[predInd])\n",
    "    \n",
    "    return prediction"
   ]
  },
  {
   "cell_type": "code",
   "execution_count": 164,
   "metadata": {},
   "outputs": [],
   "source": [
    "def getPredictions(queryPath, db, sr = 22050, nfft = 2048, hop = 128, top_db = 25, metric = 'euclidean'):\n",
    "    \"\"\"\n",
    "    \"\"\"\n",
    "    predictions = []\n",
    "    times = getCleanedDigitsTimes(queryPath, hop_length = hop, top_db = top_db)\n",
    "    \n",
    "    if times.size == 0:\n",
    "        return []\n",
    "    \n",
    "    audio, _ = lb.core.load(queryPath, sr)\n",
    "    \n",
    "    for i in range(times.shape[0]):\n",
    "        startTime = times[i, 0]\n",
    "        endTime = times[i, 1]\n",
    "        audioClip = audio[startTime:endTime]\n",
    "        currPred = getPrediction(audioClip, db, sr = sr, nfft = nfft, hop = hop, metric = metric)\n",
    "        \n",
    "        predictions.append(currPred)\n",
    "        \n",
    "    return predictions"
   ]
  },
  {
   "cell_type": "code",
   "execution_count": 165,
   "metadata": {},
   "outputs": [
    {
     "name": "stdout",
     "output_type": "stream",
     "text": [
      "[3, 8, 8, 3, 4]\n"
     ]
    }
   ],
   "source": [
    "print(getPredictions('denoisedQueries/32834.mp3', db))"
   ]
  },
  {
   "cell_type": "code",
   "execution_count": 166,
   "metadata": {},
   "outputs": [],
   "source": [
    "def runBenchmark(indir, db, Mac = False, sr = 22050, nfft = 2048, hop = 128, top_db = 25, metric = 'euclidean'):\n",
    "    \"\"\"\n",
    "    Runs a benchmark for our system \n",
    "    \n",
    "    Inputs:\n",
    "    indir - the directory where the mp3 queries are located\n",
    "    \n",
    "    Output:\n",
    "    confusionMatrix - a 10x10 confusion matrix, where the row indicates the digit guess, and the \n",
    "    column indicates the ground truth\n",
    "    \"\"\"\n",
    "    \n",
    "    confusionMatrix = np.zeros((10,10))\n",
    "    \n",
    "    #we begin by retrieving all the paths to our queries\n",
    "    mp3s = retrieveMP3s(indir, Mac = Mac)\n",
    "    \n",
    "    calcsDone = len(mp3s)\n",
    "    for i in range(len(mp3s)):\n",
    "        \n",
    "        currPath = mp3s[i]\n",
    "        predictions = getPredictions(currPath, db, sr = sr, nfft = nfft, hop = hop, top_db = top_db, metric = metric)\n",
    "        \n",
    "        if len(predictions) == 0:\n",
    "            calcsDone -= 1\n",
    "            pass\n",
    "        \n",
    "        answers = retrieveAnswer(currPath)\n",
    "        \n",
    "        assert(len(answers) == len(predictions))\n",
    "        \n",
    "        for j in range(len(answers)):\n",
    "            confusionMatrix[predictions[j], answers[j]] += 1\n",
    "                    \n",
    "    return confusionMatrix, calcsDone"
   ]
  },
  {
   "cell_type": "code",
   "execution_count": 167,
   "metadata": {},
   "outputs": [],
   "source": [
    "#done w/ euclidean similarity metric\n",
    "confusionMatrix, calcsDone = runBenchmark('denoisedQueries', db) "
   ]
  },
  {
   "cell_type": "code",
   "execution_count": 168,
   "metadata": {},
   "outputs": [
    {
     "name": "stdout",
     "output_type": "stream",
     "text": [
      "[[45.  0. 22.  3.  1.  0. 42. 59.  1.  0.]\n",
      " [ 0. 23.  0.  0.  0.  0.  0.  0.  0.  0.]\n",
      " [ 0.  0.  0.  0.  0.  0.  0.  0.  0.  0.]\n",
      " [ 0.  0. 14. 57.  2.  0.  1.  0.  0.  2.]\n",
      " [ 1. 29.  1.  0. 57.  0.  2.  0.  2.  0.]\n",
      " [ 0. 16.  0.  0.  0. 64.  0.  1.  0. 19.]\n",
      " [ 0.  0.  0.  0.  0.  0.  0.  0.  0.  0.]\n",
      " [ 0.  0.  9.  0.  0.  0.  0.  0.  0.  0.]\n",
      " [ 0.  1. 22.  4.  2.  0.  0.  0. 50.  0.]\n",
      " [ 0.  0.  6.  0.  0.  0.  0.  0.  1. 26.]]\n",
      "\n",
      "100\n"
     ]
    }
   ],
   "source": [
    "print(confusionMatrix)\n",
    "print()\n",
    "print(calcsDone)"
   ]
  },
  {
   "cell_type": "code",
   "execution_count": 169,
   "metadata": {},
   "outputs": [],
   "source": [
    "#done w/ cosine similarity metric\n",
    "confusionMatrix_c, calcsDone_c = runBenchmark('denoisedQueries', db, metric = 'cosine') "
   ]
  },
  {
   "cell_type": "code",
   "execution_count": 170,
   "metadata": {},
   "outputs": [
    {
     "name": "stdout",
     "output_type": "stream",
     "text": [
      "[[44.  0.  4.  0.  0.  0. 25. 54.  0.  0.]\n",
      " [ 0. 28.  0.  0.  0.  0.  0.  0.  0.  0.]\n",
      " [ 0.  1. 42.  0.  0.  0.  0.  0.  0.  0.]\n",
      " [ 2. 38. 19. 64. 54. 39.  8.  0. 16. 26.]\n",
      " [ 0.  2.  0.  0.  8.  0.  0.  0.  0.  0.]\n",
      " [ 0.  0.  0.  0.  0. 25.  0.  0.  0.  1.]\n",
      " [ 0.  0.  0.  0.  0.  0.  0.  0.  0.  0.]\n",
      " [ 0.  0.  2.  0.  0.  0. 11.  6.  0.  0.]\n",
      " [ 0.  0.  2.  0.  0.  0.  1.  0. 37.  0.]\n",
      " [ 0.  0.  5.  0.  0.  0.  0.  0.  1. 20.]]\n",
      "\n",
      "100\n"
     ]
    }
   ],
   "source": [
    "print(confusionMatrix_c)\n",
    "print()\n",
    "print(calcsDone_c)"
   ]
  },
  {
   "cell_type": "code",
   "execution_count": 57,
   "metadata": {
    "scrolled": true
   },
   "outputs": [
    {
     "data": {
      "text/html": [
       "\n",
       "                <audio  controls=\"controls\" >\n",
       "                    <source src=\"data:audio/wav;base64,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\" type=\"audio/wav\" />\n",
       "                    Your browser does not support the audio element.\n",
       "                </audio>\n",
       "              "
      ],
      "text/plain": [
       "<IPython.lib.display.Audio object>"
      ]
     },
     "metadata": {},
     "output_type": "display_data"
    },
    {
     "data": {
      "text/html": [
       "\n",
       "                <audio  controls=\"controls\" >\n",
       "                    <source src=\"data:audio/wav;base64,UklGRiRWAABXQVZFZm10IBAAAAABAAEAIlYAAESsAAACABAAZGF0YQBWAABvACoAeQA1AO3/PQAzAIEAJQAqABcACQCmAIkAowA6ABYAKADh/xYARgA/APX/FAAXABAAbgB0AHUANwD9/1QAYQCYAD4AKQAkAOH/EQDy/ykAFgASAAMAqv/n//b/xv/i/8X/6v8+AGEARwA7ABsAvv+s/5j/2f8TAOL/5P+L/23/0P/Z/+P/9f/w/7z/HABFAGIAkgAxAC4Ayf8OAFcAUQA6AOr/Yv9m/8X/z/8LAMb/lf86/4P/0//w/+P/LAAQAA4AUQBgAIUAGQAxAB8AJQAzADEAEAA2AN//GACrAF8ALwAFAOj/8v86ACcA9f/O/wwA8f8JACMA+v/Q/6//9P8eADwAMgAjADUAOQAoAEMA//8cABwANgAnAFYAKQC9/7H/cf8HAAAAIAD9/8v/tv+k/xsAMwAyAOH/uf/X/wAARgD//xEASQC4/+v/NgAnAHkA4P/D/5b/v/9WAB4AewDp/x4A///O/5gA5//d/wMAHgD4/8X/BQDE/9X/hf/H/9D/8f8aAKX/AABv/+f/CQBUAE0A9P8bAID/OQDW/8b/xv+D/2L/o/9J//X+n/8T/0j/V/9p/8X/NP8f/0//W/+T/5r/uf9F/yX/PP+F/5f/pP+b/zn/Mf8q/+P/yv+d/7D/sv+m/5r/q//P/8X/4P/L/0n/0v/Q/yEA8P95/3L/Z/9I/1n/mv9Y/47/iv9x/2b/gv9w/6n/o//Y/+j/CgAoAJz/5P8FAM7/av/e/8f/0v8qACEABABxAMMAdQCRAPr/DAA6ALIAWwDp/+X/IgDJAEAATQDl/8T/MgDK/ycA5f+6/7P/rv9q/7L/UwB4/7b/I//z/xgAvv9BAH3/IwDa//b/gQA9AB4A8P9zABAAGQCUACkAAwDh/7cAjgC8AJMARwCPACwAaQG8ANcAyQAhAKkAAwCkANwAegB1ABQAw/8MAPX/JADZ/x0AZQADAA0AnP8UAML/5f8MAOr/wv/I/+3/8P8hAD//8v+ZAAcA6/+8/9L/1f/+/yEA7P+L/4//NwCx/9X/1f+c//3/Ff9Q/67/mv9QAPj/+/4g/2D/ZP+S/7v/BQBE/yz/x/+S/7f/t/8sAEMAXADq/w3/fP8FAPj/sAA7AP3+kP+W/jj/c//k/4MAMf8y/1b/xv8DAFkAdP9c//f+8v6w/5D/mP9j/wv/jP4h/9T+W/9k/2//Gf/M/sL/9P5B/zf/+//Q/6r/ogC8/7D/KgBYAEAA7gA9AGEA+/8sAPL/of+IATkA6P9J/7T/dwBcANf/Yv8aAAEA8P/u//n/jv85AO7/rv82AN7//f93AEIATgANALb/dAADAIQAoQDg/2MABABmADAAqQDIACAAPwAvAHgAAQCcABQAAwCkAD0A8P+r/0P/TAAwAJH//f+V/5AAiv/t/2oApwAeAIr/+v+3/70AcwBHAGP/GQBC//T/cQCF/8D/P/9OAB4AYAC+/+z/TgDM/2kAGADa//4A5f/N/w0AVgApANn/PQBO/6j/hv9//7z/7/+4/3kA5v/b/wX/4v9UACMADAH2/+UA1f7X/0cB5/9SAYAAWP+N/w//xv+c/5T/Sf85/7H/dP+y/wAAbwC+/9EAcwByAPf+Kf+TAUwA/QB6/1b/cP+2/4EAKAA/ABH/rwAyAJX/dP8BAHkB9gA7AYAAOwD5/q7+2/98AIACygLY+z/2M/dD/q8GPQftAWn2A/WO+pkExQqbBcr/xfdB+SkAqAjZCq0DmPuf98P7NgNTCA0GUPys9wH7JAIRB0kFBP8Y+j/8QwDiBFUFBAHk+9b7a/1XAu0FyQLS/Z/5AfxnAm4G1ARWAab62/qh/ywF7wc+BKP/kvth/XEBWgVXB1AD2vtF/Av/YALLAwABff3w+i3+WQIeBKr//fsY/CL+nAJwAwUB+/1Z/Tf/JwFuAwcAKgGo/+r+MwD1AEEFa/9X///+pAFKA+ICbQLP+xn+6wI8AsQCiACQ/f38oP5PApcBXgIY/WX+Zvx//8QEAgN6AUz8CQCM/6ACuQPqAoX+jf2A/o8AKQLaAGgCWP1A/Xv8mQD7ARsBmABZ/av+WwBrAV8E9/1p/fUAPP+gAnkALwLc/QH/t/7s/0EAWQDVBBr91v99/VoA8gU7BCAD7/+R/qD+8QZCBmgFNv2p+uoFyftV/l/6hgDcAab1JfwK9ZgAQ/z+AW36IParBG77MQmI/AEF7PwWAe0LrfeGBUYA5AjQAHj8AwFxAaAH2/zzAkoEwPsT/+EFwQdUBLX9wf4lASwHgASrBvr5g/ZpA8AAnA2F+MP1yfKK9jMO3fu9CnzuNvL3Akj7ug3d/zITk/IP9bYBPwjwGHsCfAQH67H7FQgaFpEHf/d89y708giAAeQQdwAm8f778gKRAUALoAmW+Pv0v/myAmwJfA05/u/v3+2AA6MLgA37Auju3/O49f4RzxDk/rUKJevC994F6xalCKX8VgAz7D8PagCkEqP5A/t4/XL3cgub+loQdPDEAhP4eP3vCAAB/QwG8yz8kvogBcMHBQuQ+v330fnpAIYNBQQYBEbvNv8F/HAMSADK/gAMtOoxCyP+0ADNBgEADwJc+kkDe/4bBob1pROZ8hj3VBTb9DgH3vLzC4n64QRHAen7UwIy+ZYMAfktCVb00wQYA4n+wP7iCLv5uPjJDT/02gmb+ksIfvODB8r99/i/Exnw6wmK9JYFB/ZDBpoPZO4TBSnxeBQa7/YF2hVI55UEX/h9GJzyPwFzDn3xDQl+/s0GMPUKEMz3HwYBBGvzPA9I95cIvvXJBN4EX/QDC3wM8+tZBgQC8vxnDBv3tRCx7uv9ihFF9yL/jAAb+OQIpgLg9JoFWvjJAQsGUADaBOX14v0rC0z/jvlrBDUJxf8F//z+RvDWEOkIq/iACwnnAf8cD3oDGgXh9XEGvPWX9XYR6wgsBLf3xP0V+hgBtAlGCxn8c/JHC2rrzw/eCkzzywgJ61wQxPVjBhoKSOtyG3He3AzgDw71/hOD5d8EvgTDBhkNoPi49SwBMgeO/PoI9/7gAtHuKgEBDB78FBcV7HL9ZwV98XIYeAfD8Tf9bfeXCkYBXQpW+KXrjhmw8NsNXPaw+QMR7OXgE0UFPfN9BHYGbvHm+zUPIQDU+/HyDwuH+MT/hhUS6QIIivhI9tQRbPTgFLb5/vN9Dtrm4xg0Bqf3zwN26EAYmvE6Hoz30OLFGgjqIxnp8W8NWfHb9IQNsOyQLE7lcQbP+UrnMBVm/64Tv/i3+tXuY/IXHlUNIQWG7xfnVxAbAYcNyxjR5vDrXg68CgEHAQV39XP9au9bFr8LzvQUEXfp7QxW9SYM8A4S540UzuIsGEP2xPdMGCreFR+27PruQAjU8rIa+QqT6I74gwhPBMwKO/4LBtz5kQKbBbQFeAxN6BoPQf199rsiCuudAZT7AvSmDQDzMSTO9ybfvQFU/YgRpgeK+S78IPTI7uwOHBbv+7v35ff+8UsJqReT/r31tvEpAC8Ua/05+r8POQ765M0JoQNB7zwjcfBpAzb5uezbGF72NgiR+MjwkwIo6WIbBwaM8rD9lPgHBdHs0CM+A/7yTPoo+8kNAfTTI6/zmfH3AxUDNw9L3iw1K+jB4+QhoNmPL+7yI/yh+33wMAx06k4sOfFQ5pj8QApVCC7vohLc+uHtIwq6AhbzFgKXDyvuPQjACznqzhHt9TIJyf5C+4USSuu2FhX+8PFxHTTz4vUnDmMCGPt0/BwYwOlP88gTuQht97n8DwEy6iYVk/WaDvP9fuo6EKDeljKvBsrVghxz4ekKRA/MB4gGC/ToBWrdtBPzFOHyyga69vX5AAI//OwQ1Abx6cMOzPbD+MUYWvng/9Dz7vitEycBFAKABC/h4AYpArAJdwqm8h/+BvnpEMf3CxPs+Bb70Aqr5QgVigq589UFB/qLAhsEUvSDCGcA8+U3CKsV0+9GDAX4bOREGXz/3AnGDEjjFP6kAHgWVgVl/dAK8ObCAMEKswVOAEf60ALRAZP03wC5AiEHMwak7w8Og+bIAyMcGvGNBVDozAqIBc/9qB8Z4yLmo/12Ev4XmPjaAonesu58GSoQCwwC7Lzue/nM+xoTbgVqA/f2qusZCJT+PROR/ev1owfT6j4PnyCn8Ov+6/313RQgAQ2WB5H7gdMH/WQOFyV59tX999p456sll/71IpLkPvp0B23qKiXm6EEIPAqC75QfyevS97gGZgIoAon0eRS84oIQBhW/6lYHUuSxDowTofrB/FcBWvLNAF4gfPpb+wDwHPl3DNwQbQPM5Pn/7QGHC0/yX/MZFGTyAAxb898BJ/6OAYEjIe1kAlX+zfbGC8Qfd/Dj+CgVNfKXAWr4ifflD9kAMgdz8R3hlgsLAT8U2ueH+57x/PNlLpH8Af+992TtsAIiHhYOtge/67veVhT0F6j+Wgex7EXi2wLCFOAE+QiYCXnsH/BD9goOCQrYGdsOQeoJ5Ub/ARWlD5gNJOS55X8CDwyvEM4AW/c14yD5Ihlb+ib9AQGL4L/6AB0MEGYIx/ri6/rqsAazD8UTvQyH51oEx/q59FoipgbR9Nbse+ZiF0/8XgjsJhTrLOup5dAEuR7RBqMGmukW3coHWiQxA731j/eH5ngGhg8/CVn+Velh8vH/cRjFB+0I/ugC4jsEeffID6AKIQ1P817v4QVq8hwZJwhlCY74cOq7C6oGoi8C9PToL+xI9+UcmA76BGLhgQPS9/kOgAQr6QgA/Pu0BxD+qAhxCNoCc+er6g4OewixEIsKoeX46nkUrQDoEnwXo+My/0j5X/PyHV4X+/OzAuH4FOuwCOD/Iv6V98oFwApl+aQHS/Lx+xwDxPYuCAoCfAyKDub77vsN9r8Ha/89/ygN5uegDCADsP7SCqjllQPqA3H7evgk/FzvPxDHCSr/EATr39cMwe3FGCkP59aMBnT4Jg3eDvYOp/1+7NsBsftRAUwDEhtW+Q/zYw7b7CQaFBR8/PLiEuxFDSYDoRvu5zH8QPTo7B8QrfOID//u0P2i/1LmYhKXAP0VTAB/5JL32wfQE+L+RQj445sCAgo78s4MtgOK/P31cQ7kBSgCywm6/Sv+1AL1AgAPPvsMAwrznukIHE71lP/yAK/rJfwH+AfsyP+YHQ8LI/TE9fz6O/kIDcoXrgPp7VsCzAbBAuUICAHIA4778fqm9tT2YwkJBmkH2+y+9B4Jx/nrB1H9SQKr8WQQtA/5+BEHgutiBgkNfBNPAujy6PXM/K4Aifn6E8z5LAPM+KHn3Q3p9YMRLw7k7roHPe5/+oQa6woUA2QEffat8GAE1gMFAqsRRvQa8R4EhAZWCWQCsvk28g0Fcgj7CtP/CfhF/Z390RAqCLH3LwjQ81vqLg2HDhYHDAQo/Xj2R/yTD4gOheeC9Qj/gv69H4oKU+5Z9AH27f55G9MN8esJ9Q7/uvglDDgMd/335eH2lwyV/8sIj/R9+s32Y/i6LVcOV/bs/Krm4BRIFC0C1As66ivnUgviEO39BAEx9GbpSOqzBvQRIAPmB1317+XsAAQZownkEk//utt5Be0QnAPMDXcCneqz9jEN9BIuBL/w1/2E9PcA7A6qDM0DROxe96EJQQHH/HEMC/vE7g/v0P+YBC4KMRQy64zhMPUqBtsQewVl+wPqp/ZKDFQR8xtIBOD9mvf18lv/PhboGbkQovqg4nPrse5jKFgPhO4C+c/WIv26FRgfIxjW2KTb+fTuFR4mQQ0rBorUlu78FEsClxmEAGjgv/XR8x0MLShvBJP2t/j36Oryqh7xIrz/XOtK/TjyVgwNLy8G5/Og4I3pnwXGJaYgNgO/6bnUCPMgFqoi1wO69TvXrNHoFKcmVh4r/XfgX+ce8oEUTywYEUjynueW9YkYywydEI4Qmd8V7xoGIwXHCdcKZP2Q6GvuWP53GtYI8/+YB9/txez4B4AYI/wB+6cD2vJmCTsZMPga8rPiWej7EoEANv/oFBDuseN1CVcDlAJ+EeUAjPAZCUQHrQ3oJRwF5g6jB8/rnw0TBBQIpgw+/QEA4+v65271eQLi5Lfr8Pzi5XD09AQ9+F/9/wiy/NP3VQdyDpT/0hDTDGwCggc+CDoJtQM7/o3/UQ0TAkv/TwX0BS4JuPwo/X4LhQGGBJH+GvCg9bQCUwnmBv4FJPHB3GrkDQcQ9u/2XggA7or0kQeDAxsDyP9M98T/n/ifHAAWzRKeHU31/v8NC94aHQmz+7rxFOluEMkY7BAiAujg+czX4GUQ9Q1vC3kDpO+R/53/2xyiFAn6KOwX83wGRBOHIJoTfAMg26PrlfVJ92QPqACl8AnixAJcGEoUExMA3Rza/PdoGe45+wqz87TyceqKDFsfIg9ABonuW9ziAD4R/ApgC6r9uPYA6OcGnxl0/1TzCPDh5sv7bB9694X5gPwm6d36Swz/EZT4gOYA64/9GhMCIAkRqvZp8jX/6halGAINq/8S7tf5Qga3JsUZNPvVAIPpTN5J/ewX/fso7oP4kfZk9EQN+wkI4fXgbvuCAwAOQBBy+A3sBOh7BaMWbR8sBzvUle/Y/lIXOjGcEmj12dQlAJ8XLAfOLxANnNpt8loBZAA/Cc4IkPKE227qXgPlA9T5uvzK9l3rxf71B7/11QOEC0gBiROmB4UOTxBoBIkGG/ltDSQR+AlSCfv9SvXW7osO2wmk58j47eoZ4k34NwOK/Lr6FAEv5pP4TwdzAEwS1wBy+/f/vPsbBK8TrBT0/a0Co/0D+YMAvPtnCPwOXABmAUsNCPjg++8ZoQNPABYT4fA19+kNcAkACBAJc/5b6Eb2QQTl+nXr2fat7qn1RwsZ9BHpQuxz/vb7bwO4BwfiUwfaFkUFcxfDAjIHQ/seBhcSBQxfHH0FtQ2MCV72Ev/eDmAPiA8aEPfrpfTSB/n7fxPUAdveE+yP6EHsbgAN96HoLu007aDxOAJW8nz0NBaiABwBjRm5CGAFgQsbBsoSwhVJD0oKRPJyA88D8w5HFSj9awbp6rj96wRtAZEYIPhB9x77EPLI+M74iPckAAb5Hfnq+IPn0OX+/kEUeP2m+GXwpuRw7xAG3Qgb/twDYvoGBbsGzQevCN4D7RVXD4EU+RbZD5ASvPyMAOARugJ7+4sDG9873R8LJwHhCUgAXOn66JffpAGAEbEDJgCWALH5VvGmBY8Hnvpy9HXuwPxT9Bv5/QO6/F4BKP/7BcoEVQAK+m0F4QU2+cwNlBMRHtQKxvxiAyUDaAHpCNIYiPLg9RQDDv6m+9r7sv4v5j7yT/gN6tf3WQNEAMAJfAjb/nf/gfN59BIFURGzC7QDxAVX80n6iABv+ikA3wBfAIIIEw5w8wf9/ALrCb0Y9weu9qDk+wKeCI8EUQ2J8fHwk/YL+hMCLfzz+tEC1gEvB0ILuwEl9F4EiAun9+MI9AaV/r4Dt/Qn9sAHcvoB/nITivFY50j7+wSrCOUQngQx5IXyevYHCjkUhQZg/IDu1vSP/0gPdQn//8f3w/U8B34MPvgO+EX+agFmD50OOAk5AJPxdPCR/DMLgRToE7H3Lt1G7vQEuw6EBFYEnuM03HH/6PrMCrMJ/wUx+v72FvZZAzUYA/oAA3v+4PqWEdod6gIU5N78Hw1aBLn8xvtX+EX0LgGvGQUEJfN3AI/6I+Md85MVzAQ//yv5nfSpB+UBTgjTAXPuRvn/ClEHdvcvEagBWfQWEpkG2vlm9bj3MfuQ/bQJgR6bEeL6fPQk7ij6pwwcGZv9T/cKBWH52wQBEBvz4fVCBij5A//Y+1z3efsdDnAMwfic8K3zMPcx9m0FXwTSAYz+awDa92DtEwGdBKIERglPAf745fsVBeQK2hLcCacFEAOH8QT9LxPACo0HoQ01/koA8/bU84/+/fru/Qf7svID5+n7ZQcFBlYJ9/vJ+bf2p/RJArMTEw8+BekDLv61+ucENwdx7eLr2P2LBRIN9QC7+uoA5foBAVMK7v4y/CMFF/7C+k8UMxsjAMT48enF7t0AMQa4EWIC0PkW9jQBr/0//FcJ+fC+72v4AQXTDmcBYAKt/QnwKfJdBZAIQPTO9+YAtQbjEY4OzAgY+njvdPmSDtwQ5wk4CW7sdfwMElgPhAif8G/u++Q49PX64foyBXPxmfHO+TD0ZPhLAW31Je57AhsKbhgyFlT9gQi8D0sLExBBEQwGDwOFB1H5egW3FcwIRQjx81PtYgHqAlgF4P/Y9uj19gYjD/gFMgOs/yb9SP+eACT9swIu/JH12f7sCAsGQP7e9ZrplfDTAO0GXwIAAJ/4Ef4CDiENfwJ7AfD8ifzH/6sKNBVnCGIHwwRC+LP3YgAT/Zf6xAHm/yv6VAtxBRn3qvue+lT6RvYPAhL9Ffp++vD5PQLM+PX3cvFm9Mv9dPicBFgIoQLfCSMOsQp8Da0K3AQXCNcEbQ64EE8R4Q+J+ff3rvnn/LX/ZPpx9UnrtPdvAgj6c/kp7JHaF+6H9Eb6OQlf95v01/uoBR8OtRHyC8H7FgNyFMQd4x0xGGYZ4AiU/DsMTQ7PDEQCXfd39zcBQgOC/2cAd+eL3a/lIu55+nr7tfI+5nbtcf3w/5/4n/ys/fXwIgH1EW0eXxU9A34A5vNnDocY5g6+COL02fOW+nUG7APaBxX26eQx9br09wKkBGn2nu/k8m8IuA2eCmoBZvU1+Z8DRQ7iEqwNvATgA6IG8AkGEH0MC/+Q9Wn3PQFlDDgKHPo2+MLqGfLCAt7qQe4m7/btuP+SANAKZA+H/yz7jvuI/e791AuMGsIT3guCEw0Y7wnXAab7N/z/90n8EwtPEXALBQcKAWPwcPFw843wavRr+pf8p/nX9un/YwBq7w7oaO9+7DjxIQDU+vr8Mf9lCOMO2wBKAHgAsv8cCToQAxUgGlsUGAr+DOwKgQxtEwkIA/zu+H0B8AGDAwUB0/PR9NbvQvCu7wzrf/Gw+Pv0r/MnAtv/a/+j/gf1xQI6BG8CNQepBUgHngqyEBMMSwVF/J3zlveAAz4MXQtJCb4D3P70/TP9sgTi/bTxZfvm//j+zgHVAif/4Pgb8D3pnPOS+/74hfqA/EH8ugRVAs/0h/VV71DunPzX/2oCZgTu/BP9Qv7G/OoDSQPr9xf7mgBKB24SQxH5BQn/3QD2/yMG5gPt+r0AKQP/BXIRdwg3+Vb6Cf0c/hb++QRqAzD+a/2W+6YHKgQZ+436A/o/+7b1K/h99jz7dgCk/Y398PfR9X3yWPRG/H7+JADwBPkIowxsDX4KaQnODf0NhwnED5YZMReAEWYYcha0DtsPsQU++3v+vgAGA2gJdAOU+X/1PuxU6Fbp3evu67Dodu3D533kyu5M8L7rQO5F6UTg6vBlAY8DwQXGAzj9KgBICVQM8QsrCxIPrBF4EzcVPBA1CgYHzQeuB/EJBAV4+T/75/xr/UYESwPt9f30IPYn8PH1wwRwBXH9SAGb+7z9Ygi0B9cC7gJnA7oByQoKDeoEAwZhCgIFBQQiAwP/xf3U/1gArPqU+pv+0vti8SnxbvI871PzsvG08KD22PWH8WP1i/dE8Kz0m/gD+hcBEASRACP/JwfsBYUJLRAmDGsIZQ3OFOITDREgD20MWQ2WDWgJtgYZAicDAgZTBG/+Mv2q/iH+5fzY+n7+cfiF+rP+sPvf+oj9BQNc/Sz6l/lU+U37g/tV/Br9wvzE/Q7+Zf+5/z7+8vw4+Sj4T/ygAgMD5wSQDLQHdwLjBJP9OfgZ/b4BcAJNB50MjQf2AmMC//90/nD6F/eP+m0BkgeVCjULMwa9/QP4wvnn+rH5CgARAWED4AeoBlEDNP6N9yjwh/IM+XL/wwPICVYGNvzc/Lz6IfmS++P4iPav+4cDdwjGCoMIX/9R+DP07PWH/2oE4AOkAFQBdAbRA18C4f/K+gr/agKsAbMFdAlECOwJSAp+Bc4BwP/U/GD5uvhT/TwEYwaEAAT7e/g/+Yn6rf2q/2f9cvyx/kQDfwFXBZ8Fff9u/QP5JfVL9dL6yPsu+Tv55Pve/er65PgF+n74kvf6+uH9ygBqA5AEuAIJAVMEzQSo/xL6dPv//hcEtAp9CH0DZ/9//1oCMwQXB2sF7wA6ApwF3AYbBTsCEgRrBYsCJQJzAF78AvwU/D/+OP6b/X3+dfqB+Mj4C/pE+6b8Pv6f+ff2FPoE/+gAoAL1AeD/7/8GALsBpQGrAZ8AlAGZAewE7gidBLkA6QIpBaEDHwa9BDcDkQaJBc8HWgfUBYYHxwVtAVL9x/6AAPIAKAFdAYD+8fsQ/s7/HAFu/gf5dfiU+af8XgLeAR8BDAEK/kz7EfoH/Fz8cvoy+yb8Qfwf/YD7svwy+Jv0ovla+fT48/vN/Ez7MgCKAxACgACt/Dz6Ifz3AOcFMQiNB+cFIgMuA4UEiQY2CKsIsAZNBEUIIAgbCmkNognnBoACEwJ9A+QD9wKMAkMDBAI8/+P7Yfyt++L7pv0l/gL81fvZ+8/5efyp/icBpQD4+tL4IPqm/pEC8wJgAE7++fyQ/Aj/df7D/uj+AP9W/hn/QwDcABkFIwG9+wr+df8q/iH+Zf1t/m3/s/y7+uz5zfR685b29PMt9cH1ZfPJ8vTzV/Tt9IL0tfHv8/zz2PMl+I/6OPpU+1P6kPjJ95/3g/Z89aX44PnZ9xn30PcS9hD2fvbc96j4Z/oE/Vb+QwEmAC0BxgMBBmYIeAhvCaUIcQriEDsS2hHXFHcW1RV8GA8dOR5iICoiJiK1IWwiZCbSJ9kmGCaiI4chgCL0IZIh6iHpHy8fZhywF4UWEBZZE6wQbhClDysKVQhrBmkCjwAD/XH54fUE9LfwVO0h64Do1uWQ45XhlN6W3Erdz9xM3LDcNNsr2v/ax9ym3DTec91/3DPegN6K4FTj/+Jp46TkSeNj5eHm1+j/6s/qyexe7YzsFO8z8TTwNvFe8wn0qfL68aTvWu7K8KryEfJF8Mnu++z565Lrxuqj6fDpxOiI6lXuSfBH8kT08vaZ+SIAmQlGET8ZtiBFKq0yrDgHQv1JVU/LVK9XUFcqWaVYP1nrWalaC1lYUahJeEDjOIgxOixJKUEkfhx1FH0NZgUG/nX3gu+Q6RLlkeIC3/rZK9er0iTQ989j0TPSQs8Bzm7OWtBY1gXdrOAa47jjLeR56bTuR/PM9xb6Ov3G/j0BhQT/CG8NTg6eDYEMzg0PEEASkhLyEjITIxNsFB8UrRDWDaULzwk0CP0EMAKM/pf5BPhY9rjw0exS5/vgSty/2MjWcdUc1WDUt9GHzW7KycmVy9LMW8t4yt/Ir8gRzerPtdBmzrPKPMkjykLNn9Dp0xzWiNsB4dTk5uzt80r7bwTdDCoWdyL0LgY5JETQTRVXQWLNaQxsoWsea75r1W5Qda54YXYrcJxmfFw+UqVKR0YwQGY4YDLZKuwhgRhQDb4Dz/uV8ynswuRH3HjXM9SP0SjN08gyxN+9Mrz3uTO60bvUvcjA2sJkxq7JiczAzYvQXdMA1nLcOOPj6N/v/PTx91/7V/2NAUoJFRAdFCgXyRqRHDMgkyQTJ8opkyqsKUInvSTgIk4i6iHOIjQgsBo3FkoP/wfkAq3+afkO9rby1et849fcLNdr04XPacq3xjnFTsUuw1rCHsLCv2C/Qb59vOy8Ar/5vwHAo8C7wGrBKsHqw5nJhs330ffWx9xD5yHySPzpCFMUJx+zKqA2okAWSxFWOl/TZzNvBnQMd3R5GHnKeYF5FXgrdxtyDWm5Xx9Y11JyT7FJQUCJM3ImmRsSFJIOPQi1/+L1FuuV5Dzfs9YI0QLLJsWIwXC/ib3bux63NrOTs9u0ergnu4u89ryjvpHBH8Zgy4DPq9Jx1SHaTeEm54Lr2fFq9jr8uQRLDKgRoxU2HI8i6igZMKU1LzpDO0U8Iz0hP/k/S0DnQCg9sjjRNI8xqioxJHAdFxZIEGgKuwRI/KXzYOwG5Vje99lt1AjO9MkbxlfCEcBRvjG8VbqguKu2JbUztI2zjbPttLK1erXntce1OrZouOq7ScAtxhDOntTD26vknew897kETBNrIVst/DfLP/RIC1SyXwFsNHOedY10kXJvcu92YXx+fCd3q2trXyNXUlRjU4tN3EOmOJwtmCUkIFQY0Q2pA2L3LvC67W3p2ePt2n7R9MkpxRfEvsNzv8+5XrbGtGO3RbuYvBG817mBuae8GMFTxJPGW8h2y2rSttqr4s/leeU26BztlPf3BLsNwRRsGEEaDCDiJ7Ew7zipPAY++D8SQX5FrUqoTGxMzUk3R5VEhEBlOyM2pDCuLMEpECTDGpsOGATe+0/0OvFv6//i2toP0kHLSsbwwby9fbndtCGzkrBOrnOtoKwhrI6sFa4zry2wTa8lr8uw3bIuuDW9KsAGxWfIWcxF0qzaDeab8Pz6Xgf2E6seqym5Mes4A0QgUDxdkWeMbZRvFm28bPpuIXPBd+p5iXZnbR9jP1oJVhhUw1EyTAFCMzZeK28iKxrOEssL2QNH+rryqewE43rZktGQyzLIN8YnxOu+rrg8s2Cv9a7RsTO1NrZQtSuzr7LbtMG3Lrz+v5XD7cjozyXVx9c+2zreIOQ97x790AdJDzIUfBWeGVAjEzAuPFFFJ0nzSNhIhksAT4lSh1VUVvFUm1LcTvZJSkVRPjU5ejVoMYstrSasGq4NJwT4/BP4k/Ij65jgmNTCy0fFgr+2u1G4mbM1sUqvK6t/p/ukyKRVpkapg6uurLKsrarIqXWqLq3lsWO3l7qgvHPA1sV1zGrUPN3T5tDww/vlB88S8h26KVA1FkFoTPxWhmFkaTRvQXNgdIB2pnlFfL1+/3+6fIF02Wo+Yedajlg5VgFSykfPOcsrdCCmGWEURw0eAnH2cuyF5V7g2Npz0+nIPMI5v/C81Ls8udq0J69lruGxUrR6tmC2nrMEsvW1yryTwjrG2sYFyf3Ok9ZE3zvlIee56QjwX/vZCFAU1horGxocaiKwLN04Y0KcRmFGKEa6R7lKqU4VUFBPsEzBSj5K1EeMQk87TDRzLqwqqiYuIEYV5AdB/X72VPKm7sXnk9zk0ULJ8MJCvue7OrmDtCqyXbFdr4qtG6xpqr2p0KrhrPCtGrDMsBiwXLICtje42LpIvRa/OcMQyLLPn9de3k7mfe7C9ycClQ0vGFsioizBN3tE9U7jV7JhOGlXbhlzWHYyd3B38XlRfAp9enmWcQZnsVyEVjRUIlL5Seo9xy8JI1kbIxeBEYkHdPpK72Po8+LR3iLZbNA2yP/CgcC+wA7A6bsWtRaxOrKFtca5U7yzubW2hLg/vdzDoMdayYvKUM4V1qzeNOVk583opOvH86H/gQpeEloVshUPGWsgwysyN4c9dz9IPxdBuUXpSoRNek52TENL2EoxSTZG+z7eNy4xbS2YK4ommx6jE+YHiv+o+nr3Q/HL6C3gt9aSz67K38awwTy8SriTtd2zurF3rturEKqxqZ2tjbFEs1Gzk7KbsUizJbjku2S+yb/Iv8XBa8biyhLQzdV83ILjsusn9Pb7UgXgDx0chik0NuE/Bkf7TRlVVl50adNxUnXWcwxxwm8ectl1R3d+c79pal8kV5VT0lHoTAhDLDeTKsEheB4DGdsPJQPP9obt5Omn6FXjRdrYzpzFIcJiw0DF2MOSvg24+7PBtq68q8A9wZe/Fr/+wZTIuc0w0M3PN9A21U/ee+cS7JvsWuoe7KPztv8LC0oRARLsEEEU4hsyJwgwXTXFN/s3mjqSP6tCZ0SzQzVC/EKERBdFKUH/OOIvNyo+KDwnEiNvG+gPzgMN/Hr3IPRq7xbo995/1p/RLc5myorGRMEHviK93LxUvHa60bcotqG2WLk/vFC+fL7bvMS8eL4hweHEZMeMx5THDMjZy7rQndR82CbdYuME66Lz0/rYAfwJWhM4H7QstDcNPxRFLEuAUkdcHWbHa6dsfmqNZxto2Gs/bz5utmfjXTxU7k26SnhHhEBANyks9CHwG44WAw90BR/6NvCA6tLnFuVP38HWK865yM7HZskOynHHQcHau4S6Yb3WwZPEWcXIw3jEnMc/ytfMu82FztnR7tdM33TlKeii54fnDezw9Lb/CQn5DZkP5BArFlIfSynAMWY2tjhfOzE+o0E1RM9EckToQ9dEZkVhQ8g+sDcCMIAq4SdCJQkh+Rm7DxoGbf6f+rX3C/Nq7C/kFNyU1j/SkcwgyFzEnMKwwVrAZb5Pu7G4BLeQt3K5VLtJvTG+k71JvTm+LcDlwi/F6sbvxyPJEsvazWTRIdaH29Lh1uf27Q714vpQA6MNOBlgJRkwXjhQPoREqUuJVO9c32OIZ8lnT2dmZ8tos2sEbslr4GXTXfRUF0+kS+ZHb0LjOaQv0iUWHhgYExEoB3X8GvTe7rPrSeeE4OHXxM/1yxjMlM1QzYHJQ8NNvr285r6aw3bFcMTtwrDB1MKKxivJxMnFysnNDNOc2dXfO+Iy49PlE+xM9rIBqwl9DKsMXg5oFQggFyuLMpQ1DTYlNwQ6iT2xQA5CwkFZQRpCNEL1P2s7NDViL2sr/iiWJa8eKhb9CysDZP3e+CX1e+/t6K/hndrq1PrPLczPyI/GcsUYxIfC5L/Ku0S5ybmvu4W+PcDcvhy9PL2ZvgPBSMPyxPPFWsdFyWjLKs6Y0OfT5NfN3ffksOuZ8ar3Lf49BnURMB5zKpUzbDpyQE1IoVGQW7RkTGkQaixqy2p/bNVvyXAabqto2GEDW2dVZlHqTP9EkTv8Mj8qmyP8Hc4WXg3qA4/7nvWO8TTsEeX43CzVdNB4z2nOpcuLxmLAoLssu4u8Vb08vUW7W7qGu+++r8JkxHfEK8X5x8jN5NSt2vHdt94f4YPnAPEL+n0BGAbsB5ILTBJFHIUl7CwvMhs0WjfXO54/xkDoQHJBHEJ9Q9tDkkGvPGw3oTJgL1st/yleI9saBxJ/CisFSgFf/IT1Ce6f5uLg1duF1vjQcMtIx/TDEcIwwW2+wrtMuQW487hKunG7ibunugy6ibsovuK/A8HxwSvDh8U3yKDK08wYz2fSdtcm3mjlMewz8l74pgCDCoYWfSKkLLU0sDtSQx9LbVTAXGpja2imakxrkGuGbG1uSm+Xbh9rlGXMXlxX61JjTphIY0JzOsEwWydoIIkZgBIjC3sCO/sD9fru9eje4WnabNSU0UzQlc5byy/G/sAVvbW8ab48v3S/cb79vVS+RsDmwqbEWMZgyBvMJNEo1jbZQts93pzjeevJ9E78LwBbAwkHKQ2LFcMeQiZAKz8v2DIVODQ90UADQvJBvUKgRONGZUboQuc9YDjcNPMzmTFHLNkkQxuPEqcMwwhPBOj+4/c976XoZ+JD3ajXAtKKzYrJ4MfPxffCcL9WvMy67rp2vOm8KLyeupC4QriwuSm8Zb5ov5XApsHCwkHEVMZ5yBfMIdEl1vPbtOAC5qDsjPSw/RwI1hJxHHYl2S3HNnI/iEjiUNBYBGAMZTBoHWmyafRqSm30buhuvWtrZJVcRlYtUdpMKUirQVU5jjDRKO8h4hohE5EKhwL4+4b2xvAr6l3iFtus1pfUWdPn0O3L08VFwKW9Fb5uvqC+Ur3Gu6y7X70JwBnB58Fvwk7EvsgGzvzR2tOZ1WvYtN6Z54jwPfeU+hT90gD0B5YRsxqSIbImbSqMLg80HjgnO9497j9SQgtFU0ZIRWJC6D2xOrg5PzkRN20xGynBHxkZ4BRsEbwNlwfK/0j30O/z6UbkYt/u2hrWINKEzrPKU8buwvG/Nr6Rvmm+kL1kux+5wLfftyi5+7rQvC2+q77ivrq/cMFfwxbGn8lwzTzS6Naz25HgG+b07If1bP/iCZ8UpR6/JwQwgjgbQf5JbVMCXJNi82aEac1pIWuRbgpy83N1ccVrwGN2XOZX9lROUX9Kd0KoOGkvNSjvIJMZBRE9CFYABvpz9LPtGubd3SbXKtNE0VTPJss3xa++ebkruBC5crnDuAe3DrbGtU+4B7s3vAm9ZL2AwMDE88mqzp/Qj9JN1sjcpuV57n/16PlD/RACjwnyEp4boSNbKa8tEDMpOGw98EEKRV5H5Ug2SulKwkmsR7pEhUERQOU+FTyZN3Ex3Cm/Ihsd6xe6EugM3wWQ/o33vvBZ6iflFeAi25nWb9EqzIvHacP9v2G+5L1zvby8HrsNupC5gLkXu+S7gbybvYm+Yr+OwPvBm8L+xHrI3Mv9z33Txtbb2nDgM+cF8H75ZwHACX0SuxwJKOwymjyqREtMg1NvW9tiBGi+av1rHm0wb5dykXT1cqNtJWbGXgBaX1cBVKFNj0Q/OpUwMCqkJNAd2RSxChoBFPlV81jtGea/3S/WQ9GuzlbNNcrNxFu+krlauL6447k3uZ+2zLQItDK277lAvJS8J7xlvZLAOMZ/y8POzNCr02PZ8OEy6xHy9vaJ+l//xgalEPMZACFsJe0o6S0QNL86hz83Qk1D9URrR+NIhkkrSK5EWkJSQTBA0z0qOeUyzCs9Ji0iFh5HGUQSHApQAvr7d/Yj8DvpFuIW3MnXx9Mxz6/J6cNqvzO9Sb1+vUm8ArqUt5+2rrdpumG8Zbznu6i7IL2cwM3DpsUDxxnI8snZzeLSPddz2pvdDuKb6GPxgfqiAswKvBLaG8gmVDFbOyFDfUnGUPJY+mBkZxhrG2xsbK9ta3AbchdxVWziZKJdhVgiVYRRJ0uEQeg3vy63J3giHRwPFEwK2wBY+fLzwe7D58/fo9dk0VnOJMxxyT3Fvb+GuxS5j7j8uHa4lrYUtUy1CLfXufO7r7xJvYW/z8N5ySrOzdB50vvUaNnV4I7pm/Bf9bH4l/ySAqwK2hKvGY0eHiIhJlAsjDJMOIc86D4QQVtD8kY1SYpJbkjhRZdDj0LhQcM/Yzs7NRAu6SdBIyUf5BmeEukKwQLY+6n1pu9P6kjkS94G2YjUXtAuzHrHlMM5wSXA1L//vlK9M7tQus+6kbxHv/jATMFHwSnBrMFMw9HFBciGyWHLls2K0MHTc9Zw2ejcNuFT5kjsA/Pc+V4A1gfkEDQbiiaLMfo6wULmSQZQLVfdXnFlZ2qzbJBtoG0GbpdubW5ZbG5nGGF8WrtT8kwKRtQ9vTRBLI8kxx3MFucO1wVR/Jb0cO5H6Zzjjdzd1EPOm8nixo/FGMPHv0m8CbpLuUi5g7nluI23Z7fJuRy9TMAmwp3Cr8Pjxv7L4tHU1nbZJduc3Sfic+gM8MT23Prw/hEEUwpJEe0XNx3CIZwmtCvbMG01IDnZOyE+KkGiRNFGbUdKRjREFkJNQC0/ij3fObs03y+wKkMltB/KGXETGg1gB7UB6PtD9efuoejW4t3eUNuZ1y/TMM7nyQzGRMO+wXXAKr/ZvTu9BL1/vf29qr+DwTLDp8U2x2bIgckIyz7No9AN1B7XSdlG2orbdd1c4EjkX+gM7FHvBPMn+Iz+kgU6DaoUoRyXJc4uRThOQFBHME1DU5RZIGCFZeRnxmenZURkRGRsZA9jbl9ZWPRPOUjWQeg7ETU1Lc0j4xpFE7wMuAUq/vr16O3f50zjKt+Q2WfSd8uxxr7Eq8SsxJ7D6MACvmG9Ir9swQvDisNBwxDEfsYIysjMjs67z9zRgtWY2j3gSONI5GflQOi87bT0FPvs/7ICAgbOCjURWBiaHl8jHydzKrAuWTNyNgI5kjo9PSdAqkJ6RJBDyUAqPsE8fTuvOT02qzDkKf0jmB91G+oW5xDoCS8DYf3h+Fb02+5d6KbipN582yjZX9Yg0urNDMvkyTfKacmVxy7F9MJ8wqDD28Uex2jIjskBy0/O89Ew1fbWV9gm2t/ciuBG4zflKuWr5Xbn7ukq7SDv1PB28arybPWF+ZX+LANfCNkNAhTyG3kk/iziNDk8sEOUSm5QZlXHWLtaylt4XPxcN1zjWmZYlFQjT+5ILEIBO2Y0gywsJQUdNhQ8DLAEzv6z+GLzoO0n567h49zd2OPUSdFmzRjKQ8jvx0vIL8jfx2rHqseIyYnLWs1bznnOOc/D0I/T8Nax2djbiN2e3y3jY+bi6P7qZewT7znz+fe9/GEAUAOTBk0LVRHiFwAdPSA0Iz8m+ykgLtQx3TOyNFU1yDbCOG46mDowOaI3rjXSM6Mx5y7oKVQk2h8BHNAYoBQVEFAK6QSnALH8RfmL9PTuk+ks5erh59+A3RHaJ9e41F3TINPP0lbRZ8+FzQPNN81BzqHOD84HzrDOZtGc1GzYpNp83Ozdl9804pnkueY75zHoF+qT7PruhvG98qTz7vTp9g/6APy9/fH+cgACBLUJ3w/3FfMbriFOKEkvkTZ9PJBAikMoRj9JMkzsTfxNZkyoSoVJPUlASHdE4z65OMgyey0lKfYiWxtpE9YLgQbjAgz/Rvm08kPsWOfA5Hfird5k2YjTEdBXz3vQg9EC0ebP9s2VzkjRt9Nb1RjV2dPb0wzWONmC23ncUd1H3iXhauV26ezrpOxs7WHvovNR+Mv86P8GAkUFaAn2DpAUhxgIGzcdix+wIrIlxiciKcwpMSuTLXkw7TFBMlgxBTCKLycv9y4xLawpgCVAIawdXRuCGKcUvg/PCmIGXgLj/jD66PVm8UvtV+rD58Xl0+Jj377c7tpV2vLZ79hT1ybVFtSQ0xbUANVf1cPVt9X31lLYQNqi3Lfdj98R4QfjmuVL54XoNul06u3rre2E79Hw2/A68IDwkvHi8of0KfbW9gX4Nfov/VgBawYoCzQQcRVgG4MhCyiBLkEzEjgNPI9APETtRr5I70iMSNhHREffRnZF8EEmPbA3qzIZLgUqSyUqHxwYbBGrC6QGPwI+/W/3DvJg7QXpgOVI4mTeodq51xvWU9VT1GDTt9Gt0OjQ69EF1IbVFNZU1tXWPtjS2kfdJN814CrhxOI85TnoNurR6xXtCe8l8pD10Pgi+xb9av+6AmAHsAumD08SfRRaF2oa2B6uIlol2iYfKLYp+yvdLf0ubC+ALhAuIS4LLn0tACuFJ38kQSEnH3EcExmpFM0PhwuoB/cECwG2/EX4SfTK8Irt9elf5h3jtd/T3TzcfdrP2HXWhNTg0+zT2tR51WHVHdW/1JbVB9eo2JXZh9qp27rcMN884TDj2uRk5kDoVerU7Kzu0u+S8HbxEPOf9bD3RflJ+oL7if1yAKIDFAYlCPwJpQxXD7MS4BWIGKsbBR8qIx8oMC0TMUs0TTf9OaA8/j6dP9Y+yz0iPNU6rjl8N1o0DDByKzAnbiNBH3EaWRRJDfUGrwF7/UL5YfRN7xfrn+d75djjpuHe3lzcJNoQ2b3YO9gJ2GfXQdcN2OLZAtyl3cze9t+g4XvjbuV652/oIOm86q7sXe9E8kP0ovXl9k75K/xN/0MCPgTuBQwIbAoHDeQQ/xO5Fu4YExtfHV8fdiGuInIjFiSSJPgkZiW0JBokLiPhISEh8R8EH+IcpRlcFtkSpA+6DHwJswWDAXD9Mvlm9S/yIu8w7BTpnebU42zhQ99P3VTbgNnM2NDXsdem12fXetdP15jXV9he2UvaJdua217cK92i3mLgU+LB5NzmR+kt69Hs6O7+8JPyffSy9iP4Q/nj+pv8cP66AE0DwgUMCB0KkQykDuMQEhQNF7kadh7oIWolRykmLbcwlzQUOPA62DyvPSI+uT0cPRU8ujrROLg1BTICLjQqQCZLIgoeAxmaE4UOXwkgBJ/+hvkV9SPxLe4h6y/oHeXh4YffF94s3azczttm2rvZSdmV2ZLaUdva3AXeGd9n4FrhWeJR4+LkOuY+6MLqOuwE7nnvz/CM8jX1APjV+sD9t/+2AaUDJQbrCOMLZw9XEp4U1RavGMUaqxwyHrEfcyGIIiIjtCPEI/ki2CG2If0gRiDsHsccwBnFFvwT7hCpDhcMxAgZBZABTv4d+5/3SfSs8Bzuiuvb6IDmx+Nm4WnfHN6R3Z3ccdsB2zLZINi81zbY4th92c/ZLdpu2zzcqd2T3tnfDeEk4wflxeZf6K7p+OrH7Irvz/HB9LX2Ofit+av72v0+AOYCmgRBBhYIGgpgDAcPGhEJE9EUkRZ0GEIaGhx7HcseHSArIhwkaiWZJgsnJCdhJ9gnVSgbKE0nJCbsJM8jxCKhIcIfSh5PHK0Z8RfeFV8TghA+DaYKrAiEBnoEFQKW/3n9Wfsl+kf5BPiR9rD0/PKX8dHwZ/Bd76juu+087R7t3uz47Dztce0a7qjvPvC28KXxfPKT88D0lPZs+DX6gvtQ/Ib9Wv7M/lf/sP8v/wf/lv7P/fr8Y/yZ+6P6bfqW+Qz4vva39cPzGfKw8GjvFe/27WTsI+vE6SbpYei05/bmYOb/5bbk3+PA4obhNeGi4T7i3eK/46bkXuas6PPrrPAb9er56P6zA4YJxw/HFVIbnCASJtMqLS+RMyI2iTfTOCc6ODsVPNk73znDN0Y19jIBMZkuwCsTKO4jqR/TG1IYEBRiDxkLawdsBNYBx/4m+0f3IPTs8RLwCu+T7Rbr5ei25nnlg+UG5TvkIOOh4eLgReHP4fvgYuDU30vfHOC54Nfg/uCl4P7gm+IQ5WjnhumH67nsMe848mD1PfjX+lr9AAAZA0MGtgnQC/8NbRDkEskVcBgvGgEbABzTHEoeox/dIFwhBCEQIbQgoyBEIKUfTh4MHWYbSxm3F+sVDRScEWAPnA1qDPkKFwm6BhwE7gEMAIP+uvxS+rz3HfUI8wfxbu9f7kXsjepI6RXoHecX5vrkH+SC4yrjlOP842rkgeQj5bflU+Y06IHpMOsy7DPtx+4d8GzyrPSr9v73ofmY+4X9Cv+8ABwC1wJLBJQF9QaiCNIJXQouC98LFA1JDukO+Q5pDuANvw2CDRANbAyZC/8K+wntCQEJ7wf0BmcF1QOgAqQBEgA1/kf83/r7+MD3zva59dL06PPa8kHyGfLt8ZfxPPHV8HLwwfAE8cjxzPEA8hbzsfO89OX1s/Yp9xj44vjj+Rj7B/zu/I79aP6i/xABdwKGA4gEhwUfBhYHbgiDCSEKjwqzCjwL+AtMDGAMagyKDBINQw2NDSkOCw6/DZgNWg0EDQENMAwQDE0LjgqOCjQKOQpJCW0ImgfJBu0FbwUFBa0DjALoATYBHwDT/1f/3f24/MX7nPvl+lv6Ovlj+C34Nfg2+Cn4lPgr+CP4Ufjm+Eb5h/nm+bD6T/vP+0H8YPxe/LH82vyJ/Tv+kP7A/hL+/v0W/k/+R/49/u/90/1r/pX+af48/hT+vv2k/Rv+hv6a/fb8Bf1M/Cf8Xvy+/Lv8EPxY+x373Pq4+vf63/kS+Yn4HPhI+An4TvdG9tH1fvU29VT1lPS88yDz4vIO82nz6vP+80D09fQ19lT38fio+jP8Hv4jAPoC3wXLCLIL9A3LEA4UdReLGvUcKx/lICQiuSMmJbUlDCYMJsQl0iRSIxkiXSBlHkYcJBqJFxAVjBKCD+0MlQnXBogECAJ6/2f9Ivvo+B734vSd8zvyQvF/8LjvKu8D7oLtB+3x7Ljs9+v569nrweuX66HrEexN7Lzske0B77nve/Cf8dDyh/Td9Y73QPl8+uz7Kv0s//IAVgJWBDQGFQi6CdALYg1FD1AR1RIHFAIV/hWjFisX+Rc3GCQYZRi4F0IX0haiFVEUrhKOEM8O1Ay8CpYIcwYlBGMBK/+y/Fv6/fdr9dPyfPCt7qXs6OoZ6RznZeVe5BTjPuJU4WHgsN/T3t/eyd5P36Hfu9/M3z/gCOED4m3j0uQK5gTn4Oc/6UTrA+2p7s/vDvFq8hn0yfWQ9x75aPr/+8j9CQAzAjEEKQZoCMUKQg2ED/UR4BOzFZgXGxkpG/cc6h1tHiAfux8ZIQAicyLPIm8iCiK1IUkhEyHwHy4e9BzNG8AaqRhmF6oVExNtEJcO4wxiClIIagU3AyQBa/+a/aL7w/l/9+T1efQ787bxFPAo7mvsdOs96gjpSehX5/Dm0Obi5pTn1uc/6Grobujt6OPpD+vO65vsAO4870nw+/Hk8n7zqvRO9Vz2PPeo93L4ZviU+A/52fmL+i76Gfon+iX65/kb+gj6oflR+XH45/cW96T2E/aL9Tj1vPTA9P/06vVy9zf5I/v//e0AlQQSCegMfRBgFAUY5RvKH+Ei8iR2JrEnoyh0KXApOimuKEMnqiTxIt8gmR5vHE0ZzRV3EnoP1wzfCXIGmAMHAE79APsU+SD36vT38oXxxvBL8GrwJfC070DvDu9P76Hv2e/O75zvnO8/7zHv+e4a7iTuPu6j7u7u+u5E7wDv7+4E733vYfBc8b/x/fG98mfz2/Rn9jT4p/kc++z8qP6xAJcCeQSpBp4I8Ak3DNcN6Q44EBkRBBLmEswTsBSvFCYUHRTzE54TJBNXEg8RoQ+ADhANJAzKCuEIcwcQBnQFggS6A/oCmwHNALX/Lf94/tr84/uP+vb4ife39uT1t/R/8/PyQPJ68c3wFvDS73/vQfDt73Tv1u6K7u3uNe/673bw0fAD8abxbvJ283D0e/W29g74YPmM+qj79/xy/vj/LQEOAjIDYwShBawGeQd/CJIJvwrCC9QM7Q2PDjsP+g+hEOwQZhG1EUURRREKEUEQ1g9yD6AOww3fDK8LoQpUCRUIpgaFBZcEHwONAeP/Uf5J/UL8xvtM+8X55/hh+Jf3zPap9hf2fvXv9DD0aPTq83vzRPMl8yTzxfL08v/y1PKx8rvy5PK481/0F/Xv9Xn2P/cI+EL5Ovo9+/77xPw1/eb9+P4//7n/gQDLAGQBTwL6ArwDFAS/BAsFvgUuBvgFWAY2Bh8GFQY2BmUGKAb/BS0GIwYvBgcGSgUDBdcEVQSYA9YCPAIeAXEABQCH//7+4/4+/mT9D/2l/JP8j/y8/AT8Ovwc/HX8g/yz/MH8c/z3/J38zvw8/KD8UvyR/Nz82fyj/av94f3y/Tz+Y/70/vf+Wf8+/7L/DQCk/x0AVgArABQAfQByAJQAqADJAL4AzwCZABwAfgATAWEB+AA+AcMBrgFeArAC8ALsAi0DdwOSA1ME4wOkA9UDmgOpA04D+gLKAjwCeAHCAFAA5P9Q/2r+Mv64/QD9Hf3P/Hn8dPxQ/Ir8qvyw/Mr8E/1U/Wj9w/3a/Qf+TP7P/mT/I/9f/3//qf9GABUAXQCyALUArgDGAOAA/QD4APcAjQGiARkCsgIsA5wDHAQrBJsERgW+BWAGcQbUBkUHlgdsB4cHzAfKB6cHCQhbCCUI3webB44HmgeAB08HgQfFBkkGyQUCBY4EvwM/AzcCdwF9AG//s/75/Un9LvwF+2z6tfl9+DX4CvfT9Zj1RPXl9JL0jvQC9Knz6/Pa8+rzEvQ09Bv0HPTC9E/1OfUA9uD2YPf49yP4q/ia+Fn5dvmS+az52PmZ+iz6GPrv+WX6c/pz+sj6Zvru+Ub6TPp5+gz7pPrR+hf7CPwL/Zz9dP6W/zAB+gICBUgGxQdpCd0KngyIDi4QwBEfE0EUshXHFskX2RiQGjYbdRvlG/AbCRwXG3saZRn9FxUXyxUWFGkSnhBgDnEM0gr1CNgGQAXEA4wCPQGo/1r+Gv39+8j6sPkm+Xn43fdh9zz2U/Yh9uT10PWc9Xv1v/Q69XL18vX49cv1sfWk9Vj1NPWI9fv0v/S69Pz0PvXS9ST2uPXs9YD2X/dQ+M747vny+SP6dftG/AT9Pf6R/if/7P9XACkBawHoASQCYwKvAk0DWQP+AkoC1QGvAV8BUAG8AJAAUgCk/7D/tv+P/wP/yP6I/iv+L/4+/fX8cPzM+5D7XPsK+7v6t/ps+lT6kfr5+gv7Rfux+xP8V/yY/L78D/2Z/Tn+Yv7r/rn/rv/M/2cA0gBgAVkC3gLdAyAEZQT+BIQFOwaQBjAHbQdyB2UHjQe2B9IHSAjtByAIPQhbCPQI1QgPCY0IHghRCLMIlAjNCEsI0QfjB54HbQekBhYGswXfBaAEWARRBKwDAgOSAjQCZAFEAeT/VP+X/mf9oPyk+9b65/nk+Mn34vYA9vr0jfSO8xzzovKq8WLx6vBN8T3xaPHT8ejxNvJz8sryRfOb82L0D/U69T31t/T39Eb1qvV89ZP14PXS9Wn2DfZl9j33Cvgl+Nr4K/oX+1j8u/1T//wAKQNDBT8HngkIDPINdBDfEu8UmBcKGvkb/B1bH6YglSGsIi8jMiNLI48iAiLQIFcfbR1UG8QYORYMFB0RHA5SC0kIZAX1AnkABv74+2f5V/ci9jL05fJj8Q3wl+/Y7vntDO197PXrZ+sR67TqG+uj62fr7Ore6gbrS+uh6z3r5+uc7BrtKO5U7iHv6O+c8N3xC/OS9LX1CPch+IX5dvtB/Zf+tv9jAbQCYASGBaoGWAjDCcQKawsEDcUN4g5QED4QnxDsELsRmhKeEnMSFRJ1EZMQ9w95DysPUw4kDTYMDwu+Cd8IBQi9BqIF2AS4A1MCvQBW/yH+5PwC/Ov6Bvru+ND3Bfe39lL2bvU09WT02fN689vyV/Or85/zB/NX88DzD/R79In0NvV59Z/1VvbO9jD3ufe9+Nn5Tvo3+w/8Hv3G/bz+If+//4oAbgEzAugB3AL6An0D/wM7BNoEhAXkBQcGswbCBtoGDAf0BvUG1gbQBsEGjAamBrIGKwb7BYMFIwXWBJYDBgM0ApMB9ABEANL/3f45/tD97vwd/LL7TPuC+i361Pk1+fP4wfhM+Vj5PfmO+Yn5g/mg+Y75vPnJ+QL6M/op+tL5w/kd+kn6Afte+7n7P/yh/M78ff0F/vn9Jf6J/pX+8f5r/6H/kv/0/w8BBgFOAbQBAwIWAswB8wHBAXQBcQGkAYABygHJAUwBXwFKAa8BqwGfAawBiwFOAREB9gDOAJcA5P8jAPf/lP9B/xb/IP+F/nn+N/7+/aH9T/3h/H/8k/xO/Hr8R/xk/EP8F/w9/Ff8ofyl/PT8m/zt/NP8sPzo/H/82/xq/Z79Cf6M/rH+4f7W/vr+QP8+/7P/1P8sAIYA2/9LAK8A7AAkAZ8B+AGeAZUBeQG+AWQBagF0AXEBfwH0AMgA1gBhAVEBFQFOAXEBYwGFAbgBZQFiASwBNgE8AcUAvwDvAL4AdQDCANcAlgCdAJoAlACNAF0A2ADjACEBCAEiADgARwBOAMD/iv9Q/zv/d/8Z/yH/sv5L/hz+pf2A/WX9/fym/Iv8Yfxd/Cf8zPsz/G38Zfwh/Ez8XPxl/HX8Vfz5/Bz9sv0M/kH+QP6r/iT/+v7c/u/+Tv/8/g7/xP7//lj/FP+T/mb+mf6B/nn+0/7Y/v/+d/9Y/7n/CgDg/8v/NQBVAJMALgFRAfAAAgHRAT4CFwJrAsgCLAMQAwgDPwPJAu8C7QIpA3EDQgNQA44DSAMNA74CzwLwAucCgwIBApQB6wBDAbMAVwBFANb/If/U/sX+IP7G/Tz9svxn/Lr8jfzg+2L79vq/+v36Zvso+6X6vvqz+sH6NPtJ+4z7w/u6+6b7u/tf/KH8f/yN/AL9Tv1i/b79Dv5L/vL9Qv7B/gz/3/4C/yD/zP57//L/CAAwAD4AMQB4AL4AQwGcAeEBZwIGA/QCmwMcBCkEuAQ7BAgEUgSiBHMEOgQxBCsEMgTgA+MDvgNsAzQDzALpAtUCogKMAsACmQJUAisCGgIYAuYBuAFdATEBKAFAAQEB2ACqAEoAfgDBACAA0P/B/7D/gP8c/yn/6v6m/qX+hP5b/mX+S/5E/vv9z/0P/uD9z/39/Sb+QP6//qf+av6R/rj+4f4N/yb/sf/L/5L/zP+w/xUAhACfAFgAjgC0ALAAigC1AGQAWADNAIcA+gDlAOUA7ADPALoAVADw/8P/+/8VADEAHQAAACYA3/8Z/4j/EAD8/xQAiwDZAIwAXAG0AVYBMQFxATECHQIPAuoBpALqApYCtgKjAu0ClwKGAi0CLgIlAkcCFALvAQQCywHvAWMBjAGEAYoBkQGiAaIB5gGfAWQBhgEyAb8BwgFtAV4BnQHRAcsB7QGiAXUBkwFtAWoBIwEdAbgAiwCYAEwAVADS/9//+f/y/3H/Kv9Q/xT/7v6a/rv+z/6n/hj+U/75/pf+if7e/gr/5P78/m7/g//v/wYAPwDGAPoAIAFOAY4BrwHRAQwCRwLLAR8CUgJVAocCrgKqAmUC9gKUAsACeQJjAmoCxwHUAewB3gGyAc0BXgF9AXYBjQGCAWABQQExASUB+gDsAIMA5wDzAEABZwH7ACABPAFNASsBLQGKAQoBQAEHAYkAZQAXACQAzf85ACQACwBJABQArf/s/2EAGgAJABIAKADP/yD/8P61/qb+Ov49/t795f3X/eT9Kv7Y/T3+Nv5P/ij+n/5H/hf+A/4r/n/+zf7S/qf+Mv8j/6n/zf/s//L/+P/u/0cATAAbAHsAiwDbAEoBdgFRAV8BTwG0AfEBAwJBAnAClwJvAlECfgJ4AlkCqgKLApUCZQLqAeMBKwLEAacBpAFvAakBdAHsABABSAHSAAMBiADKAK4A6gAyAdYAhwGrAT4ClALDAogC4gIlA94CMwMYAxADRwNxAykDHgPVAngCgwLXAYkBsAFJASoBcQFiATABKAEhAeoA+AAbAecA7gDsABABCwF3AGUAGwD2/yoA4P+D/2D/W/9F/+L+sv68/i3+Ff7Z/XL9jv0w/fn8v/yW/Lj8yvzo/LL8l/x+/H38ivy+/OD8Qv2S/UX99P0B/jb+9v7B/u7+Uf82/zr/Zv9l/9H/xf+l//n/LAA1ADAAXwCDAMsAAAEiAV0BKQFBASgBPwHBAZ8B0gF0AYYBugF5AVUB8AALAfAA5QDiAHAAxgDuAHIADQHfAIEAqwA3AMIAwgBvAMsA0gCqALIAiwCNAKoAsADRANMAiQFuAXUBvgHcAdgBaAF1AWABfwGQAeYBoAFNATIB1gDbAL0A+v/2/zQAuP/S/zz/Uv+M/yH/RP9Z/27/w/99/3T/IgA6AFcAUgB5AG0AvwCsADIAhQAVAMz/8v+m/4H/Z/9K/3n/Yv+S/4r/Yv9i/xf/3f6v/nr+QP48/lT+9v2b/dP9+f1F/mD+sP7N/sH+Ev91/4P/BQBZAHIAEwE0AWABkAF3AZ4BtQGqASgCxgGJAeABtQHHAQICtQHAAS8CPwJgAoACUAIqAjcCJAKTAgIDwwIkA1sD2QKoAtoC8gLOAp8CSAJbAvAB6gENAmQBeAFQAeUAcQDz//j/sf/o/oT+Gf5b/UX93fxa/Cr8vvuU+/D7eftC+3P7W/vg+xv8V/wq/BT8C/yG/F78MfyL/JH8X/xy/MT8z/w8/cb8JP2a/Yj94v1k/qj+zP4i/wr/T/9l/xj/v/8QAPv/HwA6AHgAdwAoAIUA1ADEAJIAmwCpAKoA5ADPAB4BggHeAdEB/AEzArwCjALLAqQCvAJRA7ICOANOA+gCDANyA1IDfQOOA4wDgwNiA0oDjQPsA8IDDgRTBPMDEQRPBPcDGQT9AwME9gOVA2QDRANMAxQD6ALTAroCjQJBAmcCGwKSAbABuQG1AYEB/wAiAWYBrAGtAU0BEQGTANj/av9p/wf/5v69/iz+zf2K/Sz9ePz6+9T7rPuJ+4D7Q/uc+gT7+/qw+rL6zPr3+vH6AftU+//78/tD/Jf8x/zW/EX9MP06/Tv9Rf14/V391P0G/i3+3P1C/lr+cP67/o/+vf7J/v7+/v7Y/vz+H/84/5P/uf/U/9P/wf8bAFcALwBBAIAAFQBgABcBMQHBATQC5wEDAm0C5QINAyYDZwNOAyUDRAO7A5wDsAOxA7cDMwTQA6gD4gOQA8wDOwQGBNkD+gN1AzkDAwOPAg8CngFfAQgB9QB9AOz/kv89/9j+pP5W/hn+Hv7j/S39w/yO/Jv8LPzw+7/73vvo+0T7Fvsk+0n7O/tM+xP7M/sz++z6E/tA+0f7PftV+6f7yPvk+wL8H/w4/IX8efzx/MT9xf2i/aP9df1t/f398/2y/Yz9aP11/Y79mv3K/cX9mP1p/ZL9Hv4b/hL+MP4A/hb+MP6R/gr/P/8n/0f/fv+G/wUAYABxAPoAYgFcARQCogINAwcDjgMtBKAEzgQdBSwGfwYBB2kHiwfmB9wH7wduCGQIYQiNCIkI/wcbCO8HhAduB/AGyAaDBscFVwUyBUQEiQM4A60CzgHgADMAhf+S/iT+dP3B/IL8W/t2+tf5ePkD+Uj4uPdJ9x73/vZW9rD1gfVV9SD14PTW9P3zqvPN82LzYPOi88/zr/P2877z9/Ol9Nf0FfWF9X72Bve09yX4wPh1+Tz6RfuY+wr8rvxd/a39R/6l/nj+u/5P/17/ev/6/9b/CwBeALEAtADhAHUBpwHKAesBZAJWAmQCXgJ4Ai4DHQNEA90D6wPTA24ENwXOBWwGJgfWB40IkgmPCmwLXwzlDFYNtw2dDesN/Q20DR8N1wx0DMgLzgrfCeQIdwc5BmEFugSOA9cC9QEeARIAIv9r/pf9LP13/ND75vr7+VX56/iI+Lb3SvfH9jH2SPan9V/1PvXH9Kz0cvRB9Bn0Q/RN9Fr0KfSU9Mf0rvT79N30/fQh9X31vfX09Uv2s/Yz9wn4jfg8+QX6wfqc+zD8Ff00/vP+ov9/ABwBsgHjAV4CaQLPAswCjAKdAnQCkgJQAm4CxQKnAo0CBwMXA/ICawNQA4YD6AMIBG0EewRrBdEFaAYjBrIGiAfNB8kIQQnuCUUKdQu7CzUMZww4DGUMZwwYDIkLLQu+CiUK0QiLB2sGeAUpBNwCygF8AB3/Yf5z/Sv8UfvG+sH54fhb+Mz3ZffY9sP2jfZN9kr2ffYf9ub1Cvbq9S32VvZz9iL2GPaC9gb37/dz+F74ffj3+Mf5MPqh+pr7IPzu/MP9hf7//qj/hwDyAH0BKwKXAu0CngNQBOUEiAUfBmoGugZyB8EHkwfjBywIXAhECG4IpggqCNoHVQffBtsGSgbKBXwF0gRoBP8DOgPFApECEwKoATwBKwGmAAgA4/98/4P+DP7s/U39L/1I/N37FvzQ+7P7fvt7+2T7CPsT+0D7pfpV+nb6FftV+1D7yfur+5f75vvz+9n7C/wN/BL8SPxs/JH8hP0C/kz+Af9g/yv/7/6A/9b/WQB+AOMAQAGFAQsCqQHYAQcC/gFIAl0CWQKIAjcC5QFJAkMCUALFAWUBoQG8AbMBFAHyAHQAUwBoALX/vP/a/2f/HP8A/7v+hf5q/iz+C/4O/vn96/3B/ZH9XP03/X39ev21/c393f03/g7+Tv5i/mP+jv6q/j3+Bv6U/ov+V/64/qf+rP7I/sn+/f7T/gb/Mf9K/yb/W//d//b/BQBSAD0AEQBtAH8AhACCAIsAhQBhAD8AUQBGAEgAdgBrAKoAqgCBAIgAbQBLABsAVgCxAJoAhQBCANP/1f+m/3z/oP+5/9X/Yv9Q/yP/Lf8Y/+/+I/+7/tL+zf6y/sz+bv5S/pb+jf6e/nz+a/6I/g==\" type=\"audio/wav\" />\n",
       "                    Your browser does not support the audio element.\n",
       "                </audio>\n",
       "              "
      ],
      "text/plain": [
       "<IPython.lib.display.Audio object>"
      ]
     },
     "metadata": {},
     "output_type": "display_data"
    },
    {
     "data": {
      "text/html": [
       "\n",
       "                <audio  controls=\"controls\" >\n",
       "                    <source src=\"data:audio/wav;base64,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\" type=\"audio/wav\" />\n",
       "                    Your browser does not support the audio element.\n",
       "                </audio>\n",
       "              "
      ],
      "text/plain": [
       "<IPython.lib.display.Audio object>"
      ]
     },
     "metadata": {},
     "output_type": "display_data"
    },
    {
     "data": {
      "text/html": [
       "\n",
       "                <audio  controls=\"controls\" >\n",
       "                    <source src=\"data:audio/wav;base64,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\" type=\"audio/wav\" />\n",
       "                    Your browser does not support the audio element.\n",
       "                </audio>\n",
       "              "
      ],
      "text/plain": [
       "<IPython.lib.display.Audio object>"
      ]
     },
     "metadata": {},
     "output_type": "display_data"
    },
    {
     "data": {
      "text/html": [
       "\n",
       "                <audio  controls=\"controls\" >\n",
       "                    <source src=\"data:audio/wav;base64,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\" type=\"audio/wav\" />\n",
       "                    Your browser does not support the audio element.\n",
       "                </audio>\n",
       "              "
      ],
      "text/plain": [
       "<IPython.lib.display.Audio object>"
      ]
     },
     "metadata": {},
     "output_type": "display_data"
    }
   ],
   "source": [
    "playDigits('denoisedQueries/32834.mp3', digitTimes)"
   ]
  },
  {
   "cell_type": "code",
   "execution_count": null,
   "metadata": {},
   "outputs": [],
   "source": []
  },
  {
   "cell_type": "code",
   "execution_count": 49,
   "metadata": {},
   "outputs": [],
   "source": [
    "queries = retrieveMP3s(\"Queries\")\n",
    "references = retrieveMP3s(\"References\")"
   ]
  },
  {
   "cell_type": "code",
   "execution_count": 58,
   "metadata": {},
   "outputs": [],
   "source": [
    "mfcc_test = mfcc(S, num_coeffs = 20)"
   ]
  },
  {
   "cell_type": "code",
   "execution_count": null,
   "metadata": {},
   "outputs": [],
   "source": [
    "plt.imshow(mfcc_test, cmap = \"jet\", origin = \"lower\")\n",
    "plt.axis(\"tight\")"
   ]
  },
  {
   "cell_type": "code",
   "execution_count": null,
   "metadata": {},
   "outputs": [],
   "source": [
    "S_first = lb.core.stft(audio[17408:27776], n_fft = 2048, hop_length = 128)"
   ]
  },
  {
   "cell_type": "code",
   "execution_count": null,
   "metadata": {},
   "outputs": [],
   "source": [
    "mfcc_first = mfcc(S_first, num_coeffs = 20)"
   ]
  },
  {
   "cell_type": "code",
   "execution_count": null,
   "metadata": {},
   "outputs": [],
   "source": [
    "plt.imshow(mfcc_first, cmap = \"jet\", origin = \"lower\")\n",
    "plt.axis(\"tight\")"
   ]
  },
  {
   "cell_type": "code",
   "execution_count": null,
   "metadata": {},
   "outputs": [],
   "source": [
    "reference_three, sr = lb.core.load('References/Reference_3.mp3', sr = 22050)"
   ]
  },
  {
   "cell_type": "code",
   "execution_count": null,
   "metadata": {},
   "outputs": [],
   "source": [
    "ipd.Audio(reference_three, rate = 22050)"
   ]
  },
  {
   "cell_type": "code",
   "execution_count": null,
   "metadata": {},
   "outputs": [],
   "source": [
    "S_reference = lb.core.stft(reference_three, n_fft = 2048, hop_length = 128)"
   ]
  },
  {
   "cell_type": "code",
   "execution_count": null,
   "metadata": {},
   "outputs": [],
   "source": [
    "mfcc_ref = mfcc(S_reference, num_coeffs = 20)"
   ]
  },
  {
   "cell_type": "code",
   "execution_count": null,
   "metadata": {},
   "outputs": [],
   "source": [
    "plt.imshow(mfcc_ref, cmap = \"jet\", origin = \"lower\")\n",
    "plt.axis(\"tight\")"
   ]
  },
  {
   "cell_type": "code",
   "execution_count": null,
   "metadata": {},
   "outputs": [],
   "source": [
    "D, wp = lb.sequence.dtw(mfcc_ref, mfcc_first)"
   ]
  },
  {
   "cell_type": "code",
   "execution_count": null,
   "metadata": {},
   "outputs": [],
   "source": [
    "import librosa.display\n",
    "lb.display.specshow(D, x_axis='frames', y_axis='frames')\n",
    "plt.plot(wp[:, 1], wp[:, 0], label='Optimal path', color='y')"
   ]
  },
  {
   "cell_type": "code",
   "execution_count": null,
   "metadata": {},
   "outputs": [],
   "source": [
    "plt.plot(D[-1, :] / wp.shape[0])"
   ]
  },
  {
   "cell_type": "code",
   "execution_count": null,
   "metadata": {},
   "outputs": [],
   "source": [
    "np.min(D[-1,:])"
   ]
  },
  {
   "cell_type": "code",
   "execution_count": null,
   "metadata": {},
   "outputs": [],
   "source": [
    "reference_four, sr = lb.core.load('References/Reference_4.mp3', sr = 22050)"
   ]
  },
  {
   "cell_type": "code",
   "execution_count": null,
   "metadata": {},
   "outputs": [],
   "source": [
    "S_ref4 = lb.core.stft(reference_four, n_fft = 2048, hop_length = 128)"
   ]
  },
  {
   "cell_type": "code",
   "execution_count": null,
   "metadata": {},
   "outputs": [],
   "source": [
    "mfcc_ref4 = mfcc(S_ref4, num_coeffs = 20)"
   ]
  },
  {
   "cell_type": "code",
   "execution_count": null,
   "metadata": {},
   "outputs": [],
   "source": [
    "D4, wp4 = lb.sequence.dtw(mfcc_ref4, mfcc_first)"
   ]
  },
  {
   "cell_type": "code",
   "execution_count": null,
   "metadata": {},
   "outputs": [],
   "source": [
    "np.min(D4[-1,:])"
   ]
  },
  {
   "cell_type": "code",
   "execution_count": null,
   "metadata": {},
   "outputs": [],
   "source": [
    "print(references)"
   ]
  },
  {
   "cell_type": "code",
   "execution_count": null,
   "metadata": {},
   "outputs": [],
   "source": [
    "for i in range(len(references)):\n",
    "    print(references[i])\n",
    "    reference_num, sr = lb.core.load(references[i], sr = 22050)\n",
    "    S_refNum = lb.core.stft(reference_num, n_fft = 2048, hop_length = 128)\n",
    "    mfcc_refNum = mfcc(S_refNum, num_coeffs = 20)\n",
    "    D_num, wp_num = lb.sequence.dtw(mfcc_refNum, mfcc_first)\n",
    "    print(np.min(D_num[-1:]))"
   ]
  },
  {
   "cell_type": "code",
   "execution_count": 88,
   "metadata": {},
   "outputs": [],
   "source": [
    "def getMatchScores(mfccQuery, references):\n",
    "    storage = []\n",
    "    for i in range(len(references)):\n",
    "        #print(references[i])\n",
    "        reference_num, sr = lb.core.load(references[i], sr = 22050)\n",
    "        S_refNum = lb.core.stft(reference_num, n_fft = 2048, hop_length = 128)\n",
    "        mfcc_refNum = mfcc(S_refNum, num_coeffs = 20)\n",
    "        D_num, wp_num = lb.sequence.dtw(mfcc_refNum, mfccQuery)\n",
    "        storage.append(np.min(D_num[-1:]))\n",
    "        #print(np.min(D_num[-1:]))\n",
    "    minPos = np.argmin(storage)\n",
    "    print(references[minPos])\n",
    "    #return storage"
   ]
  },
  {
   "cell_type": "code",
   "execution_count": 89,
   "metadata": {},
   "outputs": [],
   "source": [
    "#S_first = lb.core.stft(audio[17408:27776], n_fft = 2048, hop_length = 128, n_fft = 2048, hop_length = 128)\n",
    "#answer = retrieveAnswer('Queries/32824.mp3')\n",
    "def analyzeQuery(audio, times, references, originalAudio):\n",
    "    answer = retrieveAnswer(originalAudio)\n",
    "    \n",
    "    for i in range(len(times)):\n",
    "        t = times[i]\n",
    "        print(answer[i])\n",
    "        #print(t[0])\n",
    "        #print(t[])\n",
    "        S_query = lb.core.stft(audio[t[0]:t[1]], n_fft = 2048, hop_length = 128)\n",
    "        mfcc_query = mfcc(S_query, num_coeffs = 20)\n",
    "        getMatchScores(mfcc_query, references)\n"
   ]
  },
  {
   "cell_type": "code",
   "execution_count": 86,
   "metadata": {},
   "outputs": [
    {
     "ename": "NameError",
     "evalue": "name 'answer' is not defined",
     "output_type": "error",
     "traceback": [
      "\u001b[1;31m---------------------------------------------------------------------------\u001b[0m",
      "\u001b[1;31mNameError\u001b[0m                                 Traceback (most recent call last)",
      "\u001b[1;32m<ipython-input-86-b33788c35f07>\u001b[0m in \u001b[0;36m<module>\u001b[1;34m\u001b[0m\n\u001b[1;32m----> 1\u001b[1;33m \u001b[0manswer\u001b[0m\u001b[1;33m\u001b[0m\u001b[1;33m\u001b[0m\u001b[0m\n\u001b[0m",
      "\u001b[1;31mNameError\u001b[0m: name 'answer' is not defined"
     ]
    }
   ],
   "source": [
    "answer"
   ]
  },
  {
   "cell_type": "code",
   "execution_count": 128,
   "metadata": {},
   "outputs": [
    {
     "name": "stdout",
     "output_type": "stream",
     "text": [
      "3\n",
      "References\\Reference_3.mp3\n",
      "2\n",
      "References\\Reference_8.mp3\n",
      "8\n",
      "References\\Reference_8.mp3\n",
      "3\n",
      "References\\Reference_3.mp3\n",
      "4\n",
      "References\\Reference_4.mp3\n"
     ]
    }
   ],
   "source": [
    "analyzeQuery(audio, digitTimes, references, 'denoisedQueries/32834.mp3')"
   ]
  },
  {
   "cell_type": "code",
   "execution_count": null,
   "metadata": {},
   "outputs": [],
   "source": [
    "audio2, sr = lb.core.load('denoisedQueries/73914130_denoised.mp3', sr = 22050)"
   ]
  },
  {
   "cell_type": "code",
   "execution_count": null,
   "metadata": {},
   "outputs": [],
   "source": [
    "digitTimes2 = getDigitTimes('denoisedQueries/73914130_denoised.mp3')\n"
   ]
  },
  {
   "cell_type": "code",
   "execution_count": null,
   "metadata": {},
   "outputs": [],
   "source": [
    "playDigits('denoisedQueries/73914130_denoised.mp3', digitTimes2)"
   ]
  },
  {
   "cell_type": "code",
   "execution_count": null,
   "metadata": {},
   "outputs": [],
   "source": [
    "analyzeQuery(audio2, digitTimes2, references, 'Queries/73914130.mp3')"
   ]
  },
  {
   "cell_type": "code",
   "execution_count": null,
   "metadata": {},
   "outputs": [],
   "source": [
    "audio3, sr = lb.core.load('denoisedQueries/77777_denoised.mp3', sr = 22050)"
   ]
  },
  {
   "cell_type": "code",
   "execution_count": null,
   "metadata": {},
   "outputs": [],
   "source": [
    "digitTimes3 = getDigitTimes('denoisedQueries/77777_denoised.mp3')\n"
   ]
  },
  {
   "cell_type": "code",
   "execution_count": null,
   "metadata": {},
   "outputs": [],
   "source": [
    "playDigits('denoisedQueries/77777_denoised.mp3', digitTimes3)"
   ]
  },
  {
   "cell_type": "code",
   "execution_count": null,
   "metadata": {},
   "outputs": [],
   "source": [
    "analyzeQuery(audio3, digitTimes3, references, 'Queries/77777.mp3')"
   ]
  },
  {
   "cell_type": "code",
   "execution_count": null,
   "metadata": {},
   "outputs": [],
   "source": [
    "audio4, sr = lb.core.load('denoisedQueries/9963437165_denoised.mp3', sr = 22050)\n",
    "digitTimes4 = getDigitTimes('denoisedQueries/9963437165_denoised.mp3')\n",
    "playDigits('denoisedQueries/9963437165_denoised.mp3', digitTimes4)\n",
    "# This has a problem since six was split in half rip"
   ]
  },
  {
   "cell_type": "code",
   "execution_count": null,
   "metadata": {},
   "outputs": [],
   "source": [
    "audio5, sr = lb.core.load('denoisedQueries/4084782589_denoised.mp3', sr = 22050)\n",
    "digitTimes5 = getDigitTimes('denoisedQueries/4084782589_denoised.mp3')\n",
    "playDigits('denoisedQueries/4084782589_denoised.mp3', digitTimes5)\n"
   ]
  },
  {
   "cell_type": "code",
   "execution_count": null,
   "metadata": {},
   "outputs": [],
   "source": [
    "analyzeQuery(audio5, digitTimes5, references, 'Queries/4084782589.mp3')"
   ]
  },
  {
   "cell_type": "code",
   "execution_count": null,
   "metadata": {},
   "outputs": [],
   "source": [
    "audio6, sr = lb.core.load('denoisedQueries/123454321_denoised.mp3', sr = 22050)\n",
    "digitTimes6 = getDigitTimes('denoisedQueries/123454321_denoised.mp3')\n",
    "playDigits('denoisedQueries/123454321_denoised.mp3', digitTimes6)"
   ]
  },
  {
   "cell_type": "code",
   "execution_count": null,
   "metadata": {},
   "outputs": [],
   "source": [
    "analyzeQuery(audio6, digitTimes6, references, 'Queries/123454321.mp3')"
   ]
  },
  {
   "cell_type": "code",
   "execution_count": null,
   "metadata": {},
   "outputs": [],
   "source": [
    "audio7, sr = lb.core.load('denoisedQueries/0123456789_denoised.mp3', sr = 22050)\n",
    "digitTimes7 = getDigitTimes('denoisedQueries/0123456789_denoised.mp3')\n",
    "digitTimes7 = np.delete(digitTimes7, 7, axis=0) # manually removed six that was split in half\n",
    "playDigits('denoisedQueries/0123456789_denoised.mp3', digitTimes7)"
   ]
  },
  {
   "cell_type": "code",
   "execution_count": null,
   "metadata": {},
   "outputs": [],
   "source": [
    "analyzeQuery(audio7, digitTimes7, references, 'Queries/0123456789.mp3')"
   ]
  },
  {
   "cell_type": "code",
   "execution_count": null,
   "metadata": {},
   "outputs": [],
   "source": []
  }
 ],
 "metadata": {
  "kernelspec": {
   "display_name": "Python 3",
   "language": "python",
   "name": "python3"
  },
  "language_info": {
   "codemirror_mode": {
    "name": "ipython",
    "version": 3
   },
   "file_extension": ".py",
   "mimetype": "text/x-python",
   "name": "python",
   "nbconvert_exporter": "python",
   "pygments_lexer": "ipython3",
   "version": "3.7.4"
  }
 },
 "nbformat": 4,
 "nbformat_minor": 2
}
