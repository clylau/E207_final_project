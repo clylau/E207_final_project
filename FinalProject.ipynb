{
 "cells": [
  {
   "cell_type": "markdown",
   "metadata": {},
   "source": [
    "# Voice Recognition for Digits - Jimmy Fernandez and Christina Lau"
   ]
  },
  {
   "cell_type": "code",
   "execution_count": 1,
   "metadata": {},
   "outputs": [],
   "source": [
    "%matplotlib inline"
   ]
  },
  {
   "cell_type": "code",
   "execution_count": 2,
   "metadata": {},
   "outputs": [],
   "source": [
    "import numpy as np\n",
    "import librosa as lb \n",
    "import matplotlib.pyplot as plt\n",
    "from scipy.signal import stft\n",
    "import glob\n",
    "import os.path\n",
    "import subprocess\n",
    "import pickle\n",
    "import IPython.display as ipd\n",
    "import warnings\n",
    "import scipy.signal\n",
    "import scipy.fftpack\n",
    "import time\n",
    "import seaborn as sns\n",
    "from cf_matrix import make_confusion_matrix\n",
    "sns.set_context('talk')"
   ]
  },
  {
   "cell_type": "code",
   "execution_count": 3,
   "metadata": {},
   "outputs": [],
   "source": [
    "warnings.filterwarnings(action='ignore') # to suppress warning messages"
   ]
  },
  {
   "cell_type": "code",
   "execution_count": 4,
   "metadata": {},
   "outputs": [],
   "source": [
    "#set true if you are using a mac\n",
    "Mac = False"
   ]
  },
  {
   "cell_type": "markdown",
   "metadata": {},
   "source": [
    "## MFCC Feature Calculation"
   ]
  },
  {
   "cell_type": "markdown",
   "metadata": {},
   "source": [
    "Before diving into the MFCC algorithm, we first write a number of simple helper functions for use at various points of the algorithm. These functions convert the FFT frequency indcies to frequency in hz, hz to mels (on the non-linear Mel frequency scale), and vice versa."
   ]
  },
  {
   "cell_type": "code",
   "execution_count": 5,
   "metadata": {},
   "outputs": [],
   "source": [
    "def binToHz(k, nfft = 2048, fs = 22050):\n",
    "    \"\"\"\n",
    "    Helper function that takes in an fft/stft frequency bin k and returns the corresponding frequency of the bin in hertz\n",
    "    \n",
    "    Inputs:\n",
    "    k - the index of the stft row of interest\n",
    "    \n",
    "    Outputs:\n",
    "    freq - the frequency of the provided STFT bin\n",
    "    \"\"\"\n",
    "    \n",
    "    freq = k*fs/nfft\n",
    "    \n",
    "    return freq"
   ]
  },
  {
   "cell_type": "code",
   "execution_count": 6,
   "metadata": {},
   "outputs": [],
   "source": [
    "def hzToBin(freq, nfft = 2048, fs = 22050):\n",
    "    \"\"\"\n",
    "    helper function that converts the provided frequency in hz to the nearest fft frequency index. Only valid for frequencies \n",
    "    contained within the first half of the fft \n",
    "    \n",
    "    Inputs:\n",
    "    freq - the frequency we are interested in converting to frequency index\n",
    "    nfft - the size of the fft performed\n",
    "    fs - the sample rate of the signal\n",
    "    \n",
    "    \n",
    "    Outputs:\n",
    "    k - converted frequency bin\n",
    "    \n",
    "    \"\"\"\n",
    "    \n",
    "    k = np.round(freq*nfft/fs)\n",
    "    \n",
    "    return k"
   ]
  },
  {
   "cell_type": "code",
   "execution_count": 7,
   "metadata": {},
   "outputs": [],
   "source": [
    "def hzToMel(hz):\n",
    "    \"\"\"\n",
    "    Helper function that converts the provided hz frequency to mel frequency scale\n",
    "    \n",
    "    Inputs:\n",
    "    hz - the frequency of interst in hz\n",
    "    \n",
    "    Outputs:\n",
    "    mel - the frequency of interest in mel\n",
    "    \"\"\"\n",
    "    \n",
    "    mel = 1125*np.log(1 + hz/700)\n",
    "    \n",
    "    return mel"
   ]
  },
  {
   "cell_type": "code",
   "execution_count": 8,
   "metadata": {},
   "outputs": [],
   "source": [
    "def melToHz(mel):\n",
    "    \"\"\"\n",
    "    Helper function that converts the provided mel frequency to hz frequency scale\n",
    "    \n",
    "    Inputs:\n",
    "    mel - the frequency of interest in mel\n",
    "    \n",
    "    Outputs:\n",
    "    hz - the frequency of interst in hz\n",
    "    \"\"\"\n",
    "    hz = 700*(np.exp(mel/1125) - 1)\n",
    "    \n",
    "    return hz"
   ]
  },
  {
   "cell_type": "markdown",
   "metadata": {},
   "source": [
    "Now we implement the Mel Frequency Cepstrum Coefficent calculation for the features. The algorithm has 5 main steps.\n",
    "\n",
    "1. Take the STFT of the audio signal. This is an implied step of our function, as it is passed the STFT as an input\n",
    "2. Calculate the periodogram of the STFT. The Periodogram is the elementwise square magnitude of the STFT elements divided by the length of the FFT used to construct the STFT\n",
    "3. Use the \"Mel Frequency Filter Bank\" to calculate the energies in a specified number of frequency bands. The Mel Frequency scale is a logarithmic scale that more closely matches the way humans hear/speak. As such, the filter bank sums energies in closely related frequency bins together to express the energy content in ranges more similar to human speech, with higher frequencies having a wider range summed together than lower frequencies\n",
    "4. Take the natural logarithm of the mel energy bands\n",
    "5. Take the discrete cosine transform of the logarithmic mel energy bands. These are the MFCC coefficients (there should be a specified number per frame of the STFT)"
   ]
  },
  {
   "cell_type": "code",
   "execution_count": 9,
   "metadata": {},
   "outputs": [],
   "source": [
    "def mfcc(S, n_fft = 2048, sr = 22050, num_coeffs = 26, filterMatrix = None, bottomFreq = 300, topFreq = 8000, epsilon = 1e-9):\n",
    "    \"\"\"\n",
    "    Performs the calculation of the MFCC feature matrix\n",
    "    \n",
    "    Inputs:\n",
    "    S - the STFT of the audio signal of interest\n",
    "    n_fft - the length of the DFT used to calculate the STFT\n",
    "    sr = the sample rate of the audio of interest\n",
    "    num_coeffs - the number of coefficients to return (and also the number of Mel Filters to create)\n",
    "    bottomFreq - the bottom frequency of our filter bank. Defaults to 300 hz because this is a common bottom used in speech recognition\n",
    "    topFreq - the top frequency of our filter bank. Defaults to 8000 hz because this is a common top used in speech recognition\n",
    "    epsilon - a small number added to the logarithm to prevent NaN's\n",
    "    \n",
    "    Outputs:\n",
    "    mfcc - a num_coeffs x number of STFT frames matrix that represents the MFCC feature per frame of the STFT\n",
    "    \n",
    "    \"\"\"\n",
    "    #we begin by calculating the periodogram of the provided STFT matrix\n",
    "    pxx= np.abs(S)**2/n_fft\n",
    "\n",
    "    \n",
    "    #use a precalculated filter matrix to make the calculation slightly more efficient, if desired\n",
    "    if filterMatrix is not None:\n",
    "        assert(num_coeffs == filterMatrix.shape[0])\n",
    "        filt = filterMatrix\n",
    "    else:\n",
    "        filt = calculateFilterMatrix(numFilters = num_coeffs, bottomFreq = bottomFreq, topFreq = topFreq)\n",
    "        \n",
    "    #sum the relevant filter energies and take the logarithm of them (part of the \"cepstrum calculation\")\n",
    "    mel_log_energies = np.log(filt@pxx + epsilon)\n",
    "    \n",
    "    mfcc = scipy.fftpack.dct(mel_log_energies, axis = 0, norm = 'ortho') #norm is set to ortho for the preimplemented version\n",
    "    \n",
    "    \n",
    "    return mfcc"
   ]
  },
  {
   "cell_type": "markdown",
   "metadata": {},
   "source": [
    "In order to perform the above calculation. We write a helper function that calculates the filter bank as a matrix that can be used to premultiply the periodogram to perform the summation an filtering. To calculate the filter bank, we do the following\n",
    "\n",
    "1. Take our upper and lower frequency bounds and convert them to mels\n",
    "2. Generate a number of linearly spaced points between the endpoints equal to the number of desired filters\n",
    "3. Convert the points to hz, then to FFT frequency bins\n",
    "4. iterate through the filter matrix, and starting with the leftmost points, use groups of three points as the start, stop, and peak of the triangular filter. The amplitude ranges from 0 to 1 at the peak linearly and down to zero again."
   ]
  },
  {
   "cell_type": "code",
   "execution_count": 10,
   "metadata": {},
   "outputs": [],
   "source": [
    "def calculateFilterMatrix(numFilters = 26, bottomFreq = 300, topFreq = 8000,  nfft = 2048):\n",
    "    \"\"\"\n",
    "    Helper function for the MFCC calculation that returns a matrix of size numfilters x nfft//2 + 1\n",
    "    \n",
    "    Inputs:\n",
    "    numFilters - the desired number of filters\n",
    "    bottomFreq - the bottom frequency of the filter bank\n",
    "    topFreq - the top frequency of the filter bank\n",
    "    nfft - the length of the fft\n",
    "    \n",
    "    \n",
    "    Outputs:\n",
    "    filterMatrix - a numfilters x nfft//2 + 1 matrix where each row is one of mel triangular filters\n",
    "    \n",
    "    \"\"\"\n",
    "    #calculating the upper and lower bounds of our functions\n",
    "    lowerbound = hzToMel(bottomFreq)\n",
    "    upperbound = hzToMel(topFreq)\n",
    "    \n",
    "    #calculate the end/peak points for the various filters\n",
    "    freq_endpoints = melToHz(np.linspace(lowerbound, upperbound, num = numFilters + 2))\n",
    "    endpoints = hzToBin(freq_endpoints)\n",
    "    \n",
    "    #iterate through every value of the matrix\n",
    "    filterMatrix = np.zeros((numFilters, nfft//2 + 1))\n",
    "    for filt in range(numFilters):\n",
    "        \n",
    "        #retrieve end points for use in the filter calculating function\n",
    "        start = endpoints[filt]\n",
    "        peak = endpoints[filt + 1]\n",
    "        stop = endpoints[filt + 2]\n",
    "        \n",
    "        #calculate the proper amplitude of the triangle filter\n",
    "        for k in range(nfft//2 + 1):\n",
    "            \n",
    "            if k >= start and k <= peak:\n",
    "                filterMatrix[filt, k] = (k - start)/(peak - start)\n",
    "            elif k >= peak and k <= stop:\n",
    "                filterMatrix[filt, k] = (stop - k)/(stop - peak)\n",
    "            else:\n",
    "                filterMatrix[filt, k] = 0\n",
    "        \n",
    "    \n",
    "    return filterMatrix"
   ]
  },
  {
   "cell_type": "markdown",
   "metadata": {},
   "source": [
    "We now test all our miscellaneous functions"
   ]
  },
  {
   "cell_type": "code",
   "execution_count": 11,
   "metadata": {
    "scrolled": false
   },
   "outputs": [
    {
     "data": {
      "text/plain": [
       "(-0.5, 1024.5, -0.5, 25.5)"
      ]
     },
     "execution_count": 11,
     "metadata": {},
     "output_type": "execute_result"
    },
    {
     "data": {
      "image/png": "[encoded data removed]",
      "text/plain": [
       "<Figure size 432x288 with 1 Axes>"
      ]
     },
     "metadata": {
      "needs_background": "light"
     },
     "output_type": "display_data"
    }
   ],
   "source": [
    "test = calculateFilterMatrix(numFilters = 26)\n",
    "plt.imshow(test, cmap = 'jet', origin = 'lower')\n",
    "plt.title(\"Filter Matrix for 26 Triangular Filters\")\n",
    "plt.ylabel(\"Filter\")\n",
    "plt.xlabel(\"Frequency Bin\")\n",
    "plt.axis('tight')"
   ]
  },
  {
   "cell_type": "markdown",
   "metadata": {},
   "source": [
    "## Word Splitting"
   ]
  },
  {
   "cell_type": "code",
   "execution_count": 12,
   "metadata": {},
   "outputs": [],
   "source": [
    "def getDigitTimes(queryName, hop_length = 128, top_db = 25):\n",
    "    \"\"\"\n",
    "    \"\"\"\n",
    "    audio, sr = lb.core.load(queryName)\n",
    "    digits = lb.effects.split(audio, hop_length = hop_length, top_db = top_db)\n",
    "    \n",
    "    return digits"
   ]
  },
  {
   "cell_type": "code",
   "execution_count": 13,
   "metadata": {},
   "outputs": [],
   "source": [
    "def playDigits(queryName, digitTimes, hop_length=128, sr = 22050):\n",
    "    \"\"\"\n",
    "    \"\"\"\n",
    "    \n",
    "    audio, sr = lb.core.load(queryName)\n",
    "\n",
    "    for time in digitTimes:\n",
    "        ipd.display(ipd.Audio(audio[time[0]:time[1]], rate = sr))\n",
    "    "
   ]
  },
  {
   "cell_type": "markdown",
   "metadata": {},
   "source": [
    "# Constructing the Database"
   ]
  },
  {
   "cell_type": "markdown",
   "metadata": {},
   "source": [
    "To construct the database, we retrieve a list of all the mp3s in a specified directory, then iterate through them, calculating the mfcc feature matrix for each and storing it in a dictionary with a key specified in the file name"
   ]
  },
  {
   "cell_type": "code",
   "execution_count": 14,
   "metadata": {},
   "outputs": [],
   "source": [
    "def retrieveMP3s(indir, Mac = False):\n",
    "    \"\"\"\n",
    "    Helper function to retrieve a list of all the .mp3 files listed in the provided directory\n",
    "    Note: For macs, it's /*.mp3, for windows, it's \\*.mp3\n",
    "    \n",
    "    Inputs:\n",
    "    indir - the directory containing all the MP3s of interst\n",
    "    Mac - a boolean indicating if the machine running the code is a Mac. If false, windows notation is assumed\n",
    "    \n",
    "    Outputs: \n",
    "    A list of all the mp3 file paths\n",
    "    \n",
    "    \"\"\"\n",
    "    #get the correct pathname based on the machine type\n",
    "    if Mac: \n",
    "        pathname = indir + '/*.mp3'\n",
    "    else:\n",
    "        pathname = indir + '\\*.mp3'\n",
    "    \n",
    "    return glob.glob(pathname)"
   ]
  },
  {
   "cell_type": "code",
   "execution_count": 15,
   "metadata": {},
   "outputs": [],
   "source": [
    "def constructDB(indir, numFilters = 26, Mac = False, sr = 22050, nfft = 2048, hop = 128, strPosn = 4):\n",
    "    \"\"\"\n",
    "    Function that constructs a database (dictionary) with the digit as a key and the MFCC feature matrix as the stored data\n",
    "    \n",
    "    Inputs: \n",
    "    indir - the label of the directory of interest\n",
    "    Mac - a boolean indicating if the machine running this code is a mac. If false, \n",
    "          it is assumed that the code is running on a pc\n",
    "    sr - the sample rate of the audio files in the directory\n",
    "    nfft - the size of the fft we want to perform to to construct the stft\n",
    "    hop - the hop size for the stft\n",
    "    strPosn - the index of the reference name in the reference file. Used to label db\n",
    "    \n",
    "    Outputs:\n",
    "    db - a dictionary object storing the MFCC coefficients for each of the digit references\n",
    "    \"\"\"\n",
    "    \n",
    "    db = {}\n",
    "    mp3s = retrieveMP3s(indir, Mac = Mac)\n",
    "    \n",
    "    \n",
    "    for i in range(len(mp3s)):\n",
    "        \n",
    "        #we begin by retreiving each individual mp3 and calculating the STFT\n",
    "        currPath = mp3s[i]\n",
    "        mp3, _ = lb.core.load(currPath, sr = sr)\n",
    "        S = lb.core.stft(mp3, n_fft = nfft, hop_length = hop)\n",
    "        \n",
    "        #we then use calculate the MFCC feature matrix\n",
    "        mfccMatrix = mfcc(S, num_coeffs = numFilters, n_fft = nfft, sr = sr)\n",
    "        \n",
    "        #finally we get the proper key name\n",
    "        baseName = os.path.basename(currPath)\n",
    "        keyName = baseName[strPosn] #assumes the file is in Reference_x.mp3 format\n",
    "        \n",
    "        #add data to the database\n",
    "        db[keyName] = mfccMatrix\n",
    "        \n",
    "    \n",
    "    return db"
   ]
  },
  {
   "cell_type": "code",
   "execution_count": 16,
   "metadata": {},
   "outputs": [],
   "source": [
    "#testing the db construction\n",
    "db = constructDB('denoisedReferences', Mac = Mac)"
   ]
  },
  {
   "cell_type": "code",
   "execution_count": 17,
   "metadata": {},
   "outputs": [
    {
     "data": {
      "image/png": "[encoded data removed]",
      "text/plain": [
       "<Figure size 432x288 with 1 Axes>"
      ]
     },
     "metadata": {
      "needs_background": "light"
     },
     "output_type": "display_data"
    },
    {
     "data": {
      "image/png": "[encoded data removed]",
      "text/plain": [
       "<Figure size 432x288 with 1 Axes>"
      ]
     },
     "metadata": {
      "needs_background": "light"
     },
     "output_type": "display_data"
    },
    {
     "data": {
      "image/png": "[encoded data removed]",
      "text/plain": [
       "<Figure size 432x288 with 1 Axes>"
      ]
     },
     "metadata": {
      "needs_background": "light"
     },
     "output_type": "display_data"
    },
    {
     "data": {
      "image/png": "[encoded data removed]",
      "text/plain": [
       "<Figure size 432x288 with 1 Axes>"
      ]
     },
     "metadata": {
      "needs_background": "light"
     },
     "output_type": "display_data"
    },
    {
     "data": {
      "image/png": "[encoded data removed]",
      "text/plain": [
       "<Figure size 432x288 with 1 Axes>"
      ]
     },
     "metadata": {
      "needs_background": "light"
     },
     "output_type": "display_data"
    },
    {
     "data": {
      "image/png": "[encoded data removed]",
      "text/plain": [
       "<Figure size 432x288 with 1 Axes>"
      ]
     },
     "metadata": {
      "needs_background": "light"
     },
     "output_type": "display_data"
    },
    {
     "data": {
      "image/png": "[encoded data removed]",
      "text/plain": [
       "<Figure size 432x288 with 1 Axes>"
      ]
     },
     "metadata": {
      "needs_background": "light"
     },
     "output_type": "display_data"
    },
    {
     "data": {
      "image/png": "[encoded data removed]",
      "text/plain": [
       "<Figure size 432x288 with 1 Axes>"
      ]
     },
     "metadata": {
      "needs_background": "light"
     },
     "output_type": "display_data"
    },
    {
     "data": {
      "image/png": "[encoded data removed]",
      "text/plain": [
       "<Figure size 432x288 with 1 Axes>"
      ]
     },
     "metadata": {
      "needs_background": "light"
     },
     "output_type": "display_data"
    },
    {
     "data": {
      "image/png": "[encoded data removed]",
      "text/plain": [
       "<Figure size 432x288 with 1 Axes>"
      ]
     },
     "metadata": {
      "needs_background": "light"
     },
     "output_type": "display_data"
    }
   ],
   "source": [
    "for key in db:\n",
    "    feats = db[key]\n",
    "    plt.imshow(feats, origin = 'lower', cmap = 'jet')\n",
    "    plt.title(key)\n",
    "    plt.axis('tight')\n",
    "    plt.show()"
   ]
  },
  {
   "cell_type": "markdown",
   "metadata": {},
   "source": [
    "## Benchmark "
   ]
  },
  {
   "cell_type": "markdown",
   "metadata": {},
   "source": [
    "In order to run the benchmark, we first write a function that can retrieve the ground truth answer to the query of interest"
   ]
  },
  {
   "cell_type": "code",
   "execution_count": 18,
   "metadata": {},
   "outputs": [],
   "source": [
    "def retrieveAnswer(pathname):\n",
    "    \"\"\"\n",
    "    Helper function that takes in a .mp3 file whose name is a list of the digits spoken in the file and returns a \n",
    "    list of the characters\n",
    "    \n",
    "    Inputs:\n",
    "    pathname - the pathname of the file of interest\n",
    "    \n",
    "    Outputs:\n",
    "    answer - a list of the digits in the mp3's file name\n",
    "    \"\"\"\n",
    "    \n",
    "    basename = os.path.basename(pathname)[:-4]\n",
    "    answer = [int(digit) for digit in list(basename)]\n",
    "    \n",
    "    \n",
    "    return answer"
   ]
  },
  {
   "cell_type": "markdown",
   "metadata": {},
   "source": [
    "Working out splitting algo, etc"
   ]
  },
  {
   "cell_type": "markdown",
   "metadata": {},
   "source": [
    "Going to use 32834 query as a test"
   ]
  },
  {
   "cell_type": "code",
   "execution_count": 19,
   "metadata": {},
   "outputs": [],
   "source": [
    "audio, sr = lb.core.load('denoisedQueries/32834.mp3', sr = 22050)"
   ]
  },
  {
   "cell_type": "code",
   "execution_count": 20,
   "metadata": {},
   "outputs": [],
   "source": [
    "S = lb.core.stft(audio, n_fft = 2048, hop_length = 128)"
   ]
  },
  {
   "cell_type": "code",
   "execution_count": 21,
   "metadata": {},
   "outputs": [],
   "source": [
    "digitTimes = getDigitTimes('denoisedQueries/32834.mp3')\n",
    "# digitTimes[:, 0] = digitTimes[:,0]*-1\n",
    "# test = np.sum(digitTimes, axis = 1)\n",
    "# print(digitTimes)\n",
    "# print(test)\n",
    "# digitTimes = np.delete(digitTimes, 1, 0 )\n",
    "# print()\n",
    "# print(digitTimes)"
   ]
  },
  {
   "cell_type": "code",
   "execution_count": 22,
   "metadata": {},
   "outputs": [
    {
     "data": {
      "text/plain": [
       "'0'"
      ]
     },
     "execution_count": 22,
     "metadata": {},
     "output_type": "execute_result"
    }
   ],
   "source": [
    "list(db.keys())[0]"
   ]
  },
  {
   "cell_type": "code",
   "execution_count": 23,
   "metadata": {},
   "outputs": [],
   "source": [
    "def getMatchScores(audioQuery, db, sr = 22050, nfft = 2048, hop = 128, metric = 'euclidean'):\n",
    "    \"\"\"\n",
    "    \"\"\"\n",
    "    \n",
    "    #we begin by calculating the mfcc of the query\n",
    "    S = lb.core.stft(audioQuery, n_fft = nfft, hop_length = hop)\n",
    "    mfcc_query = mfcc(S, n_fft = nfft, sr = sr)\n",
    "    \n",
    "    #now we iterate through the database and compare all the numbers with subsequency dynamic time warping\n",
    "    scores = []\n",
    "    for key in db:\n",
    "        \n",
    "        mfcc_ref = db[key]\n",
    "        \n",
    "        D_num, wp_num = lb.sequence.dtw(mfcc_ref, mfcc_query, metric = metric, subseq = True)\n",
    "        scores.append(np.min(D_num[-1:]))\n",
    "        \n",
    "#     predInd = np.argmin(scores)\n",
    "#     predScore = scores[predInd]\n",
    "    return scores"
   ]
  },
  {
   "cell_type": "code",
   "execution_count": 24,
   "metadata": {},
   "outputs": [],
   "source": [
    "def getCleanedDigitsTimes(queryName, hop_length = 128, top_db = 25):\n",
    "    \"\"\"\n",
    "    \"\"\"\n",
    "    \n",
    "    #begin by getting the splits as well as how many splits there should be\n",
    "    desiredSplits = len(retrieveAnswer(queryName))\n",
    "    times = getDigitTimes(queryName, hop_length = hop_length, top_db = top_db)\n",
    "    \n",
    "    while times.shape[0] > desiredSplits:\n",
    "        times_copy = np.copy(times)\n",
    "        times_copy[:,0] = times_copy[:,0]*-1\n",
    "        lengths = np.sum(times_copy, axis = 1)\n",
    "        toRemove = np.argmin(lengths)\n",
    "        \n",
    "        times = np.delete(times, toRemove, 0)\n",
    "        \n",
    "    #if the times array started off less than the current array, just return an empty array (the benchmark will ignore it)\n",
    "    if times.shape[0] < desiredSplits:\n",
    "        times = np.array([])\n",
    "\n",
    "    return times"
   ]
  },
  {
   "cell_type": "code",
   "execution_count": 25,
   "metadata": {},
   "outputs": [],
   "source": [
    "def getPrediction(audioQuery, db, sr = 22050, nfft = 2048, hop = 128, metric = 'euclidean'):\n",
    "    \"\"\"\n",
    "    \"\"\"\n",
    "    \n",
    "    matchScores = getMatchScores(audioQuery, db, sr = sr, nfft = nfft, hop = hop, metric = metric)\n",
    "    refList = list(db.keys())\n",
    "    \n",
    "    predInd = np.argmin(matchScores)\n",
    "    prediction = int(refList[predInd])\n",
    "    \n",
    "    return prediction"
   ]
  },
  {
   "cell_type": "code",
   "execution_count": 26,
   "metadata": {},
   "outputs": [],
   "source": [
    "def getPredictions(queryPath, db, sr = 22050, nfft = 2048, hop = 128, top_db = 25, metric = 'euclidean'):\n",
    "    \"\"\"\n",
    "    \"\"\"\n",
    "    predictions = []\n",
    "    times = getCleanedDigitsTimes(queryPath, hop_length = hop, top_db = top_db)\n",
    "    \n",
    "    if times.size == 0:\n",
    "        return []\n",
    "    \n",
    "    audio, _ = lb.core.load(queryPath, sr)\n",
    "    \n",
    "    for i in range(times.shape[0]):\n",
    "        startTime = times[i, 0]\n",
    "        endTime = times[i, 1]\n",
    "        audioClip = audio[startTime:endTime]\n",
    "        currPred = getPrediction(audioClip, db, sr = sr, nfft = nfft, hop = hop, metric = metric)\n",
    "        \n",
    "        predictions.append(currPred)\n",
    "        \n",
    "    return predictions"
   ]
  },
  {
   "cell_type": "code",
   "execution_count": 27,
   "metadata": {},
   "outputs": [
    {
     "name": "stdout",
     "output_type": "stream",
     "text": [
      "[3, 3, 8, 6, 1]\n"
     ]
    }
   ],
   "source": [
    "print(getPredictions('denoisedQueries/32834.mp3', db))"
   ]
  },
  {
   "cell_type": "code",
   "execution_count": 28,
   "metadata": {},
   "outputs": [],
   "source": [
    "def runBenchmark(indir, db, Mac = False, sr = 22050, nfft = 2048, hop = 128, top_db = 25, metric = 'euclidean'):\n",
    "    \"\"\"\n",
    "    Runs a benchmark for our system \n",
    "    \n",
    "    Inputs:\n",
    "    indir - the directory where the mp3 queries are located\n",
    "    \n",
    "    Output:\n",
    "    confusionMatrix - a 10x10 confusion matrix, where the row indicates the digit guess, and the \n",
    "                      column indicates the ground truth\n",
    "    calcsDone - an integer indicating how many queries were processed\n",
    "    timeElapsed - a float indicating how long it took the benchmark to run\n",
    "    \"\"\"\n",
    "    \n",
    "    startTime = time.time()\n",
    "    \n",
    "    confusionMatrix = np.zeros((10,10))\n",
    "    \n",
    "    #we begin by retrieving all the paths to our queries\n",
    "    mp3s = retrieveMP3s(indir, Mac = Mac)\n",
    "    \n",
    "    calcsDone = len(mp3s)\n",
    "    for i in range(len(mp3s)):\n",
    "        \n",
    "        currPath = mp3s[i]\n",
    "        predictions = getPredictions(currPath, db, sr = sr, nfft = nfft, hop = hop, top_db = top_db, metric = metric)\n",
    "        \n",
    "        if len(predictions) == 0:\n",
    "            calcsDone -= 1\n",
    "            pass\n",
    "        \n",
    "        answers = retrieveAnswer(currPath)\n",
    "        \n",
    "        assert(len(answers) == len(predictions))\n",
    "        \n",
    "        for j in range(len(answers)):\n",
    "            confusionMatrix[predictions[j], answers[j]] += 1\n",
    "            \n",
    "    endTime = time.time()\n",
    "    timeElapsed = endTime - startTime\n",
    "                    \n",
    "    return confusionMatrix, calcsDone, timeElapsed"
   ]
  },
  {
   "cell_type": "code",
   "execution_count": 29,
   "metadata": {},
   "outputs": [
    {
     "ename": "KeyboardInterrupt",
     "evalue": "",
     "output_type": "error",
     "traceback": [
      "\u001b[1;31m---------------------------------------------------------------------------\u001b[0m",
      "\u001b[1;31mRuntimeError\u001b[0m                              Traceback (most recent call last)",
      "\u001b[1;32m~\\Anaconda3\\lib\\site-packages\\librosa\\core\\audio.py\u001b[0m in \u001b[0;36mload\u001b[1;34m(path, sr, mono, offset, duration, dtype, res_type)\u001b[0m\n\u001b[0;32m    128\u001b[0m     \u001b[1;32mtry\u001b[0m\u001b[1;33m:\u001b[0m\u001b[1;33m\u001b[0m\u001b[1;33m\u001b[0m\u001b[0m\n\u001b[1;32m--> 129\u001b[1;33m         \u001b[1;32mwith\u001b[0m \u001b[0msf\u001b[0m\u001b[1;33m.\u001b[0m\u001b[0mSoundFile\u001b[0m\u001b[1;33m(\u001b[0m\u001b[0mpath\u001b[0m\u001b[1;33m)\u001b[0m \u001b[1;32mas\u001b[0m \u001b[0msf_desc\u001b[0m\u001b[1;33m:\u001b[0m\u001b[1;33m\u001b[0m\u001b[1;33m\u001b[0m\u001b[0m\n\u001b[0m\u001b[0;32m    130\u001b[0m             \u001b[0msr_native\u001b[0m \u001b[1;33m=\u001b[0m \u001b[0msf_desc\u001b[0m\u001b[1;33m.\u001b[0m\u001b[0msamplerate\u001b[0m\u001b[1;33m\u001b[0m\u001b[1;33m\u001b[0m\u001b[0m\n",
      "\u001b[1;32m~\\Anaconda3\\lib\\site-packages\\soundfile.py\u001b[0m in \u001b[0;36m__init__\u001b[1;34m(self, file, mode, samplerate, channels, subtype, endian, format, closefd)\u001b[0m\n\u001b[0;32m    628\u001b[0m                                          format, subtype, endian)\n\u001b[1;32m--> 629\u001b[1;33m         \u001b[0mself\u001b[0m\u001b[1;33m.\u001b[0m\u001b[0m_file\u001b[0m \u001b[1;33m=\u001b[0m \u001b[0mself\u001b[0m\u001b[1;33m.\u001b[0m\u001b[0m_open\u001b[0m\u001b[1;33m(\u001b[0m\u001b[0mfile\u001b[0m\u001b[1;33m,\u001b[0m \u001b[0mmode_int\u001b[0m\u001b[1;33m,\u001b[0m \u001b[0mclosefd\u001b[0m\u001b[1;33m)\u001b[0m\u001b[1;33m\u001b[0m\u001b[1;33m\u001b[0m\u001b[0m\n\u001b[0m\u001b[0;32m    630\u001b[0m         \u001b[1;32mif\u001b[0m \u001b[0mset\u001b[0m\u001b[1;33m(\u001b[0m\u001b[0mmode\u001b[0m\u001b[1;33m)\u001b[0m\u001b[1;33m.\u001b[0m\u001b[0missuperset\u001b[0m\u001b[1;33m(\u001b[0m\u001b[1;34m'r+'\u001b[0m\u001b[1;33m)\u001b[0m \u001b[1;32mand\u001b[0m \u001b[0mself\u001b[0m\u001b[1;33m.\u001b[0m\u001b[0mseekable\u001b[0m\u001b[1;33m(\u001b[0m\u001b[1;33m)\u001b[0m\u001b[1;33m:\u001b[0m\u001b[1;33m\u001b[0m\u001b[1;33m\u001b[0m\u001b[0m\n",
      "\u001b[1;32m~\\Anaconda3\\lib\\site-packages\\soundfile.py\u001b[0m in \u001b[0;36m_open\u001b[1;34m(self, file, mode_int, closefd)\u001b[0m\n\u001b[0;32m   1183\u001b[0m         _error_check(_snd.sf_error(file_ptr),\n\u001b[1;32m-> 1184\u001b[1;33m                      \"Error opening {0!r}: \".format(self.name))\n\u001b[0m\u001b[0;32m   1185\u001b[0m         \u001b[1;32mif\u001b[0m \u001b[0mmode_int\u001b[0m \u001b[1;33m==\u001b[0m \u001b[0m_snd\u001b[0m\u001b[1;33m.\u001b[0m\u001b[0mSFM_WRITE\u001b[0m\u001b[1;33m:\u001b[0m\u001b[1;33m\u001b[0m\u001b[1;33m\u001b[0m\u001b[0m\n",
      "\u001b[1;32m~\\Anaconda3\\lib\\site-packages\\soundfile.py\u001b[0m in \u001b[0;36m_error_check\u001b[1;34m(err, prefix)\u001b[0m\n\u001b[0;32m   1356\u001b[0m         \u001b[0merr_str\u001b[0m \u001b[1;33m=\u001b[0m \u001b[0m_snd\u001b[0m\u001b[1;33m.\u001b[0m\u001b[0msf_error_number\u001b[0m\u001b[1;33m(\u001b[0m\u001b[0merr\u001b[0m\u001b[1;33m)\u001b[0m\u001b[1;33m\u001b[0m\u001b[1;33m\u001b[0m\u001b[0m\n\u001b[1;32m-> 1357\u001b[1;33m         \u001b[1;32mraise\u001b[0m \u001b[0mRuntimeError\u001b[0m\u001b[1;33m(\u001b[0m\u001b[0mprefix\u001b[0m \u001b[1;33m+\u001b[0m \u001b[0m_ffi\u001b[0m\u001b[1;33m.\u001b[0m\u001b[0mstring\u001b[0m\u001b[1;33m(\u001b[0m\u001b[0merr_str\u001b[0m\u001b[1;33m)\u001b[0m\u001b[1;33m.\u001b[0m\u001b[0mdecode\u001b[0m\u001b[1;33m(\u001b[0m\u001b[1;34m'utf-8'\u001b[0m\u001b[1;33m,\u001b[0m \u001b[1;34m'replace'\u001b[0m\u001b[1;33m)\u001b[0m\u001b[1;33m)\u001b[0m\u001b[1;33m\u001b[0m\u001b[1;33m\u001b[0m\u001b[0m\n\u001b[0m\u001b[0;32m   1358\u001b[0m \u001b[1;33m\u001b[0m\u001b[0m\n",
      "\u001b[1;31mRuntimeError\u001b[0m: Error opening 'denoisedQueries\\\\520148.mp3': File contains data in an unknown format.",
      "\nDuring handling of the above exception, another exception occurred:\n",
      "\u001b[1;31mKeyboardInterrupt\u001b[0m                         Traceback (most recent call last)",
      "\u001b[1;32m<ipython-input-29-16dbecc4d123>\u001b[0m in \u001b[0;36m<module>\u001b[1;34m\u001b[0m\n\u001b[0;32m      1\u001b[0m \u001b[1;31m#done w/ euclidean similarity metric\u001b[0m\u001b[1;33m\u001b[0m\u001b[1;33m\u001b[0m\u001b[1;33m\u001b[0m\u001b[0m\n\u001b[1;32m----> 2\u001b[1;33m \u001b[0mconfusionMatrix\u001b[0m\u001b[1;33m,\u001b[0m \u001b[0mcalcsDone\u001b[0m\u001b[1;33m,\u001b[0m \u001b[0mtimeElapsed\u001b[0m \u001b[1;33m=\u001b[0m \u001b[0mrunBenchmark\u001b[0m\u001b[1;33m(\u001b[0m\u001b[1;34m'denoisedQueries'\u001b[0m\u001b[1;33m,\u001b[0m \u001b[0mdb\u001b[0m\u001b[1;33m)\u001b[0m\u001b[1;33m\u001b[0m\u001b[1;33m\u001b[0m\u001b[0m\n\u001b[0m",
      "\u001b[1;32m<ipython-input-28-5db49b885ebd>\u001b[0m in \u001b[0;36mrunBenchmark\u001b[1;34m(indir, db, Mac, sr, nfft, hop, top_db, metric)\u001b[0m\n\u001b[0;32m     24\u001b[0m \u001b[1;33m\u001b[0m\u001b[0m\n\u001b[0;32m     25\u001b[0m         \u001b[0mcurrPath\u001b[0m \u001b[1;33m=\u001b[0m \u001b[0mmp3s\u001b[0m\u001b[1;33m[\u001b[0m\u001b[0mi\u001b[0m\u001b[1;33m]\u001b[0m\u001b[1;33m\u001b[0m\u001b[1;33m\u001b[0m\u001b[0m\n\u001b[1;32m---> 26\u001b[1;33m         \u001b[0mpredictions\u001b[0m \u001b[1;33m=\u001b[0m \u001b[0mgetPredictions\u001b[0m\u001b[1;33m(\u001b[0m\u001b[0mcurrPath\u001b[0m\u001b[1;33m,\u001b[0m \u001b[0mdb\u001b[0m\u001b[1;33m,\u001b[0m \u001b[0msr\u001b[0m \u001b[1;33m=\u001b[0m \u001b[0msr\u001b[0m\u001b[1;33m,\u001b[0m \u001b[0mnfft\u001b[0m \u001b[1;33m=\u001b[0m \u001b[0mnfft\u001b[0m\u001b[1;33m,\u001b[0m \u001b[0mhop\u001b[0m \u001b[1;33m=\u001b[0m \u001b[0mhop\u001b[0m\u001b[1;33m,\u001b[0m \u001b[0mtop_db\u001b[0m \u001b[1;33m=\u001b[0m \u001b[0mtop_db\u001b[0m\u001b[1;33m,\u001b[0m \u001b[0mmetric\u001b[0m \u001b[1;33m=\u001b[0m \u001b[0mmetric\u001b[0m\u001b[1;33m)\u001b[0m\u001b[1;33m\u001b[0m\u001b[1;33m\u001b[0m\u001b[0m\n\u001b[0m\u001b[0;32m     27\u001b[0m \u001b[1;33m\u001b[0m\u001b[0m\n\u001b[0;32m     28\u001b[0m         \u001b[1;32mif\u001b[0m \u001b[0mlen\u001b[0m\u001b[1;33m(\u001b[0m\u001b[0mpredictions\u001b[0m\u001b[1;33m)\u001b[0m \u001b[1;33m==\u001b[0m \u001b[1;36m0\u001b[0m\u001b[1;33m:\u001b[0m\u001b[1;33m\u001b[0m\u001b[1;33m\u001b[0m\u001b[0m\n",
      "\u001b[1;32m<ipython-input-26-bf8f6746a804>\u001b[0m in \u001b[0;36mgetPredictions\u001b[1;34m(queryPath, db, sr, nfft, hop, top_db, metric)\u001b[0m\n\u001b[0;32m      3\u001b[0m     \"\"\"\n\u001b[0;32m      4\u001b[0m     \u001b[0mpredictions\u001b[0m \u001b[1;33m=\u001b[0m \u001b[1;33m[\u001b[0m\u001b[1;33m]\u001b[0m\u001b[1;33m\u001b[0m\u001b[1;33m\u001b[0m\u001b[0m\n\u001b[1;32m----> 5\u001b[1;33m     \u001b[0mtimes\u001b[0m \u001b[1;33m=\u001b[0m \u001b[0mgetCleanedDigitsTimes\u001b[0m\u001b[1;33m(\u001b[0m\u001b[0mqueryPath\u001b[0m\u001b[1;33m,\u001b[0m \u001b[0mhop_length\u001b[0m \u001b[1;33m=\u001b[0m \u001b[0mhop\u001b[0m\u001b[1;33m,\u001b[0m \u001b[0mtop_db\u001b[0m \u001b[1;33m=\u001b[0m \u001b[0mtop_db\u001b[0m\u001b[1;33m)\u001b[0m\u001b[1;33m\u001b[0m\u001b[1;33m\u001b[0m\u001b[0m\n\u001b[0m\u001b[0;32m      6\u001b[0m \u001b[1;33m\u001b[0m\u001b[0m\n\u001b[0;32m      7\u001b[0m     \u001b[1;32mif\u001b[0m \u001b[0mtimes\u001b[0m\u001b[1;33m.\u001b[0m\u001b[0msize\u001b[0m \u001b[1;33m==\u001b[0m \u001b[1;36m0\u001b[0m\u001b[1;33m:\u001b[0m\u001b[1;33m\u001b[0m\u001b[1;33m\u001b[0m\u001b[0m\n",
      "\u001b[1;32m<ipython-input-24-f72920f2d944>\u001b[0m in \u001b[0;36mgetCleanedDigitsTimes\u001b[1;34m(queryName, hop_length, top_db)\u001b[0m\n\u001b[0;32m      5\u001b[0m     \u001b[1;31m#begin by getting the splits as well as how many splits there should be\u001b[0m\u001b[1;33m\u001b[0m\u001b[1;33m\u001b[0m\u001b[1;33m\u001b[0m\u001b[0m\n\u001b[0;32m      6\u001b[0m     \u001b[0mdesiredSplits\u001b[0m \u001b[1;33m=\u001b[0m \u001b[0mlen\u001b[0m\u001b[1;33m(\u001b[0m\u001b[0mretrieveAnswer\u001b[0m\u001b[1;33m(\u001b[0m\u001b[0mqueryName\u001b[0m\u001b[1;33m)\u001b[0m\u001b[1;33m)\u001b[0m\u001b[1;33m\u001b[0m\u001b[1;33m\u001b[0m\u001b[0m\n\u001b[1;32m----> 7\u001b[1;33m     \u001b[0mtimes\u001b[0m \u001b[1;33m=\u001b[0m \u001b[0mgetDigitTimes\u001b[0m\u001b[1;33m(\u001b[0m\u001b[0mqueryName\u001b[0m\u001b[1;33m,\u001b[0m \u001b[0mhop_length\u001b[0m \u001b[1;33m=\u001b[0m \u001b[0mhop_length\u001b[0m\u001b[1;33m,\u001b[0m \u001b[0mtop_db\u001b[0m \u001b[1;33m=\u001b[0m \u001b[0mtop_db\u001b[0m\u001b[1;33m)\u001b[0m\u001b[1;33m\u001b[0m\u001b[1;33m\u001b[0m\u001b[0m\n\u001b[0m\u001b[0;32m      8\u001b[0m \u001b[1;33m\u001b[0m\u001b[0m\n\u001b[0;32m      9\u001b[0m     \u001b[1;32mwhile\u001b[0m \u001b[0mtimes\u001b[0m\u001b[1;33m.\u001b[0m\u001b[0mshape\u001b[0m\u001b[1;33m[\u001b[0m\u001b[1;36m0\u001b[0m\u001b[1;33m]\u001b[0m \u001b[1;33m>\u001b[0m \u001b[0mdesiredSplits\u001b[0m\u001b[1;33m:\u001b[0m\u001b[1;33m\u001b[0m\u001b[1;33m\u001b[0m\u001b[0m\n",
      "\u001b[1;32m<ipython-input-12-60ce3c0b0c05>\u001b[0m in \u001b[0;36mgetDigitTimes\u001b[1;34m(queryName, hop_length, top_db)\u001b[0m\n\u001b[0;32m      2\u001b[0m     \"\"\"\n\u001b[0;32m      3\u001b[0m     \"\"\"\n\u001b[1;32m----> 4\u001b[1;33m     \u001b[0maudio\u001b[0m\u001b[1;33m,\u001b[0m \u001b[0msr\u001b[0m \u001b[1;33m=\u001b[0m \u001b[0mlb\u001b[0m\u001b[1;33m.\u001b[0m\u001b[0mcore\u001b[0m\u001b[1;33m.\u001b[0m\u001b[0mload\u001b[0m\u001b[1;33m(\u001b[0m\u001b[0mqueryName\u001b[0m\u001b[1;33m)\u001b[0m\u001b[1;33m\u001b[0m\u001b[1;33m\u001b[0m\u001b[0m\n\u001b[0m\u001b[0;32m      5\u001b[0m     \u001b[0mdigits\u001b[0m \u001b[1;33m=\u001b[0m \u001b[0mlb\u001b[0m\u001b[1;33m.\u001b[0m\u001b[0meffects\u001b[0m\u001b[1;33m.\u001b[0m\u001b[0msplit\u001b[0m\u001b[1;33m(\u001b[0m\u001b[0maudio\u001b[0m\u001b[1;33m,\u001b[0m \u001b[0mhop_length\u001b[0m \u001b[1;33m=\u001b[0m \u001b[0mhop_length\u001b[0m\u001b[1;33m,\u001b[0m \u001b[0mtop_db\u001b[0m \u001b[1;33m=\u001b[0m \u001b[0mtop_db\u001b[0m\u001b[1;33m)\u001b[0m\u001b[1;33m\u001b[0m\u001b[1;33m\u001b[0m\u001b[0m\n\u001b[0;32m      6\u001b[0m \u001b[1;33m\u001b[0m\u001b[0m\n",
      "\u001b[1;32m~\\Anaconda3\\lib\\site-packages\\librosa\\core\\audio.py\u001b[0m in \u001b[0;36mload\u001b[1;34m(path, sr, mono, offset, duration, dtype, res_type)\u001b[0m\n\u001b[0;32m    160\u001b[0m         \u001b[1;32mif\u001b[0m \u001b[0misinstance\u001b[0m\u001b[1;33m(\u001b[0m\u001b[0mpath\u001b[0m\u001b[1;33m,\u001b[0m \u001b[0msix\u001b[0m\u001b[1;33m.\u001b[0m\u001b[0mstring_types\u001b[0m\u001b[1;33m)\u001b[0m\u001b[1;33m:\u001b[0m\u001b[1;33m\u001b[0m\u001b[1;33m\u001b[0m\u001b[0m\n\u001b[0;32m    161\u001b[0m             \u001b[0mwarnings\u001b[0m\u001b[1;33m.\u001b[0m\u001b[0mwarn\u001b[0m\u001b[1;33m(\u001b[0m\u001b[1;34m'PySoundFile failed. Trying audioread instead.'\u001b[0m\u001b[1;33m)\u001b[0m\u001b[1;33m\u001b[0m\u001b[1;33m\u001b[0m\u001b[0m\n\u001b[1;32m--> 162\u001b[1;33m             \u001b[0my\u001b[0m\u001b[1;33m,\u001b[0m \u001b[0msr_native\u001b[0m \u001b[1;33m=\u001b[0m \u001b[0m__audioread_load\u001b[0m\u001b[1;33m(\u001b[0m\u001b[0mpath\u001b[0m\u001b[1;33m,\u001b[0m \u001b[0moffset\u001b[0m\u001b[1;33m,\u001b[0m \u001b[0mduration\u001b[0m\u001b[1;33m,\u001b[0m \u001b[0mdtype\u001b[0m\u001b[1;33m)\u001b[0m\u001b[1;33m\u001b[0m\u001b[1;33m\u001b[0m\u001b[0m\n\u001b[0m\u001b[0;32m    163\u001b[0m         \u001b[1;32melse\u001b[0m\u001b[1;33m:\u001b[0m\u001b[1;33m\u001b[0m\u001b[1;33m\u001b[0m\u001b[0m\n\u001b[0;32m    164\u001b[0m             \u001b[0msix\u001b[0m\u001b[1;33m.\u001b[0m\u001b[0mreraise\u001b[0m\u001b[1;33m(\u001b[0m\u001b[1;33m*\u001b[0m\u001b[0msys\u001b[0m\u001b[1;33m.\u001b[0m\u001b[0mexc_info\u001b[0m\u001b[1;33m(\u001b[0m\u001b[1;33m)\u001b[0m\u001b[1;33m)\u001b[0m\u001b[1;33m\u001b[0m\u001b[1;33m\u001b[0m\u001b[0m\n",
      "\u001b[1;32m~\\Anaconda3\\lib\\site-packages\\librosa\\core\\audio.py\u001b[0m in \u001b[0;36m__audioread_load\u001b[1;34m(path, offset, duration, dtype)\u001b[0m\n\u001b[0;32m    198\u001b[0m         \u001b[0mn\u001b[0m \u001b[1;33m=\u001b[0m \u001b[1;36m0\u001b[0m\u001b[1;33m\u001b[0m\u001b[1;33m\u001b[0m\u001b[0m\n\u001b[0;32m    199\u001b[0m \u001b[1;33m\u001b[0m\u001b[0m\n\u001b[1;32m--> 200\u001b[1;33m         \u001b[1;32mfor\u001b[0m \u001b[0mframe\u001b[0m \u001b[1;32min\u001b[0m \u001b[0minput_file\u001b[0m\u001b[1;33m:\u001b[0m\u001b[1;33m\u001b[0m\u001b[1;33m\u001b[0m\u001b[0m\n\u001b[0m\u001b[0;32m    201\u001b[0m             \u001b[0mframe\u001b[0m \u001b[1;33m=\u001b[0m \u001b[0mutil\u001b[0m\u001b[1;33m.\u001b[0m\u001b[0mbuf_to_float\u001b[0m\u001b[1;33m(\u001b[0m\u001b[0mframe\u001b[0m\u001b[1;33m,\u001b[0m \u001b[0mdtype\u001b[0m\u001b[1;33m=\u001b[0m\u001b[0mdtype\u001b[0m\u001b[1;33m)\u001b[0m\u001b[1;33m\u001b[0m\u001b[1;33m\u001b[0m\u001b[0m\n\u001b[0;32m    202\u001b[0m             \u001b[0mn_prev\u001b[0m \u001b[1;33m=\u001b[0m \u001b[0mn\u001b[0m\u001b[1;33m\u001b[0m\u001b[1;33m\u001b[0m\u001b[0m\n",
      "\u001b[1;32m~\\Anaconda3\\lib\\site-packages\\audioread\\ffdec.py\u001b[0m in \u001b[0;36mread_data\u001b[1;34m(self, timeout)\u001b[0m\n\u001b[0;32m    189\u001b[0m             \u001b[0mdata\u001b[0m \u001b[1;33m=\u001b[0m \u001b[1;32mNone\u001b[0m\u001b[1;33m\u001b[0m\u001b[1;33m\u001b[0m\u001b[0m\n\u001b[0;32m    190\u001b[0m             \u001b[1;32mtry\u001b[0m\u001b[1;33m:\u001b[0m\u001b[1;33m\u001b[0m\u001b[1;33m\u001b[0m\u001b[0m\n\u001b[1;32m--> 191\u001b[1;33m                 \u001b[0mdata\u001b[0m \u001b[1;33m=\u001b[0m \u001b[0mself\u001b[0m\u001b[1;33m.\u001b[0m\u001b[0mstdout_reader\u001b[0m\u001b[1;33m.\u001b[0m\u001b[0mqueue\u001b[0m\u001b[1;33m.\u001b[0m\u001b[0mget\u001b[0m\u001b[1;33m(\u001b[0m\u001b[0mtimeout\u001b[0m\u001b[1;33m=\u001b[0m\u001b[0mtimeout\u001b[0m\u001b[1;33m)\u001b[0m\u001b[1;33m\u001b[0m\u001b[1;33m\u001b[0m\u001b[0m\n\u001b[0m\u001b[0;32m    192\u001b[0m                 \u001b[1;32mif\u001b[0m \u001b[0mdata\u001b[0m\u001b[1;33m:\u001b[0m\u001b[1;33m\u001b[0m\u001b[1;33m\u001b[0m\u001b[0m\n\u001b[0;32m    193\u001b[0m                     \u001b[1;32myield\u001b[0m \u001b[0mdata\u001b[0m\u001b[1;33m\u001b[0m\u001b[1;33m\u001b[0m\u001b[0m\n",
      "\u001b[1;32m~\\Anaconda3\\lib\\queue.py\u001b[0m in \u001b[0;36mget\u001b[1;34m(self, block, timeout)\u001b[0m\n\u001b[0;32m    177\u001b[0m                     \u001b[1;32mif\u001b[0m \u001b[0mremaining\u001b[0m \u001b[1;33m<=\u001b[0m \u001b[1;36m0.0\u001b[0m\u001b[1;33m:\u001b[0m\u001b[1;33m\u001b[0m\u001b[1;33m\u001b[0m\u001b[0m\n\u001b[0;32m    178\u001b[0m                         \u001b[1;32mraise\u001b[0m \u001b[0mEmpty\u001b[0m\u001b[1;33m\u001b[0m\u001b[1;33m\u001b[0m\u001b[0m\n\u001b[1;32m--> 179\u001b[1;33m                     \u001b[0mself\u001b[0m\u001b[1;33m.\u001b[0m\u001b[0mnot_empty\u001b[0m\u001b[1;33m.\u001b[0m\u001b[0mwait\u001b[0m\u001b[1;33m(\u001b[0m\u001b[0mremaining\u001b[0m\u001b[1;33m)\u001b[0m\u001b[1;33m\u001b[0m\u001b[1;33m\u001b[0m\u001b[0m\n\u001b[0m\u001b[0;32m    180\u001b[0m             \u001b[0mitem\u001b[0m \u001b[1;33m=\u001b[0m \u001b[0mself\u001b[0m\u001b[1;33m.\u001b[0m\u001b[0m_get\u001b[0m\u001b[1;33m(\u001b[0m\u001b[1;33m)\u001b[0m\u001b[1;33m\u001b[0m\u001b[1;33m\u001b[0m\u001b[0m\n\u001b[0;32m    181\u001b[0m             \u001b[0mself\u001b[0m\u001b[1;33m.\u001b[0m\u001b[0mnot_full\u001b[0m\u001b[1;33m.\u001b[0m\u001b[0mnotify\u001b[0m\u001b[1;33m(\u001b[0m\u001b[1;33m)\u001b[0m\u001b[1;33m\u001b[0m\u001b[1;33m\u001b[0m\u001b[0m\n",
      "\u001b[1;32m~\\Anaconda3\\lib\\threading.py\u001b[0m in \u001b[0;36mwait\u001b[1;34m(self, timeout)\u001b[0m\n\u001b[0;32m    298\u001b[0m             \u001b[1;32melse\u001b[0m\u001b[1;33m:\u001b[0m\u001b[1;33m\u001b[0m\u001b[1;33m\u001b[0m\u001b[0m\n\u001b[0;32m    299\u001b[0m                 \u001b[1;32mif\u001b[0m \u001b[0mtimeout\u001b[0m \u001b[1;33m>\u001b[0m \u001b[1;36m0\u001b[0m\u001b[1;33m:\u001b[0m\u001b[1;33m\u001b[0m\u001b[1;33m\u001b[0m\u001b[0m\n\u001b[1;32m--> 300\u001b[1;33m                     \u001b[0mgotit\u001b[0m \u001b[1;33m=\u001b[0m \u001b[0mwaiter\u001b[0m\u001b[1;33m.\u001b[0m\u001b[0macquire\u001b[0m\u001b[1;33m(\u001b[0m\u001b[1;32mTrue\u001b[0m\u001b[1;33m,\u001b[0m \u001b[0mtimeout\u001b[0m\u001b[1;33m)\u001b[0m\u001b[1;33m\u001b[0m\u001b[1;33m\u001b[0m\u001b[0m\n\u001b[0m\u001b[0;32m    301\u001b[0m                 \u001b[1;32melse\u001b[0m\u001b[1;33m:\u001b[0m\u001b[1;33m\u001b[0m\u001b[1;33m\u001b[0m\u001b[0m\n\u001b[0;32m    302\u001b[0m                     \u001b[0mgotit\u001b[0m \u001b[1;33m=\u001b[0m \u001b[0mwaiter\u001b[0m\u001b[1;33m.\u001b[0m\u001b[0macquire\u001b[0m\u001b[1;33m(\u001b[0m\u001b[1;32mFalse\u001b[0m\u001b[1;33m)\u001b[0m\u001b[1;33m\u001b[0m\u001b[1;33m\u001b[0m\u001b[0m\n",
      "\u001b[1;31mKeyboardInterrupt\u001b[0m: "
     ]
    }
   ],
   "source": [
    "#done w/ euclidean similarity metric\n",
    "confusionMatrix, calcsDone, timeElapsed = runBenchmark('denoisedQueries', db) "
   ]
  },
  {
   "cell_type": "code",
   "execution_count": null,
   "metadata": {},
   "outputs": [],
   "source": [
    "print(confusionMatrix)\n",
    "print()\n",
    "print(calcsDone)\n",
    "print()\n",
    "print(timeElapsed)"
   ]
  },
  {
   "cell_type": "code",
   "execution_count": null,
   "metadata": {},
   "outputs": [],
   "source": [
    "np.sum(confusionMatrix)/timeElapsed"
   ]
  },
  {
   "cell_type": "code",
   "execution_count": null,
   "metadata": {},
   "outputs": [],
   "source": [
    "#done w/ cosine similarity metric\n",
    "confusionMatrix_c, calcsDone_c, timeElapsed_c = runBenchmark('denoisedQueries', db, metric = 'cosine') "
   ]
  },
  {
   "cell_type": "code",
   "execution_count": null,
   "metadata": {},
   "outputs": [],
   "source": [
    "print(confusionMatrix_c)\n",
    "print()\n",
    "print(calcsDone_c)\n",
    "print()\n",
    "print(timeElapsed_c)"
   ]
  },
  {
   "cell_type": "markdown",
   "metadata": {},
   "source": [
    "## Metric Calculations"
   ]
  },
  {
   "cell_type": "markdown",
   "metadata": {},
   "source": [
    "We write a few simple functions to calculate confusion matrix metrics, starting with basic precision and recall\n",
    "\n",
    "- Precision: For one classification, the proportion of predictions that were correctly classified\n",
    "- Recall: For one classification, the proportion of the total ground truth population that were correctly predicted\n",
    "\n",
    "Sources: \n",
    "\n",
    "https://towardsdatascience.com/multi-class-metrics-made-simple-part-i-precision-and-recall-9250280bddc2\n",
    "\n",
    "https://towardsdatascience.com/multi-class-metrics-made-simple-part-ii-the-f1-score-ebe8b2c2ca1"
   ]
  },
  {
   "cell_type": "code",
   "execution_count": null,
   "metadata": {},
   "outputs": [],
   "source": [
    "def precision(confusionMatrix, predRow):\n",
    "    \"\"\"\n",
    "    \"\"\"\n",
    "    \n",
    "    \n",
    "    truePositives = confusionMatrix[predRow, predRow]\n",
    "    totalPredictions = np.sum(confusionMatrix[predRow])\n",
    "    precision = truePositives/totalPredictions\n",
    "    \n",
    "    if np.isnan(precision):\n",
    "        return 0\n",
    "    \n",
    "    return precision"
   ]
  },
  {
   "cell_type": "code",
   "execution_count": null,
   "metadata": {},
   "outputs": [],
   "source": [
    "#hand calc says we had 34.65% precision for digit zero from the cosine metric, 76.92% precision for digit 9\n",
    "zero_prec = precision(confusionMatrix_c, 0)\n",
    "nine_prec = precision(confusionMatrix_c, 9)\n",
    "print(zero_prec)\n",
    "print(nine_prec)"
   ]
  },
  {
   "cell_type": "code",
   "execution_count": null,
   "metadata": {},
   "outputs": [],
   "source": [
    "def recall(confusionMatrix, predRow):\n",
    "    \"\"\"\n",
    "    \"\"\"\n",
    "    \n",
    "    truePositives = confusionMatrix[predRow, predRow]\n",
    "    totalPositives = np.sum(confusionMatrix[:, predRow])\n",
    "    recall = truePositives/totalPositives\n",
    "    \n",
    "    if np.isnan(recall):\n",
    "        return 0\n",
    "    \n",
    "    return recall"
   ]
  },
  {
   "cell_type": "code",
   "execution_count": null,
   "metadata": {},
   "outputs": [],
   "source": [
    "#hand calc says we had 91.94% recall on digit 4 for the euclidean metric, 33.33% recall on digit 1 for euclidean metric\n",
    "four_recall = recall(confusionMatrix, 4)\n",
    "one_recall = recall(confusionMatrix, 1)\n",
    "print(four_recall)\n",
    "print(one_recall)"
   ]
  },
  {
   "cell_type": "code",
   "execution_count": null,
   "metadata": {},
   "outputs": [],
   "source": [
    "def totalAccuracy(confusionMatrix):\n",
    "    \"\"\"\n",
    "    \"\"\"\n",
    "    totalCorrect = np.trace(confusionMatrix)\n",
    "    totalDigits = np.sum(confusionMatrix)\n",
    "    \n",
    "    totalAccuracy = totalCorrect/totalDigits\n",
    "    \n",
    "    return totalAccuracy"
   ]
  },
  {
   "cell_type": "code",
   "execution_count": null,
   "metadata": {},
   "outputs": [],
   "source": [
    "euclideanAccuracy = totalAccuracy(confusionMatrix)\n",
    "cosineAccuracy = totalAccuracy(confusionMatrix_c)\n",
    "print(euclideanAccuracy)\n",
    "print(cosineAccuracy)"
   ]
  },
  {
   "cell_type": "markdown",
   "metadata": {},
   "source": [
    "Now we calculate the F1-Score, a combined metric that uses the \"harmonic mean\" to aggregate the precision and recall scores of one of the classifiers"
   ]
  },
  {
   "cell_type": "code",
   "execution_count": null,
   "metadata": {},
   "outputs": [],
   "source": [
    "def F1Score(confusionMatrix, predRow):\n",
    "    \"\"\"\n",
    "    \"\"\"\n",
    "    \n",
    "    prec = precision(confusionMatrix, predRow)\n",
    "    rec = recall(confusionMatrix, predRow)\n",
    "    \n",
    "    f1 = (2*prec*rec) / (prec + rec)\n",
    "    \n",
    "    if np.isnan(f1):\n",
    "        return 0\n",
    "    \n",
    "    return f1"
   ]
  },
  {
   "cell_type": "code",
   "execution_count": null,
   "metadata": {},
   "outputs": [],
   "source": [
    "#via handcalc, we see that the f1-score for 5 with the euclidean metric is 78.05%\n",
    "#f1_five = F1Score(confusionMatrix, 5)\n",
    "f1_one = F1Score(confusionMatrix, 1)\n",
    "print(f1_one)"
   ]
  },
  {
   "cell_type": "markdown",
   "metadata": {},
   "source": [
    "Now we write a function that calculate the Macro F1 score, which is an equally weighted average of all classifier F1-scores"
   ]
  },
  {
   "cell_type": "code",
   "execution_count": null,
   "metadata": {},
   "outputs": [],
   "source": [
    "def macroF1(confusionMatrix):\n",
    "    \"\"\"\n",
    "    \"\"\"\n",
    "    numClassifiers = confusionMatrix.shape[0]\n",
    "    f1scores = []\n",
    "    \n",
    "    for i in range(numClassifiers):\n",
    "        f1 = F1Score(confusionMatrix, i)\n",
    "        f1scores.append(f1)\n",
    "        \n",
    "        \n",
    "    macroF1 = np.mean(f1scores)\n",
    "    \n",
    "    return macroF1"
   ]
  },
  {
   "cell_type": "code",
   "execution_count": null,
   "metadata": {},
   "outputs": [],
   "source": [
    "#estimated 46.48%\n",
    "macroF1(confusionMatrix)"
   ]
  },
  {
   "cell_type": "code",
   "execution_count": null,
   "metadata": {},
   "outputs": [],
   "source": [
    "macroF1(confusionMatrix_c)"
   ]
  },
  {
   "cell_type": "markdown",
   "metadata": {},
   "source": [
    "Now I use all these functions to bring all the metrics together"
   ]
  },
  {
   "cell_type": "code",
   "execution_count": null,
   "metadata": {},
   "outputs": [],
   "source": [
    "def fullReport(confusionMatrix, label):\n",
    "    \"\"\"\n",
    "    \"\"\"\n",
    "    print(\"Full Metric output for benchmark: \", label)\n",
    "    \n",
    "    print()\n",
    "    \n",
    "    print(\"Digit  \\t\\tPrecision  \\tRecall  \\tF1-Score\" )\n",
    "    \n",
    "    for digit in range(confusionMatrix.shape[0]):\n",
    "        \n",
    "        prec = precision(confusionMatrix, digit )\n",
    "        rec = recall(confusionMatrix, digit )\n",
    "        f1 = F1Score(confusionMatrix, digit )\n",
    "     \n",
    "        print(digit, \"\\t\\t\", f'{prec:.4f}', \"\\t\", f'{rec:.4f}',\"\\t\", f'{f1:.4f}' )\n",
    "        \n",
    "    print()\n",
    "    \n",
    "    macro = macroF1(confusionMatrix)\n",
    "    acc = totalAccuracy(confusionMatrix)\n",
    "    print(\"Macro F1 Score: \", f'{macro:.4f}')\n",
    "    print(\"Full Digit Accuracy: \", f'{acc:.4f}')"
   ]
  },
  {
   "cell_type": "code",
   "execution_count": null,
   "metadata": {},
   "outputs": [],
   "source": [
    "fullReport(confusionMatrix, \"Full Test, Euclidean Metric\")"
   ]
  },
  {
   "cell_type": "code",
   "execution_count": null,
   "metadata": {},
   "outputs": [],
   "source": [
    "fullReport(confusionMatrix_c, \"Full Test, Cosine Metric\")"
   ]
  },
  {
   "cell_type": "code",
   "execution_count": null,
   "metadata": {
    "scrolled": false
   },
   "outputs": [],
   "source": [
    "playDigits('denoisedQueries/32834.mp3', digitTimes)"
   ]
  },
  {
   "cell_type": "code",
   "execution_count": null,
   "metadata": {},
   "outputs": [],
   "source": []
  },
  {
   "cell_type": "code",
   "execution_count": null,
   "metadata": {},
   "outputs": [],
   "source": []
  },
  {
   "cell_type": "code",
   "execution_count": null,
   "metadata": {},
   "outputs": [],
   "source": [
    "queries = retrieveMP3s(\"Queries\")\n",
    "references = retrieveMP3s(\"References\")"
   ]
  },
  {
   "cell_type": "code",
   "execution_count": null,
   "metadata": {},
   "outputs": [],
   "source": [
    "mfcc_test = mfcc(S, num_coeffs = 20)"
   ]
  },
  {
   "cell_type": "code",
   "execution_count": null,
   "metadata": {},
   "outputs": [],
   "source": [
    "plt.imshow(mfcc_test, cmap = \"jet\", origin = \"lower\")\n",
    "plt.axis(\"tight\")"
   ]
  },
  {
   "cell_type": "code",
   "execution_count": null,
   "metadata": {},
   "outputs": [],
   "source": [
    "S_first = lb.core.stft(audio[17408:27776], n_fft = 2048, hop_length = 128)"
   ]
  },
  {
   "cell_type": "code",
   "execution_count": null,
   "metadata": {},
   "outputs": [],
   "source": [
    "mfcc_first = mfcc(S_first, num_coeffs = 20)"
   ]
  },
  {
   "cell_type": "code",
   "execution_count": null,
   "metadata": {},
   "outputs": [],
   "source": [
    "plt.imshow(mfcc_first, cmap = \"jet\", origin = \"lower\")\n",
    "plt.axis(\"tight\")"
   ]
  },
  {
   "cell_type": "code",
   "execution_count": null,
   "metadata": {},
   "outputs": [],
   "source": [
    "reference_three, sr = lb.core.load('References/Reference_3.mp3', sr = 22050)"
   ]
  },
  {
   "cell_type": "code",
   "execution_count": null,
   "metadata": {},
   "outputs": [],
   "source": [
    "ipd.Audio(reference_three, rate = 22050)"
   ]
  },
  {
   "cell_type": "code",
   "execution_count": null,
   "metadata": {},
   "outputs": [],
   "source": [
    "S_reference = lb.core.stft(reference_three, n_fft = 2048, hop_length = 128)"
   ]
  },
  {
   "cell_type": "code",
   "execution_count": null,
   "metadata": {},
   "outputs": [],
   "source": [
    "mfcc_ref = mfcc(S_reference, num_coeffs = 20)"
   ]
  },
  {
   "cell_type": "code",
   "execution_count": null,
   "metadata": {},
   "outputs": [],
   "source": [
    "plt.imshow(mfcc_ref, cmap = \"jet\", origin = \"lower\")\n",
    "plt.axis(\"tight\")"
   ]
  },
  {
   "cell_type": "code",
   "execution_count": null,
   "metadata": {},
   "outputs": [],
   "source": [
    "D, wp = lb.sequence.dtw(mfcc_ref, mfcc_first)"
   ]
  },
  {
   "cell_type": "code",
   "execution_count": null,
   "metadata": {},
   "outputs": [],
   "source": [
    "import librosa.display\n",
    "lb.display.specshow(D, x_axis='frames', y_axis='frames')\n",
    "plt.plot(wp[:, 1], wp[:, 0], label='Optimal path', color='y')"
   ]
  },
  {
   "cell_type": "code",
   "execution_count": null,
   "metadata": {},
   "outputs": [],
   "source": [
    "plt.plot(D[-1, :] / wp.shape[0])"
   ]
  },
  {
   "cell_type": "code",
   "execution_count": null,
   "metadata": {},
   "outputs": [],
   "source": [
    "np.min(D[-1,:])"
   ]
  },
  {
   "cell_type": "code",
   "execution_count": null,
   "metadata": {},
   "outputs": [],
   "source": [
    "reference_four, sr = lb.core.load('References/Reference_4.mp3', sr = 22050)"
   ]
  },
  {
   "cell_type": "code",
   "execution_count": null,
   "metadata": {},
   "outputs": [],
   "source": [
    "S_ref4 = lb.core.stft(reference_four, n_fft = 2048, hop_length = 128)"
   ]
  },
  {
   "cell_type": "code",
   "execution_count": null,
   "metadata": {},
   "outputs": [],
   "source": [
    "mfcc_ref4 = mfcc(S_ref4, num_coeffs = 20)"
   ]
  },
  {
   "cell_type": "code",
   "execution_count": null,
   "metadata": {},
   "outputs": [],
   "source": [
    "D4, wp4 = lb.sequence.dtw(mfcc_ref4, mfcc_first)"
   ]
  },
  {
   "cell_type": "code",
   "execution_count": null,
   "metadata": {},
   "outputs": [],
   "source": [
    "np.min(D4[-1,:])"
   ]
  },
  {
   "cell_type": "code",
   "execution_count": null,
   "metadata": {},
   "outputs": [],
   "source": [
    "print(references)"
   ]
  },
  {
   "cell_type": "code",
   "execution_count": null,
   "metadata": {},
   "outputs": [],
   "source": [
    "for i in range(len(references)):\n",
    "    print(references[i])\n",
    "    reference_num, sr = lb.core.load(references[i], sr = 22050)\n",
    "    S_refNum = lb.core.stft(reference_num, n_fft = 2048, hop_length = 128)\n",
    "    mfcc_refNum = mfcc(S_refNum, num_coeffs = 20)\n",
    "    D_num, wp_num = lb.sequence.dtw(mfcc_refNum, mfcc_first)\n",
    "    print(np.min(D_num[-1:]))"
   ]
  },
  {
   "cell_type": "code",
   "execution_count": null,
   "metadata": {},
   "outputs": [],
   "source": [
    "def getMatchScores(mfccQuery, references):\n",
    "    storage = []\n",
    "    for i in range(len(references)):\n",
    "        #print(references[i])\n",
    "        reference_num, sr = lb.core.load(references[i], sr = 22050)\n",
    "        S_refNum = lb.core.stft(reference_num, n_fft = 2048, hop_length = 128)\n",
    "        mfcc_refNum = mfcc(S_refNum, num_coeffs = 20)\n",
    "        D_num, wp_num = lb.sequence.dtw(mfcc_refNum, mfccQuery)\n",
    "        storage.append(np.min(D_num[-1:]))\n",
    "        #print(np.min(D_num[-1:]))\n",
    "    minPos = np.argmin(storage)\n",
    "    print(references[minPos])\n",
    "    #return storage"
   ]
  },
  {
   "cell_type": "code",
   "execution_count": null,
   "metadata": {},
   "outputs": [],
   "source": [
    "#S_first = lb.core.stft(audio[17408:27776], n_fft = 2048, hop_length = 128, n_fft = 2048, hop_length = 128)\n",
    "#answer = retrieveAnswer('Queries/32824.mp3')\n",
    "def analyzeQuery(audio, times, references, originalAudio):\n",
    "    answer = retrieveAnswer(originalAudio)\n",
    "    \n",
    "    for i in range(len(times)):\n",
    "        t = times[i]\n",
    "        print(answer[i])\n",
    "        #print(t[0])\n",
    "        #print(t[])\n",
    "        S_query = lb.core.stft(audio[t[0]:t[1]], n_fft = 2048, hop_length = 128)\n",
    "        mfcc_query = mfcc(S_query, num_coeffs = 20)\n",
    "        getMatchScores(mfcc_query, references)\n"
   ]
  },
  {
   "cell_type": "code",
   "execution_count": null,
   "metadata": {},
   "outputs": [],
   "source": [
    "answer"
   ]
  },
  {
   "cell_type": "code",
   "execution_count": null,
   "metadata": {},
   "outputs": [],
   "source": [
    "analyzeQuery(audio, digitTimes, references, 'denoisedQueries/32834.mp3')"
   ]
  },
  {
   "cell_type": "code",
   "execution_count": null,
   "metadata": {},
   "outputs": [],
   "source": [
    "audio2, sr = lb.core.load('denoisedQueries/73914130_denoised.mp3', sr = 22050)"
   ]
  },
  {
   "cell_type": "code",
   "execution_count": null,
   "metadata": {},
   "outputs": [],
   "source": [
    "digitTimes2 = getDigitTimes('denoisedQueries/73914130_denoised.mp3')\n"
   ]
  },
  {
   "cell_type": "code",
   "execution_count": null,
   "metadata": {},
   "outputs": [],
   "source": [
    "playDigits('denoisedQueries/73914130_denoised.mp3', digitTimes2)"
   ]
  },
  {
   "cell_type": "code",
   "execution_count": null,
   "metadata": {},
   "outputs": [],
   "source": [
    "analyzeQuery(audio2, digitTimes2, references, 'Queries/73914130.mp3')"
   ]
  },
  {
   "cell_type": "code",
   "execution_count": null,
   "metadata": {},
   "outputs": [],
   "source": [
    "audio3, sr = lb.core.load('denoisedQueries/77777_denoised.mp3', sr = 22050)"
   ]
  },
  {
   "cell_type": "code",
   "execution_count": null,
   "metadata": {},
   "outputs": [],
   "source": [
    "digitTimes3 = getDigitTimes('denoisedQueries/77777_denoised.mp3')\n"
   ]
  },
  {
   "cell_type": "code",
   "execution_count": null,
   "metadata": {},
   "outputs": [],
   "source": [
    "playDigits('denoisedQueries/77777_denoised.mp3', digitTimes3)"
   ]
  },
  {
   "cell_type": "code",
   "execution_count": null,
   "metadata": {},
   "outputs": [],
   "source": [
    "analyzeQuery(audio3, digitTimes3, references, 'Queries/77777.mp3')"
   ]
  },
  {
   "cell_type": "code",
   "execution_count": null,
   "metadata": {},
   "outputs": [],
   "source": [
    "audio4, sr = lb.core.load('denoisedQueries/9963437165_denoised.mp3', sr = 22050)\n",
    "digitTimes4 = getDigitTimes('denoisedQueries/9963437165_denoised.mp3')\n",
    "playDigits('denoisedQueries/9963437165_denoised.mp3', digitTimes4)\n",
    "# This has a problem since six was split in half rip"
   ]
  },
  {
   "cell_type": "code",
   "execution_count": null,
   "metadata": {},
   "outputs": [],
   "source": [
    "audio5, sr = lb.core.load('denoisedQueries/4084782589_denoised.mp3', sr = 22050)\n",
    "digitTimes5 = getDigitTimes('denoisedQueries/4084782589_denoised.mp3')\n",
    "playDigits('denoisedQueries/4084782589_denoised.mp3', digitTimes5)\n"
   ]
  },
  {
   "cell_type": "code",
   "execution_count": null,
   "metadata": {},
   "outputs": [],
   "source": [
    "analyzeQuery(audio5, digitTimes5, references, 'Queries/4084782589.mp3')"
   ]
  },
  {
   "cell_type": "code",
   "execution_count": null,
   "metadata": {},
   "outputs": [],
   "source": [
    "audio6, sr = lb.core.load('denoisedQueries/123454321_denoised.mp3', sr = 22050)\n",
    "digitTimes6 = getDigitTimes('denoisedQueries/123454321_denoised.mp3')\n",
    "playDigits('denoisedQueries/123454321_denoised.mp3', digitTimes6)"
   ]
  },
  {
   "cell_type": "code",
   "execution_count": null,
   "metadata": {},
   "outputs": [],
   "source": [
    "analyzeQuery(audio6, digitTimes6, references, 'Queries/123454321.mp3')"
   ]
  },
  {
   "cell_type": "code",
   "execution_count": null,
   "metadata": {},
   "outputs": [],
   "source": [
    "audio7, sr = lb.core.load('denoisedQueries/0123456789_denoised.mp3', sr = 22050)\n",
    "digitTimes7 = getDigitTimes('denoisedQueries/0123456789_denoised.mp3')\n",
    "digitTimes7 = np.delete(digitTimes7, 7, axis=0) # manually removed six that was split in half\n",
    "playDigits('denoisedQueries/0123456789_denoised.mp3', digitTimes7)"
   ]
  },
  {
   "cell_type": "code",
   "execution_count": null,
   "metadata": {},
   "outputs": [],
   "source": [
    "analyzeQuery(audio7, digitTimes7, references, 'Queries/0123456789.mp3')"
   ]
  },
  {
   "cell_type": "code",
   "execution_count": null,
   "metadata": {},
   "outputs": [],
   "source": []
  }
 ],
 "metadata": {
  "kernelspec": {
   "display_name": "Python 3",
   "language": "python",
   "name": "python3"
  },
  "language_info": {
   "codemirror_mode": {
    "name": "ipython",
    "version": 3
   },
   "file_extension": ".py",
   "mimetype": "text/x-python",
   "name": "python",
   "nbconvert_exporter": "python",
   "pygments_lexer": "ipython3",
   "version": "3.7.4"
  }
 },
 "nbformat": 4,
 "nbformat_minor": 2
}
