{
 "cells": [
  {
   "cell_type": "markdown",
   "metadata": {},
   "source": [
    "# Voice Recognition for Digits - Jimmy Fernandez and Christina Lau"
   ]
  },
  {
   "cell_type": "code",
   "execution_count": 1,
   "metadata": {
    "collapsed": true
   },
   "outputs": [],
   "source": [
    "%matplotlib inline"
   ]
  },
  {
   "cell_type": "code",
   "execution_count": 2,
   "metadata": {
    "collapsed": true
   },
   "outputs": [],
   "source": [
    "import numpy as np\n",
    "import librosa as lb \n",
    "import matplotlib.pyplot as plt\n",
    "from scipy.signal import stft\n",
    "import glob\n",
    "import os.path\n",
    "import subprocess\n",
    "import pickle\n",
    "import IPython.display as ipd\n",
    "import warnings\n",
    "import scipy.signal\n",
    "import scipy.fftpack\n",
    "import time\n",
    "import json\n",
    "from json import JSONEncoder"
   ]
  },
  {
   "cell_type": "code",
   "execution_count": 3,
   "metadata": {
    "collapsed": true
   },
   "outputs": [],
   "source": [
    "warnings.filterwarnings(action='ignore') # to suppress warning messages"
   ]
  },
  {
   "cell_type": "code",
   "execution_count": 4,
   "metadata": {
    "collapsed": true
   },
   "outputs": [],
   "source": [
    "#set true if you are using a mac\n",
    "Mac = True"
   ]
  },
  {
   "cell_type": "markdown",
   "metadata": {},
   "source": [
    "## Loading in Stored Variables"
   ]
  },
  {
   "cell_type": "markdown",
   "metadata": {},
   "source": [
    "In order to substantially reduce the run time of this file, the following function is defined and run here. For explanation of this function, as well as to see it written in its original context, see later discussion in \"Calculation and Storage\" Section"
   ]
  },
  {
   "cell_type": "code",
   "execution_count": 5,
   "metadata": {
    "collapsed": true
   },
   "outputs": [],
   "source": [
    "# These are the result files from using mfcc2, which was the implementation the final system used. \n",
    "# To see the results from the original mfcc and mfcc3, simply append _mfcc1 or _mfcc3 to the file names respectively.\n",
    "\n",
    "resultsFile = 'results_storage.json'\n",
    "resultsFileNoSplit = 'results_storage_no_split.json'"
   ]
  },
  {
   "cell_type": "code",
   "execution_count": 6,
   "metadata": {
    "collapsed": true
   },
   "outputs": [],
   "source": [
    "def loadAllVariables(resultsFile):\n",
    "    \"\"\"\n",
    "    Helper function for the system. Loads in all the previously defined outputs so we no longer need to allow a long \n",
    "    file runtime to work with and analyze the results.\n",
    "    \n",
    "    This function works be making the variables global, as it would be cumbersome to return them all. The author recognizes \n",
    "    this is bad practice, but has decided to make an exception in this case due to pure convience\n",
    "    \n",
    "    Inputs:\n",
    "    resultsFile - the name of the file which all the system results are stored\n",
    "    \n",
    "    Outputs:\n",
    "    None returned (creates all the below global variables)\n",
    "    \"\"\"\n",
    "    \n",
    "    file = open(resultsFile)\n",
    "    data = json.load(file)\n",
    "    file.close()\n",
    "    \n",
    "    \n",
    "    #load in data taken from noisy reference benchmark\n",
    "    global confusionMatrix_n, calcsDone_n, timeElapsed_n\n",
    "    confusionMatrix_n, calcsDone_n, timeElapsed_n = data['noise']\n",
    "    confusionMatrix_n = np.array(confusionMatrix_n)\n",
    "    \n",
    "    #load in data taken from noisy reference benchmark, cosine metric\n",
    "    global confusionMatrix_c_n, calcsDone_c_n, timeElapsed_c_n\n",
    "    confusionMatrix_c_n, calcsDone_c_n, timeElapsed_c_n = data['noise_cosine']\n",
    "    confusionMatrix_c_n = np.array(confusionMatrix_c_n)\n",
    "    \n",
    "    #load in data from denoised benchmark\n",
    "    global confusionMatrix, calcsDone, timeElapsed\n",
    "    confusionMatrix, calcsDone, timeElapsed = data['denoised']\n",
    "    confusionMatrix = np.array(confusionMatrix)\n",
    "    \n",
    "    #load in data from denoised benchmark, cosine metric\n",
    "    global confusionMatrix_c, calcsDone_c, timeElapsed_c\n",
    "    confusionMatrix_c, calcsDone_c, timeElapsed_c = data['denoised_cosine']\n",
    "    confusionMatrix_c = np.array(confusionMatrix_c)\n",
    "    \n",
    "    #load in data from noisy benchmark, desilenced\n",
    "    global confusionMatrix_nds, calcsDone_nds, timeElapsed_nds\n",
    "    confusionMatrix_nds, calcsDone_nds, timeElapsed_nds = data['desilenced']\n",
    "    confusionMatrix_nds = np.array(confusionMatrix_nds)\n",
    "    \n",
    "    #load in data from noisy benchmark, desilenced, cosine metric\n",
    "    global confusionMatrix_c_nds, calcsDone_c_nds, timeElapsed_c_nds\n",
    "    confusionMatrix_c_nds, calcsDone_c_nds, timeElapsed_c_nds = data['desilenced_cosine']\n",
    "    confusionMatrix_c_nds = np.array(confusionMatrix_c_nds)\n",
    "    \n",
    "    #load in data from denoised, desilenced benchmark\n",
    "    global confusionMatrix_ddds, calcsDone_ddds, timeElapsed_ddds\n",
    "    confusionMatrix_ddds, calcsDone_ddds, timeElapsed_ddds = data['dd']\n",
    "    confusionMatrix_ddds = np.array(confusionMatrix_ddds)\n",
    "    \n",
    "    #load in data from denosied, desilenced benchmark, cosine metric\n",
    "    global confusionMatrix_c_ddds, calcsDone_c_ddds, timeElapsed_c_ddds\n",
    "    confusionMatrix_c_ddds, calcsDone_c_ddds, timeElapsed_c_ddds = data['dd_cosine']\n",
    "    confusionMatrix_c_ddds = np.array(confusionMatrix_c_ddds)\n",
    "    \n",
    "    #load in data taken from noisy reference noisy queries benchmark\n",
    "    global confusionMatrix_nrnq, calcsDone_nrnq, timeElapsed_nrnq\n",
    "    confusionMatrix_nrnq, calcsDone_nrnq, timeElapsed_nrnq = data['noise_query_benchmark']\n",
    "    confusionMatrix_nrnq = np.array(confusionMatrix_nrnq)\n",
    "\n",
    "    #load in data taken from noisy reference noisy queries benchmark, cosine metric\n",
    "    global confusionMatrix_c_nrnq, calcsDone_c_nrnq, timeElapsed_c_nrnq\n",
    "    confusionMatrix_c_nrnq, calcsDone_c_nrnq, timeElapsed_c_nrnq = data['noise_query_benchmark_cosine']\n",
    "    confusionMatrix_c_nrnq = np.array(confusionMatrix_c_nrnq)\n",
    "    \n",
    "    #load in data taken from noisy reference desilenced noisy queries benchmark\n",
    "    global confusionMatrix_ndrnq, calcsDone_ndrnq, timeElapsed_ndrnq\n",
    "    confusionMatrix_ndrnq, calcsDone_ndrnq, timeElapsed_ndrnq = data['noise_query_desilenced_noise_ref_benchmark']\n",
    "    confusionMatrix_ndrnq = np.array(confusionMatrix_ndrnq)\n",
    "    \n",
    "    #load in data taken from noisy reference desilenced noisy queries benchmark, cosine metric\n",
    "    global confusionMatrix_c_ndrnq, calcsDone_c_ndrnq, timeElapsed_c_ndrnq\n",
    "    confusionMatrix_c_ndrnq, calcsDone_c_ndrnq, timeElapsed_c_ndrnq = data['noise_query_desilenced_noise_ref_benchmark_cosine']\n",
    "    confusionMatrix_c_ndrnq = np.array(confusionMatrix_c_ndrnq)"
   ]
  },
  {
   "cell_type": "markdown",
   "metadata": {},
   "source": [
    "We use a similar function to reload all the \"No Split\" results from later in the file."
   ]
  },
  {
   "cell_type": "code",
   "execution_count": 7,
   "metadata": {
    "collapsed": true
   },
   "outputs": [],
   "source": [
    "def loadAllVariablesNoSpit(resultsFile):\n",
    "    \"\"\"\n",
    "    Helper function for the system. Loads in all the previously defined outputs from the \"No Split\" system so we no longer \n",
    "    need to allow a long file runtime to work with and analyze the results.\n",
    "    \n",
    "    This function works be making the variables global, as it would be cumbersome to return them all. The author recognizes \n",
    "    this is bad practice, but has decided to make an exception in this case due to pure convience\n",
    "    \n",
    "    Inputs:\n",
    "    resultsFile - the name of the file which all the system results are stored\n",
    "    \n",
    "    Outputs:\n",
    "    None returned (creates all the below global variables)\n",
    "    \"\"\"\n",
    "    file = open(resultsFile)\n",
    "    data = json.load(file)\n",
    "    file.close()\n",
    "    \n",
    "    #load in data from denoised benchmark\n",
    "    global confusionMatrixNoSplit, calcsDoneNoSplit, timeElapsedNoSplit\n",
    "    confusionMatrixNoSplit, calcsDoneNoSplit, timeElapsedNoSplit = data['no_split_denoised']\n",
    "    confusionMatrixNoSplit = np.array(confusionMatrixNoSplit)\n",
    "    \n",
    "    #load in data from denoised benchmark, cosine metric\n",
    "    global confusionMatrixNoSplit_c, calcsDoneNoSplit_c, timeElapsedNoSplit_c\n",
    "    confusionMatrixNoSplit_c, calcsDoneNoSplit_c, timeElapsedNoSplit_c = data['no_split_denoised_cosine']\n",
    "    confusionMatrixNoSplit_c = np.array(confusionMatrixNoSplit_c)\n",
    "    "
   ]
  },
  {
   "cell_type": "code",
   "execution_count": 8,
   "metadata": {
    "collapsed": true
   },
   "outputs": [],
   "source": [
    "loadAllVariables(resultsFile)\n",
    "loadAllVariablesNoSpit(resultsFileNoSplit)"
   ]
  },
  {
   "cell_type": "markdown",
   "metadata": {},
   "source": [
    "## MFCC Feature Calculation"
   ]
  },
  {
   "cell_type": "markdown",
   "metadata": {},
   "source": [
    "Before diving into the MFCC algorithm, we first write a number of simple helper functions for use at various points of the algorithm. These functions convert the FFT frequency indcies to frequency in hz, hz to mels (on the non-linear Mel frequency scale), and vice versa."
   ]
  },
  {
   "cell_type": "code",
   "execution_count": 9,
   "metadata": {
    "collapsed": true
   },
   "outputs": [],
   "source": [
    "def binToHz(k, nfft = 2048, fs = 22050):\n",
    "    \"\"\"\n",
    "    Helper function that takes in an fft/stft frequency bin k and returns the corresponding frequency of the bin in hertz\n",
    "    \n",
    "    Inputs:\n",
    "    k - the index of the stft row of interest\n",
    "    nfft - the size of the fft performed\n",
    "    fs - the sample rate of the signal\n",
    "    \n",
    "    Outputs:\n",
    "    freq - the frequency of the provided STFT bin\n",
    "    \"\"\"\n",
    "    \n",
    "    freq = k*fs/nfft\n",
    "    \n",
    "    return freq"
   ]
  },
  {
   "cell_type": "code",
   "execution_count": 10,
   "metadata": {
    "collapsed": true
   },
   "outputs": [],
   "source": [
    "def hzToBin(freq, nfft = 2048, fs = 22050):\n",
    "    \"\"\"\n",
    "    helper function that converts the provided frequency in hz to the nearest fft frequency index. Only valid for frequencies \n",
    "    contained within the first half of the fft \n",
    "    \n",
    "    Inputs:\n",
    "    freq - the frequency we are interested in converting to frequency index\n",
    "    nfft - the size of the fft performed\n",
    "    fs - the sample rate of the signal\n",
    "    \n",
    "    \n",
    "    Outputs:\n",
    "    k - converted frequency bin\n",
    "    \n",
    "    \"\"\"\n",
    "    \n",
    "    k = np.round(freq*nfft/fs)\n",
    "    \n",
    "    return k"
   ]
  },
  {
   "cell_type": "code",
   "execution_count": 11,
   "metadata": {
    "collapsed": true
   },
   "outputs": [],
   "source": [
    "def hzToMel(hz):\n",
    "    \"\"\"\n",
    "    Helper function that converts the provided hz frequency to mel frequency scale\n",
    "    \n",
    "    Inputs:\n",
    "    hz - the frequency of interst in hz\n",
    "    \n",
    "    Outputs:\n",
    "    mel - the frequency of interest in mel\n",
    "    \"\"\"\n",
    "    \n",
    "    mel = 1125*np.log(1 + hz/700)\n",
    "    \n",
    "    return mel"
   ]
  },
  {
   "cell_type": "code",
   "execution_count": 12,
   "metadata": {
    "collapsed": true
   },
   "outputs": [],
   "source": [
    "def melToHz(mel):\n",
    "    \"\"\"\n",
    "    Helper function that converts the provided mel frequency to hz frequency scale\n",
    "    \n",
    "    Inputs:\n",
    "    mel - the frequency of interest in mel\n",
    "    \n",
    "    Outputs:\n",
    "    hz - the frequency of interst in hz\n",
    "    \"\"\"\n",
    "    hz = 700*(np.exp(mel/1125) - 1)\n",
    "    \n",
    "    return hz"
   ]
  },
  {
   "cell_type": "markdown",
   "metadata": {},
   "source": [
    "Now we implement the Mel Frequency Cepstrum Coefficent calculation for the features. The algorithm has 5 main steps.\n",
    "\n",
    "1. Take the STFT of the audio signal. This is an implied step of our function, as it is passed the STFT as an input\n",
    "2. Calculate the periodogram of the STFT. The Periodogram is the elementwise square magnitude of the STFT elements divided by the length of the FFT used to construct the STFT\n",
    "3. Use the \"Mel Frequency Filter Bank\" to calculate the energies in a specified number of frequency bands. The Mel Frequency scale is a logarithmic scale that more closely matches the way humans hear/speak. As such, the filter bank sums energies in closely related frequency bins together to express the energy content in ranges more similar to human speech, with higher frequencies having a wider range summed together than lower frequencies\n",
    "4. Take the natural logarithm of the mel energy bands\n",
    "5. Take the discrete cosine transform of the logarithmic mel energy bands. These are the MFCC coefficients (there should be a specified number per frame of the STFT)"
   ]
  },
  {
   "cell_type": "code",
   "execution_count": 13,
   "metadata": {
    "collapsed": true
   },
   "outputs": [],
   "source": [
    "def mfcc(S, n_fft = 2048, sr = 22050, num_coeffs = 26, filterMatrix = None, bottomFreq = 300, topFreq = 8000, epsilon = 1e-9):\n",
    "    \"\"\"\n",
    "    Performs the calculation of the MFCC feature matrix\n",
    "    \n",
    "    Inputs:\n",
    "    S - the STFT of the audio signal of interest\n",
    "    n_fft - the length of the DFT used to calculate the STFT\n",
    "    sr - the sample rate of the audio of interest\n",
    "    num_coeffs - the number of coefficients to return (and also the number of Mel Filters to create)\n",
    "    filterMatrix - optional precalculated filter matrix\n",
    "    bottomFreq - the bottom frequency of our filter bank. Defaults to 300 hz because this is a common bottom used in speech recognition\n",
    "    topFreq - the top frequency of our filter bank. Defaults to 8000 hz because this is a common top used in speech recognition\n",
    "    epsilon - a small number added to the logarithm to prevent NaN's\n",
    "    \n",
    "    Outputs:\n",
    "    mfcc - a num_coeffs x number of STFT frames matrix that represents the MFCC feature per frame of the STFT\n",
    "    \n",
    "    \"\"\"\n",
    "    #we begin by calculating the periodogram of the provided STFT matrix\n",
    "    pxx= np.abs(S)**2/n_fft\n",
    "\n",
    "    \n",
    "    #use a precalculated filter matrix to make the calculation slightly more efficient, if desired\n",
    "    if filterMatrix is not None:\n",
    "        assert(num_coeffs == filterMatrix.shape[0])\n",
    "        filt = filterMatrix\n",
    "    else:\n",
    "        filt = calculateFilterMatrix(numFilters = num_coeffs, bottomFreq = bottomFreq, topFreq = topFreq)\n",
    "        \n",
    "    #sum the relevant filter energies and take the logarithm of them (part of the \"cepstrum calculation\")\n",
    "    mel_log_energies = np.log(filt@pxx + epsilon)\n",
    "    \n",
    "    mfcc = scipy.fftpack.dct(mel_log_energies, axis = 0, norm = 'ortho') #norm is set to ortho for the preimplemented version\n",
    "    \n",
    "    \n",
    "    return mfcc"
   ]
  },
  {
   "cell_type": "markdown",
   "metadata": {},
   "source": [
    "In order to perform the above calculation. We write a helper function that calculates the filter bank as a matrix that can be used to premultiply the periodogram to perform the summation an filtering. To calculate the filter bank, we do the following\n",
    "\n",
    "1. Take our upper and lower frequency bounds and convert them to mels\n",
    "2. Generate a number of linearly spaced points between the endpoints equal to the number of desired filters\n",
    "3. Convert the points to hz, then to FFT frequency bins\n",
    "4. iterate through the filter matrix, and starting with the leftmost points, use groups of three points as the start, stop, and peak of the triangular filter. The amplitude ranges from 0 to 1 at the peak linearly and down to zero again."
   ]
  },
  {
   "cell_type": "code",
   "execution_count": 14,
   "metadata": {
    "collapsed": true
   },
   "outputs": [],
   "source": [
    "def calculateFilterMatrix(numFilters = 26, bottomFreq = 300, topFreq = 8000,  nfft = 2048):\n",
    "    \"\"\"\n",
    "    Helper function for the MFCC calculation that returns a matrix of size numfilters x nfft//2 + 1\n",
    "    \n",
    "    Inputs:\n",
    "    numFilters - the desired number of filters\n",
    "    bottomFreq - the bottom frequency of the filter bank\n",
    "    topFreq - the top frequency of the filter bank\n",
    "    nfft - the length of the fft\n",
    "    \n",
    "    \n",
    "    Outputs:\n",
    "    filterMatrix - a numfilters x nfft//2 + 1 matrix where each row is one of mel triangular filters\n",
    "    \n",
    "    \"\"\"\n",
    "    #calculating the upper and lower bounds of our functions\n",
    "    lowerbound = hzToMel(bottomFreq)\n",
    "    upperbound = hzToMel(topFreq)\n",
    "    \n",
    "    #calculate the end/peak points for the various filters\n",
    "    freq_endpoints = melToHz(np.linspace(lowerbound, upperbound, num = numFilters + 2))\n",
    "    endpoints = hzToBin(freq_endpoints)\n",
    "    \n",
    "    #iterate through every value of the matrix\n",
    "    filterMatrix = np.zeros((numFilters, nfft//2 + 1))\n",
    "    for filt in range(numFilters):\n",
    "        \n",
    "        #retrieve end points for use in the filter calculating function\n",
    "        start = endpoints[filt]\n",
    "        peak = endpoints[filt + 1]\n",
    "        stop = endpoints[filt + 2]\n",
    "        \n",
    "        #calculate the proper amplitude of the triangle filter\n",
    "        for k in range(nfft//2 + 1):\n",
    "            \n",
    "            if k >= start and k <= peak:\n",
    "                filterMatrix[filt, k] = (k - start)/(peak - start)\n",
    "            elif k >= peak and k <= stop:\n",
    "                filterMatrix[filt, k] = (stop - k)/(stop - peak)\n",
    "            else:\n",
    "                filterMatrix[filt, k] = 0\n",
    "        \n",
    "    \n",
    "    return filterMatrix"
   ]
  },
  {
   "cell_type": "markdown",
   "metadata": {},
   "source": [
    "Now that we have a working implementation of the mfcc calculation, we implement a second version which cuts out a specified number of the higher frequency mfccs, and instead appends approximations for the 1st, 2nd... order derivatives to the top of the feature matrix."
   ]
  },
  {
   "cell_type": "code",
   "execution_count": 15,
   "metadata": {
    "collapsed": true
   },
   "outputs": [],
   "source": [
    "def mfcc2(S, keep = 12, deltaOrders = 2, n_fft = 2048, sr = 22050, num_coeffs = 26, filterMatrix = None, bottomFreq = 300, topFreq = 8000, epsilon = 1e-9):\n",
    "    \"\"\"\n",
    "    Performs the calculation of the MFCC feature matrix, keeps the specified number of bottom coefficients, and appends the specified number of deltas\n",
    "    \n",
    "    Inputs:\n",
    "    S - the STFT of the audio signal of interest\n",
    "    keep - the number of bottom coefficients to keep from the mfcc calculation with num_coeff amount of filters\n",
    "    deltaOrders - starting with order = 1, the number of delta features to append to the final output feature matrix\n",
    "    n_fft - the length of the DFT used to calculate the STFT\n",
    "    sr - the sample rate of the audio of interest\n",
    "    num_coeffs - the number of coefficients to return (and also the number of Mel Filters to create)\n",
    "    filterMatrix - optional precalculated filter matrix\n",
    "    bottomFreq - the bottom frequency of our filter bank. Defaults to 300 hz because this is a common bottom used in speech recognition\n",
    "    topFreq - the top frequency of our filter bank. Defaults to 8000 hz because this is a common top used in speech recognition\n",
    "    epsilon - a small number added to the logarithm to prevent NaN's\n",
    "    \n",
    "    Outputs:\n",
    "    features - a feature matrix with the bottom keep coeffs being the mfcc features and the rest being delta coefficients of some order\n",
    "    \"\"\"\n",
    "    \n",
    "    #we begin by calculating the base mfcc features of the provided STFT\n",
    "    baseFeats = mfcc(S, n_fft = n_fft, sr = sr, num_coeffs = num_coeffs, filterMatrix = filterMatrix, bottomFreq = bottomFreq, topFreq = topFreq, epsilon = epsilon)\n",
    "    mfccKeep = np.copy(baseFeats[0:keep, :])\n",
    "    \n",
    "    #now we preallocate a matrix of the proper size to fill the final features\n",
    "    numFrames = S.shape[1]\n",
    "    numRows = keep*(deltaOrders + 1) #add a number of derivatives starting at order 1 (1st derivative), with the first keep mfcc features at the bottom\n",
    "    features = np.zeros((numRows, numFrames))\n",
    "    \n",
    "    \n",
    "    #place the first \"keep\" features into the\n",
    "    features[0:keep, :] = mfccKeep\n",
    "    \n",
    "    \n",
    "    #now we calculate all desired deltas and append them to the top of the feature matrix\n",
    "    \n",
    "    for ord in range(1,deltaOrders+1):\n",
    "        \n",
    "        #calculate the delta features of this order\n",
    "        delta_x = lb.feature.delta(mfccKeep, order = ord)\n",
    "        \n",
    "        #store the delta features in the proper location of the final feature matrix\n",
    "        features[(keep*ord): (keep)*(ord + 1), :] = delta_x\n",
    "        \n",
    "    return features\n",
    "    "
   ]
  },
  {
   "cell_type": "markdown",
   "metadata": {},
   "source": [
    "We now test all our miscellaneous functions"
   ]
  },
  {
   "cell_type": "code",
   "execution_count": 16,
   "metadata": {
    "scrolled": false
   },
   "outputs": [
    {
     "data": {
      "text/plain": [
       "(-0.5, 1024.5, -0.5, 25.5)"
      ]
     },
     "execution_count": 16,
     "metadata": {},
     "output_type": "execute_result"
    },
    {
     "data": {
      "image/png": "[encoded data removed]",
      "text/plain": [
       "<Figure size 432x288 with 1 Axes>"
      ]
     },
     "metadata": {},
     "output_type": "display_data"
    }
   ],
   "source": [
    "test = calculateFilterMatrix(numFilters = 26)\n",
    "plt.imshow(test, cmap = 'jet', origin = 'lower')\n",
    "plt.title(\"Filter Matrix for 26 Triangular Filters\")\n",
    "plt.ylabel(\"Filter\")\n",
    "plt.xlabel(\"Frequency Bin\")\n",
    "plt.axis('tight')"
   ]
  },
  {
   "cell_type": "markdown",
   "metadata": {},
   "source": [
    "## Word Splitting"
   ]
  },
  {
   "cell_type": "markdown",
   "metadata": {},
   "source": [
    "Here we write helper code that will help us split the queries into single digits and verify the functionality."
   ]
  },
  {
   "cell_type": "code",
   "execution_count": 17,
   "metadata": {
    "collapsed": true
   },
   "outputs": [],
   "source": [
    "def getDigitTimes(queryName, denoisedQuery = None, hop_length = 128, top_db = 25):\n",
    "    \"\"\"\n",
    "    Helper function that takes in the path for the query and returns an array containing the predicted non-silent segments\n",
    "    \n",
    "    Inputs:\n",
    "    queryName - the full path of the query of interest\n",
    "    denoisedQuery - optional parameter that can be used if using the denoised audio query for splitting is desired\n",
    "    hop_length - the hop size in samples to use while splitting\n",
    "    top_db - the maximum allowable decibel level\n",
    "    \n",
    "    Outputs:\n",
    "    digits - an array containing the predicted digit splits.\n",
    "    \n",
    "    \"\"\" \n",
    "    if denoisedQuery is not None:\n",
    "        basename = os.path.basename(queryName)\n",
    "        filePath = os.path.join(denoisedQuery, basename)\n",
    "    else:\n",
    "        filePath = queryName\n",
    "    \n",
    "    audio, sr = lb.core.load(filePath)\n",
    "    digits = lb.effects.split(audio, hop_length = hop_length, top_db = top_db)\n",
    "    \n",
    "    return digits"
   ]
  },
  {
   "cell_type": "markdown",
   "metadata": {},
   "source": [
    "The following function is a helper function that will allow us to test how well our splitting function is working by letting us listen to each of the individual splits."
   ]
  },
  {
   "cell_type": "code",
   "execution_count": 18,
   "metadata": {
    "collapsed": true
   },
   "outputs": [],
   "source": [
    "def playDigits(queryName, digitTimes, hop_length=128, sr = 22050):\n",
    "    \"\"\"\n",
    "    Function that takes in an audio query and predicted digits splits and outputs a playable version of every split\n",
    "    \n",
    "    Inputs:\n",
    "    queryName - the full pathname of the query of interest\n",
    "    digitTimes - an array containing the predicted digit splits\n",
    "    hop_length - the desired hop size in samples [outdated/legacy]\n",
    "    sr - the sample rate of the audio file\n",
    "    \n",
    "    Outputs:\n",
    "    None (plays all audio inline)\n",
    "    \"\"\"\n",
    "    \n",
    "    audio, sr = lb.core.load(queryName)\n",
    "\n",
    "    for time in digitTimes:\n",
    "        ipd.display(ipd.Audio(audio[time[0]:time[1]], rate = sr))\n",
    "    "
   ]
  },
  {
   "cell_type": "markdown",
   "metadata": {},
   "source": [
    "# Constructing the Database"
   ]
  },
  {
   "cell_type": "markdown",
   "metadata": {},
   "source": [
    "To construct the database, we retrieve a list of all the mp3s in a specified directory, then iterate through them, calculating the mfcc feature matrix for each and storing it in a dictionary with a key specified in the file name."
   ]
  },
  {
   "cell_type": "code",
   "execution_count": 19,
   "metadata": {
    "collapsed": true
   },
   "outputs": [],
   "source": [
    "def retrieveMP3s(indir, Mac = False):\n",
    "    \"\"\"\n",
    "    Helper function to retrieve a list of all the .mp3 files listed in the provided directory\n",
    "    Note: For macs, it's /*.mp3, for windows, it's \\*.mp3\n",
    "    \n",
    "    Inputs:\n",
    "    indir - the directory containing all the MP3s of interst\n",
    "    Mac - a boolean indicating if the machine running the code is a Mac. If false, windows notation is assumed\n",
    "    \n",
    "    Outputs: \n",
    "    A list of all the mp3 file paths\n",
    "    \n",
    "    \"\"\"\n",
    "    #get the correct pathname based on the machine type\n",
    "    if Mac: \n",
    "        pathname = indir + '/*.mp3'\n",
    "    else:\n",
    "        pathname = indir + '\\*.mp3'\n",
    "    \n",
    "    return glob.glob(pathname)"
   ]
  },
  {
   "cell_type": "code",
   "execution_count": 20,
   "metadata": {
    "collapsed": true
   },
   "outputs": [],
   "source": [
    "def constructDB(indir, numFilters = 26, Mac = False, sr = 22050, nfft = 2048, hop = 128, strPosn = 4):\n",
    "    \"\"\"\n",
    "    Function that constructs a database (dictionary) with the digit as a key and the MFCC feature matrix as the stored data\n",
    "    \n",
    "    Inputs: \n",
    "    indir - the label of the directory of interest\n",
    "    numFilters - number of Mel Filters to create\n",
    "    Mac - a boolean indicating if the machine running this code is a mac. If false, \n",
    "          it is assumed that the code is running on a pc\n",
    "    sr - the sample rate of the audio files in the directory\n",
    "    nfft - the size of the fft we want to perform to to construct the stft\n",
    "    hop - the hop size for the stft\n",
    "    strPosn - the index of the reference name in the reference file. Used to label db\n",
    "    \n",
    "    Outputs:\n",
    "    db - a dictionary object storing the MFCC coefficients for each of the digit references\n",
    "    \"\"\"\n",
    "    \n",
    "    db = {}\n",
    "    mp3s = retrieveMP3s(indir, Mac = Mac)\n",
    "    \n",
    "    \n",
    "    for i in range(len(mp3s)):\n",
    "        \n",
    "        #we begin by retreiving each individual mp3 and calculating the STFT\n",
    "        currPath = mp3s[i]\n",
    "        mp3, _ = lb.core.load(currPath, sr = sr)\n",
    "        S = lb.core.stft(mp3, n_fft = nfft, hop_length = hop)\n",
    "        \n",
    "        #we then use calculate the MFCC feature matrix\n",
    "        mfccMatrix = mfcc2(S, num_coeffs = numFilters, n_fft = nfft, sr = sr)\n",
    "        #mfccMatrix = mfcc(S, num_coeffs = numFilters, n_fft = nfft, sr = sr)\n",
    "        \n",
    "        #finally we get the proper key name\n",
    "        baseName = os.path.basename(currPath)\n",
    "        keyName = baseName[strPosn] #assumes the file is in Reference_x.mp3 format\n",
    "        \n",
    "        #add data to the database\n",
    "        db[keyName] = mfccMatrix\n",
    "        \n",
    "    \n",
    "    return db"
   ]
  },
  {
   "cell_type": "markdown",
   "metadata": {},
   "source": [
    "We use the above function to construct data bases for each set of references, which have various degrees of preprocessing done to them"
   ]
  },
  {
   "cell_type": "code",
   "execution_count": 21,
   "metadata": {
    "collapsed": true
   },
   "outputs": [],
   "source": [
    "#testing the db construction\n",
    "dbDenoised = constructDB('denoisedReferences', Mac = Mac)"
   ]
  },
  {
   "cell_type": "code",
   "execution_count": 22,
   "metadata": {
    "collapsed": true
   },
   "outputs": [],
   "source": [
    "dbNoised = constructDB('newRef', Mac = Mac)"
   ]
  },
  {
   "cell_type": "code",
   "execution_count": 23,
   "metadata": {
    "collapsed": true
   },
   "outputs": [],
   "source": [
    "dbDenoisedNoSilence = constructDB('denoisedReferencesNoSilence', Mac = Mac)"
   ]
  },
  {
   "cell_type": "code",
   "execution_count": 24,
   "metadata": {
    "collapsed": true
   },
   "outputs": [],
   "source": [
    "dbNoisedNoSilence = constructDB('RefNoSilence', Mac = Mac)"
   ]
  },
  {
   "cell_type": "markdown",
   "metadata": {},
   "source": [
    "To verify the functionality of the constructDB function, we plot each of the stored features and verified they are as expected"
   ]
  },
  {
   "cell_type": "code",
   "execution_count": 25,
   "metadata": {},
   "outputs": [
    {
     "data": {
      "image/png": "[encoded data removed]",
      "text/plain": [
       "<Figure size 432x288 with 1 Axes>"
      ]
     },
     "metadata": {},
     "output_type": "display_data"
    },
    {
     "data": {
      "image/png": "[encoded data removed]",
      "text/plain": [
       "<Figure size 432x288 with 1 Axes>"
      ]
     },
     "metadata": {},
     "output_type": "display_data"
    },
    {
     "data": {
      "image/png": "[encoded data removed]",
      "text/plain": [
       "<Figure size 432x288 with 1 Axes>"
      ]
     },
     "metadata": {},
     "output_type": "display_data"
    },
    {
     "data": {
      "image/png": "[encoded data removed]",
      "text/plain": [
       "<Figure size 432x288 with 1 Axes>"
      ]
     },
     "metadata": {},
     "output_type": "display_data"
    },
    {
     "data": {
      "image/png": "[encoded data removed]",
      "text/plain": [
       "<Figure size 432x288 with 1 Axes>"
      ]
     },
     "metadata": {},
     "output_type": "display_data"
    },
    {
     "data": {
      "image/png": "[encoded data removed]",
      "text/plain": [
       "<Figure size 432x288 with 1 Axes>"
      ]
     },
     "metadata": {},
     "output_type": "display_data"
    },
    {
     "data": {
      "image/png": "[encoded data removed]",
      "text/plain": [
       "<Figure size 432x288 with 1 Axes>"
      ]
     },
     "metadata": {},
     "output_type": "display_data"
    },
    {
     "data": {
      "image/png": "[encoded data removed]",
      "text/plain": [
       "<Figure size 432x288 with 1 Axes>"
      ]
     },
     "metadata": {},
     "output_type": "display_data"
    },
    {
     "data": {
      "image/png": "[encoded data removed]",
      "text/plain": [
       "<Figure size 432x288 with 1 Axes>"
      ]
     },
     "metadata": {},
     "output_type": "display_data"
    },
    {
     "data": {
      "image/png": "[encoded data removed]",
      "text/plain": [
       "<Figure size 432x288 with 1 Axes>"
      ]
     },
     "metadata": {},
     "output_type": "display_data"
    }
   ],
   "source": [
    "for key in dbDenoised:\n",
    "    feats = dbDenoised[key]\n",
    "    plt.imshow(feats, origin = 'lower', cmap = 'jet')\n",
    "    plt.title(key)\n",
    "    plt.axis('tight')\n",
    "    plt.show()"
   ]
  },
  {
   "cell_type": "markdown",
   "metadata": {},
   "source": [
    "## Benchmark "
   ]
  },
  {
   "cell_type": "markdown",
   "metadata": {},
   "source": [
    "In order to run the benchmark, we first write a function that can retrieve the ground truth answer to the query of interest. To simplify our answer storage, the ground truth label was set as the digit title."
   ]
  },
  {
   "cell_type": "code",
   "execution_count": 26,
   "metadata": {
    "collapsed": true
   },
   "outputs": [],
   "source": [
    "def retrieveAnswer(pathname):\n",
    "    \"\"\"\n",
    "    Helper function that takes in a .mp3 file whose name is a list of the digits spoken in the file and returns a \n",
    "    list of the characters\n",
    "    \n",
    "    Inputs:\n",
    "    pathname - the pathname of the file of interest\n",
    "    \n",
    "    Outputs:\n",
    "    answer - a list of the digits in the mp3's file name\n",
    "    \"\"\"\n",
    "    \n",
    "    basename = os.path.basename(pathname)[:-4]\n",
    "    answer = [int(digit) for digit in list(basename)]\n",
    "    \n",
    "    \n",
    "    return answer"
   ]
  },
  {
   "cell_type": "markdown",
   "metadata": {},
   "source": [
    "We now write a variety of subfunctions that perform the prediction process for the system. The first one is a function that checks how well each reference matches to the provided audio query"
   ]
  },
  {
   "cell_type": "code",
   "execution_count": 27,
   "metadata": {
    "collapsed": true
   },
   "outputs": [],
   "source": [
    "def getMatchScores(audioQuery, db, sr = 22050, nfft = 2048, hop = 128, metric = 'euclidean'):\n",
    "    \"\"\"\n",
    "    Helper function that performs subsequency DTW on the audio file with each reference and returns the match scores.\n",
    "    \n",
    "    Inputs:\n",
    "    audioQuery - the audio segment of interest\n",
    "    db - the database being used to match the digit\n",
    "    sr - the sample rate of the audio file\n",
    "    nfft - the size of the desired stft\n",
    "    hop - the desired hop size in samples\n",
    "    metric - the desired dtw similarity metric, must work with the librosa dtw function\n",
    "    \n",
    "    Outputs:\n",
    "    scores - match scores for each reference digit\n",
    "    \"\"\"\n",
    "    \n",
    "    #we begin by calculating the mfcc of the query\n",
    "    S = lb.core.stft(audioQuery, n_fft = nfft, hop_length = hop)\n",
    "    mfcc_query = mfcc2(S, n_fft = nfft, sr = sr)\n",
    "    #mfcc_query = mfcc(S, n_fft = nfft, sr = sr)\n",
    "    \n",
    "    #now we iterate through the database and compare all the numbers with subsequency dynamic time warping\n",
    "    scores = []\n",
    "    for key in db:\n",
    "        \n",
    "        mfcc_ref = db[key]\n",
    "        \n",
    "        D_num, wp_num = lb.sequence.dtw(mfcc_ref, mfcc_query, metric = metric, subseq = True)\n",
    "        scores.append(np.min(D_num[-1:]))\n",
    "        \n",
    "    return scores"
   ]
  },
  {
   "cell_type": "markdown",
   "metadata": {},
   "source": [
    "The following function was the first attempt at writing a function that would ensure that the digit splits resulted in the correct number of splits. It used knowledge from the ground truth label to ensure the match, and was thus eventually rewritten to avoid using \"oracle\" knowledge, ie information we shouldn't have access to in an unknown query"
   ]
  },
  {
   "cell_type": "code",
   "execution_count": 28,
   "metadata": {
    "collapsed": true
   },
   "outputs": [],
   "source": [
    "def getCleanedDigitsTimes(queryName, denoisedQuery = None, hop_length = 128, top_db = 25):\n",
    "    \"\"\"\n",
    "    helper function that takes the returns audio query splits that are enforced to be the same length as the ground truth label. \n",
    "    NOTE: method is deprecated as it used oracle knowledge\n",
    "    \n",
    "    Inputs:\n",
    "    queryName - the path of the query of interest\n",
    "    denoisedQuery - optional parameter that can be used if using the denoised audio query for splitting is desired\n",
    "    hop_length - the desired hop length in sample size\n",
    "    top_db - the desired top decibel\n",
    "    \n",
    "    Outputs:\n",
    "    times - splits for the audio query that have been enforced to match the same length as the ground truth\n",
    "    \"\"\"\n",
    "    \n",
    "    #begin by getting the splits as well as how many splits there should be\n",
    "    desiredSplits = len(retrieveAnswer(queryName))\n",
    "    times = getDigitTimes(queryName, denoisedQuery = denoisedQuery, hop_length = hop_length, top_db = top_db)\n",
    "    \n",
    "    while times.shape[0] > desiredSplits:\n",
    "        times_copy = np.copy(times)\n",
    "        times_copy[:,0] = times_copy[:,0]*-1\n",
    "        lengths = np.sum(times_copy, axis = 1)\n",
    "        toRemove = np.argmin(lengths)\n",
    "        \n",
    "        times = np.delete(times, toRemove, 0)\n",
    "        \n",
    "    #if the times array started off less than the current array, just return an empty array (the benchmark will ignore it)\n",
    "    if times.shape[0] < desiredSplits:\n",
    "        times = np.array([])\n",
    "\n",
    "    return times"
   ]
  },
  {
   "cell_type": "markdown",
   "metadata": {},
   "source": [
    "The second iteration of the improved splitting algorithm is shown below. It enforces a minimum silence length between words and deletes segments that are considered too short to be a word. This iteration was successful in accurately splitting all 100 queries without outside information"
   ]
  },
  {
   "cell_type": "code",
   "execution_count": 29,
   "metadata": {
    "collapsed": true
   },
   "outputs": [],
   "source": [
    "def getCleanedDigitsTimesMerged(queryName, denoisedQuery = None, minSplitTime = 0.24, hop_length = 128, top_db = 25, sr = 22050):\n",
    "    \"\"\"\n",
    "    Helper function that systematically merges splits that are suspected to be from the same digit. It also removes suspected noise\n",
    "    \n",
    "    Inputs:\n",
    "    queryName - the path of the query of interest\n",
    "    denoisedQuery - optional parameter that can be used if using the denoised audio query for splitting is desired\n",
    "    minSplitTime - a paramemter specifying the minimum length of silence between splits in seconds\n",
    "    hop_length - the desired hop length in samples\n",
    "    top_db - the desired top decibel level\n",
    "    sr - the sample rate of the audio signal\n",
    "    \n",
    "    Outputs:\n",
    "    finalTimes - a processed array of predicted digit splits\n",
    "    \"\"\"\n",
    "    \n",
    "    minSplitLength = np.round(minSplitTime / (1 / sr))\n",
    "    \n",
    "    #begin by getting the splits as well as how many splits there should be\n",
    "    times = getDigitTimes(queryName, denoisedQuery = denoisedQuery, hop_length = hop_length, top_db = top_db)\n",
    "    \n",
    "    mergedTimes = [];\n",
    "    finalTimes = [];\n",
    "    timesList = list(times)\n",
    "    \n",
    "    # Initial Merges\n",
    "    # These merges don't consider overlapping times. This is to ensure\n",
    "    # we can merge three or more splits together below\n",
    "    while len(timesList) != 0:\n",
    "    \n",
    "        if(len(timesList) >= 2):\n",
    "            firstSplit = timesList[0]\n",
    "            secondSplit = timesList[1]\n",
    "            # If gap between two splits is less than minimum length, merge\n",
    "            if (secondSplit[0] - firstSplit[1] < minSplitLength):\n",
    "                mergedTimes.append([firstSplit[0], secondSplit[1]])\n",
    "                timesList.pop(0)\n",
    "            else:\n",
    "                mergedTimes.append(timesList[0]);\n",
    "                timesList.pop(0)\n",
    "        else:\n",
    "            mergedTimes.append(timesList[0]);\n",
    "            timesList.pop(0)\n",
    "            \n",
    "    # Merge any splits with overlapping times\n",
    "    while len(mergedTimes) != 0:\n",
    "        if(len(mergedTimes) >= 2):\n",
    "            first = mergedTimes[0]\n",
    "            second = mergedTimes[1]\n",
    "            # If times overlap, merge\n",
    "            if (second[0] - first[1] < 0):\n",
    "                finalTimes.append([first[0], second[1]])\n",
    "                mergedTimes.pop(1)\n",
    "                mergedTimes.pop(0)\n",
    "            else:\n",
    "                finalTimes.append(mergedTimes[0]);\n",
    "                mergedTimes.pop(0)\n",
    "        else:\n",
    "            finalTimes.append(mergedTimes[0]);\n",
    "            mergedTimes.pop(0)\n",
    "            \n",
    "    # Final splits must be larger than a minimum threshold\n",
    "    finalTimes = [time for time in finalTimes if (time[1] - time[0]) > 1000]\n",
    "    \n",
    "    return np.array(finalTimes)"
   ]
  },
  {
   "cell_type": "markdown",
   "metadata": {},
   "source": [
    "The following two functions use the previous functions to get a full list of predictions for a provided audio query."
   ]
  },
  {
   "cell_type": "code",
   "execution_count": 30,
   "metadata": {
    "collapsed": true
   },
   "outputs": [],
   "source": [
    "def getPrediction(audioQuery, db, sr = 22050, nfft = 2048, hop = 128, metric = 'euclidean'):\n",
    "    \"\"\"\n",
    "    Helper function that retrieves the prediction for a single audio segment, which is assumed to have been split already\n",
    "    \n",
    "    Inputs:\n",
    "    audioQuery - the audio segment of interest\n",
    "    db - the database being used to match the digit\n",
    "    sr - the sample rate of the audio file\n",
    "    nfft - the size of the desired stft\n",
    "    hop - the desired hop size in samples\n",
    "    metric - the desired dtw similarity metric, must work with the librosa dtw function\n",
    "    \n",
    "    Outputs:\n",
    "    prediction - an integer that is the best prediction of the digit being spoken in the audio segment\n",
    "    \"\"\"\n",
    "    #retrieve all the match scores using subsequence DTW\n",
    "    matchScores = getMatchScores(audioQuery, db, sr = sr, nfft = nfft, hop = hop, metric = metric)\n",
    "    refList = list(db.keys())\n",
    "    \n",
    "    #choose the best match score\n",
    "    predInd = np.argmin(matchScores)\n",
    "    prediction = int(refList[predInd])\n",
    "    \n",
    "    return prediction"
   ]
  },
  {
   "cell_type": "code",
   "execution_count": 31,
   "metadata": {
    "collapsed": true
   },
   "outputs": [],
   "source": [
    "def getPredictions(queryPath, db, denoisedQuery = None, sr = 22050, nfft = 2048, hop = 128, top_db = 25, metric = 'euclidean'):\n",
    "    \"\"\"\n",
    "    Function that predicts the digits contained in a full audio query\n",
    "    \n",
    "    Inputs:\n",
    "    queryPath - the query path of interest\n",
    "    db - the database being used to match the digit\n",
    "    denoisedQuery - an optional parameter that allows use of the denoised query for splitting\n",
    "    sr - the sample rate of the audio file\n",
    "    nfft - the size of the desired stft\n",
    "    hop - the desired hop size in samples\n",
    "    top_db - the desired top decibel level\n",
    "    metric - the desired dtw similarity metric, must work with the librosa dtw function\n",
    "    \n",
    "    Outputs:\n",
    "    predictions - a list of integers that is the best prediction of each of the digits being spoken in the full audio file\n",
    "    times - the predicted places where the digit are located in the audio file\n",
    "    \"\"\"\n",
    "    predictions = []\n",
    "    #times = getCleanedDigitsTimes(queryPath, hop_length = hop, top_db = top_db)\n",
    "    times = getCleanedDigitsTimesMerged(queryPath, denoisedQuery = denoisedQuery, hop_length = hop, top_db = top_db)\n",
    "    \n",
    "    if times.size == 0:\n",
    "        return []\n",
    "    \n",
    "    audio, _ = lb.core.load(queryPath, sr)\n",
    "    \n",
    "    for i in range(times.shape[0]):\n",
    "        startTime = times[i, 0]\n",
    "        endTime = times[i, 1]\n",
    "        audioClip = audio[startTime:endTime]\n",
    "        currPred = getPrediction(audioClip, db, sr = sr, nfft = nfft, hop = hop, metric = metric)\n",
    "        \n",
    "        predictions.append(currPred)\n",
    "        \n",
    "    #return predictions\n",
    "    return predictions, times"
   ]
  },
  {
   "cell_type": "markdown",
   "metadata": {},
   "source": [
    "Using all these functions, we construct a function to test the system using all the queries"
   ]
  },
  {
   "cell_type": "code",
   "execution_count": 32,
   "metadata": {
    "collapsed": true
   },
   "outputs": [],
   "source": [
    "def runBenchmark(indir, db, denoisedQuery = None, Mac = False, sr = 22050, nfft = 2048, hop = 128, top_db = 25, metric = 'euclidean'):\n",
    "    \"\"\"\n",
    "    Runs a benchmark for our system \n",
    "    \n",
    "    Inputs:\n",
    "    indir - the directory where the mp3 queries are located\n",
    "    db - the database being used to match the digit\n",
    "    denoisedQuery - an optional parameter that allows use of the denoised query for splitting\n",
    "    Mac - a boolean indicating if the machine running this code is a mac. If false, \n",
    "          it is assumed that the code is running on a pc\n",
    "    sr - the sample rate of the audio file\n",
    "    nfft - the size of the desired stft\n",
    "    hop - the desired hop size in samples\n",
    "    top_db - the desired top decibel level\n",
    "    metric - the desired dtw similarity metric, must work with the librosa dtw function\n",
    "    \n",
    "    Output:\n",
    "    confusionMatrix - a 10x10 confusion matrix, where the row indicates the digit guess, and the \n",
    "                      column indicates the ground truth\n",
    "    calcsDone - an integer indicating how many queries were processed\n",
    "    timeElapsed - a float indicating how long it took the benchmark to run\n",
    "    \"\"\"\n",
    "    \n",
    "    startTime = time.time()\n",
    "    \n",
    "    confusionMatrix = np.zeros((10,10))\n",
    "    \n",
    "    #we begin by retrieving all the paths to our queries\n",
    "    mp3s = retrieveMP3s(indir, Mac = Mac)\n",
    "    \n",
    "    calcsDone = len(mp3s)\n",
    "    for i in range(len(mp3s)):\n",
    "        \n",
    "        currPath = mp3s[i]\n",
    "        predictions, times = getPredictions(currPath, db, denoisedQuery = denoisedQuery, sr = sr, nfft = nfft, hop = hop, top_db = top_db, metric = metric)\n",
    "        \n",
    "        if len(predictions) == 0:\n",
    "            calcsDone -= 1\n",
    "            pass\n",
    "        \n",
    "        answers = retrieveAnswer(currPath)\n",
    "        \n",
    "        #assert(len(answers) == len(predictions))\n",
    "        if (len(answers) != len(predictions)):\n",
    "            calcsDone -= 1\n",
    "            print(answers)\n",
    "            print(predictions)\n",
    "        else:\n",
    "            for j in range(len(answers)):\n",
    "                confusionMatrix[predictions[j], answers[j]] += 1\n",
    "            \n",
    "    endTime = time.time()\n",
    "    timeElapsed = endTime - startTime\n",
    "                    \n",
    "    return confusionMatrix, calcsDone, timeElapsed"
   ]
  },
  {
   "cell_type": "markdown",
   "metadata": {},
   "source": [
    "These functions now allow us to test the system under various different conditions. Note that any commented out calculations are not performed as the results have already been saved and reloaded in."
   ]
  },
  {
   "cell_type": "code",
   "execution_count": 33,
   "metadata": {
    "collapsed": true
   },
   "outputs": [],
   "source": [
    "#done w/ euclidean distance metric\n",
    "#confusionMatrix, calcsDone, timeElapsed = runBenchmark('denoisedQueries', dbDenoised, Mac= Mac) "
   ]
  },
  {
   "cell_type": "code",
   "execution_count": 34,
   "metadata": {},
   "outputs": [
    {
     "name": "stdout",
     "output_type": "stream",
     "text": [
      "[[ 45.   0.   0.   2.   1.   0.   1.   5.   0.   0.]\n",
      " [  0.  62.   0.   0.  10.   6.   0.   0.   0.   1.]\n",
      " [  1.   0.  45.   0.   0.   0.   0.   0.   0.   0.]\n",
      " [  0.   0.  27.  47.   0.   0.   0.   0.   8.   0.]\n",
      " [  0.   3.   0.   0.  51.   0.   0.   0.   0.   0.]\n",
      " [  0.   0.   2.  11.   0.  56.   0.   2.   0.   1.]\n",
      " [  0.   0.   0.   4.   0.   0.  44.  22.   8.   0.]\n",
      " [  0.   4.   0.   0.   0.   0.   0.  30.   0.  15.]\n",
      " [  0.   0.   0.   0.   0.   0.   0.   0.  38.   0.]\n",
      " [  0.   0.   0.   0.   0.   2.   0.   1.   0.  30.]]\n",
      "\n",
      "100\n",
      "\n",
      "104.00722289085388\n"
     ]
    }
   ],
   "source": [
    "print(confusionMatrix)\n",
    "print()\n",
    "print(calcsDone)\n",
    "print()\n",
    "print(timeElapsed)"
   ]
  },
  {
   "cell_type": "code",
   "execution_count": 35,
   "metadata": {},
   "outputs": [
    {
     "data": {
      "text/plain": [
       "5.6246093659659033"
      ]
     },
     "execution_count": 35,
     "metadata": {},
     "output_type": "execute_result"
    }
   ],
   "source": [
    "np.sum(confusionMatrix)/timeElapsed"
   ]
  },
  {
   "cell_type": "code",
   "execution_count": 36,
   "metadata": {
    "collapsed": true
   },
   "outputs": [],
   "source": [
    "#done w/ cosine similarity metric\n",
    "#confusionMatrix_c, calcsDone_c, timeElapsed_c = runBenchmark('denoisedQueries', dbDenoised, metric = 'cosine', Mac= Mac) "
   ]
  },
  {
   "cell_type": "code",
   "execution_count": 37,
   "metadata": {},
   "outputs": [
    {
     "name": "stdout",
     "output_type": "stream",
     "text": [
      "[[ 44.   0.   0.   2.   0.   0.   2.   0.   0.   0.]\n",
      " [  0.  39.   2.   0.  19.   3.   0.   0.   0.   2.]\n",
      " [  2.   2.  68.   0.   0.   0.   0.   0.   0.   0.]\n",
      " [  0.   0.   2.  52.   0.   0.   0.   0.  15.   0.]\n",
      " [  0.  13.   0.   1.  43.   0.   0.   0.   0.   0.]\n",
      " [  0.   0.   1.   6.   0.  59.   0.   0.   0.   3.]\n",
      " [  0.   0.   0.   0.   0.   0.  43.   9.   8.   0.]\n",
      " [  0.  15.   0.   0.   0.   1.   0.  51.   0.  20.]\n",
      " [  0.   0.   0.   0.   0.   0.   0.   0.  31.   0.]\n",
      " [  0.   0.   1.   3.   0.   1.   0.   0.   0.  22.]]\n",
      "\n",
      "100\n",
      "\n",
      "102.75224113464355\n"
     ]
    }
   ],
   "source": [
    "print(confusionMatrix_c)\n",
    "print()\n",
    "print(calcsDone_c)\n",
    "print()\n",
    "print(timeElapsed_c)"
   ]
  },
  {
   "cell_type": "code",
   "execution_count": 38,
   "metadata": {
    "collapsed": true
   },
   "outputs": [],
   "source": [
    "totalQueryDigits = 0\n",
    "mp3s = retrieveMP3s('denoisedQueries', Mac = Mac)\n",
    "for i in range(len(mp3s)):\n",
    "    mp3 = mp3s[i]\n",
    "    numDigits = len(retrieveAnswer(mp3))\n",
    "    totalQueryDigits += numDigits"
   ]
  },
  {
   "cell_type": "code",
   "execution_count": 39,
   "metadata": {},
   "outputs": [
    {
     "name": "stdout",
     "output_type": "stream",
     "text": [
      "585\n"
     ]
    }
   ],
   "source": [
    "print(totalQueryDigits)"
   ]
  },
  {
   "cell_type": "markdown",
   "metadata": {},
   "source": [
    "## Metric Calculations"
   ]
  },
  {
   "cell_type": "markdown",
   "metadata": {},
   "source": [
    "We write a few simple functions to calculate confusion matrix metrics, starting with basic precision and recall\n",
    "\n",
    "- Precision: For one classification, the proportion of predictions that were correctly classified\n",
    "- Recall: For one classification, the proportion of the total ground truth population that were correctly predicted\n",
    "\n",
    "Sources: \n",
    "\n",
    "https://towardsdatascience.com/multi-class-metrics-made-simple-part-i-precision-and-recall-9250280bddc2\n",
    "\n",
    "https://towardsdatascience.com/multi-class-metrics-made-simple-part-ii-the-f1-score-ebe8b2c2ca1"
   ]
  },
  {
   "cell_type": "markdown",
   "metadata": {},
   "source": [
    "As another note, some of the comments used to test the metric functions are oudated, as they were correct for the first working version of the system."
   ]
  },
  {
   "cell_type": "code",
   "execution_count": 40,
   "metadata": {
    "collapsed": true
   },
   "outputs": [],
   "source": [
    "def precision(confusionMatrix, predRow):\n",
    "    \"\"\"\n",
    "    Function that calculates the precision of the category corresponding to the provided row\n",
    "    \n",
    "    Inputs:\n",
    "    confusionMatrix - the confusion matrix of interest\n",
    "    predRow - the row corresponding to the category on which we make our calculation\n",
    "    \n",
    "    Outputs:\n",
    "    precision - the precision of specified category\n",
    "    \"\"\"\n",
    "    \n",
    "    truePositives = confusionMatrix[predRow, predRow]\n",
    "    totalPredictions = np.sum(confusionMatrix[predRow])\n",
    "    precision = truePositives/totalPredictions\n",
    "    \n",
    "    if np.isnan(precision):\n",
    "        return 0\n",
    "    \n",
    "    return precision"
   ]
  },
  {
   "cell_type": "code",
   "execution_count": 41,
   "metadata": {},
   "outputs": [
    {
     "name": "stdout",
     "output_type": "stream",
     "text": [
      "0.916666666667\n",
      "0.814814814815\n"
     ]
    }
   ],
   "source": [
    "# OUTDATED: hand calc says we had 34.65% precision for digit zero from the cosine metric, 76.92% precision for digit 9\n",
    "zero_prec = precision(confusionMatrix_c, 0)\n",
    "nine_prec = precision(confusionMatrix_c, 9)\n",
    "print(zero_prec)\n",
    "print(nine_prec)"
   ]
  },
  {
   "cell_type": "code",
   "execution_count": 42,
   "metadata": {
    "collapsed": true
   },
   "outputs": [],
   "source": [
    "def recall(confusionMatrix, predRow):\n",
    "    \"\"\"\n",
    "    Function that calculates the recall of the category corresponding to the provided row\n",
    "    \n",
    "    Inputs:\n",
    "    confusionMatrix - the confusion matrix of interest\n",
    "    predRow - the row corresponding to the category on which we make our calculation\n",
    "    \n",
    "    Outputs:\n",
    "    recall - the recall of the specified category\n",
    "    \"\"\"\n",
    "    \n",
    "    truePositives = confusionMatrix[predRow, predRow]\n",
    "    totalPositives = np.sum(confusionMatrix[:, predRow])\n",
    "    recall = truePositives/totalPositives\n",
    "    \n",
    "    if np.isnan(recall):\n",
    "        return 0\n",
    "    \n",
    "    return recall"
   ]
  },
  {
   "cell_type": "code",
   "execution_count": 43,
   "metadata": {},
   "outputs": [
    {
     "name": "stdout",
     "output_type": "stream",
     "text": [
      "0.822580645161\n",
      "0.898550724638\n"
     ]
    }
   ],
   "source": [
    "# OUTDATED: hand calc says we had 91.94% recall on digit 4 for the euclidean metric, 33.33% recall on digit 1 for euclidean metric\n",
    "four_recall = recall(confusionMatrix, 4)\n",
    "one_recall = recall(confusionMatrix, 1)\n",
    "print(four_recall)\n",
    "print(one_recall)"
   ]
  },
  {
   "cell_type": "code",
   "execution_count": 44,
   "metadata": {
    "collapsed": true
   },
   "outputs": [],
   "source": [
    "def totalAccuracy(confusionMatrix, fullDigitCount):\n",
    "    \"\"\"\n",
    "    Function that calculates what we've defined to be the \"verifiable accuracy\", the accuracy of queries for which we can check \n",
    "    for the correct answer because the digits were split properly, and the \"full system accuracy\", the accuracy of the system \n",
    "    that treats a test with incorrect splits as being incorrect\n",
    "    \n",
    "    Inputs:\n",
    "    confusionMatrix - the confusion matrix of interest\n",
    "    fullDigitCount - the total number of digits in the set of queries\n",
    "    \n",
    "    Outputs:\n",
    "    verifiableAccuracy - the accuracy of the queries the system was able to correctly evaluate (defined above)\n",
    "    fullSystemAccuracy - the accuracy of the full query test, where queries that can't be checked properly are treated as \n",
    "                         being incorrect\n",
    "    \"\"\"\n",
    "    totalCorrect = np.trace(confusionMatrix)\n",
    "    totalDigitsTested = np.sum(confusionMatrix)\n",
    "    \n",
    "    verifiableAccuracy = totalCorrect/totalDigitsTested\n",
    "    \n",
    "    fullSystemAccuracy = totalCorrect/fullDigitCount\n",
    "    \n",
    "    return verifiableAccuracy, fullSystemAccuracy"
   ]
  },
  {
   "cell_type": "code",
   "execution_count": 45,
   "metadata": {},
   "outputs": [
    {
     "name": "stdout",
     "output_type": "stream",
     "text": [
      "(0.76581196581196587, 0.76581196581196587)\n",
      "(0.77264957264957268, 0.77264957264957268)\n"
     ]
    }
   ],
   "source": [
    "euclideanAccuracy = totalAccuracy(confusionMatrix, totalQueryDigits)\n",
    "cosineAccuracy = totalAccuracy(confusionMatrix_c, totalQueryDigits)\n",
    "print(euclideanAccuracy)\n",
    "print(cosineAccuracy)"
   ]
  },
  {
   "cell_type": "markdown",
   "metadata": {},
   "source": [
    "Now we calculate the F1-Score, a combined metric that uses the \"harmonic mean\" to aggregate the precision and recall scores of one of the classifiers"
   ]
  },
  {
   "cell_type": "code",
   "execution_count": 46,
   "metadata": {
    "collapsed": true
   },
   "outputs": [],
   "source": [
    "def F1Score(confusionMatrix, predRow):\n",
    "    \"\"\"\n",
    "    Function that calculates the F1 score for a category, the harmonic mean of the category precision and recall\n",
    "    \n",
    "    Inputs:\n",
    "    confusionMatrix - the confusion matrix of interest\n",
    "    predRow - the row corresponding to the category on which we make our calculation\n",
    "    \n",
    "    Outputs:\n",
    "    f1 - the f1 score of the specified category\n",
    "    \"\"\"\n",
    "    \n",
    "    prec = precision(confusionMatrix, predRow)\n",
    "    rec = recall(confusionMatrix, predRow)\n",
    "    \n",
    "    f1 = (2*prec*rec) / (prec + rec)\n",
    "    \n",
    "    if np.isnan(f1):\n",
    "        return 0\n",
    "    \n",
    "    return f1"
   ]
  },
  {
   "cell_type": "code",
   "execution_count": 47,
   "metadata": {},
   "outputs": [
    {
     "name": "stdout",
     "output_type": "stream",
     "text": [
      "0.837837837838\n"
     ]
    }
   ],
   "source": [
    "# OUTDATED: via handcalc, we see that the f1-score for 5 with the euclidean metric is 78.05%\n",
    "#f1_five = F1Score(confusionMatrix, 5)\n",
    "f1_one = F1Score(confusionMatrix, 1)\n",
    "print(f1_one)"
   ]
  },
  {
   "cell_type": "markdown",
   "metadata": {},
   "source": [
    "Now we write a function that calculate the Macro F1 score, which is an equally weighted average of all classifier F1-scores"
   ]
  },
  {
   "cell_type": "code",
   "execution_count": 48,
   "metadata": {
    "collapsed": true
   },
   "outputs": [],
   "source": [
    "def macroF1(confusionMatrix):\n",
    "    \"\"\"\n",
    "    Function that calculates the Macro F1 score for the confusion matrix, which is the arithmetic mean of each\n",
    "    category's F1 score\n",
    "    \n",
    "    Inputs:\n",
    "    confusionMatrix - the confusion matrix of interest\n",
    "    \n",
    "    Outputs:\n",
    "    macroF1 - the average F1 score of the entire system\n",
    "    \"\"\"\n",
    "    numClassifiers = confusionMatrix.shape[0]\n",
    "    f1scores = []\n",
    "    \n",
    "    for i in range(numClassifiers):\n",
    "        f1 = F1Score(confusionMatrix, i)\n",
    "        f1scores.append(f1)\n",
    "        \n",
    "        \n",
    "    macroF1 = np.mean(f1scores)\n",
    "    \n",
    "    return macroF1"
   ]
  },
  {
   "cell_type": "code",
   "execution_count": 49,
   "metadata": {},
   "outputs": [
    {
     "data": {
      "text/plain": [
       "0.76765060374581007"
      ]
     },
     "execution_count": 49,
     "metadata": {},
     "output_type": "execute_result"
    }
   ],
   "source": [
    "# OUTDATED: estimated 46.48%\n",
    "macroF1(confusionMatrix)"
   ]
  },
  {
   "cell_type": "code",
   "execution_count": 50,
   "metadata": {},
   "outputs": [
    {
     "data": {
      "text/plain": [
       "0.76785601516494162"
      ]
     },
     "execution_count": 50,
     "metadata": {},
     "output_type": "execute_result"
    }
   ],
   "source": [
    "macroF1(confusionMatrix_c)"
   ]
  },
  {
   "cell_type": "markdown",
   "metadata": {},
   "source": [
    "Now I use all these functions to bring all the metrics together"
   ]
  },
  {
   "cell_type": "code",
   "execution_count": 51,
   "metadata": {
    "collapsed": true
   },
   "outputs": [],
   "source": [
    "def fullReport(confusionMatrix, fullDigitCount, label):\n",
    "    \"\"\"\n",
    "    Function that produces a print out of all the metric results for the provided confusion matrix\n",
    "    \n",
    "    Inputs:\n",
    "    confusionMatrix - the confusion matrix of interest\n",
    "    fullDigitCount - the total number of digits in the set of queries\n",
    "    label - a string that is added to the title of the printout to help distinguish this printout from others\n",
    "    \n",
    "    Outputs:\n",
    "    None\n",
    "    \"\"\"\n",
    "    print(\"Full Metric output for benchmark: \", label)\n",
    "    \n",
    "    print()\n",
    "    \n",
    "    print(\"Digit  \\t\\tPrecision  \\tRecall  \\tF1-Score\" )\n",
    "    \n",
    "    for digit in range(confusionMatrix.shape[0]):\n",
    "        \n",
    "        prec = precision(confusionMatrix, digit )\n",
    "        rec = recall(confusionMatrix, digit )\n",
    "        f1 = F1Score(confusionMatrix, digit )\n",
    "     \n",
    "        print(digit, \"\\t\\t\", f'{prec:.4f}', \"\\t\", f'{rec:.4f}',\"\\t\", f'{f1:.4f}' )\n",
    "        \n",
    "    print()\n",
    "    \n",
    "    macro = macroF1(confusionMatrix)\n",
    "    verAcc, sysAcc = totalAccuracy(confusionMatrix, fullDigitCount)\n",
    "    print(\"Macro F1 Score: \", f'{macro:.4f}')\n",
    "    print(\"Full Digit Verifiable Accuracy: \", f'{verAcc:.4f}')\n",
    "    print(\"Full Digit System Accuracy: \", f'{sysAcc:.4f}')"
   ]
  },
  {
   "cell_type": "code",
   "execution_count": 52,
   "metadata": {},
   "outputs": [
    {
     "name": "stdout",
     "output_type": "stream",
     "text": [
      "Full Metric output for benchmark:  Full Test, Euclidean Metric\n",
      "\n",
      "Digit  \t\tPrecision  \tRecall  \tF1-Score\n",
      "0 \t\t 0.8333 \t 0.9783 \t 0.9000\n",
      "1 \t\t 0.7848 \t 0.8986 \t 0.8378\n",
      "2 \t\t 0.9783 \t 0.6081 \t 0.7500\n",
      "3 \t\t 0.5732 \t 0.7344 \t 0.6438\n",
      "4 \t\t 0.9444 \t 0.8226 \t 0.8793\n",
      "5 \t\t 0.7778 \t 0.8750 \t 0.8235\n",
      "6 \t\t 0.5641 \t 0.9778 \t 0.7154\n",
      "7 \t\t 0.6122 \t 0.5000 \t 0.5505\n",
      "8 \t\t 1.0000 \t 0.7037 \t 0.8261\n",
      "9 \t\t 0.9091 \t 0.6383 \t 0.7500\n",
      "\n",
      "Macro F1 Score:  0.7677\n",
      "Full Digit Verifiable Accuracy:  0.7658\n",
      "Full Digit System Accuracy:  0.7658\n"
     ]
    }
   ],
   "source": [
    "fullReport(confusionMatrix, totalQueryDigits, \"Full Test, Euclidean Metric\")"
   ]
  },
  {
   "cell_type": "code",
   "execution_count": 53,
   "metadata": {},
   "outputs": [
    {
     "name": "stdout",
     "output_type": "stream",
     "text": [
      "Full Metric output for benchmark:  Full Test, Cosine Metric\n",
      "\n",
      "Digit  \t\tPrecision  \tRecall  \tF1-Score\n",
      "0 \t\t 0.9167 \t 0.9565 \t 0.9362\n",
      "1 \t\t 0.6000 \t 0.5652 \t 0.5821\n",
      "2 \t\t 0.9444 \t 0.9189 \t 0.9315\n",
      "3 \t\t 0.7536 \t 0.8125 \t 0.7820\n",
      "4 \t\t 0.7544 \t 0.6935 \t 0.7227\n",
      "5 \t\t 0.8551 \t 0.9219 \t 0.8872\n",
      "6 \t\t 0.7167 \t 0.9556 \t 0.8190\n",
      "7 \t\t 0.5862 \t 0.8500 \t 0.6939\n",
      "8 \t\t 1.0000 \t 0.5741 \t 0.7294\n",
      "9 \t\t 0.8148 \t 0.4681 \t 0.5946\n",
      "\n",
      "Macro F1 Score:  0.7679\n",
      "Full Digit Verifiable Accuracy:  0.7726\n",
      "Full Digit System Accuracy:  0.7726\n"
     ]
    }
   ],
   "source": [
    "fullReport(confusionMatrix_c, totalQueryDigits, \"Full Test, Cosine Metric\")"
   ]
  },
  {
   "cell_type": "markdown",
   "metadata": {},
   "source": [
    "## Calculations And Storage"
   ]
  },
  {
   "cell_type": "markdown",
   "metadata": {},
   "source": [
    "In order to reduce run time on this file, the calculations are performed and then stored into a json file for subseuent retrieval. The json library is modified in order to allow storage of numpy arrays. This was done using code from the following source, all credit and thanks go the author Vishal Hule.\n",
    "\n",
    "https://pynative.com/python-serialize-numpy-ndarray-into-json/"
   ]
  },
  {
   "cell_type": "code",
   "execution_count": 54,
   "metadata": {
    "collapsed": true
   },
   "outputs": [],
   "source": [
    "class NumpyArrayEncoder(JSONEncoder):\n",
    "    def default(self, obj):\n",
    "        if isinstance(obj, np.ndarray):\n",
    "            return obj.tolist()\n",
    "        return JSONEncoder.default(self, obj)"
   ]
  },
  {
   "cell_type": "code",
   "execution_count": 55,
   "metadata": {
    "collapsed": true
   },
   "outputs": [],
   "source": [
    "# resultsFile = 'results_storage.json'\n",
    "# resultsFileNoSplit = 'results_storage_no_split.json'"
   ]
  },
  {
   "cell_type": "code",
   "execution_count": 56,
   "metadata": {
    "collapsed": true
   },
   "outputs": [],
   "source": [
    "# dataToStore = {}"
   ]
  },
  {
   "cell_type": "code",
   "execution_count": 57,
   "metadata": {
    "collapsed": true
   },
   "outputs": [],
   "source": [
    "# dataToStoreNoSplit = {}"
   ]
  },
  {
   "cell_type": "markdown",
   "metadata": {},
   "source": [
    "### Noisy References"
   ]
  },
  {
   "cell_type": "code",
   "execution_count": 58,
   "metadata": {
    "collapsed": true
   },
   "outputs": [],
   "source": [
    "# confusionMatrix_n, calcsDone_n, timeElapsed_n = runBenchmark('denoisedQueries', dbNoised, Mac = Mac)"
   ]
  },
  {
   "cell_type": "code",
   "execution_count": 59,
   "metadata": {
    "collapsed": true
   },
   "outputs": [],
   "source": [
    "# confusionMatrix_c_n, calcsDone_c_n, timeElapsed_c_n = runBenchmark('denoisedQueries', dbNoised, metric = 'cosine', Mac = Mac) "
   ]
  },
  {
   "cell_type": "code",
   "execution_count": 60,
   "metadata": {
    "collapsed": true
   },
   "outputs": [],
   "source": [
    "# dataToStore['noise'] = (confusionMatrix_n, calcsDone_n, timeElapsed_n)\n",
    "# dataToStore['noise_cosine'] = (confusionMatrix_c_n, calcsDone_c_n, timeElapsed_c_n)"
   ]
  },
  {
   "cell_type": "markdown",
   "metadata": {},
   "source": [
    "### Denoised References"
   ]
  },
  {
   "cell_type": "code",
   "execution_count": 61,
   "metadata": {
    "collapsed": true
   },
   "outputs": [],
   "source": [
    "# dataToStore['denoised'] = (confusionMatrix, calcsDone, timeElapsed)\n",
    "# dataToStore['denoised_cosine'] = (confusionMatrix_c, calcsDone_c, timeElapsed_c)"
   ]
  },
  {
   "cell_type": "markdown",
   "metadata": {},
   "source": [
    "### Noisy References Desilenced"
   ]
  },
  {
   "cell_type": "code",
   "execution_count": 62,
   "metadata": {
    "collapsed": true
   },
   "outputs": [],
   "source": [
    "# confusionMatrix_nds, calcsDone_nds, timeElapsed_nds = runBenchmark('denoisedQueries', dbNoisedNoSilence, Mac = Mac)"
   ]
  },
  {
   "cell_type": "code",
   "execution_count": 63,
   "metadata": {
    "collapsed": true
   },
   "outputs": [],
   "source": [
    "# confusionMatrix_c_nds, calcsDone_c_nds, timeElapsed_c_nds = runBenchmark('denoisedQueries', dbNoisedNoSilence, metric = 'cosine', Mac = Mac) "
   ]
  },
  {
   "cell_type": "code",
   "execution_count": 64,
   "metadata": {
    "collapsed": true
   },
   "outputs": [],
   "source": [
    "# dataToStore['desilenced'] = (confusionMatrix_nds, calcsDone_nds, timeElapsed_nds)\n",
    "# dataToStore['desilenced_cosine'] = (confusionMatrix_c_nds, calcsDone_c_nds, timeElapsed_c_nds)"
   ]
  },
  {
   "cell_type": "markdown",
   "metadata": {},
   "source": [
    "### Denoised References Desilenced"
   ]
  },
  {
   "cell_type": "code",
   "execution_count": 65,
   "metadata": {
    "collapsed": true
   },
   "outputs": [],
   "source": [
    "# confusionMatrix_ddds, calcsDone_ddds, timeElapsed_ddds = runBenchmark('denoisedQueries', dbDenoisedNoSilence, Mac = Mac)"
   ]
  },
  {
   "cell_type": "code",
   "execution_count": 66,
   "metadata": {
    "collapsed": true
   },
   "outputs": [],
   "source": [
    "# confusionMatrix_c_ddds, calcsDone_c_ddds, timeElapsed_c_ddds = runBenchmark('denoisedQueries', dbDenoisedNoSilence, metric = 'cosine', Mac = Mac) "
   ]
  },
  {
   "cell_type": "code",
   "execution_count": 67,
   "metadata": {
    "collapsed": true
   },
   "outputs": [],
   "source": [
    "# dataToStore['dd'] = (confusionMatrix_ddds, calcsDone_ddds, timeElapsed_ddds)\n",
    "# dataToStore['dd_cosine'] = (confusionMatrix_c_ddds, calcsDone_c_ddds, timeElapsed_c_ddds)"
   ]
  },
  {
   "cell_type": "markdown",
   "metadata": {},
   "source": [
    "### Noisy References and Noisy Queries"
   ]
  },
  {
   "cell_type": "code",
   "execution_count": 68,
   "metadata": {
    "collapsed": true
   },
   "outputs": [],
   "source": [
    "# confusionMatrix_nrnq, calcsDone_nrnq, timeElapsed_nrnq = runBenchmark('Queries', dbNoised, denoisedQuery = 'denoisedQueries', Mac = Mac)"
   ]
  },
  {
   "cell_type": "code",
   "execution_count": 69,
   "metadata": {
    "collapsed": true
   },
   "outputs": [],
   "source": [
    "# confusionMatrix_c_nrnq, calcsDone_c_nrnq, timeElapsed_c_nrnq = runBenchmark('Queries', dbNoised, denoisedQuery = 'denoisedQueries', metric = 'cosine', Mac = Mac) "
   ]
  },
  {
   "cell_type": "code",
   "execution_count": 70,
   "metadata": {
    "collapsed": true
   },
   "outputs": [],
   "source": [
    "# dataToStore['noise_query_benchmark'] = (confusionMatrix_nrnq, calcsDone_nrnq, timeElapsed_nrnq)\n",
    "# dataToStore['noise_query_benchmark_cosine'] = (confusionMatrix_c_nrnq, calcsDone_c_nrnq, timeElapsed_c_nrnq)"
   ]
  },
  {
   "cell_type": "markdown",
   "metadata": {},
   "source": [
    "### Noisy References Desilenced and Noisy Queries"
   ]
  },
  {
   "cell_type": "code",
   "execution_count": 71,
   "metadata": {
    "collapsed": true
   },
   "outputs": [],
   "source": [
    "# confusionMatrix_ndrnq, calcsDone_ndrnq, timeElapsed_ndrnq = runBenchmark('Queries', dbNoisedNoSilence, denoisedQuery = 'denoisedQueries', Mac = Mac)"
   ]
  },
  {
   "cell_type": "code",
   "execution_count": 72,
   "metadata": {
    "collapsed": true
   },
   "outputs": [],
   "source": [
    "# confusionMatrix_c_ndrnq, calcsDone_c_ndrnq, timeElapsed_c_ndrnq = runBenchmark('Queries', dbNoisedNoSilence, denoisedQuery = 'denoisedQueries', metric = 'cosine', Mac = Mac)"
   ]
  },
  {
   "cell_type": "code",
   "execution_count": 73,
   "metadata": {
    "collapsed": true
   },
   "outputs": [],
   "source": [
    "# dataToStore['noise_query_desilenced_noise_ref_benchmark'] = (confusionMatrix_ndrnq, calcsDone_ndrnq, timeElapsed_ndrnq)\n",
    "# dataToStore['noise_query_desilenced_noise_ref_benchmark_cosine'] = (confusionMatrix_c_ndrnq, calcsDone_c_ndrnq, timeElapsed_c_ndrnq)"
   ]
  },
  {
   "cell_type": "markdown",
   "metadata": {},
   "source": [
    "### Storage into a JSON File"
   ]
  },
  {
   "cell_type": "code",
   "execution_count": 74,
   "metadata": {
    "collapsed": true
   },
   "outputs": [],
   "source": [
    "# with open(resultsFile,'w') as file:\n",
    "#     json.dump(dataToStore, file, cls=NumpyArrayEncoder) "
   ]
  },
  {
   "cell_type": "markdown",
   "metadata": {},
   "source": [
    "This was the original loadAllVariables function. The most updated version of this function is at the top of the notebook. This old function was left commented out here to give context on where this function was created. "
   ]
  },
  {
   "cell_type": "code",
   "execution_count": 75,
   "metadata": {
    "collapsed": true
   },
   "outputs": [],
   "source": [
    "# def loadAllVariables(resultsFile):\n",
    "#     \"\"\"\n",
    "#     Helper function for the system. Loads in all the previously defined outputs so we no longer need to allow a long \n",
    "#     file runtime to work with and analyze the results.\n",
    "    \n",
    "#     This function works be making the variables global, as it would be cumbersome to return them all. The author recognizes \n",
    "#     this is bad practice, but has decided to make an exception in this case due to pure convience\n",
    "#     \"\"\"\n",
    "    \n",
    "#     file = open(resultsFile)\n",
    "#     data = json.load(file)\n",
    "#     file.close()\n",
    "    \n",
    "    \n",
    "#     #load in data taken from noisy reference benchmark\n",
    "#     global confusionMatrix_n, calcsDone_n, timeElapsed_n\n",
    "#     confusionMatrix_n, calcsDone_n, timeElapsed_n = data['noise']\n",
    "#     confusionMatrix_n = np.array(confusionMatrix_n)\n",
    "    \n",
    "#     #load in data taken from noisy reference benchmark, cosine metric\n",
    "#     global confusionMatrix_c_n, calcsDone_c_n, timeElapsed_c_n\n",
    "#     confusionMatrix_c_n, calcsDone_c_n, timeElapsed_c_n = data['noise_cosine']\n",
    "#     confusionMatrix_c_n = np.array(confusionMatrix_c_n)\n",
    "    \n",
    "#     #load in data from denoised benchmark\n",
    "#     global confusionMatrix, calcsDone, timeElapsed\n",
    "#     confusionMatrix, calcsDone, timeElapsed = data['denoised']\n",
    "#     confusionMatrix = np.array(confusionMatrix)\n",
    "    \n",
    "#     #load in data from denoised benchmark, cosine metric\n",
    "#     global confusionMatrix_c, calcsDone_c, timeElapsed_c\n",
    "#     confusionMatrix_c, calcsDone_c, timeElapsed_c = data['denoised_cosine']\n",
    "#     confusionMatrix_c = np.array(confusionMatrix_c)\n",
    "    \n",
    "#     #load in data from noisy benchmark, desilenced\n",
    "#     global confusionMatrix_nds, calcsDone_nds, timeElapsed_nds\n",
    "#     confusionMatrix_nds, calcsDone_nds, timeElapsed_nds = data['desilenced']\n",
    "#     confusionMatrix_nds = np.array(confusionMatrix_nds)\n",
    "    \n",
    "#     #load in data from noisy benchmark, desilenced, cosine metric\n",
    "#     global confusionMatrix_c_nds, calcsDone_c_nds, timeElapsed_c_nds\n",
    "#     confusionMatrix_c_nds, calcsDone_c_nds, timeElapsed_c_nds = data['desilenced_cosine']\n",
    "#     confusionMatrix_c_nds = np.array(confusionMatrix_c_nds)\n",
    "    \n",
    "#     #load in data from denoised, desilenced benchmark\n",
    "#     global confusionMatrix_ddds, calcsDone_ddds, timeElapsed_ddds\n",
    "#     confusionMatrix_ddds, calcsDone_ddds, timeElapsed_ddds = data['dd']\n",
    "#     confusionMatrix_ddds = np.array(confusionMatrix_ddds)\n",
    "    \n",
    "#     #load in data from denosied, desilenced benchmark, cosine metric\n",
    "#     global confusionMatrix_c_ddds, calcsDone_c_ddds, timeElapsed_c_ddds\n",
    "#     confusionMatrix_c_ddds, calcsDone_c_ddds, timeElapsed_c_ddds = data['dd_cosine']\n",
    "#     confusionMatrix_c_ddds = np.array(confusionMatrix_c_ddds)\n",
    "    \n",
    "    \n",
    "#     #load in data taken from noisy reference noisy queries benchmark\n",
    "#     global confusionMatrix_nrnq, calcsDone_nrnq, timeElapsed_nrnq\n",
    "#     confusionMatrix_nrnq, calcsDone_nrnq, timeElapsed_nrnq = data['noise_query_benchmark']\n",
    "#     confusionMatrix_nrnq = np.array(confusionMatrix_nrnq)\n",
    "    \n",
    "#     #load in data taken from noisy reference noisy queries benchmark, cosine metric\n",
    "#     global confusionMatrix_c_nrnq, calcsDone_c_nrnq, timeElapsed_c_nrnq\n",
    "#     confusionMatrix_c_nrnq, calcsDone_c_nrnq, timeElapsed_c_nrnq = data['noise_query_benchmark_cosine']\n",
    "#     confusionMatrix_c_nrnq = np.array(confusionMatrix_c_nrnq)"
   ]
  },
  {
   "cell_type": "markdown",
   "metadata": {},
   "source": [
    "## Output Results"
   ]
  },
  {
   "cell_type": "markdown",
   "metadata": {},
   "source": [
    "In this section, we see the result printouts for all the various different conditions we imposed on the system, including a different comparison metric, and various different reference preprocessing"
   ]
  },
  {
   "cell_type": "markdown",
   "metadata": {},
   "source": [
    "### Noisy References"
   ]
  },
  {
   "cell_type": "code",
   "execution_count": 76,
   "metadata": {
    "scrolled": true
   },
   "outputs": [
    {
     "name": "stdout",
     "output_type": "stream",
     "text": [
      "Full Metric output for benchmark:  Full Test, Euclidean Metric With Noise\n",
      "\n",
      "Digit  \t\tPrecision  \tRecall  \tF1-Score\n",
      "0 \t\t 0.8947 \t 0.7391 \t 0.8095\n",
      "1 \t\t 0.3375 \t 0.7826 \t 0.4716\n",
      "2 \t\t 1.0000 \t 0.2027 \t 0.3371\n",
      "3 \t\t 0.2500 \t 0.1406 \t 0.1800\n",
      "4 \t\t 0.5641 \t 0.3548 \t 0.4356\n",
      "5 \t\t 0.9123 \t 0.8125 \t 0.8595\n",
      "6 \t\t 0.3387 \t 0.9333 \t 0.4970\n",
      "7 \t\t 0.3721 \t 0.2667 \t 0.3107\n",
      "8 \t\t 0.8723 \t 0.7593 \t 0.8119\n",
      "9 \t\t 0.5769 \t 0.3191 \t 0.4110\n",
      "\n",
      "Macro F1 Score:  0.5124\n",
      "Full Digit Verifiable Accuracy:  0.5128\n",
      "Full Digit System Accuracy:  0.5128\n"
     ]
    }
   ],
   "source": [
    "fullReport(confusionMatrix_n, totalQueryDigits, \"Full Test, Euclidean Metric With Noise\")"
   ]
  },
  {
   "cell_type": "code",
   "execution_count": 77,
   "metadata": {},
   "outputs": [
    {
     "name": "stdout",
     "output_type": "stream",
     "text": [
      "Full Metric output for benchmark:  Full Test, Cosine Metric With Noise\n",
      "\n",
      "Digit  \t\tPrecision  \tRecall  \tF1-Score\n",
      "0 \t\t 0.9388 \t 1.0000 \t 0.9684\n",
      "1 \t\t 0.8472 \t 0.8841 \t 0.8652\n",
      "2 \t\t 1.0000 \t 0.9595 \t 0.9793\n",
      "3 \t\t 0.9683 \t 0.9531 \t 0.9606\n",
      "4 \t\t 0.9500 \t 0.9194 \t 0.9344\n",
      "5 \t\t 1.0000 \t 0.9531 \t 0.9760\n",
      "6 \t\t 0.9149 \t 0.9556 \t 0.9348\n",
      "7 \t\t 0.8551 \t 0.9833 \t 0.9147\n",
      "8 \t\t 1.0000 \t 0.9444 \t 0.9714\n",
      "9 \t\t 0.9524 \t 0.8511 \t 0.8989\n",
      "\n",
      "Macro F1 Score:  0.9404\n",
      "Full Digit Verifiable Accuracy:  0.9402\n",
      "Full Digit System Accuracy:  0.9402\n"
     ]
    }
   ],
   "source": [
    "fullReport(confusionMatrix_c_n, totalQueryDigits, \"Full Test, Cosine Metric With Noise\")"
   ]
  },
  {
   "cell_type": "markdown",
   "metadata": {},
   "source": [
    "### Denoised References"
   ]
  },
  {
   "cell_type": "code",
   "execution_count": 78,
   "metadata": {
    "scrolled": true
   },
   "outputs": [
    {
     "name": "stdout",
     "output_type": "stream",
     "text": [
      "Full Metric output for benchmark:  Full Test, Euclidean Metric, Denoised\n",
      "\n",
      "Digit  \t\tPrecision  \tRecall  \tF1-Score\n",
      "0 \t\t 0.8333 \t 0.9783 \t 0.9000\n",
      "1 \t\t 0.7848 \t 0.8986 \t 0.8378\n",
      "2 \t\t 0.9783 \t 0.6081 \t 0.7500\n",
      "3 \t\t 0.5732 \t 0.7344 \t 0.6438\n",
      "4 \t\t 0.9444 \t 0.8226 \t 0.8793\n",
      "5 \t\t 0.7778 \t 0.8750 \t 0.8235\n",
      "6 \t\t 0.5641 \t 0.9778 \t 0.7154\n",
      "7 \t\t 0.6122 \t 0.5000 \t 0.5505\n",
      "8 \t\t 1.0000 \t 0.7037 \t 0.8261\n",
      "9 \t\t 0.9091 \t 0.6383 \t 0.7500\n",
      "\n",
      "Macro F1 Score:  0.7677\n",
      "Full Digit Verifiable Accuracy:  0.7658\n",
      "Full Digit System Accuracy:  0.7658\n"
     ]
    }
   ],
   "source": [
    "fullReport(confusionMatrix, totalQueryDigits, \"Full Test, Euclidean Metric, Denoised\")"
   ]
  },
  {
   "cell_type": "code",
   "execution_count": 79,
   "metadata": {},
   "outputs": [
    {
     "name": "stdout",
     "output_type": "stream",
     "text": [
      "Full Metric output for benchmark:  Full Test, Cosine Metric, Denoised\n",
      "\n",
      "Digit  \t\tPrecision  \tRecall  \tF1-Score\n",
      "0 \t\t 0.9167 \t 0.9565 \t 0.9362\n",
      "1 \t\t 0.6000 \t 0.5652 \t 0.5821\n",
      "2 \t\t 0.9444 \t 0.9189 \t 0.9315\n",
      "3 \t\t 0.7536 \t 0.8125 \t 0.7820\n",
      "4 \t\t 0.7544 \t 0.6935 \t 0.7227\n",
      "5 \t\t 0.8551 \t 0.9219 \t 0.8872\n",
      "6 \t\t 0.7167 \t 0.9556 \t 0.8190\n",
      "7 \t\t 0.5862 \t 0.8500 \t 0.6939\n",
      "8 \t\t 1.0000 \t 0.5741 \t 0.7294\n",
      "9 \t\t 0.8148 \t 0.4681 \t 0.5946\n",
      "\n",
      "Macro F1 Score:  0.7679\n",
      "Full Digit Verifiable Accuracy:  0.7726\n",
      "Full Digit System Accuracy:  0.7726\n"
     ]
    }
   ],
   "source": [
    "fullReport(confusionMatrix_c, totalQueryDigits, \"Full Test, Cosine Metric, Denoised\")"
   ]
  },
  {
   "cell_type": "markdown",
   "metadata": {},
   "source": [
    "### Noisy References Desilenced"
   ]
  },
  {
   "cell_type": "code",
   "execution_count": 80,
   "metadata": {
    "scrolled": true
   },
   "outputs": [
    {
     "name": "stdout",
     "output_type": "stream",
     "text": [
      "Full Metric output for benchmark:  Full Test, Euclidean Metric With Noise, Desilenced References\n",
      "\n",
      "Digit  \t\tPrecision  \tRecall  \tF1-Score\n",
      "0 \t\t 1.0000 \t 0.1739 \t 0.2963\n",
      "1 \t\t 0.3017 \t 0.7826 \t 0.4355\n",
      "2 \t\t 1.0000 \t 0.1216 \t 0.2169\n",
      "3 \t\t 0.2500 \t 0.1250 \t 0.1667\n",
      "4 \t\t 0.5000 \t 0.3710 \t 0.4259\n",
      "5 \t\t 0.8529 \t 0.4531 \t 0.5918\n",
      "6 \t\t 0.0723 \t 0.1333 \t 0.0938\n",
      "7 \t\t 0.3784 \t 0.2333 \t 0.2887\n",
      "8 \t\t 0.2766 \t 0.7222 \t 0.4000\n",
      "9 \t\t 0.5000 \t 0.1702 \t 0.2540\n",
      "\n",
      "Macro F1 Score:  0.3169\n",
      "Full Digit Verifiable Accuracy:  0.3385\n",
      "Full Digit System Accuracy:  0.3385\n"
     ]
    }
   ],
   "source": [
    "fullReport(confusionMatrix_nds, totalQueryDigits, \"Full Test, Euclidean Metric With Noise, Desilenced References\")"
   ]
  },
  {
   "cell_type": "code",
   "execution_count": 81,
   "metadata": {},
   "outputs": [
    {
     "name": "stdout",
     "output_type": "stream",
     "text": [
      "Full Metric output for benchmark:  Full Test, Cosine Metric With Noise, Desilenced References\n",
      "\n",
      "Digit  \t\tPrecision  \tRecall  \tF1-Score\n",
      "0 \t\t 0.9000 \t 0.9783 \t 0.9375\n",
      "1 \t\t 0.7532 \t 0.8406 \t 0.7945\n",
      "2 \t\t 1.0000 \t 0.9054 \t 0.9504\n",
      "3 \t\t 0.9683 \t 0.9531 \t 0.9606\n",
      "4 \t\t 0.9048 \t 0.9194 \t 0.9120\n",
      "5 \t\t 0.9792 \t 0.7344 \t 0.8393\n",
      "6 \t\t 0.7917 \t 0.4222 \t 0.5507\n",
      "7 \t\t 0.8551 \t 0.9833 \t 0.9147\n",
      "8 \t\t 0.6000 \t 0.8889 \t 0.7164\n",
      "9 \t\t 0.8864 \t 0.8298 \t 0.8571\n",
      "\n",
      "Macro F1 Score:  0.8433\n",
      "Full Digit Verifiable Accuracy:  0.8547\n",
      "Full Digit System Accuracy:  0.8547\n"
     ]
    }
   ],
   "source": [
    "fullReport(confusionMatrix_c_nds, totalQueryDigits, \"Full Test, Cosine Metric With Noise, Desilenced References\")"
   ]
  },
  {
   "cell_type": "markdown",
   "metadata": {},
   "source": [
    "### Denoised References Desilenced"
   ]
  },
  {
   "cell_type": "code",
   "execution_count": 82,
   "metadata": {
    "scrolled": true
   },
   "outputs": [
    {
     "name": "stdout",
     "output_type": "stream",
     "text": [
      "Full Metric output for benchmark:  Full Test, Euclidean Metric, Denoised, Desilenced References\n",
      "\n",
      "Digit  \t\tPrecision  \tRecall  \tF1-Score\n",
      "0 \t\t 0.9394 \t 0.6739 \t 0.7848\n",
      "1 \t\t 0.7097 \t 0.6377 \t 0.6718\n",
      "2 \t\t 0.9091 \t 0.5405 \t 0.6780\n",
      "3 \t\t 0.5057 \t 0.6875 \t 0.5828\n",
      "4 \t\t 0.7869 \t 0.7742 \t 0.7805\n",
      "5 \t\t 0.4306 \t 0.9688 \t 0.5962\n",
      "6 \t\t 0.3333 \t 0.2222 \t 0.2667\n",
      "7 \t\t 0.5185 \t 0.2333 \t 0.3218\n",
      "8 \t\t 0.5139 \t 0.6852 \t 0.5873\n",
      "9 \t\t 0.5600 \t 0.2979 \t 0.3889\n",
      "\n",
      "Macro F1 Score:  0.5659\n",
      "Full Digit Verifiable Accuracy:  0.5880\n",
      "Full Digit System Accuracy:  0.5880\n"
     ]
    }
   ],
   "source": [
    "fullReport(confusionMatrix_ddds, totalQueryDigits, \"Full Test, Euclidean Metric, Denoised, Desilenced References\")"
   ]
  },
  {
   "cell_type": "code",
   "execution_count": 83,
   "metadata": {},
   "outputs": [
    {
     "name": "stdout",
     "output_type": "stream",
     "text": [
      "Full Metric output for benchmark:  Full Test, Cosine Metric, Denoised, Desilenced References\n",
      "\n",
      "Digit  \t\tPrecision  \tRecall  \tF1-Score\n",
      "0 \t\t 0.9111 \t 0.8913 \t 0.9011\n",
      "1 \t\t 0.5714 \t 0.5217 \t 0.5455\n",
      "2 \t\t 0.9589 \t 0.9459 \t 0.9524\n",
      "3 \t\t 0.6933 \t 0.8125 \t 0.7482\n",
      "4 \t\t 0.6308 \t 0.6613 \t 0.6457\n",
      "5 \t\t 0.8219 \t 0.9375 \t 0.8759\n",
      "6 \t\t 0.6531 \t 0.7111 \t 0.6809\n",
      "7 \t\t 0.5647 \t 0.8000 \t 0.6621\n",
      "8 \t\t 0.8056 \t 0.5370 \t 0.6444\n",
      "9 \t\t 0.8095 \t 0.3617 \t 0.5000\n",
      "\n",
      "Macro F1 Score:  0.7156\n",
      "Full Digit Verifiable Accuracy:  0.7282\n",
      "Full Digit System Accuracy:  0.7282\n"
     ]
    }
   ],
   "source": [
    "fullReport(confusionMatrix_c_ddds, totalQueryDigits, \"Full Test, Cosine Metric, Denoised, Desilenced References\")"
   ]
  },
  {
   "cell_type": "markdown",
   "metadata": {},
   "source": [
    "### Noisy References and Queries"
   ]
  },
  {
   "cell_type": "code",
   "execution_count": 84,
   "metadata": {},
   "outputs": [
    {
     "name": "stdout",
     "output_type": "stream",
     "text": [
      "Full Metric output for benchmark:  Full Test, Euclidean Metric, Noisy References and Queries\n",
      "\n",
      "Digit  \t\tPrecision  \tRecall  \tF1-Score\n",
      "0 \t\t 0.6769 \t 0.9565 \t 0.7928\n",
      "1 \t\t 0.7647 \t 0.5652 \t 0.6500\n",
      "2 \t\t 0.8868 \t 0.6351 \t 0.7402\n",
      "3 \t\t 0.5750 \t 0.7188 \t 0.6389\n",
      "4 \t\t 0.8750 \t 0.5645 \t 0.6863\n",
      "5 \t\t 0.7595 \t 0.9375 \t 0.8392\n",
      "6 \t\t 0.5584 \t 0.9556 \t 0.7049\n",
      "7 \t\t 0.3857 \t 0.4500 \t 0.4154\n",
      "8 \t\t 1.0000 \t 0.6852 \t 0.8132\n",
      "9 \t\t 0.8485 \t 0.5957 \t 0.7000\n",
      "\n",
      "Macro F1 Score:  0.6981\n",
      "Full Digit Verifiable Accuracy:  0.6940\n",
      "Full Digit System Accuracy:  0.6940\n"
     ]
    }
   ],
   "source": [
    "fullReport(confusionMatrix_nrnq, totalQueryDigits, \"Full Test, Euclidean Metric, Noisy References and Queries\")"
   ]
  },
  {
   "cell_type": "code",
   "execution_count": 85,
   "metadata": {},
   "outputs": [
    {
     "name": "stdout",
     "output_type": "stream",
     "text": [
      "Full Metric output for benchmark:  Full Test, Cosine Metric, Noisy References and Queries\n",
      "\n",
      "Digit  \t\tPrecision  \tRecall  \tF1-Score\n",
      "0 \t\t 0.6875 \t 0.9565 \t 0.8000\n",
      "1 \t\t 0.5636 \t 0.4493 \t 0.5000\n",
      "2 \t\t 0.9577 \t 0.9189 \t 0.9379\n",
      "3 \t\t 0.7857 \t 0.6875 \t 0.7333\n",
      "4 \t\t 0.7308 \t 0.6129 \t 0.6667\n",
      "5 \t\t 0.7778 \t 0.9844 \t 0.8690\n",
      "6 \t\t 0.6286 \t 0.9778 \t 0.7652\n",
      "7 \t\t 0.6164 \t 0.7500 \t 0.6767\n",
      "8 \t\t 1.0000 \t 0.6111 \t 0.7586\n",
      "9 \t\t 0.9000 \t 0.5745 \t 0.7013\n",
      "\n",
      "Macro F1 Score:  0.7409\n",
      "Full Digit Verifiable Accuracy:  0.7470\n",
      "Full Digit System Accuracy:  0.7470\n"
     ]
    }
   ],
   "source": [
    "fullReport(confusionMatrix_c_nrnq, totalQueryDigits, \"Full Test, Cosine Metric, Noisy References and Queries\")"
   ]
  },
  {
   "cell_type": "markdown",
   "metadata": {},
   "source": [
    "### Noisy References Desilenced and Queries"
   ]
  },
  {
   "cell_type": "code",
   "execution_count": 86,
   "metadata": {},
   "outputs": [
    {
     "name": "stdout",
     "output_type": "stream",
     "text": [
      "Full Metric output for benchmark:  Full Test, Euclidean Metric, Noisy References Desilenced and Queries\n",
      "\n",
      "Digit  \t\tPrecision  \tRecall  \tF1-Score\n",
      "0 \t\t 0.6567 \t 0.9565 \t 0.7788\n",
      "1 \t\t 0.7400 \t 0.5362 \t 0.6218\n",
      "2 \t\t 0.8846 \t 0.6216 \t 0.7302\n",
      "3 \t\t 0.5422 \t 0.7031 \t 0.6122\n",
      "4 \t\t 0.8750 \t 0.5645 \t 0.6863\n",
      "5 \t\t 0.7250 \t 0.9062 \t 0.8056\n",
      "6 \t\t 0.3469 \t 0.3778 \t 0.3617\n",
      "7 \t\t 0.3857 \t 0.4500 \t 0.4154\n",
      "8 \t\t 0.5968 \t 0.6852 \t 0.6379\n",
      "9 \t\t 0.8438 \t 0.5745 \t 0.6835\n",
      "\n",
      "Macro F1 Score:  0.6333\n",
      "Full Digit Verifiable Accuracy:  0.6376\n",
      "Full Digit System Accuracy:  0.6376\n"
     ]
    }
   ],
   "source": [
    "fullReport(confusionMatrix_ndrnq, totalQueryDigits, \"Full Test, Euclidean Metric, Noisy References Desilenced and Queries\")"
   ]
  },
  {
   "cell_type": "code",
   "execution_count": 87,
   "metadata": {},
   "outputs": [
    {
     "name": "stdout",
     "output_type": "stream",
     "text": [
      "Full Metric output for benchmark:  Full Test, Cosine Metric, Noisy References Desilenced and Queries\n",
      "\n",
      "Digit  \t\tPrecision  \tRecall  \tF1-Score\n",
      "0 \t\t 0.6667 \t 0.9565 \t 0.7857\n",
      "1 \t\t 0.6042 \t 0.4203 \t 0.4957\n",
      "2 \t\t 0.9710 \t 0.9054 \t 0.9371\n",
      "3 \t\t 0.7288 \t 0.6719 \t 0.6992\n",
      "4 \t\t 0.6909 \t 0.6129 \t 0.6496\n",
      "5 \t\t 0.7750 \t 0.9688 \t 0.8611\n",
      "6 \t\t 0.5667 \t 0.7556 \t 0.6476\n",
      "7 \t\t 0.6164 \t 0.7500 \t 0.6767\n",
      "8 \t\t 0.7674 \t 0.6111 \t 0.6804\n",
      "9 \t\t 0.9062 \t 0.6170 \t 0.7342\n",
      "\n",
      "Macro F1 Score:  0.7167\n",
      "Full Digit Verifiable Accuracy:  0.7248\n",
      "Full Digit System Accuracy:  0.7248\n"
     ]
    }
   ],
   "source": [
    "fullReport(confusionMatrix_c_ndrnq, totalQueryDigits, \"Full Test, Cosine Metric, Noisy References Desilenced and Queries\")"
   ]
  },
  {
   "cell_type": "markdown",
   "metadata": {},
   "source": [
    "## No Split Code"
   ]
  },
  {
   "cell_type": "markdown",
   "metadata": {},
   "source": [
    "The team undertook an experiment to see how feasible a matching system that did not split the audio into words could be. This section contains code that brought this test to life"
   ]
  },
  {
   "cell_type": "markdown",
   "metadata": {},
   "source": [
    "In an attempt to solve one issue the team had with this system, the team created a variant feature calculation that added one extra feature that consisted of the total energy per frame. This feature was added based on a recommendation to include volume infomration in the features."
   ]
  },
  {
   "cell_type": "code",
   "execution_count": 88,
   "metadata": {
    "collapsed": true
   },
   "outputs": [],
   "source": [
    "def mfcc3(S, keep = 12, deltaOrders = 2, n_fft = 2048, sr = 22050, num_coeffs = 26, filterMatrix = None, bottomFreq = 300, topFreq = 8000, epsilon = 1e-9):\n",
    "    \"\"\"\n",
    "    Performs the calculation of the MFCC feature matrix, keeps the specified number of bottom coefficients, and appends the specified number of deltas\n",
    "    \n",
    "    Inputs:\n",
    "    S - the STFT of the audio signal of interest\n",
    "    keep - the number of bottom coefficients to keep from the mfcc calculation with num_coeff amount of filters\n",
    "    deltaOrders - starting with order = 1, the number of delta features to append to the final output feature matrix\n",
    "    n_fft - the length of the DFT used to calculate the STFT\n",
    "    sr = the sample rate of the audio of interest\n",
    "    num_coeffs - the number of coefficients to return (and also the number of Mel Filters to create)\n",
    "    filterMatrix - optional precalculated filter matrix\n",
    "    bottomFreq - the bottom frequency of our filter bank. Defaults to 300 hz because this is a common bottom used in speech recognition\n",
    "    topFreq - the top frequency of our filter bank. Defaults to 8000 hz because this is a common top used in speech recognition\n",
    "    epsilon - a small number added to the logarithm to prevent NaN's\n",
    "    \n",
    "    Outputs:\n",
    "    features - a feature matrix with the bottom keep coeffs being the mfcc features and the rest being delta coefficients of some order\n",
    "    \"\"\"\n",
    "    #we begin by calculating the periodogram of the provided STFT matrix\n",
    "    magSquare = np.abs(S)**2\n",
    "    pxx= magSquare/n_fft\n",
    "\n",
    "    #before calculating the mfcc features, we calculate the total energy in each frame\n",
    "    frameEnergies = np.sum(magSquare, axis = 0)\n",
    "    \n",
    "    #use a precalculated filter matrix to make the calculation slightly more efficient, if desired\n",
    "    if filterMatrix is not None:\n",
    "        assert(num_coeffs == filterMatrix.shape[0])\n",
    "        filt = filterMatrix\n",
    "    else:\n",
    "        filt = calculateFilterMatrix(numFilters = num_coeffs, bottomFreq = bottomFreq, topFreq = topFreq)\n",
    "        \n",
    "    #sum the relevant filter energies and take the logarithm of them (part of the \"cepstrum calculation\")\n",
    "    mel_log_energies = np.log(filt@pxx + epsilon)\n",
    "    \n",
    "    mfccFeats = scipy.fftpack.dct(mel_log_energies, axis = 0, norm = 'ortho') #norm is set to ortho for the preimplemented version\n",
    "    \n",
    "    \n",
    "    # Now that we've calculated the base MFCC features, we append on the energy + delta features to the matrix bottom keep features\n",
    "    mfccOfInterest = np.copy(mfccFeats[0:keep, :])\n",
    "    mfccKeep = np.zeros((keep + 1, mfccFeats.shape[1]))\n",
    "    mfccKeep[0:keep, :] = mfccOfInterest\n",
    "    mfccKeep[keep, :] = frameEnergies\n",
    "    \n",
    "    #To simplify this rewrite, we increment keep by 1, as we've added a row to the base features. Now the following code taken from mfcc2 should function normally\n",
    "    keep = keep + 1\n",
    "    \n",
    "    #now we preallocate a matrix of the proper size to fill the final features\n",
    "    numFrames = S.shape[1]\n",
    "    numRows = keep*(deltaOrders + 1) #add a number of derivatives starting at order 1 (1st derivative), with the first keep mfcc features at the bottom\n",
    "    features = np.zeros((numRows, numFrames))\n",
    "    \n",
    "    \n",
    "    #place the first \"keep\" features into the\n",
    "    features[0:keep, :] = mfccKeep\n",
    "    \n",
    "    \n",
    "    #now we calculate all desired deltas and append them to the top of the feature matrix\n",
    "    \n",
    "    for ord in range(1,deltaOrders+1):\n",
    "        \n",
    "        #calculate the delta features of this order\n",
    "        delta_x = lb.feature.delta(mfccKeep, order = ord)\n",
    "        \n",
    "        #store the delta features in the proper location of the final feature matrix\n",
    "        features[(keep*ord): (keep)*(ord + 1), :] = delta_x\n",
    "        \n",
    "    return features"
   ]
  },
  {
   "cell_type": "markdown",
   "metadata": {},
   "source": [
    "The following functions retrieve match scores and predicted digits for the no split audio system."
   ]
  },
  {
   "cell_type": "code",
   "execution_count": 89,
   "metadata": {
    "collapsed": true
   },
   "outputs": [],
   "source": [
    "def getMatchScoresNoSplit(audioQueryFeatures, db, sr = 22050, nfft = 2048, hop = 128, metric = 'euclidean'):\n",
    "    \"\"\"\n",
    "    A helper function that retrieves the match scores of the specified audio file without splitting it\n",
    "    \n",
    "    Inputs:\n",
    "    audioQueryFeatures - the features of the audio segment of interest\n",
    "    db - the database being used to match the digit\n",
    "    sr - the sample rate of the audio file\n",
    "    nfft - the size of the desired stft\n",
    "    hop - the desired hop size in samples\n",
    "    metric - the desired dtw similarity metric, must work with the librosa dtw function\n",
    "    \n",
    "    Outputs:\n",
    "    scores - a list of the match scores\n",
    "    paths - a list of paths from the matches\n",
    "    \"\"\"\n",
    "    \n",
    "    #now we iterate through the database and compare all the numbers with subsequency dynamic time warping\n",
    "    scores = []\n",
    "    paths = []\n",
    "    for key in db:\n",
    "        \n",
    "        mfcc_ref = db[key]\n",
    "        \n",
    "        D_num, wp_num = lb.sequence.dtw(mfcc_ref, audioQueryFeatures, metric = metric, subseq = True)\n",
    "        scores.append(np.min(D_num[-1:]))\n",
    "        paths.append(wp_num)\n",
    "        \n",
    "    return scores, paths"
   ]
  },
  {
   "cell_type": "code",
   "execution_count": 90,
   "metadata": {
    "collapsed": true
   },
   "outputs": [],
   "source": [
    "def getPredictionNoSplit(audioQueryFeatures, db, sr = 22050, nfft = 2048, hop = 128, metric = 'euclidean'):\n",
    "    \"\"\"\n",
    "    A helper function that gets a single prediction without splitting the audio file\n",
    "    \n",
    "    Inputs:\n",
    "    audioQueryFeatures - the features of the audio segment of interest\n",
    "    db - the database being used to match the digit\n",
    "    sr - the sample rate of the audio file\n",
    "    nfft - the size of the desired stft\n",
    "    hop - the desired hop size in samples\n",
    "    metric - the desired dtw similarity metric, must work with the librosa dtw function\n",
    "    \n",
    "    Outputs:\n",
    "    prediction - the most likely digit at the specified path\n",
    "    path - the path containing the alignment of the digit\n",
    "    \"\"\"\n",
    "    \n",
    "    matchScores, paths = getMatchScoresNoSplit(audioQueryFeatures, db, sr = sr, nfft = nfft, hop = hop, metric = metric)\n",
    "    refList = list(db.keys())\n",
    "    \n",
    "    tooSmall = True;\n",
    "    \n",
    "    # Keep trying to find a segment that meets the minimum length threshold\n",
    "    while tooSmall and len(matchScores) != 0:\n",
    "        predInd = np.argmin(matchScores)\n",
    "        path = paths[predInd]\n",
    "        queryIndices = path[:,1]\n",
    "        uniqueQueryIndices = np.unique(queryIndices)\n",
    "                \n",
    "        if (uniqueQueryIndices[-1] - uniqueQueryIndices[0] > 100):\n",
    "            tooSmall = False;\n",
    "        else:\n",
    "            matchScores = np.delete(matchScores, predInd)\n",
    "    \n",
    "    if tooSmall: # If the predicted segment is too small, don't return anything\n",
    "        return [None, None]\n",
    "    \n",
    "    prediction = int(refList[predInd])\n",
    "    \n",
    "    return prediction, path"
   ]
  },
  {
   "cell_type": "code",
   "execution_count": 91,
   "metadata": {
    "collapsed": true
   },
   "outputs": [],
   "source": [
    "def getPredictionsNoSplit(queryPath, db, sr = 22050, nfft = 2048, hop = 128, top_db = 25, metric = 'euclidean'):\n",
    "    \"\"\"\n",
    "    A function designed to get the predictions of an audio query without splitting the audio\n",
    "    \n",
    "    Inputs:\n",
    "    queryPath - the path of the audio query of interest\n",
    "    db - the database being used to match the digit\n",
    "    sr - the sample rate of the audio file\n",
    "    nfft - the size of the desired stft\n",
    "    hop - the desired hop size in samples\n",
    "    top_db - the desired top decibel level [legacy]\n",
    "    metric - the desired dtw similarity metric, must work with the librosa dtw function\n",
    "    \n",
    "    Outputs:\n",
    "    predictions - a list of integers containing the predicted digits contained in the audio file\n",
    "    \"\"\"\n",
    "    predictions = []\n",
    "    \n",
    "    audio, _ = lb.core.load(queryPath, sr)\n",
    "    \n",
    "    S = lb.core.stft(audio, n_fft = nfft, hop_length = hop)\n",
    "    #mfcc_query = mfcc(S, n_fft = nfft, sr = sr)\n",
    "    mfcc_query = mfcc2(S, n_fft = nfft, sr = sr)\n",
    "    #mfcc_query = mfcc3(S, n_fft = nfft, sr = sr)\n",
    "    \n",
    "    actualFrames = np.arange(mfcc_query.shape[1]) # Need to keep track of frames as we delete from the query\n",
    "    numTimeFrames = mfcc_query.shape[1]\n",
    "    \n",
    "    while numTimeFrames > 260: # 260 frames was the estimated max length for a single digit\n",
    "        \n",
    "        prediction, path = getPredictionNoSplit(mfcc_query, db, metric = metric)\n",
    "        if prediction is not None:\n",
    "            \n",
    "            queryIndices = path[:,1]\n",
    "            uniqueQueryIndices = np.unique(queryIndices)\n",
    "\n",
    "            # Get the average frame index to keep guesses in order\n",
    "            average = np.average(actualFrames[uniqueQueryIndices])\n",
    "\n",
    "            mfcc_query = np.delete(mfcc_query, uniqueQueryIndices,1)\n",
    "            actualFrames = np.delete(actualFrames, uniqueQueryIndices)\n",
    "\n",
    "            sizeDeleted = uniqueQueryIndices[-1] - uniqueQueryIndices[0] + 1\n",
    "            numTimeFrames = numTimeFrames - sizeDeleted\n",
    "            predictions.append([average, prediction])\n",
    "\n",
    "        else:\n",
    "            break\n",
    "        \n",
    "    \n",
    "    predictions.sort()\n",
    "    predictions = np.array(predictions)\n",
    "    return predictions[:,1].astype(int)"
   ]
  },
  {
   "cell_type": "markdown",
   "metadata": {},
   "source": [
    "We finally create a function that runs the benchmark of our system."
   ]
  },
  {
   "cell_type": "code",
   "execution_count": 92,
   "metadata": {
    "collapsed": true
   },
   "outputs": [],
   "source": [
    "def runBenchmarkNoSplit(indir, db, Mac = False, sr = 22050, nfft = 2048, hop = 128, top_db = 25, metric = 'euclidean'):\n",
    "    \"\"\"\n",
    "    Runs a benchmark for our system wihtout splits\n",
    "    \n",
    "    Inputs:\n",
    "    indir - the directory where the mp3 queries are located\n",
    "    db - the database being used to match the digit\n",
    "    Mac - a boolean indicating if the machine running this code is a mac. If false, \n",
    "          it is assumed that the code is running on a pc\n",
    "    sr - the sample rate of the audio file\n",
    "    nfft - the size of the desired stft\n",
    "    hop - the desired hop size in samples\n",
    "    top_db - the desired top decibel level [legacy]\n",
    "    metric - the desired dtw similarity metric, must work with the librosa dtw function\n",
    "    \n",
    "    Output:\n",
    "    confusionMatrix - a 10x10 confusion matrix, where the row indicates the digit guess, and the \n",
    "                      column indicates the ground truth\n",
    "    calcsDone - an integer indicating how many queries were processed\n",
    "    timeElapsed - a float indicating how long it took the benchmark to run\n",
    "    \"\"\"\n",
    "    \n",
    "    startTime = time.time()\n",
    "    \n",
    "    confusionMatrix = np.zeros((10,10))\n",
    "    \n",
    "    #we begin by retrieving all the paths to our queries\n",
    "    mp3s = retrieveMP3s(indir, Mac = Mac)\n",
    "    \n",
    "    calcsDone = len(mp3s)\n",
    "    for i in range(len(mp3s)):\n",
    "        \n",
    "        currPath = mp3s[i]\n",
    "        predictions = getPredictionsNoSplit(currPath, db, sr = sr, nfft = nfft, hop = hop, top_db = top_db, metric = metric)\n",
    "        \n",
    "        if len(predictions) == 0:\n",
    "            calcsDone -= 1\n",
    "            pass\n",
    "        \n",
    "        answers = retrieveAnswer(currPath)\n",
    "        \n",
    "        #assert(len(answers) == len(predictions))\n",
    "        if (len(answers) != len(predictions)):\n",
    "            calcsDone -= 1\n",
    "            print(answers)\n",
    "            print(predictions)\n",
    "            \n",
    "        else:\n",
    "            for j in range(len(answers)):\n",
    "                confusionMatrix[predictions[j], answers[j]] += 1\n",
    "            \n",
    "    endTime = time.time()\n",
    "    timeElapsed = endTime - startTime\n",
    "                    \n",
    "    return confusionMatrix, calcsDone, timeElapsed"
   ]
  },
  {
   "cell_type": "markdown",
   "metadata": {},
   "source": [
    "## No Split Tests"
   ]
  },
  {
   "cell_type": "markdown",
   "metadata": {},
   "source": [
    "In this section we run the no split benchmark for our system with various different conditions imposed on the system. Commented out results have been loaded in after having been processed previously"
   ]
  },
  {
   "cell_type": "markdown",
   "metadata": {},
   "source": [
    "### Denoised References"
   ]
  },
  {
   "cell_type": "code",
   "execution_count": 93,
   "metadata": {
    "collapsed": true
   },
   "outputs": [],
   "source": [
    "# confusionMatrixNoSplit, calcsDoneNoSplit, timeElapsedNoSplit = runBenchmarkNoSplit('denoisedQueries', dbDenoised, Mac=True) "
   ]
  },
  {
   "cell_type": "code",
   "execution_count": 94,
   "metadata": {
    "collapsed": true
   },
   "outputs": [],
   "source": [
    "# confusionMatrixNoSplit_c, calcsDoneNoSplit_c, timeElapsedNoSplit_c = runBenchmarkNoSplit('denoisedQueries', dbDenoised, Mac=True, metric = 'cosine') "
   ]
  },
  {
   "cell_type": "code",
   "execution_count": 95,
   "metadata": {
    "collapsed": true
   },
   "outputs": [],
   "source": [
    "# dataToStoreNoSplit['no_split_denoised'] = (confusionMatrixNoSplit, calcsDoneNoSplit, timeElapsedNoSplit)\n",
    "# dataToStoreNoSplit['no_split_denoised_cosine'] = (confusionMatrixNoSplit_c, calcsDoneNoSplit_c, timeElapsedNoSplit_c)"
   ]
  },
  {
   "cell_type": "code",
   "execution_count": 96,
   "metadata": {
    "collapsed": true
   },
   "outputs": [],
   "source": [
    "# with open(resultsFileNoSplit,'w') as file:\n",
    "#     json.dump(dataToStoreNoSplit, file, cls=NumpyArrayEncoder) "
   ]
  },
  {
   "cell_type": "markdown",
   "metadata": {},
   "source": [
    "## No Split Results"
   ]
  },
  {
   "cell_type": "markdown",
   "metadata": {},
   "source": [
    "Below we show printouts of the performance of all tests from the no split code"
   ]
  },
  {
   "cell_type": "code",
   "execution_count": 97,
   "metadata": {},
   "outputs": [
    {
     "name": "stdout",
     "output_type": "stream",
     "text": [
      "Full Metric output for benchmark:  Full Test, Euclidean Metric, Denoised, No Split\n",
      "\n",
      "Digit  \t\tPrecision  \tRecall  \tF1-Score\n",
      "0 \t\t 0.7600 \t 1.0000 \t 0.8636\n",
      "1 \t\t 0.9412 \t 0.3137 \t 0.4706\n",
      "2 \t\t 1.0000 \t 0.8605 \t 0.9250\n",
      "3 \t\t 0.8800 \t 1.0000 \t 0.9362\n",
      "4 \t\t 0.5610 \t 1.0000 \t 0.7188\n",
      "5 \t\t 1.0000 \t 0.9545 \t 0.9767\n",
      "6 \t\t 1.0000 \t 1.0000 \t 1.0000\n",
      "7 \t\t 1.0000 \t 0.7500 \t 0.8571\n",
      "8 \t\t 1.0000 \t 1.0000 \t 1.0000\n",
      "9 \t\t 0.9512 \t 0.9512 \t 0.9512\n",
      "\n",
      "Macro F1 Score:  0.8699\n",
      "Full Digit Verifiable Accuracy:  0.8668\n",
      "Full Digit System Accuracy:  0.6342\n"
     ]
    }
   ],
   "source": [
    "fullReport(confusionMatrixNoSplit, totalQueryDigits, \"Full Test, Euclidean Metric, Denoised, No Split\")"
   ]
  },
  {
   "cell_type": "code",
   "execution_count": 98,
   "metadata": {},
   "outputs": [
    {
     "name": "stdout",
     "output_type": "stream",
     "text": [
      "Full Metric output for benchmark:  Full Test, Cosine Metric, Denoised, No Split\n",
      "\n",
      "Digit  \t\tPrecision  \tRecall  \tF1-Score\n",
      "0 \t\t 1.0000 \t 1.0000 \t 1.0000\n",
      "1 \t\t 0.9091 \t 0.2778 \t 0.4255\n",
      "2 \t\t 0.9643 \t 0.9643 \t 0.9643\n",
      "3 \t\t 0.8438 \t 1.0000 \t 0.9153\n",
      "4 \t\t 0.5094 \t 1.0000 \t 0.6750\n",
      "5 \t\t 0.9545 \t 0.9545 \t 0.9545\n",
      "6 \t\t 0.9048 \t 1.0000 \t 0.9500\n",
      "7 \t\t 1.0000 \t 1.0000 \t 1.0000\n",
      "8 \t\t 1.0000 \t 0.8800 \t 0.9362\n",
      "9 \t\t 1.0000 \t 0.7619 \t 0.8649\n",
      "\n",
      "Macro F1 Score:  0.8686\n",
      "Full Digit Verifiable Accuracy:  0.8577\n",
      "Full Digit System Accuracy:  0.3709\n"
     ]
    }
   ],
   "source": [
    "fullReport(confusionMatrixNoSplit_c, totalQueryDigits, \"Full Test, Cosine Metric, Denoised, No Split\")"
   ]
  },
  {
   "cell_type": "code",
   "execution_count": null,
   "metadata": {
    "collapsed": true
   },
   "outputs": [],
   "source": []
  }
 ],
 "metadata": {
  "kernelspec": {
   "display_name": "Python 3",
   "language": "python",
   "name": "python3"
  },
  "language_info": {
   "codemirror_mode": {
    "name": "ipython",
    "version": 3
   },
   "file_extension": ".py",
   "mimetype": "text/x-python",
   "name": "python",
   "nbconvert_exporter": "python",
   "pygments_lexer": "ipython3",
   "version": "3.6.6"
  }
 },
 "nbformat": 4,
 "nbformat_minor": 2
}
